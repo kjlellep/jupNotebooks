{
 "cells": [
  {
   "cell_type": "code",
   "execution_count": 1,
   "id": "a78537dd",
   "metadata": {},
   "outputs": [],
   "source": [
    "import pandas as pd\n",
    "import turicreate as tc\n",
    "import os\n",
    "from turicreate import SArray"
   ]
  },
  {
   "cell_type": "code",
   "execution_count": 2,
   "id": "0097eb8c",
   "metadata": {},
   "outputs": [],
   "source": [
    "positives = [os.path.join('/mnt/c/Users/Karl-Jonathan/Desktop/mudelid/labeled/',x) for x in os.listdir('/mnt/c/Users/Karl-Jonathan/Desktop/mudelid/labeled/')]"
   ]
  },
  {
   "cell_type": "code",
   "execution_count": 3,
   "id": "8b7ffd6a",
   "metadata": {},
   "outputs": [],
   "source": [
    "positives2 = [os.path.join('/mnt/c/Users/Karl-Jonathan/Desktop/labeledPositives/',x) for x in os.listdir('/mnt/c/Users/Karl-Jonathan/Desktop/labeledPositives/')]"
   ]
  },
  {
   "cell_type": "code",
   "execution_count": 4,
   "id": "7373e27e",
   "metadata": {},
   "outputs": [],
   "source": [
    "negatives = [os.path.join('/mnt/c/Users/Karl-Jonathan/Desktop/mudelid/negatives/',x) for x in os.listdir('/mnt/c/Users/Karl-Jonathan/Desktop/mudelid/negatives/')]"
   ]
  },
  {
   "cell_type": "code",
   "execution_count": 5,
   "id": "9c0444e6",
   "metadata": {},
   "outputs": [],
   "source": [
    "bigNegatives = [os.path.join('/mnt/c/Users/Karl-Jonathan/Desktop/mudelid/bigNegatives/',x) for x in os.listdir('/mnt/c/Users/Karl-Jonathan/Desktop/mudelid/bigNegatives/')]"
   ]
  },
  {
   "cell_type": "code",
   "execution_count": 6,
   "id": "d78a02a6",
   "metadata": {},
   "outputs": [],
   "source": [
    "data = tc.SFrame()\n",
    "sfPos = tc.SFrame()\n",
    "sfNeg = tc.SFrame()"
   ]
  },
  {
   "cell_type": "code",
   "execution_count": 7,
   "id": "73b47bca",
   "metadata": {},
   "outputs": [],
   "source": [
    "exp_id = 0"
   ]
  },
  {
   "cell_type": "code",
   "execution_count": 8,
   "id": "1f3c3191",
   "metadata": {},
   "outputs": [],
   "source": [
    "new_cols = {\n",
    " 'accel x': 'accx',\n",
    " 'accel y': 'accy',\n",
    " 'accel z': 'accz',\n",
    " 'gyro x': 'gyrx',\n",
    " 'gyro y': 'gyry',\n",
    " 'gyro z': 'gyrz',\n",
    " 'timestamp(ticks since 1970)': 'ts',\n",
    " 'act_id': 'act_id' }"
   ]
  },
  {
   "cell_type": "code",
   "execution_count": 9,
   "id": "cdab2ce1",
   "metadata": {},
   "outputs": [
    {
     "data": {
      "text/html": [
       "<pre>Finished parsing file /mnt/c/Users/Karl-Jonathan/Desktop/mudelid/labeled/motionData 2021-04-08 06-00-28.txt</pre>"
      ],
      "text/plain": [
       "Finished parsing file /mnt/c/Users/Karl-Jonathan/Desktop/mudelid/labeled/motionData 2021-04-08 06-00-28.txt"
      ]
     },
     "metadata": {},
     "output_type": "display_data"
    },
    {
     "data": {
      "text/html": [
       "<pre>Parsing completed. Parsed 100 lines in 0.032706 secs.</pre>"
      ],
      "text/plain": [
       "Parsing completed. Parsed 100 lines in 0.032706 secs."
      ]
     },
     "metadata": {},
     "output_type": "display_data"
    },
    {
     "name": "stdout",
     "output_type": "stream",
     "text": [
      "------------------------------------------------------\n",
      "Inferred types from first 100 line(s) of file as \n",
      "column_type_hints=[float,float,float,float,float,float,int,str]\n",
      "If parsing fails due to incorrect types, you can correct\n",
      "the inferred type list above and pass it to read_csv in\n",
      "the column_type_hints argument\n",
      "------------------------------------------------------\n"
     ]
    },
    {
     "data": {
      "text/html": [
       "<pre>Finished parsing file /mnt/c/Users/Karl-Jonathan/Desktop/mudelid/labeled/motionData 2021-04-08 06-00-28.txt</pre>"
      ],
      "text/plain": [
       "Finished parsing file /mnt/c/Users/Karl-Jonathan/Desktop/mudelid/labeled/motionData 2021-04-08 06-00-28.txt"
      ]
     },
     "metadata": {},
     "output_type": "display_data"
    },
    {
     "data": {
      "text/html": [
       "<pre>Parsing completed. Parsed 330 lines in 0.030734 secs.</pre>"
      ],
      "text/plain": [
       "Parsing completed. Parsed 330 lines in 0.030734 secs."
      ]
     },
     "metadata": {},
     "output_type": "display_data"
    },
    {
     "data": {
      "text/html": [
       "<pre>Finished parsing file /mnt/c/Users/Karl-Jonathan/Desktop/mudelid/labeled/motionData 2021-04-08 06-00-36.txt</pre>"
      ],
      "text/plain": [
       "Finished parsing file /mnt/c/Users/Karl-Jonathan/Desktop/mudelid/labeled/motionData 2021-04-08 06-00-36.txt"
      ]
     },
     "metadata": {},
     "output_type": "display_data"
    },
    {
     "data": {
      "text/html": [
       "<pre>Parsing completed. Parsed 100 lines in 0.030524 secs.</pre>"
      ],
      "text/plain": [
       "Parsing completed. Parsed 100 lines in 0.030524 secs."
      ]
     },
     "metadata": {},
     "output_type": "display_data"
    },
    {
     "name": "stdout",
     "output_type": "stream",
     "text": [
      "------------------------------------------------------\n",
      "Inferred types from first 100 line(s) of file as \n",
      "column_type_hints=[float,float,float,float,float,float,int,str]\n",
      "If parsing fails due to incorrect types, you can correct\n",
      "the inferred type list above and pass it to read_csv in\n",
      "the column_type_hints argument\n",
      "------------------------------------------------------\n"
     ]
    },
    {
     "data": {
      "text/html": [
       "<pre>Finished parsing file /mnt/c/Users/Karl-Jonathan/Desktop/mudelid/labeled/motionData 2021-04-08 06-00-36.txt</pre>"
      ],
      "text/plain": [
       "Finished parsing file /mnt/c/Users/Karl-Jonathan/Desktop/mudelid/labeled/motionData 2021-04-08 06-00-36.txt"
      ]
     },
     "metadata": {},
     "output_type": "display_data"
    },
    {
     "data": {
      "text/html": [
       "<pre>Parsing completed. Parsed 661 lines in 0.031542 secs.</pre>"
      ],
      "text/plain": [
       "Parsing completed. Parsed 661 lines in 0.031542 secs."
      ]
     },
     "metadata": {},
     "output_type": "display_data"
    },
    {
     "data": {
      "text/html": [
       "<pre>Finished parsing file /mnt/c/Users/Karl-Jonathan/Desktop/mudelid/labeled/motionData 2021-04-08 06-00-44.txt</pre>"
      ],
      "text/plain": [
       "Finished parsing file /mnt/c/Users/Karl-Jonathan/Desktop/mudelid/labeled/motionData 2021-04-08 06-00-44.txt"
      ]
     },
     "metadata": {},
     "output_type": "display_data"
    },
    {
     "data": {
      "text/html": [
       "<pre>Parsing completed. Parsed 100 lines in 0.033953 secs.</pre>"
      ],
      "text/plain": [
       "Parsing completed. Parsed 100 lines in 0.033953 secs."
      ]
     },
     "metadata": {},
     "output_type": "display_data"
    },
    {
     "name": "stdout",
     "output_type": "stream",
     "text": [
      "------------------------------------------------------\n",
      "Inferred types from first 100 line(s) of file as \n",
      "column_type_hints=[float,float,float,float,float,float,int,str]\n",
      "If parsing fails due to incorrect types, you can correct\n",
      "the inferred type list above and pass it to read_csv in\n",
      "the column_type_hints argument\n",
      "------------------------------------------------------\n"
     ]
    },
    {
     "data": {
      "text/html": [
       "<pre>Finished parsing file /mnt/c/Users/Karl-Jonathan/Desktop/mudelid/labeled/motionData 2021-04-08 06-00-44.txt</pre>"
      ],
      "text/plain": [
       "Finished parsing file /mnt/c/Users/Karl-Jonathan/Desktop/mudelid/labeled/motionData 2021-04-08 06-00-44.txt"
      ]
     },
     "metadata": {},
     "output_type": "display_data"
    },
    {
     "data": {
      "text/html": [
       "<pre>Parsing completed. Parsed 673 lines in 0.035025 secs.</pre>"
      ],
      "text/plain": [
       "Parsing completed. Parsed 673 lines in 0.035025 secs."
      ]
     },
     "metadata": {},
     "output_type": "display_data"
    },
    {
     "data": {
      "text/html": [
       "<pre>Finished parsing file /mnt/c/Users/Karl-Jonathan/Desktop/mudelid/labeled/motionData 2021-04-08 06-01-01.txt</pre>"
      ],
      "text/plain": [
       "Finished parsing file /mnt/c/Users/Karl-Jonathan/Desktop/mudelid/labeled/motionData 2021-04-08 06-01-01.txt"
      ]
     },
     "metadata": {},
     "output_type": "display_data"
    },
    {
     "data": {
      "text/html": [
       "<pre>Parsing completed. Parsed 100 lines in 0.035952 secs.</pre>"
      ],
      "text/plain": [
       "Parsing completed. Parsed 100 lines in 0.035952 secs."
      ]
     },
     "metadata": {},
     "output_type": "display_data"
    },
    {
     "name": "stdout",
     "output_type": "stream",
     "text": [
      "------------------------------------------------------\n",
      "Inferred types from first 100 line(s) of file as \n",
      "column_type_hints=[float,float,float,float,float,float,int,str]\n",
      "If parsing fails due to incorrect types, you can correct\n",
      "the inferred type list above and pass it to read_csv in\n",
      "the column_type_hints argument\n",
      "------------------------------------------------------\n"
     ]
    },
    {
     "data": {
      "text/html": [
       "<pre>Finished parsing file /mnt/c/Users/Karl-Jonathan/Desktop/mudelid/labeled/motionData 2021-04-08 06-01-01.txt</pre>"
      ],
      "text/plain": [
       "Finished parsing file /mnt/c/Users/Karl-Jonathan/Desktop/mudelid/labeled/motionData 2021-04-08 06-01-01.txt"
      ]
     },
     "metadata": {},
     "output_type": "display_data"
    },
    {
     "data": {
      "text/html": [
       "<pre>Parsing completed. Parsed 640 lines in 0.03667 secs.</pre>"
      ],
      "text/plain": [
       "Parsing completed. Parsed 640 lines in 0.03667 secs."
      ]
     },
     "metadata": {},
     "output_type": "display_data"
    },
    {
     "data": {
      "text/html": [
       "<pre>Finished parsing file /mnt/c/Users/Karl-Jonathan/Desktop/mudelid/labeled/motionData 2021-04-08 06-01-21.txt</pre>"
      ],
      "text/plain": [
       "Finished parsing file /mnt/c/Users/Karl-Jonathan/Desktop/mudelid/labeled/motionData 2021-04-08 06-01-21.txt"
      ]
     },
     "metadata": {},
     "output_type": "display_data"
    },
    {
     "data": {
      "text/html": [
       "<pre>Parsing completed. Parsed 100 lines in 0.034099 secs.</pre>"
      ],
      "text/plain": [
       "Parsing completed. Parsed 100 lines in 0.034099 secs."
      ]
     },
     "metadata": {},
     "output_type": "display_data"
    },
    {
     "name": "stdout",
     "output_type": "stream",
     "text": [
      "------------------------------------------------------\n",
      "Inferred types from first 100 line(s) of file as \n",
      "column_type_hints=[float,float,float,float,float,float,int,str]\n",
      "If parsing fails due to incorrect types, you can correct\n",
      "the inferred type list above and pass it to read_csv in\n",
      "the column_type_hints argument\n",
      "------------------------------------------------------\n"
     ]
    },
    {
     "data": {
      "text/html": [
       "<pre>Finished parsing file /mnt/c/Users/Karl-Jonathan/Desktop/mudelid/labeled/motionData 2021-04-08 06-01-21.txt</pre>"
      ],
      "text/plain": [
       "Finished parsing file /mnt/c/Users/Karl-Jonathan/Desktop/mudelid/labeled/motionData 2021-04-08 06-01-21.txt"
      ]
     },
     "metadata": {},
     "output_type": "display_data"
    },
    {
     "data": {
      "text/html": [
       "<pre>Parsing completed. Parsed 626 lines in 0.030878 secs.</pre>"
      ],
      "text/plain": [
       "Parsing completed. Parsed 626 lines in 0.030878 secs."
      ]
     },
     "metadata": {},
     "output_type": "display_data"
    },
    {
     "data": {
      "text/html": [
       "<pre>Finished parsing file /mnt/c/Users/Karl-Jonathan/Desktop/mudelid/labeled/motionData 2021-04-08 06-01-29.txt</pre>"
      ],
      "text/plain": [
       "Finished parsing file /mnt/c/Users/Karl-Jonathan/Desktop/mudelid/labeled/motionData 2021-04-08 06-01-29.txt"
      ]
     },
     "metadata": {},
     "output_type": "display_data"
    },
    {
     "data": {
      "text/html": [
       "<pre>Parsing completed. Parsed 100 lines in 0.031106 secs.</pre>"
      ],
      "text/plain": [
       "Parsing completed. Parsed 100 lines in 0.031106 secs."
      ]
     },
     "metadata": {},
     "output_type": "display_data"
    },
    {
     "name": "stdout",
     "output_type": "stream",
     "text": [
      "------------------------------------------------------\n",
      "Inferred types from first 100 line(s) of file as \n",
      "column_type_hints=[float,float,float,float,float,float,int,str]\n",
      "If parsing fails due to incorrect types, you can correct\n",
      "the inferred type list above and pass it to read_csv in\n",
      "the column_type_hints argument\n",
      "------------------------------------------------------\n"
     ]
    },
    {
     "data": {
      "text/html": [
       "<pre>Finished parsing file /mnt/c/Users/Karl-Jonathan/Desktop/mudelid/labeled/motionData 2021-04-08 06-01-29.txt</pre>"
      ],
      "text/plain": [
       "Finished parsing file /mnt/c/Users/Karl-Jonathan/Desktop/mudelid/labeled/motionData 2021-04-08 06-01-29.txt"
      ]
     },
     "metadata": {},
     "output_type": "display_data"
    },
    {
     "data": {
      "text/html": [
       "<pre>Parsing completed. Parsed 603 lines in 0.031059 secs.</pre>"
      ],
      "text/plain": [
       "Parsing completed. Parsed 603 lines in 0.031059 secs."
      ]
     },
     "metadata": {},
     "output_type": "display_data"
    },
    {
     "data": {
      "text/html": [
       "<pre>Finished parsing file /mnt/c/Users/Karl-Jonathan/Desktop/mudelid/labeled/motionData 2021-04-08 06-01-42.txt</pre>"
      ],
      "text/plain": [
       "Finished parsing file /mnt/c/Users/Karl-Jonathan/Desktop/mudelid/labeled/motionData 2021-04-08 06-01-42.txt"
      ]
     },
     "metadata": {},
     "output_type": "display_data"
    },
    {
     "data": {
      "text/html": [
       "<pre>Parsing completed. Parsed 100 lines in 0.03174 secs.</pre>"
      ],
      "text/plain": [
       "Parsing completed. Parsed 100 lines in 0.03174 secs."
      ]
     },
     "metadata": {},
     "output_type": "display_data"
    },
    {
     "name": "stdout",
     "output_type": "stream",
     "text": [
      "------------------------------------------------------\n",
      "Inferred types from first 100 line(s) of file as \n",
      "column_type_hints=[float,float,float,float,float,float,int,str]\n",
      "If parsing fails due to incorrect types, you can correct\n",
      "the inferred type list above and pass it to read_csv in\n",
      "the column_type_hints argument\n",
      "------------------------------------------------------\n"
     ]
    },
    {
     "data": {
      "text/html": [
       "<pre>Finished parsing file /mnt/c/Users/Karl-Jonathan/Desktop/mudelid/labeled/motionData 2021-04-08 06-01-42.txt</pre>"
      ],
      "text/plain": [
       "Finished parsing file /mnt/c/Users/Karl-Jonathan/Desktop/mudelid/labeled/motionData 2021-04-08 06-01-42.txt"
      ]
     },
     "metadata": {},
     "output_type": "display_data"
    },
    {
     "data": {
      "text/html": [
       "<pre>Parsing completed. Parsed 623 lines in 0.034467 secs.</pre>"
      ],
      "text/plain": [
       "Parsing completed. Parsed 623 lines in 0.034467 secs."
      ]
     },
     "metadata": {},
     "output_type": "display_data"
    },
    {
     "data": {
      "text/html": [
       "<pre>Finished parsing file /mnt/c/Users/Karl-Jonathan/Desktop/mudelid/labeled/motionData 2021-04-08 06-01-54.txt</pre>"
      ],
      "text/plain": [
       "Finished parsing file /mnt/c/Users/Karl-Jonathan/Desktop/mudelid/labeled/motionData 2021-04-08 06-01-54.txt"
      ]
     },
     "metadata": {},
     "output_type": "display_data"
    },
    {
     "data": {
      "text/html": [
       "<pre>Parsing completed. Parsed 100 lines in 0.035428 secs.</pre>"
      ],
      "text/plain": [
       "Parsing completed. Parsed 100 lines in 0.035428 secs."
      ]
     },
     "metadata": {},
     "output_type": "display_data"
    },
    {
     "name": "stdout",
     "output_type": "stream",
     "text": [
      "------------------------------------------------------\n",
      "Inferred types from first 100 line(s) of file as \n",
      "column_type_hints=[float,float,float,float,float,float,int,str]\n",
      "If parsing fails due to incorrect types, you can correct\n",
      "the inferred type list above and pass it to read_csv in\n",
      "the column_type_hints argument\n",
      "------------------------------------------------------\n"
     ]
    },
    {
     "data": {
      "text/html": [
       "<pre>Finished parsing file /mnt/c/Users/Karl-Jonathan/Desktop/mudelid/labeled/motionData 2021-04-08 06-01-54.txt</pre>"
      ],
      "text/plain": [
       "Finished parsing file /mnt/c/Users/Karl-Jonathan/Desktop/mudelid/labeled/motionData 2021-04-08 06-01-54.txt"
      ]
     },
     "metadata": {},
     "output_type": "display_data"
    },
    {
     "data": {
      "text/html": [
       "<pre>Parsing completed. Parsed 563 lines in 0.035693 secs.</pre>"
      ],
      "text/plain": [
       "Parsing completed. Parsed 563 lines in 0.035693 secs."
      ]
     },
     "metadata": {},
     "output_type": "display_data"
    },
    {
     "data": {
      "text/html": [
       "<pre>Finished parsing file /mnt/c/Users/Karl-Jonathan/Desktop/mudelid/labeled/motionData 2021-04-08 06-02-04.txt</pre>"
      ],
      "text/plain": [
       "Finished parsing file /mnt/c/Users/Karl-Jonathan/Desktop/mudelid/labeled/motionData 2021-04-08 06-02-04.txt"
      ]
     },
     "metadata": {},
     "output_type": "display_data"
    },
    {
     "data": {
      "text/html": [
       "<pre>Parsing completed. Parsed 100 lines in 0.036166 secs.</pre>"
      ],
      "text/plain": [
       "Parsing completed. Parsed 100 lines in 0.036166 secs."
      ]
     },
     "metadata": {},
     "output_type": "display_data"
    },
    {
     "name": "stdout",
     "output_type": "stream",
     "text": [
      "------------------------------------------------------\n",
      "Inferred types from first 100 line(s) of file as \n",
      "column_type_hints=[float,float,float,float,float,float,int,str]\n",
      "If parsing fails due to incorrect types, you can correct\n",
      "the inferred type list above and pass it to read_csv in\n",
      "the column_type_hints argument\n",
      "------------------------------------------------------\n"
     ]
    },
    {
     "data": {
      "text/html": [
       "<pre>Finished parsing file /mnt/c/Users/Karl-Jonathan/Desktop/mudelid/labeled/motionData 2021-04-08 06-02-04.txt</pre>"
      ],
      "text/plain": [
       "Finished parsing file /mnt/c/Users/Karl-Jonathan/Desktop/mudelid/labeled/motionData 2021-04-08 06-02-04.txt"
      ]
     },
     "metadata": {},
     "output_type": "display_data"
    },
    {
     "data": {
      "text/html": [
       "<pre>Parsing completed. Parsed 577 lines in 0.035581 secs.</pre>"
      ],
      "text/plain": [
       "Parsing completed. Parsed 577 lines in 0.035581 secs."
      ]
     },
     "metadata": {},
     "output_type": "display_data"
    },
    {
     "data": {
      "text/html": [
       "<pre>Finished parsing file /mnt/c/Users/Karl-Jonathan/Desktop/mudelid/labeled/motionData 2021-04-08 06-02-13.txt</pre>"
      ],
      "text/plain": [
       "Finished parsing file /mnt/c/Users/Karl-Jonathan/Desktop/mudelid/labeled/motionData 2021-04-08 06-02-13.txt"
      ]
     },
     "metadata": {},
     "output_type": "display_data"
    },
    {
     "data": {
      "text/html": [
       "<pre>Parsing completed. Parsed 100 lines in 0.035456 secs.</pre>"
      ],
      "text/plain": [
       "Parsing completed. Parsed 100 lines in 0.035456 secs."
      ]
     },
     "metadata": {},
     "output_type": "display_data"
    },
    {
     "name": "stdout",
     "output_type": "stream",
     "text": [
      "------------------------------------------------------\n",
      "Inferred types from first 100 line(s) of file as \n",
      "column_type_hints=[float,float,float,float,float,float,int,str]\n",
      "If parsing fails due to incorrect types, you can correct\n",
      "the inferred type list above and pass it to read_csv in\n",
      "the column_type_hints argument\n",
      "------------------------------------------------------\n"
     ]
    },
    {
     "data": {
      "text/html": [
       "<pre>Finished parsing file /mnt/c/Users/Karl-Jonathan/Desktop/mudelid/labeled/motionData 2021-04-08 06-02-13.txt</pre>"
      ],
      "text/plain": [
       "Finished parsing file /mnt/c/Users/Karl-Jonathan/Desktop/mudelid/labeled/motionData 2021-04-08 06-02-13.txt"
      ]
     },
     "metadata": {},
     "output_type": "display_data"
    },
    {
     "data": {
      "text/html": [
       "<pre>Parsing completed. Parsed 615 lines in 0.03561 secs.</pre>"
      ],
      "text/plain": [
       "Parsing completed. Parsed 615 lines in 0.03561 secs."
      ]
     },
     "metadata": {},
     "output_type": "display_data"
    },
    {
     "data": {
      "text/html": [
       "<pre>Finished parsing file /mnt/c/Users/Karl-Jonathan/Desktop/mudelid/labeled/motionData 2021-04-08 06-02-20.txt</pre>"
      ],
      "text/plain": [
       "Finished parsing file /mnt/c/Users/Karl-Jonathan/Desktop/mudelid/labeled/motionData 2021-04-08 06-02-20.txt"
      ]
     },
     "metadata": {},
     "output_type": "display_data"
    },
    {
     "data": {
      "text/html": [
       "<pre>Parsing completed. Parsed 100 lines in 0.035544 secs.</pre>"
      ],
      "text/plain": [
       "Parsing completed. Parsed 100 lines in 0.035544 secs."
      ]
     },
     "metadata": {},
     "output_type": "display_data"
    },
    {
     "name": "stdout",
     "output_type": "stream",
     "text": [
      "------------------------------------------------------\n",
      "Inferred types from first 100 line(s) of file as \n",
      "column_type_hints=[float,float,float,float,float,float,int,str]\n",
      "If parsing fails due to incorrect types, you can correct\n",
      "the inferred type list above and pass it to read_csv in\n",
      "the column_type_hints argument\n",
      "------------------------------------------------------\n"
     ]
    },
    {
     "data": {
      "text/html": [
       "<pre>Finished parsing file /mnt/c/Users/Karl-Jonathan/Desktop/mudelid/labeled/motionData 2021-04-08 06-02-20.txt</pre>"
      ],
      "text/plain": [
       "Finished parsing file /mnt/c/Users/Karl-Jonathan/Desktop/mudelid/labeled/motionData 2021-04-08 06-02-20.txt"
      ]
     },
     "metadata": {},
     "output_type": "display_data"
    },
    {
     "data": {
      "text/html": [
       "<pre>Parsing completed. Parsed 686 lines in 0.035495 secs.</pre>"
      ],
      "text/plain": [
       "Parsing completed. Parsed 686 lines in 0.035495 secs."
      ]
     },
     "metadata": {},
     "output_type": "display_data"
    },
    {
     "data": {
      "text/html": [
       "<pre>Finished parsing file /mnt/c/Users/Karl-Jonathan/Desktop/mudelid/labeled/motionData 2021-04-08 06-02-29.txt</pre>"
      ],
      "text/plain": [
       "Finished parsing file /mnt/c/Users/Karl-Jonathan/Desktop/mudelid/labeled/motionData 2021-04-08 06-02-29.txt"
      ]
     },
     "metadata": {},
     "output_type": "display_data"
    },
    {
     "data": {
      "text/html": [
       "<pre>Parsing completed. Parsed 100 lines in 0.035911 secs.</pre>"
      ],
      "text/plain": [
       "Parsing completed. Parsed 100 lines in 0.035911 secs."
      ]
     },
     "metadata": {},
     "output_type": "display_data"
    },
    {
     "name": "stdout",
     "output_type": "stream",
     "text": [
      "------------------------------------------------------\n",
      "Inferred types from first 100 line(s) of file as \n",
      "column_type_hints=[float,float,float,float,float,float,int,str]\n",
      "If parsing fails due to incorrect types, you can correct\n",
      "the inferred type list above and pass it to read_csv in\n",
      "the column_type_hints argument\n",
      "------------------------------------------------------\n"
     ]
    },
    {
     "data": {
      "text/html": [
       "<pre>Finished parsing file /mnt/c/Users/Karl-Jonathan/Desktop/mudelid/labeled/motionData 2021-04-08 06-02-29.txt</pre>"
      ],
      "text/plain": [
       "Finished parsing file /mnt/c/Users/Karl-Jonathan/Desktop/mudelid/labeled/motionData 2021-04-08 06-02-29.txt"
      ]
     },
     "metadata": {},
     "output_type": "display_data"
    },
    {
     "data": {
      "text/html": [
       "<pre>Parsing completed. Parsed 690 lines in 0.035766 secs.</pre>"
      ],
      "text/plain": [
       "Parsing completed. Parsed 690 lines in 0.035766 secs."
      ]
     },
     "metadata": {},
     "output_type": "display_data"
    },
    {
     "data": {
      "text/html": [
       "<pre>Finished parsing file /mnt/c/Users/Karl-Jonathan/Desktop/mudelid/labeled/motionData 2021-04-08 06-02-38.txt</pre>"
      ],
      "text/plain": [
       "Finished parsing file /mnt/c/Users/Karl-Jonathan/Desktop/mudelid/labeled/motionData 2021-04-08 06-02-38.txt"
      ]
     },
     "metadata": {},
     "output_type": "display_data"
    },
    {
     "data": {
      "text/html": [
       "<pre>Parsing completed. Parsed 100 lines in 0.035751 secs.</pre>"
      ],
      "text/plain": [
       "Parsing completed. Parsed 100 lines in 0.035751 secs."
      ]
     },
     "metadata": {},
     "output_type": "display_data"
    },
    {
     "name": "stdout",
     "output_type": "stream",
     "text": [
      "------------------------------------------------------\n",
      "Inferred types from first 100 line(s) of file as \n",
      "column_type_hints=[float,float,float,float,float,float,int,str]\n",
      "If parsing fails due to incorrect types, you can correct\n",
      "the inferred type list above and pass it to read_csv in\n",
      "the column_type_hints argument\n",
      "------------------------------------------------------\n"
     ]
    },
    {
     "data": {
      "text/html": [
       "<pre>Finished parsing file /mnt/c/Users/Karl-Jonathan/Desktop/mudelid/labeled/motionData 2021-04-08 06-02-38.txt</pre>"
      ],
      "text/plain": [
       "Finished parsing file /mnt/c/Users/Karl-Jonathan/Desktop/mudelid/labeled/motionData 2021-04-08 06-02-38.txt"
      ]
     },
     "metadata": {},
     "output_type": "display_data"
    },
    {
     "data": {
      "text/html": [
       "<pre>Parsing completed. Parsed 663 lines in 0.035614 secs.</pre>"
      ],
      "text/plain": [
       "Parsing completed. Parsed 663 lines in 0.035614 secs."
      ]
     },
     "metadata": {},
     "output_type": "display_data"
    },
    {
     "data": {
      "text/html": [
       "<pre>Finished parsing file /mnt/c/Users/Karl-Jonathan/Desktop/mudelid/labeled/motionData 2021-04-08 06-02-46.txt</pre>"
      ],
      "text/plain": [
       "Finished parsing file /mnt/c/Users/Karl-Jonathan/Desktop/mudelid/labeled/motionData 2021-04-08 06-02-46.txt"
      ]
     },
     "metadata": {},
     "output_type": "display_data"
    },
    {
     "data": {
      "text/html": [
       "<pre>Parsing completed. Parsed 100 lines in 0.035435 secs.</pre>"
      ],
      "text/plain": [
       "Parsing completed. Parsed 100 lines in 0.035435 secs."
      ]
     },
     "metadata": {},
     "output_type": "display_data"
    },
    {
     "name": "stdout",
     "output_type": "stream",
     "text": [
      "------------------------------------------------------\n",
      "Inferred types from first 100 line(s) of file as \n",
      "column_type_hints=[float,float,float,float,float,float,int,str]\n",
      "If parsing fails due to incorrect types, you can correct\n",
      "the inferred type list above and pass it to read_csv in\n",
      "the column_type_hints argument\n",
      "------------------------------------------------------\n"
     ]
    },
    {
     "data": {
      "text/html": [
       "<pre>Finished parsing file /mnt/c/Users/Karl-Jonathan/Desktop/mudelid/labeled/motionData 2021-04-08 06-02-46.txt</pre>"
      ],
      "text/plain": [
       "Finished parsing file /mnt/c/Users/Karl-Jonathan/Desktop/mudelid/labeled/motionData 2021-04-08 06-02-46.txt"
      ]
     },
     "metadata": {},
     "output_type": "display_data"
    },
    {
     "data": {
      "text/html": [
       "<pre>Parsing completed. Parsed 606 lines in 0.035571 secs.</pre>"
      ],
      "text/plain": [
       "Parsing completed. Parsed 606 lines in 0.035571 secs."
      ]
     },
     "metadata": {},
     "output_type": "display_data"
    },
    {
     "data": {
      "text/html": [
       "<pre>Finished parsing file /mnt/c/Users/Karl-Jonathan/Desktop/mudelid/labeled/motionData 2021-04-08 06-02-55.txt</pre>"
      ],
      "text/plain": [
       "Finished parsing file /mnt/c/Users/Karl-Jonathan/Desktop/mudelid/labeled/motionData 2021-04-08 06-02-55.txt"
      ]
     },
     "metadata": {},
     "output_type": "display_data"
    },
    {
     "data": {
      "text/html": [
       "<pre>Parsing completed. Parsed 100 lines in 0.035923 secs.</pre>"
      ],
      "text/plain": [
       "Parsing completed. Parsed 100 lines in 0.035923 secs."
      ]
     },
     "metadata": {},
     "output_type": "display_data"
    },
    {
     "name": "stdout",
     "output_type": "stream",
     "text": [
      "------------------------------------------------------\n",
      "Inferred types from first 100 line(s) of file as \n",
      "column_type_hints=[float,float,float,float,float,float,int,str]\n",
      "If parsing fails due to incorrect types, you can correct\n",
      "the inferred type list above and pass it to read_csv in\n",
      "the column_type_hints argument\n",
      "------------------------------------------------------\n"
     ]
    },
    {
     "data": {
      "text/html": [
       "<pre>Finished parsing file /mnt/c/Users/Karl-Jonathan/Desktop/mudelid/labeled/motionData 2021-04-08 06-02-55.txt</pre>"
      ],
      "text/plain": [
       "Finished parsing file /mnt/c/Users/Karl-Jonathan/Desktop/mudelid/labeled/motionData 2021-04-08 06-02-55.txt"
      ]
     },
     "metadata": {},
     "output_type": "display_data"
    },
    {
     "data": {
      "text/html": [
       "<pre>Parsing completed. Parsed 630 lines in 0.035619 secs.</pre>"
      ],
      "text/plain": [
       "Parsing completed. Parsed 630 lines in 0.035619 secs."
      ]
     },
     "metadata": {},
     "output_type": "display_data"
    },
    {
     "data": {
      "text/html": [
       "<pre>Finished parsing file /mnt/c/Users/Karl-Jonathan/Desktop/mudelid/labeled/motionData 2021-04-08 06-03-04.txt</pre>"
      ],
      "text/plain": [
       "Finished parsing file /mnt/c/Users/Karl-Jonathan/Desktop/mudelid/labeled/motionData 2021-04-08 06-03-04.txt"
      ]
     },
     "metadata": {},
     "output_type": "display_data"
    },
    {
     "data": {
      "text/html": [
       "<pre>Parsing completed. Parsed 100 lines in 0.035543 secs.</pre>"
      ],
      "text/plain": [
       "Parsing completed. Parsed 100 lines in 0.035543 secs."
      ]
     },
     "metadata": {},
     "output_type": "display_data"
    },
    {
     "name": "stdout",
     "output_type": "stream",
     "text": [
      "------------------------------------------------------\n",
      "Inferred types from first 100 line(s) of file as \n",
      "column_type_hints=[float,float,float,float,float,float,int,str]\n",
      "If parsing fails due to incorrect types, you can correct\n",
      "the inferred type list above and pass it to read_csv in\n",
      "the column_type_hints argument\n",
      "------------------------------------------------------\n"
     ]
    },
    {
     "data": {
      "text/html": [
       "<pre>Finished parsing file /mnt/c/Users/Karl-Jonathan/Desktop/mudelid/labeled/motionData 2021-04-08 06-03-04.txt</pre>"
      ],
      "text/plain": [
       "Finished parsing file /mnt/c/Users/Karl-Jonathan/Desktop/mudelid/labeled/motionData 2021-04-08 06-03-04.txt"
      ]
     },
     "metadata": {},
     "output_type": "display_data"
    },
    {
     "data": {
      "text/html": [
       "<pre>Parsing completed. Parsed 650 lines in 0.035612 secs.</pre>"
      ],
      "text/plain": [
       "Parsing completed. Parsed 650 lines in 0.035612 secs."
      ]
     },
     "metadata": {},
     "output_type": "display_data"
    },
    {
     "data": {
      "text/html": [
       "<pre>Finished parsing file /mnt/c/Users/Karl-Jonathan/Desktop/mudelid/labeled/motionData 2021-04-08 06-03-13.txt</pre>"
      ],
      "text/plain": [
       "Finished parsing file /mnt/c/Users/Karl-Jonathan/Desktop/mudelid/labeled/motionData 2021-04-08 06-03-13.txt"
      ]
     },
     "metadata": {},
     "output_type": "display_data"
    },
    {
     "data": {
      "text/html": [
       "<pre>Parsing completed. Parsed 100 lines in 0.036322 secs.</pre>"
      ],
      "text/plain": [
       "Parsing completed. Parsed 100 lines in 0.036322 secs."
      ]
     },
     "metadata": {},
     "output_type": "display_data"
    },
    {
     "name": "stdout",
     "output_type": "stream",
     "text": [
      "------------------------------------------------------\n",
      "Inferred types from first 100 line(s) of file as \n",
      "column_type_hints=[float,float,float,float,float,float,int,str]\n",
      "If parsing fails due to incorrect types, you can correct\n",
      "the inferred type list above and pass it to read_csv in\n",
      "the column_type_hints argument\n",
      "------------------------------------------------------\n"
     ]
    },
    {
     "data": {
      "text/html": [
       "<pre>Finished parsing file /mnt/c/Users/Karl-Jonathan/Desktop/mudelid/labeled/motionData 2021-04-08 06-03-13.txt</pre>"
      ],
      "text/plain": [
       "Finished parsing file /mnt/c/Users/Karl-Jonathan/Desktop/mudelid/labeled/motionData 2021-04-08 06-03-13.txt"
      ]
     },
     "metadata": {},
     "output_type": "display_data"
    },
    {
     "data": {
      "text/html": [
       "<pre>Parsing completed. Parsed 625 lines in 0.032467 secs.</pre>"
      ],
      "text/plain": [
       "Parsing completed. Parsed 625 lines in 0.032467 secs."
      ]
     },
     "metadata": {},
     "output_type": "display_data"
    },
    {
     "data": {
      "text/html": [
       "<pre>Finished parsing file /mnt/c/Users/Karl-Jonathan/Desktop/mudelid/labeled/motionData 2021-04-08 06-03-22.txt</pre>"
      ],
      "text/plain": [
       "Finished parsing file /mnt/c/Users/Karl-Jonathan/Desktop/mudelid/labeled/motionData 2021-04-08 06-03-22.txt"
      ]
     },
     "metadata": {},
     "output_type": "display_data"
    },
    {
     "data": {
      "text/html": [
       "<pre>Parsing completed. Parsed 100 lines in 0.031103 secs.</pre>"
      ],
      "text/plain": [
       "Parsing completed. Parsed 100 lines in 0.031103 secs."
      ]
     },
     "metadata": {},
     "output_type": "display_data"
    },
    {
     "name": "stdout",
     "output_type": "stream",
     "text": [
      "------------------------------------------------------\n",
      "Inferred types from first 100 line(s) of file as \n",
      "column_type_hints=[float,float,float,float,float,float,int,str]\n",
      "If parsing fails due to incorrect types, you can correct\n",
      "the inferred type list above and pass it to read_csv in\n",
      "the column_type_hints argument\n",
      "------------------------------------------------------\n"
     ]
    },
    {
     "data": {
      "text/html": [
       "<pre>Finished parsing file /mnt/c/Users/Karl-Jonathan/Desktop/mudelid/labeled/motionData 2021-04-08 06-03-22.txt</pre>"
      ],
      "text/plain": [
       "Finished parsing file /mnt/c/Users/Karl-Jonathan/Desktop/mudelid/labeled/motionData 2021-04-08 06-03-22.txt"
      ]
     },
     "metadata": {},
     "output_type": "display_data"
    },
    {
     "data": {
      "text/html": [
       "<pre>Parsing completed. Parsed 685 lines in 0.031238 secs.</pre>"
      ],
      "text/plain": [
       "Parsing completed. Parsed 685 lines in 0.031238 secs."
      ]
     },
     "metadata": {},
     "output_type": "display_data"
    },
    {
     "data": {
      "text/html": [
       "<pre>Finished parsing file /mnt/c/Users/Karl-Jonathan/Desktop/mudelid/labeled/motionData 2021-04-08 06-03-31.txt</pre>"
      ],
      "text/plain": [
       "Finished parsing file /mnt/c/Users/Karl-Jonathan/Desktop/mudelid/labeled/motionData 2021-04-08 06-03-31.txt"
      ]
     },
     "metadata": {},
     "output_type": "display_data"
    },
    {
     "data": {
      "text/html": [
       "<pre>Parsing completed. Parsed 100 lines in 0.031097 secs.</pre>"
      ],
      "text/plain": [
       "Parsing completed. Parsed 100 lines in 0.031097 secs."
      ]
     },
     "metadata": {},
     "output_type": "display_data"
    },
    {
     "name": "stdout",
     "output_type": "stream",
     "text": [
      "------------------------------------------------------\n",
      "Inferred types from first 100 line(s) of file as \n",
      "column_type_hints=[float,float,float,float,float,float,int,str]\n",
      "If parsing fails due to incorrect types, you can correct\n",
      "the inferred type list above and pass it to read_csv in\n",
      "the column_type_hints argument\n",
      "------------------------------------------------------\n"
     ]
    },
    {
     "data": {
      "text/html": [
       "<pre>Finished parsing file /mnt/c/Users/Karl-Jonathan/Desktop/mudelid/labeled/motionData 2021-04-08 06-03-31.txt</pre>"
      ],
      "text/plain": [
       "Finished parsing file /mnt/c/Users/Karl-Jonathan/Desktop/mudelid/labeled/motionData 2021-04-08 06-03-31.txt"
      ]
     },
     "metadata": {},
     "output_type": "display_data"
    },
    {
     "data": {
      "text/html": [
       "<pre>Parsing completed. Parsed 655 lines in 0.032883 secs.</pre>"
      ],
      "text/plain": [
       "Parsing completed. Parsed 655 lines in 0.032883 secs."
      ]
     },
     "metadata": {},
     "output_type": "display_data"
    },
    {
     "data": {
      "text/html": [
       "<pre>Finished parsing file /mnt/c/Users/Karl-Jonathan/Desktop/mudelid/labeled/motionData 2021-04-08 06-03-50.txt</pre>"
      ],
      "text/plain": [
       "Finished parsing file /mnt/c/Users/Karl-Jonathan/Desktop/mudelid/labeled/motionData 2021-04-08 06-03-50.txt"
      ]
     },
     "metadata": {},
     "output_type": "display_data"
    },
    {
     "data": {
      "text/html": [
       "<pre>Parsing completed. Parsed 100 lines in 0.034901 secs.</pre>"
      ],
      "text/plain": [
       "Parsing completed. Parsed 100 lines in 0.034901 secs."
      ]
     },
     "metadata": {},
     "output_type": "display_data"
    },
    {
     "name": "stdout",
     "output_type": "stream",
     "text": [
      "------------------------------------------------------\n",
      "Inferred types from first 100 line(s) of file as \n",
      "column_type_hints=[float,float,float,float,float,float,int,str]\n",
      "If parsing fails due to incorrect types, you can correct\n",
      "the inferred type list above and pass it to read_csv in\n",
      "the column_type_hints argument\n",
      "------------------------------------------------------\n"
     ]
    },
    {
     "data": {
      "text/html": [
       "<pre>Finished parsing file /mnt/c/Users/Karl-Jonathan/Desktop/mudelid/labeled/motionData 2021-04-08 06-03-50.txt</pre>"
      ],
      "text/plain": [
       "Finished parsing file /mnt/c/Users/Karl-Jonathan/Desktop/mudelid/labeled/motionData 2021-04-08 06-03-50.txt"
      ]
     },
     "metadata": {},
     "output_type": "display_data"
    },
    {
     "data": {
      "text/html": [
       "<pre>Parsing completed. Parsed 748 lines in 0.035655 secs.</pre>"
      ],
      "text/plain": [
       "Parsing completed. Parsed 748 lines in 0.035655 secs."
      ]
     },
     "metadata": {},
     "output_type": "display_data"
    },
    {
     "data": {
      "text/html": [
       "<pre>Finished parsing file /mnt/c/Users/Karl-Jonathan/Desktop/mudelid/labeled/motionData 2021-04-08 06-04-07.txt</pre>"
      ],
      "text/plain": [
       "Finished parsing file /mnt/c/Users/Karl-Jonathan/Desktop/mudelid/labeled/motionData 2021-04-08 06-04-07.txt"
      ]
     },
     "metadata": {},
     "output_type": "display_data"
    },
    {
     "data": {
      "text/html": [
       "<pre>Parsing completed. Parsed 100 lines in 0.035877 secs.</pre>"
      ],
      "text/plain": [
       "Parsing completed. Parsed 100 lines in 0.035877 secs."
      ]
     },
     "metadata": {},
     "output_type": "display_data"
    },
    {
     "name": "stdout",
     "output_type": "stream",
     "text": [
      "------------------------------------------------------\n",
      "Inferred types from first 100 line(s) of file as \n",
      "column_type_hints=[float,float,float,float,float,float,int,str]\n",
      "If parsing fails due to incorrect types, you can correct\n",
      "the inferred type list above and pass it to read_csv in\n",
      "the column_type_hints argument\n",
      "------------------------------------------------------\n"
     ]
    },
    {
     "data": {
      "text/html": [
       "<pre>Finished parsing file /mnt/c/Users/Karl-Jonathan/Desktop/mudelid/labeled/motionData 2021-04-08 06-04-07.txt</pre>"
      ],
      "text/plain": [
       "Finished parsing file /mnt/c/Users/Karl-Jonathan/Desktop/mudelid/labeled/motionData 2021-04-08 06-04-07.txt"
      ]
     },
     "metadata": {},
     "output_type": "display_data"
    },
    {
     "data": {
      "text/html": [
       "<pre>Parsing completed. Parsed 615 lines in 0.035652 secs.</pre>"
      ],
      "text/plain": [
       "Parsing completed. Parsed 615 lines in 0.035652 secs."
      ]
     },
     "metadata": {},
     "output_type": "display_data"
    },
    {
     "data": {
      "text/html": [
       "<pre>Finished parsing file /mnt/c/Users/Karl-Jonathan/Desktop/mudelid/labeled/motionData 2021-04-08 06-04-21.txt</pre>"
      ],
      "text/plain": [
       "Finished parsing file /mnt/c/Users/Karl-Jonathan/Desktop/mudelid/labeled/motionData 2021-04-08 06-04-21.txt"
      ]
     },
     "metadata": {},
     "output_type": "display_data"
    },
    {
     "data": {
      "text/html": [
       "<pre>Parsing completed. Parsed 100 lines in 0.035553 secs.</pre>"
      ],
      "text/plain": [
       "Parsing completed. Parsed 100 lines in 0.035553 secs."
      ]
     },
     "metadata": {},
     "output_type": "display_data"
    },
    {
     "name": "stdout",
     "output_type": "stream",
     "text": [
      "------------------------------------------------------\n",
      "Inferred types from first 100 line(s) of file as \n",
      "column_type_hints=[float,float,float,float,float,float,int,str]\n",
      "If parsing fails due to incorrect types, you can correct\n",
      "the inferred type list above and pass it to read_csv in\n",
      "the column_type_hints argument\n",
      "------------------------------------------------------\n"
     ]
    },
    {
     "data": {
      "text/html": [
       "<pre>Finished parsing file /mnt/c/Users/Karl-Jonathan/Desktop/mudelid/labeled/motionData 2021-04-08 06-04-21.txt</pre>"
      ],
      "text/plain": [
       "Finished parsing file /mnt/c/Users/Karl-Jonathan/Desktop/mudelid/labeled/motionData 2021-04-08 06-04-21.txt"
      ]
     },
     "metadata": {},
     "output_type": "display_data"
    },
    {
     "data": {
      "text/html": [
       "<pre>Parsing completed. Parsed 603 lines in 0.035826 secs.</pre>"
      ],
      "text/plain": [
       "Parsing completed. Parsed 603 lines in 0.035826 secs."
      ]
     },
     "metadata": {},
     "output_type": "display_data"
    },
    {
     "data": {
      "text/html": [
       "<pre>Finished parsing file /mnt/c/Users/Karl-Jonathan/Desktop/mudelid/labeled/motionData 2021-04-08 06-04-34.txt</pre>"
      ],
      "text/plain": [
       "Finished parsing file /mnt/c/Users/Karl-Jonathan/Desktop/mudelid/labeled/motionData 2021-04-08 06-04-34.txt"
      ]
     },
     "metadata": {},
     "output_type": "display_data"
    },
    {
     "data": {
      "text/html": [
       "<pre>Parsing completed. Parsed 100 lines in 0.035818 secs.</pre>"
      ],
      "text/plain": [
       "Parsing completed. Parsed 100 lines in 0.035818 secs."
      ]
     },
     "metadata": {},
     "output_type": "display_data"
    },
    {
     "name": "stdout",
     "output_type": "stream",
     "text": [
      "------------------------------------------------------\n",
      "Inferred types from first 100 line(s) of file as \n",
      "column_type_hints=[float,float,float,float,float,float,int,str]\n",
      "If parsing fails due to incorrect types, you can correct\n",
      "the inferred type list above and pass it to read_csv in\n",
      "the column_type_hints argument\n",
      "------------------------------------------------------\n"
     ]
    },
    {
     "data": {
      "text/html": [
       "<pre>Finished parsing file /mnt/c/Users/Karl-Jonathan/Desktop/mudelid/labeled/motionData 2021-04-08 06-04-34.txt</pre>"
      ],
      "text/plain": [
       "Finished parsing file /mnt/c/Users/Karl-Jonathan/Desktop/mudelid/labeled/motionData 2021-04-08 06-04-34.txt"
      ]
     },
     "metadata": {},
     "output_type": "display_data"
    },
    {
     "data": {
      "text/html": [
       "<pre>Parsing completed. Parsed 640 lines in 0.036406 secs.</pre>"
      ],
      "text/plain": [
       "Parsing completed. Parsed 640 lines in 0.036406 secs."
      ]
     },
     "metadata": {},
     "output_type": "display_data"
    },
    {
     "data": {
      "text/html": [
       "<pre>Finished parsing file /mnt/c/Users/Karl-Jonathan/Desktop/mudelid/labeled/motionData 2021-04-08 06-04-52.txt</pre>"
      ],
      "text/plain": [
       "Finished parsing file /mnt/c/Users/Karl-Jonathan/Desktop/mudelid/labeled/motionData 2021-04-08 06-04-52.txt"
      ]
     },
     "metadata": {},
     "output_type": "display_data"
    },
    {
     "data": {
      "text/html": [
       "<pre>Parsing completed. Parsed 100 lines in 0.035863 secs.</pre>"
      ],
      "text/plain": [
       "Parsing completed. Parsed 100 lines in 0.035863 secs."
      ]
     },
     "metadata": {},
     "output_type": "display_data"
    },
    {
     "name": "stdout",
     "output_type": "stream",
     "text": [
      "------------------------------------------------------\n",
      "Inferred types from first 100 line(s) of file as \n",
      "column_type_hints=[float,float,float,float,float,float,int,str]\n",
      "If parsing fails due to incorrect types, you can correct\n",
      "the inferred type list above and pass it to read_csv in\n",
      "the column_type_hints argument\n",
      "------------------------------------------------------\n"
     ]
    },
    {
     "data": {
      "text/html": [
       "<pre>Finished parsing file /mnt/c/Users/Karl-Jonathan/Desktop/mudelid/labeled/motionData 2021-04-08 06-04-52.txt</pre>"
      ],
      "text/plain": [
       "Finished parsing file /mnt/c/Users/Karl-Jonathan/Desktop/mudelid/labeled/motionData 2021-04-08 06-04-52.txt"
      ]
     },
     "metadata": {},
     "output_type": "display_data"
    },
    {
     "data": {
      "text/html": [
       "<pre>Parsing completed. Parsed 705 lines in 0.03581 secs.</pre>"
      ],
      "text/plain": [
       "Parsing completed. Parsed 705 lines in 0.03581 secs."
      ]
     },
     "metadata": {},
     "output_type": "display_data"
    },
    {
     "data": {
      "text/html": [
       "<pre>Finished parsing file /mnt/c/Users/Karl-Jonathan/Desktop/mudelid/labeled/motionData 2021-04-08 06-05-02.txt</pre>"
      ],
      "text/plain": [
       "Finished parsing file /mnt/c/Users/Karl-Jonathan/Desktop/mudelid/labeled/motionData 2021-04-08 06-05-02.txt"
      ]
     },
     "metadata": {},
     "output_type": "display_data"
    },
    {
     "data": {
      "text/html": [
       "<pre>Parsing completed. Parsed 100 lines in 0.036189 secs.</pre>"
      ],
      "text/plain": [
       "Parsing completed. Parsed 100 lines in 0.036189 secs."
      ]
     },
     "metadata": {},
     "output_type": "display_data"
    },
    {
     "name": "stdout",
     "output_type": "stream",
     "text": [
      "------------------------------------------------------\n",
      "Inferred types from first 100 line(s) of file as \n",
      "column_type_hints=[float,float,float,float,float,float,int,str]\n",
      "If parsing fails due to incorrect types, you can correct\n",
      "the inferred type list above and pass it to read_csv in\n",
      "the column_type_hints argument\n",
      "------------------------------------------------------\n"
     ]
    },
    {
     "data": {
      "text/html": [
       "<pre>Finished parsing file /mnt/c/Users/Karl-Jonathan/Desktop/mudelid/labeled/motionData 2021-04-08 06-05-02.txt</pre>"
      ],
      "text/plain": [
       "Finished parsing file /mnt/c/Users/Karl-Jonathan/Desktop/mudelid/labeled/motionData 2021-04-08 06-05-02.txt"
      ]
     },
     "metadata": {},
     "output_type": "display_data"
    },
    {
     "data": {
      "text/html": [
       "<pre>Parsing completed. Parsed 682 lines in 0.035529 secs.</pre>"
      ],
      "text/plain": [
       "Parsing completed. Parsed 682 lines in 0.035529 secs."
      ]
     },
     "metadata": {},
     "output_type": "display_data"
    },
    {
     "data": {
      "text/html": [
       "<pre>Finished parsing file /mnt/c/Users/Karl-Jonathan/Desktop/mudelid/labeled/motionData 2021-04-08 06-05-28.txt</pre>"
      ],
      "text/plain": [
       "Finished parsing file /mnt/c/Users/Karl-Jonathan/Desktop/mudelid/labeled/motionData 2021-04-08 06-05-28.txt"
      ]
     },
     "metadata": {},
     "output_type": "display_data"
    },
    {
     "data": {
      "text/html": [
       "<pre>Parsing completed. Parsed 100 lines in 0.036284 secs.</pre>"
      ],
      "text/plain": [
       "Parsing completed. Parsed 100 lines in 0.036284 secs."
      ]
     },
     "metadata": {},
     "output_type": "display_data"
    },
    {
     "name": "stdout",
     "output_type": "stream",
     "text": [
      "------------------------------------------------------\n",
      "Inferred types from first 100 line(s) of file as \n",
      "column_type_hints=[float,float,float,float,float,float,int,str]\n",
      "If parsing fails due to incorrect types, you can correct\n",
      "the inferred type list above and pass it to read_csv in\n",
      "the column_type_hints argument\n",
      "------------------------------------------------------\n"
     ]
    },
    {
     "data": {
      "text/html": [
       "<pre>Finished parsing file /mnt/c/Users/Karl-Jonathan/Desktop/mudelid/labeled/motionData 2021-04-08 06-05-28.txt</pre>"
      ],
      "text/plain": [
       "Finished parsing file /mnt/c/Users/Karl-Jonathan/Desktop/mudelid/labeled/motionData 2021-04-08 06-05-28.txt"
      ]
     },
     "metadata": {},
     "output_type": "display_data"
    },
    {
     "data": {
      "text/html": [
       "<pre>Parsing completed. Parsed 708 lines in 0.035578 secs.</pre>"
      ],
      "text/plain": [
       "Parsing completed. Parsed 708 lines in 0.035578 secs."
      ]
     },
     "metadata": {},
     "output_type": "display_data"
    },
    {
     "data": {
      "text/html": [
       "<pre>Finished parsing file /mnt/c/Users/Karl-Jonathan/Desktop/mudelid/labeled/motionData 2021-04-08 06-05-36.txt</pre>"
      ],
      "text/plain": [
       "Finished parsing file /mnt/c/Users/Karl-Jonathan/Desktop/mudelid/labeled/motionData 2021-04-08 06-05-36.txt"
      ]
     },
     "metadata": {},
     "output_type": "display_data"
    },
    {
     "data": {
      "text/html": [
       "<pre>Parsing completed. Parsed 100 lines in 0.03543 secs.</pre>"
      ],
      "text/plain": [
       "Parsing completed. Parsed 100 lines in 0.03543 secs."
      ]
     },
     "metadata": {},
     "output_type": "display_data"
    },
    {
     "name": "stdout",
     "output_type": "stream",
     "text": [
      "------------------------------------------------------\n",
      "Inferred types from first 100 line(s) of file as \n",
      "column_type_hints=[float,float,float,float,float,float,int,str]\n",
      "If parsing fails due to incorrect types, you can correct\n",
      "the inferred type list above and pass it to read_csv in\n",
      "the column_type_hints argument\n",
      "------------------------------------------------------\n"
     ]
    },
    {
     "data": {
      "text/html": [
       "<pre>Finished parsing file /mnt/c/Users/Karl-Jonathan/Desktop/mudelid/labeled/motionData 2021-04-08 06-05-36.txt</pre>"
      ],
      "text/plain": [
       "Finished parsing file /mnt/c/Users/Karl-Jonathan/Desktop/mudelid/labeled/motionData 2021-04-08 06-05-36.txt"
      ]
     },
     "metadata": {},
     "output_type": "display_data"
    },
    {
     "data": {
      "text/html": [
       "<pre>Parsing completed. Parsed 704 lines in 0.035705 secs.</pre>"
      ],
      "text/plain": [
       "Parsing completed. Parsed 704 lines in 0.035705 secs."
      ]
     },
     "metadata": {},
     "output_type": "display_data"
    },
    {
     "data": {
      "text/html": [
       "<pre>Finished parsing file /mnt/c/Users/Karl-Jonathan/Desktop/mudelid/labeled/motionData 2021-04-08 06-05-46.txt</pre>"
      ],
      "text/plain": [
       "Finished parsing file /mnt/c/Users/Karl-Jonathan/Desktop/mudelid/labeled/motionData 2021-04-08 06-05-46.txt"
      ]
     },
     "metadata": {},
     "output_type": "display_data"
    },
    {
     "data": {
      "text/html": [
       "<pre>Parsing completed. Parsed 100 lines in 0.035579 secs.</pre>"
      ],
      "text/plain": [
       "Parsing completed. Parsed 100 lines in 0.035579 secs."
      ]
     },
     "metadata": {},
     "output_type": "display_data"
    },
    {
     "name": "stdout",
     "output_type": "stream",
     "text": [
      "------------------------------------------------------\n",
      "Inferred types from first 100 line(s) of file as \n",
      "column_type_hints=[float,float,float,float,float,float,int,str]\n",
      "If parsing fails due to incorrect types, you can correct\n",
      "the inferred type list above and pass it to read_csv in\n",
      "the column_type_hints argument\n",
      "------------------------------------------------------\n"
     ]
    },
    {
     "data": {
      "text/html": [
       "<pre>Finished parsing file /mnt/c/Users/Karl-Jonathan/Desktop/mudelid/labeled/motionData 2021-04-08 06-05-46.txt</pre>"
      ],
      "text/plain": [
       "Finished parsing file /mnt/c/Users/Karl-Jonathan/Desktop/mudelid/labeled/motionData 2021-04-08 06-05-46.txt"
      ]
     },
     "metadata": {},
     "output_type": "display_data"
    },
    {
     "data": {
      "text/html": [
       "<pre>Parsing completed. Parsed 756 lines in 0.035492 secs.</pre>"
      ],
      "text/plain": [
       "Parsing completed. Parsed 756 lines in 0.035492 secs."
      ]
     },
     "metadata": {},
     "output_type": "display_data"
    },
    {
     "data": {
      "text/html": [
       "<pre>Finished parsing file /mnt/c/Users/Karl-Jonathan/Desktop/mudelid/labeled/motionData 2021-04-08 06-05-54.txt</pre>"
      ],
      "text/plain": [
       "Finished parsing file /mnt/c/Users/Karl-Jonathan/Desktop/mudelid/labeled/motionData 2021-04-08 06-05-54.txt"
      ]
     },
     "metadata": {},
     "output_type": "display_data"
    },
    {
     "data": {
      "text/html": [
       "<pre>Parsing completed. Parsed 100 lines in 0.035708 secs.</pre>"
      ],
      "text/plain": [
       "Parsing completed. Parsed 100 lines in 0.035708 secs."
      ]
     },
     "metadata": {},
     "output_type": "display_data"
    },
    {
     "name": "stdout",
     "output_type": "stream",
     "text": [
      "------------------------------------------------------\n",
      "Inferred types from first 100 line(s) of file as \n",
      "column_type_hints=[float,float,float,float,float,float,int,str]\n",
      "If parsing fails due to incorrect types, you can correct\n",
      "the inferred type list above and pass it to read_csv in\n",
      "the column_type_hints argument\n",
      "------------------------------------------------------\n"
     ]
    },
    {
     "data": {
      "text/html": [
       "<pre>Finished parsing file /mnt/c/Users/Karl-Jonathan/Desktop/mudelid/labeled/motionData 2021-04-08 06-05-54.txt</pre>"
      ],
      "text/plain": [
       "Finished parsing file /mnt/c/Users/Karl-Jonathan/Desktop/mudelid/labeled/motionData 2021-04-08 06-05-54.txt"
      ]
     },
     "metadata": {},
     "output_type": "display_data"
    },
    {
     "data": {
      "text/html": [
       "<pre>Parsing completed. Parsed 739 lines in 0.036086 secs.</pre>"
      ],
      "text/plain": [
       "Parsing completed. Parsed 739 lines in 0.036086 secs."
      ]
     },
     "metadata": {},
     "output_type": "display_data"
    },
    {
     "data": {
      "text/html": [
       "<pre>Finished parsing file /mnt/c/Users/Karl-Jonathan/Desktop/mudelid/labeled/motionData 2021-04-08 06-06-03.txt</pre>"
      ],
      "text/plain": [
       "Finished parsing file /mnt/c/Users/Karl-Jonathan/Desktop/mudelid/labeled/motionData 2021-04-08 06-06-03.txt"
      ]
     },
     "metadata": {},
     "output_type": "display_data"
    },
    {
     "data": {
      "text/html": [
       "<pre>Parsing completed. Parsed 100 lines in 0.031555 secs.</pre>"
      ],
      "text/plain": [
       "Parsing completed. Parsed 100 lines in 0.031555 secs."
      ]
     },
     "metadata": {},
     "output_type": "display_data"
    },
    {
     "name": "stdout",
     "output_type": "stream",
     "text": [
      "------------------------------------------------------\n",
      "Inferred types from first 100 line(s) of file as \n",
      "column_type_hints=[float,float,float,float,float,float,int,str]\n",
      "If parsing fails due to incorrect types, you can correct\n",
      "the inferred type list above and pass it to read_csv in\n",
      "the column_type_hints argument\n",
      "------------------------------------------------------\n"
     ]
    },
    {
     "data": {
      "text/html": [
       "<pre>Finished parsing file /mnt/c/Users/Karl-Jonathan/Desktop/mudelid/labeled/motionData 2021-04-08 06-06-03.txt</pre>"
      ],
      "text/plain": [
       "Finished parsing file /mnt/c/Users/Karl-Jonathan/Desktop/mudelid/labeled/motionData 2021-04-08 06-06-03.txt"
      ]
     },
     "metadata": {},
     "output_type": "display_data"
    },
    {
     "data": {
      "text/html": [
       "<pre>Parsing completed. Parsed 617 lines in 0.031062 secs.</pre>"
      ],
      "text/plain": [
       "Parsing completed. Parsed 617 lines in 0.031062 secs."
      ]
     },
     "metadata": {},
     "output_type": "display_data"
    },
    {
     "data": {
      "text/html": [
       "<pre>Finished parsing file /mnt/c/Users/Karl-Jonathan/Desktop/mudelid/labeled/motionData 2021-04-12 11-46-46.txt</pre>"
      ],
      "text/plain": [
       "Finished parsing file /mnt/c/Users/Karl-Jonathan/Desktop/mudelid/labeled/motionData 2021-04-12 11-46-46.txt"
      ]
     },
     "metadata": {},
     "output_type": "display_data"
    },
    {
     "data": {
      "text/html": [
       "<pre>Parsing completed. Parsed 100 lines in 0.031373 secs.</pre>"
      ],
      "text/plain": [
       "Parsing completed. Parsed 100 lines in 0.031373 secs."
      ]
     },
     "metadata": {},
     "output_type": "display_data"
    },
    {
     "name": "stdout",
     "output_type": "stream",
     "text": [
      "------------------------------------------------------\n",
      "Inferred types from first 100 line(s) of file as \n",
      "column_type_hints=[float,float,float,float,float,float,int,str]\n",
      "If parsing fails due to incorrect types, you can correct\n",
      "the inferred type list above and pass it to read_csv in\n",
      "the column_type_hints argument\n",
      "------------------------------------------------------\n"
     ]
    },
    {
     "data": {
      "text/html": [
       "<pre>Finished parsing file /mnt/c/Users/Karl-Jonathan/Desktop/mudelid/labeled/motionData 2021-04-12 11-46-46.txt</pre>"
      ],
      "text/plain": [
       "Finished parsing file /mnt/c/Users/Karl-Jonathan/Desktop/mudelid/labeled/motionData 2021-04-12 11-46-46.txt"
      ]
     },
     "metadata": {},
     "output_type": "display_data"
    },
    {
     "data": {
      "text/html": [
       "<pre>Parsing completed. Parsed 606 lines in 0.0309 secs.</pre>"
      ],
      "text/plain": [
       "Parsing completed. Parsed 606 lines in 0.0309 secs."
      ]
     },
     "metadata": {},
     "output_type": "display_data"
    },
    {
     "data": {
      "text/html": [
       "<pre>Finished parsing file /mnt/c/Users/Karl-Jonathan/Desktop/mudelid/labeled/motionData 2021-04-12 11-47-01.txt</pre>"
      ],
      "text/plain": [
       "Finished parsing file /mnt/c/Users/Karl-Jonathan/Desktop/mudelid/labeled/motionData 2021-04-12 11-47-01.txt"
      ]
     },
     "metadata": {},
     "output_type": "display_data"
    },
    {
     "data": {
      "text/html": [
       "<pre>Parsing completed. Parsed 100 lines in 0.033461 secs.</pre>"
      ],
      "text/plain": [
       "Parsing completed. Parsed 100 lines in 0.033461 secs."
      ]
     },
     "metadata": {},
     "output_type": "display_data"
    },
    {
     "name": "stdout",
     "output_type": "stream",
     "text": [
      "------------------------------------------------------\n",
      "Inferred types from first 100 line(s) of file as \n",
      "column_type_hints=[float,float,float,float,float,float,int,str]\n",
      "If parsing fails due to incorrect types, you can correct\n",
      "the inferred type list above and pass it to read_csv in\n",
      "the column_type_hints argument\n",
      "------------------------------------------------------\n"
     ]
    },
    {
     "data": {
      "text/html": [
       "<pre>Finished parsing file /mnt/c/Users/Karl-Jonathan/Desktop/mudelid/labeled/motionData 2021-04-12 11-47-01.txt</pre>"
      ],
      "text/plain": [
       "Finished parsing file /mnt/c/Users/Karl-Jonathan/Desktop/mudelid/labeled/motionData 2021-04-12 11-47-01.txt"
      ]
     },
     "metadata": {},
     "output_type": "display_data"
    },
    {
     "data": {
      "text/html": [
       "<pre>Parsing completed. Parsed 580 lines in 0.034674 secs.</pre>"
      ],
      "text/plain": [
       "Parsing completed. Parsed 580 lines in 0.034674 secs."
      ]
     },
     "metadata": {},
     "output_type": "display_data"
    },
    {
     "data": {
      "text/html": [
       "<pre>Finished parsing file /mnt/c/Users/Karl-Jonathan/Desktop/mudelid/labeled/motionData 2021-04-12 11-47-12.txt</pre>"
      ],
      "text/plain": [
       "Finished parsing file /mnt/c/Users/Karl-Jonathan/Desktop/mudelid/labeled/motionData 2021-04-12 11-47-12.txt"
      ]
     },
     "metadata": {},
     "output_type": "display_data"
    },
    {
     "data": {
      "text/html": [
       "<pre>Parsing completed. Parsed 100 lines in 0.035277 secs.</pre>"
      ],
      "text/plain": [
       "Parsing completed. Parsed 100 lines in 0.035277 secs."
      ]
     },
     "metadata": {},
     "output_type": "display_data"
    },
    {
     "name": "stdout",
     "output_type": "stream",
     "text": [
      "------------------------------------------------------\n",
      "Inferred types from first 100 line(s) of file as \n",
      "column_type_hints=[float,float,float,float,float,float,int,str]\n",
      "If parsing fails due to incorrect types, you can correct\n",
      "the inferred type list above and pass it to read_csv in\n",
      "the column_type_hints argument\n",
      "------------------------------------------------------\n"
     ]
    },
    {
     "data": {
      "text/html": [
       "<pre>Finished parsing file /mnt/c/Users/Karl-Jonathan/Desktop/mudelid/labeled/motionData 2021-04-12 11-47-12.txt</pre>"
      ],
      "text/plain": [
       "Finished parsing file /mnt/c/Users/Karl-Jonathan/Desktop/mudelid/labeled/motionData 2021-04-12 11-47-12.txt"
      ]
     },
     "metadata": {},
     "output_type": "display_data"
    },
    {
     "data": {
      "text/html": [
       "<pre>Parsing completed. Parsed 556 lines in 0.035695 secs.</pre>"
      ],
      "text/plain": [
       "Parsing completed. Parsed 556 lines in 0.035695 secs."
      ]
     },
     "metadata": {},
     "output_type": "display_data"
    },
    {
     "data": {
      "text/html": [
       "<pre>Finished parsing file /mnt/c/Users/Karl-Jonathan/Desktop/mudelid/labeled/motionData 2021-04-12 11-47-20.txt</pre>"
      ],
      "text/plain": [
       "Finished parsing file /mnt/c/Users/Karl-Jonathan/Desktop/mudelid/labeled/motionData 2021-04-12 11-47-20.txt"
      ]
     },
     "metadata": {},
     "output_type": "display_data"
    },
    {
     "data": {
      "text/html": [
       "<pre>Parsing completed. Parsed 100 lines in 0.035649 secs.</pre>"
      ],
      "text/plain": [
       "Parsing completed. Parsed 100 lines in 0.035649 secs."
      ]
     },
     "metadata": {},
     "output_type": "display_data"
    },
    {
     "name": "stdout",
     "output_type": "stream",
     "text": [
      "------------------------------------------------------\n",
      "Inferred types from first 100 line(s) of file as \n",
      "column_type_hints=[float,float,float,float,float,float,int,str]\n",
      "If parsing fails due to incorrect types, you can correct\n",
      "the inferred type list above and pass it to read_csv in\n",
      "the column_type_hints argument\n",
      "------------------------------------------------------\n"
     ]
    },
    {
     "data": {
      "text/html": [
       "<pre>Finished parsing file /mnt/c/Users/Karl-Jonathan/Desktop/mudelid/labeled/motionData 2021-04-12 11-47-20.txt</pre>"
      ],
      "text/plain": [
       "Finished parsing file /mnt/c/Users/Karl-Jonathan/Desktop/mudelid/labeled/motionData 2021-04-12 11-47-20.txt"
      ]
     },
     "metadata": {},
     "output_type": "display_data"
    },
    {
     "data": {
      "text/html": [
       "<pre>Parsing completed. Parsed 592 lines in 0.035731 secs.</pre>"
      ],
      "text/plain": [
       "Parsing completed. Parsed 592 lines in 0.035731 secs."
      ]
     },
     "metadata": {},
     "output_type": "display_data"
    },
    {
     "data": {
      "text/html": [
       "<pre>Finished parsing file /mnt/c/Users/Karl-Jonathan/Desktop/mudelid/labeled/motionData 2021-04-12 11-47-44.txt</pre>"
      ],
      "text/plain": [
       "Finished parsing file /mnt/c/Users/Karl-Jonathan/Desktop/mudelid/labeled/motionData 2021-04-12 11-47-44.txt"
      ]
     },
     "metadata": {},
     "output_type": "display_data"
    },
    {
     "data": {
      "text/html": [
       "<pre>Parsing completed. Parsed 100 lines in 0.035857 secs.</pre>"
      ],
      "text/plain": [
       "Parsing completed. Parsed 100 lines in 0.035857 secs."
      ]
     },
     "metadata": {},
     "output_type": "display_data"
    },
    {
     "name": "stdout",
     "output_type": "stream",
     "text": [
      "------------------------------------------------------\n",
      "Inferred types from first 100 line(s) of file as \n",
      "column_type_hints=[float,float,float,float,float,float,int,str]\n",
      "If parsing fails due to incorrect types, you can correct\n",
      "the inferred type list above and pass it to read_csv in\n",
      "the column_type_hints argument\n",
      "------------------------------------------------------\n"
     ]
    },
    {
     "data": {
      "text/html": [
       "<pre>Finished parsing file /mnt/c/Users/Karl-Jonathan/Desktop/mudelid/labeled/motionData 2021-04-12 11-47-44.txt</pre>"
      ],
      "text/plain": [
       "Finished parsing file /mnt/c/Users/Karl-Jonathan/Desktop/mudelid/labeled/motionData 2021-04-12 11-47-44.txt"
      ]
     },
     "metadata": {},
     "output_type": "display_data"
    },
    {
     "data": {
      "text/html": [
       "<pre>Parsing completed. Parsed 646 lines in 0.035873 secs.</pre>"
      ],
      "text/plain": [
       "Parsing completed. Parsed 646 lines in 0.035873 secs."
      ]
     },
     "metadata": {},
     "output_type": "display_data"
    },
    {
     "data": {
      "text/html": [
       "<pre>Finished parsing file /mnt/c/Users/Karl-Jonathan/Desktop/mudelid/labeled/motionData 2021-04-12 11-47-53.txt</pre>"
      ],
      "text/plain": [
       "Finished parsing file /mnt/c/Users/Karl-Jonathan/Desktop/mudelid/labeled/motionData 2021-04-12 11-47-53.txt"
      ]
     },
     "metadata": {},
     "output_type": "display_data"
    },
    {
     "data": {
      "text/html": [
       "<pre>Parsing completed. Parsed 100 lines in 0.035864 secs.</pre>"
      ],
      "text/plain": [
       "Parsing completed. Parsed 100 lines in 0.035864 secs."
      ]
     },
     "metadata": {},
     "output_type": "display_data"
    },
    {
     "name": "stdout",
     "output_type": "stream",
     "text": [
      "------------------------------------------------------\n",
      "Inferred types from first 100 line(s) of file as \n",
      "column_type_hints=[float,float,float,float,float,float,int,str]\n",
      "If parsing fails due to incorrect types, you can correct\n",
      "the inferred type list above and pass it to read_csv in\n",
      "the column_type_hints argument\n",
      "------------------------------------------------------\n"
     ]
    },
    {
     "data": {
      "text/html": [
       "<pre>Finished parsing file /mnt/c/Users/Karl-Jonathan/Desktop/mudelid/labeled/motionData 2021-04-12 11-47-53.txt</pre>"
      ],
      "text/plain": [
       "Finished parsing file /mnt/c/Users/Karl-Jonathan/Desktop/mudelid/labeled/motionData 2021-04-12 11-47-53.txt"
      ]
     },
     "metadata": {},
     "output_type": "display_data"
    },
    {
     "data": {
      "text/html": [
       "<pre>Parsing completed. Parsed 613 lines in 0.035796 secs.</pre>"
      ],
      "text/plain": [
       "Parsing completed. Parsed 613 lines in 0.035796 secs."
      ]
     },
     "metadata": {},
     "output_type": "display_data"
    },
    {
     "data": {
      "text/html": [
       "<pre>Finished parsing file /mnt/c/Users/Karl-Jonathan/Desktop/mudelid/labeled/motionData 2021-04-12 11-48-10.txt</pre>"
      ],
      "text/plain": [
       "Finished parsing file /mnt/c/Users/Karl-Jonathan/Desktop/mudelid/labeled/motionData 2021-04-12 11-48-10.txt"
      ]
     },
     "metadata": {},
     "output_type": "display_data"
    },
    {
     "data": {
      "text/html": [
       "<pre>Parsing completed. Parsed 100 lines in 0.036317 secs.</pre>"
      ],
      "text/plain": [
       "Parsing completed. Parsed 100 lines in 0.036317 secs."
      ]
     },
     "metadata": {},
     "output_type": "display_data"
    },
    {
     "name": "stdout",
     "output_type": "stream",
     "text": [
      "------------------------------------------------------\n",
      "Inferred types from first 100 line(s) of file as \n",
      "column_type_hints=[float,float,float,float,float,float,int,str]\n",
      "If parsing fails due to incorrect types, you can correct\n",
      "the inferred type list above and pass it to read_csv in\n",
      "the column_type_hints argument\n",
      "------------------------------------------------------\n"
     ]
    },
    {
     "data": {
      "text/html": [
       "<pre>Finished parsing file /mnt/c/Users/Karl-Jonathan/Desktop/mudelid/labeled/motionData 2021-04-12 11-48-10.txt</pre>"
      ],
      "text/plain": [
       "Finished parsing file /mnt/c/Users/Karl-Jonathan/Desktop/mudelid/labeled/motionData 2021-04-12 11-48-10.txt"
      ]
     },
     "metadata": {},
     "output_type": "display_data"
    },
    {
     "data": {
      "text/html": [
       "<pre>Parsing completed. Parsed 629 lines in 0.036283 secs.</pre>"
      ],
      "text/plain": [
       "Parsing completed. Parsed 629 lines in 0.036283 secs."
      ]
     },
     "metadata": {},
     "output_type": "display_data"
    },
    {
     "data": {
      "text/html": [
       "<pre>Finished parsing file /mnt/c/Users/Karl-Jonathan/Desktop/mudelid/labeled/motionData 2021-04-12 11-48-20.txt</pre>"
      ],
      "text/plain": [
       "Finished parsing file /mnt/c/Users/Karl-Jonathan/Desktop/mudelid/labeled/motionData 2021-04-12 11-48-20.txt"
      ]
     },
     "metadata": {},
     "output_type": "display_data"
    },
    {
     "data": {
      "text/html": [
       "<pre>Parsing completed. Parsed 100 lines in 0.035355 secs.</pre>"
      ],
      "text/plain": [
       "Parsing completed. Parsed 100 lines in 0.035355 secs."
      ]
     },
     "metadata": {},
     "output_type": "display_data"
    },
    {
     "name": "stdout",
     "output_type": "stream",
     "text": [
      "------------------------------------------------------\n",
      "Inferred types from first 100 line(s) of file as \n",
      "column_type_hints=[float,float,float,float,float,float,int,str]\n",
      "If parsing fails due to incorrect types, you can correct\n",
      "the inferred type list above and pass it to read_csv in\n",
      "the column_type_hints argument\n",
      "------------------------------------------------------\n"
     ]
    },
    {
     "data": {
      "text/html": [
       "<pre>Finished parsing file /mnt/c/Users/Karl-Jonathan/Desktop/mudelid/labeled/motionData 2021-04-12 11-48-20.txt</pre>"
      ],
      "text/plain": [
       "Finished parsing file /mnt/c/Users/Karl-Jonathan/Desktop/mudelid/labeled/motionData 2021-04-12 11-48-20.txt"
      ]
     },
     "metadata": {},
     "output_type": "display_data"
    },
    {
     "data": {
      "text/html": [
       "<pre>Parsing completed. Parsed 637 lines in 0.035795 secs.</pre>"
      ],
      "text/plain": [
       "Parsing completed. Parsed 637 lines in 0.035795 secs."
      ]
     },
     "metadata": {},
     "output_type": "display_data"
    },
    {
     "data": {
      "text/html": [
       "<pre>Finished parsing file /mnt/c/Users/Karl-Jonathan/Desktop/mudelid/labeled/motionData 2021-04-12 11-48-29.txt</pre>"
      ],
      "text/plain": [
       "Finished parsing file /mnt/c/Users/Karl-Jonathan/Desktop/mudelid/labeled/motionData 2021-04-12 11-48-29.txt"
      ]
     },
     "metadata": {},
     "output_type": "display_data"
    },
    {
     "data": {
      "text/html": [
       "<pre>Parsing completed. Parsed 100 lines in 0.035593 secs.</pre>"
      ],
      "text/plain": [
       "Parsing completed. Parsed 100 lines in 0.035593 secs."
      ]
     },
     "metadata": {},
     "output_type": "display_data"
    },
    {
     "name": "stdout",
     "output_type": "stream",
     "text": [
      "------------------------------------------------------\n",
      "Inferred types from first 100 line(s) of file as \n",
      "column_type_hints=[float,float,float,float,float,float,int,str]\n",
      "If parsing fails due to incorrect types, you can correct\n",
      "the inferred type list above and pass it to read_csv in\n",
      "the column_type_hints argument\n",
      "------------------------------------------------------\n"
     ]
    },
    {
     "data": {
      "text/html": [
       "<pre>Finished parsing file /mnt/c/Users/Karl-Jonathan/Desktop/mudelid/labeled/motionData 2021-04-12 11-48-29.txt</pre>"
      ],
      "text/plain": [
       "Finished parsing file /mnt/c/Users/Karl-Jonathan/Desktop/mudelid/labeled/motionData 2021-04-12 11-48-29.txt"
      ]
     },
     "metadata": {},
     "output_type": "display_data"
    },
    {
     "data": {
      "text/html": [
       "<pre>Parsing completed. Parsed 656 lines in 0.035529 secs.</pre>"
      ],
      "text/plain": [
       "Parsing completed. Parsed 656 lines in 0.035529 secs."
      ]
     },
     "metadata": {},
     "output_type": "display_data"
    },
    {
     "data": {
      "text/html": [
       "<pre>Finished parsing file /mnt/c/Users/Karl-Jonathan/Desktop/mudelid/labeled/motionData 2021-04-12 11-48-38.txt</pre>"
      ],
      "text/plain": [
       "Finished parsing file /mnt/c/Users/Karl-Jonathan/Desktop/mudelid/labeled/motionData 2021-04-12 11-48-38.txt"
      ]
     },
     "metadata": {},
     "output_type": "display_data"
    },
    {
     "data": {
      "text/html": [
       "<pre>Parsing completed. Parsed 100 lines in 0.035956 secs.</pre>"
      ],
      "text/plain": [
       "Parsing completed. Parsed 100 lines in 0.035956 secs."
      ]
     },
     "metadata": {},
     "output_type": "display_data"
    },
    {
     "name": "stdout",
     "output_type": "stream",
     "text": [
      "------------------------------------------------------\n",
      "Inferred types from first 100 line(s) of file as \n",
      "column_type_hints=[float,float,float,float,float,float,int,str]\n",
      "If parsing fails due to incorrect types, you can correct\n",
      "the inferred type list above and pass it to read_csv in\n",
      "the column_type_hints argument\n",
      "------------------------------------------------------\n"
     ]
    },
    {
     "data": {
      "text/html": [
       "<pre>Finished parsing file /mnt/c/Users/Karl-Jonathan/Desktop/mudelid/labeled/motionData 2021-04-12 11-48-38.txt</pre>"
      ],
      "text/plain": [
       "Finished parsing file /mnt/c/Users/Karl-Jonathan/Desktop/mudelid/labeled/motionData 2021-04-12 11-48-38.txt"
      ]
     },
     "metadata": {},
     "output_type": "display_data"
    },
    {
     "data": {
      "text/html": [
       "<pre>Parsing completed. Parsed 647 lines in 0.035551 secs.</pre>"
      ],
      "text/plain": [
       "Parsing completed. Parsed 647 lines in 0.035551 secs."
      ]
     },
     "metadata": {},
     "output_type": "display_data"
    },
    {
     "data": {
      "text/html": [
       "<pre>Finished parsing file /mnt/c/Users/Karl-Jonathan/Desktop/mudelid/labeled/motionData 2021-04-12 11-48-46.txt</pre>"
      ],
      "text/plain": [
       "Finished parsing file /mnt/c/Users/Karl-Jonathan/Desktop/mudelid/labeled/motionData 2021-04-12 11-48-46.txt"
      ]
     },
     "metadata": {},
     "output_type": "display_data"
    },
    {
     "data": {
      "text/html": [
       "<pre>Parsing completed. Parsed 100 lines in 0.035566 secs.</pre>"
      ],
      "text/plain": [
       "Parsing completed. Parsed 100 lines in 0.035566 secs."
      ]
     },
     "metadata": {},
     "output_type": "display_data"
    },
    {
     "name": "stdout",
     "output_type": "stream",
     "text": [
      "------------------------------------------------------\n",
      "Inferred types from first 100 line(s) of file as \n",
      "column_type_hints=[float,float,float,float,float,float,int,str]\n",
      "If parsing fails due to incorrect types, you can correct\n",
      "the inferred type list above and pass it to read_csv in\n",
      "the column_type_hints argument\n",
      "------------------------------------------------------\n"
     ]
    },
    {
     "data": {
      "text/html": [
       "<pre>Finished parsing file /mnt/c/Users/Karl-Jonathan/Desktop/mudelid/labeled/motionData 2021-04-12 11-48-46.txt</pre>"
      ],
      "text/plain": [
       "Finished parsing file /mnt/c/Users/Karl-Jonathan/Desktop/mudelid/labeled/motionData 2021-04-12 11-48-46.txt"
      ]
     },
     "metadata": {},
     "output_type": "display_data"
    },
    {
     "data": {
      "text/html": [
       "<pre>Parsing completed. Parsed 655 lines in 0.035672 secs.</pre>"
      ],
      "text/plain": [
       "Parsing completed. Parsed 655 lines in 0.035672 secs."
      ]
     },
     "metadata": {},
     "output_type": "display_data"
    },
    {
     "data": {
      "text/html": [
       "<pre>Finished parsing file /mnt/c/Users/Karl-Jonathan/Desktop/mudelid/labeled/motionData 2021-04-12 11-48-55.txt</pre>"
      ],
      "text/plain": [
       "Finished parsing file /mnt/c/Users/Karl-Jonathan/Desktop/mudelid/labeled/motionData 2021-04-12 11-48-55.txt"
      ]
     },
     "metadata": {},
     "output_type": "display_data"
    },
    {
     "data": {
      "text/html": [
       "<pre>Parsing completed. Parsed 100 lines in 0.031221 secs.</pre>"
      ],
      "text/plain": [
       "Parsing completed. Parsed 100 lines in 0.031221 secs."
      ]
     },
     "metadata": {},
     "output_type": "display_data"
    },
    {
     "name": "stdout",
     "output_type": "stream",
     "text": [
      "------------------------------------------------------\n",
      "Inferred types from first 100 line(s) of file as \n",
      "column_type_hints=[float,float,float,float,float,float,int,str]\n",
      "If parsing fails due to incorrect types, you can correct\n",
      "the inferred type list above and pass it to read_csv in\n",
      "the column_type_hints argument\n",
      "------------------------------------------------------\n"
     ]
    },
    {
     "data": {
      "text/html": [
       "<pre>Finished parsing file /mnt/c/Users/Karl-Jonathan/Desktop/mudelid/labeled/motionData 2021-04-12 11-48-55.txt</pre>"
      ],
      "text/plain": [
       "Finished parsing file /mnt/c/Users/Karl-Jonathan/Desktop/mudelid/labeled/motionData 2021-04-12 11-48-55.txt"
      ]
     },
     "metadata": {},
     "output_type": "display_data"
    },
    {
     "data": {
      "text/html": [
       "<pre>Parsing completed. Parsed 670 lines in 0.0315 secs.</pre>"
      ],
      "text/plain": [
       "Parsing completed. Parsed 670 lines in 0.0315 secs."
      ]
     },
     "metadata": {},
     "output_type": "display_data"
    },
    {
     "data": {
      "text/html": [
       "<pre>Finished parsing file /mnt/c/Users/Karl-Jonathan/Desktop/mudelid/labeled/motionData 2021-04-12 11-49-12.txt</pre>"
      ],
      "text/plain": [
       "Finished parsing file /mnt/c/Users/Karl-Jonathan/Desktop/mudelid/labeled/motionData 2021-04-12 11-49-12.txt"
      ]
     },
     "metadata": {},
     "output_type": "display_data"
    },
    {
     "data": {
      "text/html": [
       "<pre>Parsing completed. Parsed 100 lines in 0.030895 secs.</pre>"
      ],
      "text/plain": [
       "Parsing completed. Parsed 100 lines in 0.030895 secs."
      ]
     },
     "metadata": {},
     "output_type": "display_data"
    },
    {
     "name": "stdout",
     "output_type": "stream",
     "text": [
      "------------------------------------------------------\n",
      "Inferred types from first 100 line(s) of file as \n",
      "column_type_hints=[float,float,float,float,float,float,int,str]\n",
      "If parsing fails due to incorrect types, you can correct\n",
      "the inferred type list above and pass it to read_csv in\n",
      "the column_type_hints argument\n",
      "------------------------------------------------------\n"
     ]
    },
    {
     "data": {
      "text/html": [
       "<pre>Finished parsing file /mnt/c/Users/Karl-Jonathan/Desktop/mudelid/labeled/motionData 2021-04-12 11-49-12.txt</pre>"
      ],
      "text/plain": [
       "Finished parsing file /mnt/c/Users/Karl-Jonathan/Desktop/mudelid/labeled/motionData 2021-04-12 11-49-12.txt"
      ]
     },
     "metadata": {},
     "output_type": "display_data"
    },
    {
     "data": {
      "text/html": [
       "<pre>Parsing completed. Parsed 680 lines in 0.031092 secs.</pre>"
      ],
      "text/plain": [
       "Parsing completed. Parsed 680 lines in 0.031092 secs."
      ]
     },
     "metadata": {},
     "output_type": "display_data"
    },
    {
     "data": {
      "text/html": [
       "<pre>Finished parsing file /mnt/c/Users/Karl-Jonathan/Desktop/mudelid/labeled/motionData 2021-04-12 11-49-20.txt</pre>"
      ],
      "text/plain": [
       "Finished parsing file /mnt/c/Users/Karl-Jonathan/Desktop/mudelid/labeled/motionData 2021-04-12 11-49-20.txt"
      ]
     },
     "metadata": {},
     "output_type": "display_data"
    },
    {
     "data": {
      "text/html": [
       "<pre>Parsing completed. Parsed 100 lines in 0.032601 secs.</pre>"
      ],
      "text/plain": [
       "Parsing completed. Parsed 100 lines in 0.032601 secs."
      ]
     },
     "metadata": {},
     "output_type": "display_data"
    },
    {
     "name": "stdout",
     "output_type": "stream",
     "text": [
      "------------------------------------------------------\n",
      "Inferred types from first 100 line(s) of file as \n",
      "column_type_hints=[float,float,float,float,float,float,int,str]\n",
      "If parsing fails due to incorrect types, you can correct\n",
      "the inferred type list above and pass it to read_csv in\n",
      "the column_type_hints argument\n",
      "------------------------------------------------------\n"
     ]
    },
    {
     "data": {
      "text/html": [
       "<pre>Finished parsing file /mnt/c/Users/Karl-Jonathan/Desktop/mudelid/labeled/motionData 2021-04-12 11-49-20.txt</pre>"
      ],
      "text/plain": [
       "Finished parsing file /mnt/c/Users/Karl-Jonathan/Desktop/mudelid/labeled/motionData 2021-04-12 11-49-20.txt"
      ]
     },
     "metadata": {},
     "output_type": "display_data"
    },
    {
     "data": {
      "text/html": [
       "<pre>Parsing completed. Parsed 669 lines in 0.035606 secs.</pre>"
      ],
      "text/plain": [
       "Parsing completed. Parsed 669 lines in 0.035606 secs."
      ]
     },
     "metadata": {},
     "output_type": "display_data"
    },
    {
     "data": {
      "text/html": [
       "<pre>Finished parsing file /mnt/c/Users/Karl-Jonathan/Desktop/mudelid/labeled/motionData 2021-04-12 11-49-27.txt</pre>"
      ],
      "text/plain": [
       "Finished parsing file /mnt/c/Users/Karl-Jonathan/Desktop/mudelid/labeled/motionData 2021-04-12 11-49-27.txt"
      ]
     },
     "metadata": {},
     "output_type": "display_data"
    },
    {
     "data": {
      "text/html": [
       "<pre>Parsing completed. Parsed 100 lines in 0.035795 secs.</pre>"
      ],
      "text/plain": [
       "Parsing completed. Parsed 100 lines in 0.035795 secs."
      ]
     },
     "metadata": {},
     "output_type": "display_data"
    },
    {
     "name": "stdout",
     "output_type": "stream",
     "text": [
      "------------------------------------------------------\n",
      "Inferred types from first 100 line(s) of file as \n",
      "column_type_hints=[float,float,float,float,float,float,int,str]\n",
      "If parsing fails due to incorrect types, you can correct\n",
      "the inferred type list above and pass it to read_csv in\n",
      "the column_type_hints argument\n",
      "------------------------------------------------------\n"
     ]
    },
    {
     "data": {
      "text/html": [
       "<pre>Finished parsing file /mnt/c/Users/Karl-Jonathan/Desktop/mudelid/labeled/motionData 2021-04-12 11-49-27.txt</pre>"
      ],
      "text/plain": [
       "Finished parsing file /mnt/c/Users/Karl-Jonathan/Desktop/mudelid/labeled/motionData 2021-04-12 11-49-27.txt"
      ]
     },
     "metadata": {},
     "output_type": "display_data"
    },
    {
     "data": {
      "text/html": [
       "<pre>Parsing completed. Parsed 639 lines in 0.035495 secs.</pre>"
      ],
      "text/plain": [
       "Parsing completed. Parsed 639 lines in 0.035495 secs."
      ]
     },
     "metadata": {},
     "output_type": "display_data"
    },
    {
     "data": {
      "text/html": [
       "<pre>Finished parsing file /mnt/c/Users/Karl-Jonathan/Desktop/mudelid/labeled/motionData 2021-04-12 11-49-36.txt</pre>"
      ],
      "text/plain": [
       "Finished parsing file /mnt/c/Users/Karl-Jonathan/Desktop/mudelid/labeled/motionData 2021-04-12 11-49-36.txt"
      ]
     },
     "metadata": {},
     "output_type": "display_data"
    },
    {
     "data": {
      "text/html": [
       "<pre>Parsing completed. Parsed 100 lines in 0.035479 secs.</pre>"
      ],
      "text/plain": [
       "Parsing completed. Parsed 100 lines in 0.035479 secs."
      ]
     },
     "metadata": {},
     "output_type": "display_data"
    },
    {
     "name": "stdout",
     "output_type": "stream",
     "text": [
      "------------------------------------------------------\n",
      "Inferred types from first 100 line(s) of file as \n",
      "column_type_hints=[float,float,float,float,float,float,int,str]\n",
      "If parsing fails due to incorrect types, you can correct\n",
      "the inferred type list above and pass it to read_csv in\n",
      "the column_type_hints argument\n",
      "------------------------------------------------------\n"
     ]
    },
    {
     "data": {
      "text/html": [
       "<pre>Finished parsing file /mnt/c/Users/Karl-Jonathan/Desktop/mudelid/labeled/motionData 2021-04-12 11-49-36.txt</pre>"
      ],
      "text/plain": [
       "Finished parsing file /mnt/c/Users/Karl-Jonathan/Desktop/mudelid/labeled/motionData 2021-04-12 11-49-36.txt"
      ]
     },
     "metadata": {},
     "output_type": "display_data"
    },
    {
     "data": {
      "text/html": [
       "<pre>Parsing completed. Parsed 671 lines in 0.03534 secs.</pre>"
      ],
      "text/plain": [
       "Parsing completed. Parsed 671 lines in 0.03534 secs."
      ]
     },
     "metadata": {},
     "output_type": "display_data"
    },
    {
     "data": {
      "text/html": [
       "<pre>Finished parsing file /mnt/c/Users/Karl-Jonathan/Desktop/mudelid/labeled/motionData 2021-04-12 11-49-44.txt</pre>"
      ],
      "text/plain": [
       "Finished parsing file /mnt/c/Users/Karl-Jonathan/Desktop/mudelid/labeled/motionData 2021-04-12 11-49-44.txt"
      ]
     },
     "metadata": {},
     "output_type": "display_data"
    },
    {
     "data": {
      "text/html": [
       "<pre>Parsing completed. Parsed 100 lines in 0.035933 secs.</pre>"
      ],
      "text/plain": [
       "Parsing completed. Parsed 100 lines in 0.035933 secs."
      ]
     },
     "metadata": {},
     "output_type": "display_data"
    },
    {
     "name": "stdout",
     "output_type": "stream",
     "text": [
      "------------------------------------------------------\n",
      "Inferred types from first 100 line(s) of file as \n",
      "column_type_hints=[float,float,float,float,float,float,int,str]\n",
      "If parsing fails due to incorrect types, you can correct\n",
      "the inferred type list above and pass it to read_csv in\n",
      "the column_type_hints argument\n",
      "------------------------------------------------------\n"
     ]
    },
    {
     "data": {
      "text/html": [
       "<pre>Finished parsing file /mnt/c/Users/Karl-Jonathan/Desktop/mudelid/labeled/motionData 2021-04-12 11-49-44.txt</pre>"
      ],
      "text/plain": [
       "Finished parsing file /mnt/c/Users/Karl-Jonathan/Desktop/mudelid/labeled/motionData 2021-04-12 11-49-44.txt"
      ]
     },
     "metadata": {},
     "output_type": "display_data"
    },
    {
     "data": {
      "text/html": [
       "<pre>Parsing completed. Parsed 670 lines in 0.035728 secs.</pre>"
      ],
      "text/plain": [
       "Parsing completed. Parsed 670 lines in 0.035728 secs."
      ]
     },
     "metadata": {},
     "output_type": "display_data"
    },
    {
     "data": {
      "text/html": [
       "<pre>Finished parsing file /mnt/c/Users/Karl-Jonathan/Desktop/mudelid/labeled/motionData 2021-04-12 11-49-54.txt</pre>"
      ],
      "text/plain": [
       "Finished parsing file /mnt/c/Users/Karl-Jonathan/Desktop/mudelid/labeled/motionData 2021-04-12 11-49-54.txt"
      ]
     },
     "metadata": {},
     "output_type": "display_data"
    },
    {
     "data": {
      "text/html": [
       "<pre>Parsing completed. Parsed 100 lines in 0.035748 secs.</pre>"
      ],
      "text/plain": [
       "Parsing completed. Parsed 100 lines in 0.035748 secs."
      ]
     },
     "metadata": {},
     "output_type": "display_data"
    },
    {
     "name": "stdout",
     "output_type": "stream",
     "text": [
      "------------------------------------------------------\n",
      "Inferred types from first 100 line(s) of file as \n",
      "column_type_hints=[float,float,float,float,float,float,int,str]\n",
      "If parsing fails due to incorrect types, you can correct\n",
      "the inferred type list above and pass it to read_csv in\n",
      "the column_type_hints argument\n",
      "------------------------------------------------------\n"
     ]
    },
    {
     "data": {
      "text/html": [
       "<pre>Finished parsing file /mnt/c/Users/Karl-Jonathan/Desktop/mudelid/labeled/motionData 2021-04-12 11-49-54.txt</pre>"
      ],
      "text/plain": [
       "Finished parsing file /mnt/c/Users/Karl-Jonathan/Desktop/mudelid/labeled/motionData 2021-04-12 11-49-54.txt"
      ]
     },
     "metadata": {},
     "output_type": "display_data"
    },
    {
     "data": {
      "text/html": [
       "<pre>Parsing completed. Parsed 705 lines in 0.035755 secs.</pre>"
      ],
      "text/plain": [
       "Parsing completed. Parsed 705 lines in 0.035755 secs."
      ]
     },
     "metadata": {},
     "output_type": "display_data"
    },
    {
     "data": {
      "text/html": [
       "<pre>Finished parsing file /mnt/c/Users/Karl-Jonathan/Desktop/mudelid/labeled/motionData 2021-04-12 11-50-09.txt</pre>"
      ],
      "text/plain": [
       "Finished parsing file /mnt/c/Users/Karl-Jonathan/Desktop/mudelid/labeled/motionData 2021-04-12 11-50-09.txt"
      ]
     },
     "metadata": {},
     "output_type": "display_data"
    },
    {
     "data": {
      "text/html": [
       "<pre>Parsing completed. Parsed 100 lines in 0.035462 secs.</pre>"
      ],
      "text/plain": [
       "Parsing completed. Parsed 100 lines in 0.035462 secs."
      ]
     },
     "metadata": {},
     "output_type": "display_data"
    },
    {
     "name": "stdout",
     "output_type": "stream",
     "text": [
      "------------------------------------------------------\n",
      "Inferred types from first 100 line(s) of file as \n",
      "column_type_hints=[float,float,float,float,float,float,int,str]\n",
      "If parsing fails due to incorrect types, you can correct\n",
      "the inferred type list above and pass it to read_csv in\n",
      "the column_type_hints argument\n",
      "------------------------------------------------------\n"
     ]
    },
    {
     "data": {
      "text/html": [
       "<pre>Finished parsing file /mnt/c/Users/Karl-Jonathan/Desktop/mudelid/labeled/motionData 2021-04-12 11-50-09.txt</pre>"
      ],
      "text/plain": [
       "Finished parsing file /mnt/c/Users/Karl-Jonathan/Desktop/mudelid/labeled/motionData 2021-04-12 11-50-09.txt"
      ]
     },
     "metadata": {},
     "output_type": "display_data"
    },
    {
     "data": {
      "text/html": [
       "<pre>Parsing completed. Parsed 631 lines in 0.035673 secs.</pre>"
      ],
      "text/plain": [
       "Parsing completed. Parsed 631 lines in 0.035673 secs."
      ]
     },
     "metadata": {},
     "output_type": "display_data"
    },
    {
     "data": {
      "text/html": [
       "<pre>Finished parsing file /mnt/c/Users/Karl-Jonathan/Desktop/mudelid/labeled/motionData 2021-04-12 11-50-25.txt</pre>"
      ],
      "text/plain": [
       "Finished parsing file /mnt/c/Users/Karl-Jonathan/Desktop/mudelid/labeled/motionData 2021-04-12 11-50-25.txt"
      ]
     },
     "metadata": {},
     "output_type": "display_data"
    },
    {
     "data": {
      "text/html": [
       "<pre>Parsing completed. Parsed 100 lines in 0.035335 secs.</pre>"
      ],
      "text/plain": [
       "Parsing completed. Parsed 100 lines in 0.035335 secs."
      ]
     },
     "metadata": {},
     "output_type": "display_data"
    },
    {
     "name": "stdout",
     "output_type": "stream",
     "text": [
      "------------------------------------------------------\n",
      "Inferred types from first 100 line(s) of file as \n",
      "column_type_hints=[float,float,float,float,float,float,int,str]\n",
      "If parsing fails due to incorrect types, you can correct\n",
      "the inferred type list above and pass it to read_csv in\n",
      "the column_type_hints argument\n",
      "------------------------------------------------------\n"
     ]
    },
    {
     "data": {
      "text/html": [
       "<pre>Finished parsing file /mnt/c/Users/Karl-Jonathan/Desktop/mudelid/labeled/motionData 2021-04-12 11-50-25.txt</pre>"
      ],
      "text/plain": [
       "Finished parsing file /mnt/c/Users/Karl-Jonathan/Desktop/mudelid/labeled/motionData 2021-04-12 11-50-25.txt"
      ]
     },
     "metadata": {},
     "output_type": "display_data"
    },
    {
     "data": {
      "text/html": [
       "<pre>Parsing completed. Parsed 649 lines in 0.035467 secs.</pre>"
      ],
      "text/plain": [
       "Parsing completed. Parsed 649 lines in 0.035467 secs."
      ]
     },
     "metadata": {},
     "output_type": "display_data"
    },
    {
     "data": {
      "text/html": [
       "<pre>Finished parsing file /mnt/c/Users/Karl-Jonathan/Desktop/mudelid/labeled/motionData 2021-04-12 11-50-36.txt</pre>"
      ],
      "text/plain": [
       "Finished parsing file /mnt/c/Users/Karl-Jonathan/Desktop/mudelid/labeled/motionData 2021-04-12 11-50-36.txt"
      ]
     },
     "metadata": {},
     "output_type": "display_data"
    },
    {
     "data": {
      "text/html": [
       "<pre>Parsing completed. Parsed 100 lines in 0.035888 secs.</pre>"
      ],
      "text/plain": [
       "Parsing completed. Parsed 100 lines in 0.035888 secs."
      ]
     },
     "metadata": {},
     "output_type": "display_data"
    },
    {
     "name": "stdout",
     "output_type": "stream",
     "text": [
      "------------------------------------------------------\n",
      "Inferred types from first 100 line(s) of file as \n",
      "column_type_hints=[float,float,float,float,float,float,int,str]\n",
      "If parsing fails due to incorrect types, you can correct\n",
      "the inferred type list above and pass it to read_csv in\n",
      "the column_type_hints argument\n",
      "------------------------------------------------------\n"
     ]
    },
    {
     "data": {
      "text/html": [
       "<pre>Finished parsing file /mnt/c/Users/Karl-Jonathan/Desktop/mudelid/labeled/motionData 2021-04-12 11-50-36.txt</pre>"
      ],
      "text/plain": [
       "Finished parsing file /mnt/c/Users/Karl-Jonathan/Desktop/mudelid/labeled/motionData 2021-04-12 11-50-36.txt"
      ]
     },
     "metadata": {},
     "output_type": "display_data"
    },
    {
     "data": {
      "text/html": [
       "<pre>Parsing completed. Parsed 682 lines in 0.035568 secs.</pre>"
      ],
      "text/plain": [
       "Parsing completed. Parsed 682 lines in 0.035568 secs."
      ]
     },
     "metadata": {},
     "output_type": "display_data"
    },
    {
     "data": {
      "text/html": [
       "<pre>Finished parsing file /mnt/c/Users/Karl-Jonathan/Desktop/mudelid/labeled/motionData 2021-04-12 11-54-05.txt</pre>"
      ],
      "text/plain": [
       "Finished parsing file /mnt/c/Users/Karl-Jonathan/Desktop/mudelid/labeled/motionData 2021-04-12 11-54-05.txt"
      ]
     },
     "metadata": {},
     "output_type": "display_data"
    },
    {
     "data": {
      "text/html": [
       "<pre>Parsing completed. Parsed 100 lines in 0.036271 secs.</pre>"
      ],
      "text/plain": [
       "Parsing completed. Parsed 100 lines in 0.036271 secs."
      ]
     },
     "metadata": {},
     "output_type": "display_data"
    },
    {
     "name": "stdout",
     "output_type": "stream",
     "text": [
      "------------------------------------------------------\n",
      "Inferred types from first 100 line(s) of file as \n",
      "column_type_hints=[float,float,float,float,float,float,int,str]\n",
      "If parsing fails due to incorrect types, you can correct\n",
      "the inferred type list above and pass it to read_csv in\n",
      "the column_type_hints argument\n",
      "------------------------------------------------------\n"
     ]
    },
    {
     "data": {
      "text/html": [
       "<pre>Finished parsing file /mnt/c/Users/Karl-Jonathan/Desktop/mudelid/labeled/motionData 2021-04-12 11-54-05.txt</pre>"
      ],
      "text/plain": [
       "Finished parsing file /mnt/c/Users/Karl-Jonathan/Desktop/mudelid/labeled/motionData 2021-04-12 11-54-05.txt"
      ]
     },
     "metadata": {},
     "output_type": "display_data"
    },
    {
     "data": {
      "text/html": [
       "<pre>Parsing completed. Parsed 664 lines in 0.035689 secs.</pre>"
      ],
      "text/plain": [
       "Parsing completed. Parsed 664 lines in 0.035689 secs."
      ]
     },
     "metadata": {},
     "output_type": "display_data"
    },
    {
     "data": {
      "text/html": [
       "<pre>Finished parsing file /mnt/c/Users/Karl-Jonathan/Desktop/mudelid/labeled/motionData 2021-04-12 11-54-13.txt</pre>"
      ],
      "text/plain": [
       "Finished parsing file /mnt/c/Users/Karl-Jonathan/Desktop/mudelid/labeled/motionData 2021-04-12 11-54-13.txt"
      ]
     },
     "metadata": {},
     "output_type": "display_data"
    },
    {
     "data": {
      "text/html": [
       "<pre>Parsing completed. Parsed 100 lines in 0.035569 secs.</pre>"
      ],
      "text/plain": [
       "Parsing completed. Parsed 100 lines in 0.035569 secs."
      ]
     },
     "metadata": {},
     "output_type": "display_data"
    },
    {
     "name": "stdout",
     "output_type": "stream",
     "text": [
      "------------------------------------------------------\n",
      "Inferred types from first 100 line(s) of file as \n",
      "column_type_hints=[float,float,float,float,float,float,int,str]\n",
      "If parsing fails due to incorrect types, you can correct\n",
      "the inferred type list above and pass it to read_csv in\n",
      "the column_type_hints argument\n",
      "------------------------------------------------------\n"
     ]
    },
    {
     "data": {
      "text/html": [
       "<pre>Finished parsing file /mnt/c/Users/Karl-Jonathan/Desktop/mudelid/labeled/motionData 2021-04-12 11-54-13.txt</pre>"
      ],
      "text/plain": [
       "Finished parsing file /mnt/c/Users/Karl-Jonathan/Desktop/mudelid/labeled/motionData 2021-04-12 11-54-13.txt"
      ]
     },
     "metadata": {},
     "output_type": "display_data"
    },
    {
     "data": {
      "text/html": [
       "<pre>Parsing completed. Parsed 624 lines in 0.035789 secs.</pre>"
      ],
      "text/plain": [
       "Parsing completed. Parsed 624 lines in 0.035789 secs."
      ]
     },
     "metadata": {},
     "output_type": "display_data"
    },
    {
     "data": {
      "text/html": [
       "<pre>Finished parsing file /mnt/c/Users/Karl-Jonathan/Desktop/mudelid/labeled/motionData 2021-04-12 11-54-23.txt</pre>"
      ],
      "text/plain": [
       "Finished parsing file /mnt/c/Users/Karl-Jonathan/Desktop/mudelid/labeled/motionData 2021-04-12 11-54-23.txt"
      ]
     },
     "metadata": {},
     "output_type": "display_data"
    },
    {
     "data": {
      "text/html": [
       "<pre>Parsing completed. Parsed 100 lines in 0.031135 secs.</pre>"
      ],
      "text/plain": [
       "Parsing completed. Parsed 100 lines in 0.031135 secs."
      ]
     },
     "metadata": {},
     "output_type": "display_data"
    },
    {
     "name": "stdout",
     "output_type": "stream",
     "text": [
      "------------------------------------------------------\n",
      "Inferred types from first 100 line(s) of file as \n",
      "column_type_hints=[float,float,float,float,float,float,int,str]\n",
      "If parsing fails due to incorrect types, you can correct\n",
      "the inferred type list above and pass it to read_csv in\n",
      "the column_type_hints argument\n",
      "------------------------------------------------------\n"
     ]
    },
    {
     "data": {
      "text/html": [
       "<pre>Finished parsing file /mnt/c/Users/Karl-Jonathan/Desktop/mudelid/labeled/motionData 2021-04-12 11-54-23.txt</pre>"
      ],
      "text/plain": [
       "Finished parsing file /mnt/c/Users/Karl-Jonathan/Desktop/mudelid/labeled/motionData 2021-04-12 11-54-23.txt"
      ]
     },
     "metadata": {},
     "output_type": "display_data"
    },
    {
     "data": {
      "text/html": [
       "<pre>Parsing completed. Parsed 651 lines in 0.031034 secs.</pre>"
      ],
      "text/plain": [
       "Parsing completed. Parsed 651 lines in 0.031034 secs."
      ]
     },
     "metadata": {},
     "output_type": "display_data"
    },
    {
     "data": {
      "text/html": [
       "<pre>Finished parsing file /mnt/c/Users/Karl-Jonathan/Desktop/mudelid/labeled/motionData 2021-04-12 11-54-33.txt</pre>"
      ],
      "text/plain": [
       "Finished parsing file /mnt/c/Users/Karl-Jonathan/Desktop/mudelid/labeled/motionData 2021-04-12 11-54-33.txt"
      ]
     },
     "metadata": {},
     "output_type": "display_data"
    },
    {
     "data": {
      "text/html": [
       "<pre>Parsing completed. Parsed 100 lines in 0.031153 secs.</pre>"
      ],
      "text/plain": [
       "Parsing completed. Parsed 100 lines in 0.031153 secs."
      ]
     },
     "metadata": {},
     "output_type": "display_data"
    },
    {
     "name": "stdout",
     "output_type": "stream",
     "text": [
      "------------------------------------------------------\n",
      "Inferred types from first 100 line(s) of file as \n",
      "column_type_hints=[float,float,float,float,float,float,int,str]\n",
      "If parsing fails due to incorrect types, you can correct\n",
      "the inferred type list above and pass it to read_csv in\n",
      "the column_type_hints argument\n",
      "------------------------------------------------------\n"
     ]
    },
    {
     "data": {
      "text/html": [
       "<pre>Finished parsing file /mnt/c/Users/Karl-Jonathan/Desktop/mudelid/labeled/motionData 2021-04-12 11-54-33.txt</pre>"
      ],
      "text/plain": [
       "Finished parsing file /mnt/c/Users/Karl-Jonathan/Desktop/mudelid/labeled/motionData 2021-04-12 11-54-33.txt"
      ]
     },
     "metadata": {},
     "output_type": "display_data"
    },
    {
     "data": {
      "text/html": [
       "<pre>Parsing completed. Parsed 683 lines in 0.031188 secs.</pre>"
      ],
      "text/plain": [
       "Parsing completed. Parsed 683 lines in 0.031188 secs."
      ]
     },
     "metadata": {},
     "output_type": "display_data"
    },
    {
     "data": {
      "text/html": [
       "<pre>Finished parsing file /mnt/c/Users/Karl-Jonathan/Desktop/mudelid/labeled/motionData 2021-04-12 11-54-50.txt</pre>"
      ],
      "text/plain": [
       "Finished parsing file /mnt/c/Users/Karl-Jonathan/Desktop/mudelid/labeled/motionData 2021-04-12 11-54-50.txt"
      ]
     },
     "metadata": {},
     "output_type": "display_data"
    },
    {
     "data": {
      "text/html": [
       "<pre>Parsing completed. Parsed 100 lines in 0.032913 secs.</pre>"
      ],
      "text/plain": [
       "Parsing completed. Parsed 100 lines in 0.032913 secs."
      ]
     },
     "metadata": {},
     "output_type": "display_data"
    },
    {
     "name": "stdout",
     "output_type": "stream",
     "text": [
      "------------------------------------------------------\n",
      "Inferred types from first 100 line(s) of file as \n",
      "column_type_hints=[float,float,float,float,float,float,int,str]\n",
      "If parsing fails due to incorrect types, you can correct\n",
      "the inferred type list above and pass it to read_csv in\n",
      "the column_type_hints argument\n",
      "------------------------------------------------------\n"
     ]
    },
    {
     "data": {
      "text/html": [
       "<pre>Finished parsing file /mnt/c/Users/Karl-Jonathan/Desktop/mudelid/labeled/motionData 2021-04-12 11-54-50.txt</pre>"
      ],
      "text/plain": [
       "Finished parsing file /mnt/c/Users/Karl-Jonathan/Desktop/mudelid/labeled/motionData 2021-04-12 11-54-50.txt"
      ]
     },
     "metadata": {},
     "output_type": "display_data"
    },
    {
     "data": {
      "text/html": [
       "<pre>Parsing completed. Parsed 664 lines in 0.035339 secs.</pre>"
      ],
      "text/plain": [
       "Parsing completed. Parsed 664 lines in 0.035339 secs."
      ]
     },
     "metadata": {},
     "output_type": "display_data"
    },
    {
     "data": {
      "text/html": [
       "<pre>Finished parsing file /mnt/c/Users/Karl-Jonathan/Desktop/mudelid/labeled/motionData 2021-04-12 11-54-59.txt</pre>"
      ],
      "text/plain": [
       "Finished parsing file /mnt/c/Users/Karl-Jonathan/Desktop/mudelid/labeled/motionData 2021-04-12 11-54-59.txt"
      ]
     },
     "metadata": {},
     "output_type": "display_data"
    },
    {
     "data": {
      "text/html": [
       "<pre>Parsing completed. Parsed 100 lines in 0.035753 secs.</pre>"
      ],
      "text/plain": [
       "Parsing completed. Parsed 100 lines in 0.035753 secs."
      ]
     },
     "metadata": {},
     "output_type": "display_data"
    },
    {
     "name": "stdout",
     "output_type": "stream",
     "text": [
      "------------------------------------------------------\n",
      "Inferred types from first 100 line(s) of file as \n",
      "column_type_hints=[float,float,float,float,float,float,int,str]\n",
      "If parsing fails due to incorrect types, you can correct\n",
      "the inferred type list above and pass it to read_csv in\n",
      "the column_type_hints argument\n",
      "------------------------------------------------------\n"
     ]
    },
    {
     "data": {
      "text/html": [
       "<pre>Finished parsing file /mnt/c/Users/Karl-Jonathan/Desktop/mudelid/labeled/motionData 2021-04-12 11-54-59.txt</pre>"
      ],
      "text/plain": [
       "Finished parsing file /mnt/c/Users/Karl-Jonathan/Desktop/mudelid/labeled/motionData 2021-04-12 11-54-59.txt"
      ]
     },
     "metadata": {},
     "output_type": "display_data"
    },
    {
     "data": {
      "text/html": [
       "<pre>Parsing completed. Parsed 708 lines in 0.035555 secs.</pre>"
      ],
      "text/plain": [
       "Parsing completed. Parsed 708 lines in 0.035555 secs."
      ]
     },
     "metadata": {},
     "output_type": "display_data"
    },
    {
     "data": {
      "text/html": [
       "<pre>Finished parsing file /mnt/c/Users/Karl-Jonathan/Desktop/mudelid/labeled/motionData 2021-04-12 11-55-09.txt</pre>"
      ],
      "text/plain": [
       "Finished parsing file /mnt/c/Users/Karl-Jonathan/Desktop/mudelid/labeled/motionData 2021-04-12 11-55-09.txt"
      ]
     },
     "metadata": {},
     "output_type": "display_data"
    },
    {
     "data": {
      "text/html": [
       "<pre>Parsing completed. Parsed 100 lines in 0.035507 secs.</pre>"
      ],
      "text/plain": [
       "Parsing completed. Parsed 100 lines in 0.035507 secs."
      ]
     },
     "metadata": {},
     "output_type": "display_data"
    },
    {
     "name": "stdout",
     "output_type": "stream",
     "text": [
      "------------------------------------------------------\n",
      "Inferred types from first 100 line(s) of file as \n",
      "column_type_hints=[float,float,float,float,float,float,int,str]\n",
      "If parsing fails due to incorrect types, you can correct\n",
      "the inferred type list above and pass it to read_csv in\n",
      "the column_type_hints argument\n",
      "------------------------------------------------------\n"
     ]
    },
    {
     "data": {
      "text/html": [
       "<pre>Finished parsing file /mnt/c/Users/Karl-Jonathan/Desktop/mudelid/labeled/motionData 2021-04-12 11-55-09.txt</pre>"
      ],
      "text/plain": [
       "Finished parsing file /mnt/c/Users/Karl-Jonathan/Desktop/mudelid/labeled/motionData 2021-04-12 11-55-09.txt"
      ]
     },
     "metadata": {},
     "output_type": "display_data"
    },
    {
     "data": {
      "text/html": [
       "<pre>Parsing completed. Parsed 676 lines in 0.03567 secs.</pre>"
      ],
      "text/plain": [
       "Parsing completed. Parsed 676 lines in 0.03567 secs."
      ]
     },
     "metadata": {},
     "output_type": "display_data"
    },
    {
     "data": {
      "text/html": [
       "<pre>Finished parsing file /mnt/c/Users/Karl-Jonathan/Desktop/mudelid/labeled/motionData 2021-04-12 11-55-31.txt</pre>"
      ],
      "text/plain": [
       "Finished parsing file /mnt/c/Users/Karl-Jonathan/Desktop/mudelid/labeled/motionData 2021-04-12 11-55-31.txt"
      ]
     },
     "metadata": {},
     "output_type": "display_data"
    },
    {
     "data": {
      "text/html": [
       "<pre>Parsing completed. Parsed 100 lines in 0.035693 secs.</pre>"
      ],
      "text/plain": [
       "Parsing completed. Parsed 100 lines in 0.035693 secs."
      ]
     },
     "metadata": {},
     "output_type": "display_data"
    },
    {
     "name": "stdout",
     "output_type": "stream",
     "text": [
      "------------------------------------------------------\n",
      "Inferred types from first 100 line(s) of file as \n",
      "column_type_hints=[float,float,float,float,float,float,int,str]\n",
      "If parsing fails due to incorrect types, you can correct\n",
      "the inferred type list above and pass it to read_csv in\n",
      "the column_type_hints argument\n",
      "------------------------------------------------------\n"
     ]
    },
    {
     "data": {
      "text/html": [
       "<pre>Finished parsing file /mnt/c/Users/Karl-Jonathan/Desktop/mudelid/labeled/motionData 2021-04-12 11-55-31.txt</pre>"
      ],
      "text/plain": [
       "Finished parsing file /mnt/c/Users/Karl-Jonathan/Desktop/mudelid/labeled/motionData 2021-04-12 11-55-31.txt"
      ]
     },
     "metadata": {},
     "output_type": "display_data"
    },
    {
     "data": {
      "text/html": [
       "<pre>Parsing completed. Parsed 652 lines in 0.035521 secs.</pre>"
      ],
      "text/plain": [
       "Parsing completed. Parsed 652 lines in 0.035521 secs."
      ]
     },
     "metadata": {},
     "output_type": "display_data"
    },
    {
     "data": {
      "text/html": [
       "<pre>Finished parsing file /mnt/c/Users/Karl-Jonathan/Desktop/mudelid/labeled/motionData 2021-04-12 11-55-45.txt</pre>"
      ],
      "text/plain": [
       "Finished parsing file /mnt/c/Users/Karl-Jonathan/Desktop/mudelid/labeled/motionData 2021-04-12 11-55-45.txt"
      ]
     },
     "metadata": {},
     "output_type": "display_data"
    },
    {
     "data": {
      "text/html": [
       "<pre>Parsing completed. Parsed 100 lines in 0.035748 secs.</pre>"
      ],
      "text/plain": [
       "Parsing completed. Parsed 100 lines in 0.035748 secs."
      ]
     },
     "metadata": {},
     "output_type": "display_data"
    },
    {
     "name": "stdout",
     "output_type": "stream",
     "text": [
      "------------------------------------------------------\n",
      "Inferred types from first 100 line(s) of file as \n",
      "column_type_hints=[float,float,float,float,float,float,int,str]\n",
      "If parsing fails due to incorrect types, you can correct\n",
      "the inferred type list above and pass it to read_csv in\n",
      "the column_type_hints argument\n",
      "------------------------------------------------------\n"
     ]
    },
    {
     "data": {
      "text/html": [
       "<pre>Finished parsing file /mnt/c/Users/Karl-Jonathan/Desktop/mudelid/labeled/motionData 2021-04-12 11-55-45.txt</pre>"
      ],
      "text/plain": [
       "Finished parsing file /mnt/c/Users/Karl-Jonathan/Desktop/mudelid/labeled/motionData 2021-04-12 11-55-45.txt"
      ]
     },
     "metadata": {},
     "output_type": "display_data"
    },
    {
     "data": {
      "text/html": [
       "<pre>Parsing completed. Parsed 654 lines in 0.035379 secs.</pre>"
      ],
      "text/plain": [
       "Parsing completed. Parsed 654 lines in 0.035379 secs."
      ]
     },
     "metadata": {},
     "output_type": "display_data"
    },
    {
     "data": {
      "text/html": [
       "<pre>Finished parsing file /mnt/c/Users/Karl-Jonathan/Desktop/mudelid/labeled/motionData 2021-04-12 11-55-54.txt</pre>"
      ],
      "text/plain": [
       "Finished parsing file /mnt/c/Users/Karl-Jonathan/Desktop/mudelid/labeled/motionData 2021-04-12 11-55-54.txt"
      ]
     },
     "metadata": {},
     "output_type": "display_data"
    },
    {
     "data": {
      "text/html": [
       "<pre>Parsing completed. Parsed 100 lines in 0.035964 secs.</pre>"
      ],
      "text/plain": [
       "Parsing completed. Parsed 100 lines in 0.035964 secs."
      ]
     },
     "metadata": {},
     "output_type": "display_data"
    },
    {
     "name": "stdout",
     "output_type": "stream",
     "text": [
      "------------------------------------------------------\n",
      "Inferred types from first 100 line(s) of file as \n",
      "column_type_hints=[float,float,float,float,float,float,int,str]\n",
      "If parsing fails due to incorrect types, you can correct\n",
      "the inferred type list above and pass it to read_csv in\n",
      "the column_type_hints argument\n",
      "------------------------------------------------------\n"
     ]
    },
    {
     "data": {
      "text/html": [
       "<pre>Finished parsing file /mnt/c/Users/Karl-Jonathan/Desktop/mudelid/labeled/motionData 2021-04-12 11-55-54.txt</pre>"
      ],
      "text/plain": [
       "Finished parsing file /mnt/c/Users/Karl-Jonathan/Desktop/mudelid/labeled/motionData 2021-04-12 11-55-54.txt"
      ]
     },
     "metadata": {},
     "output_type": "display_data"
    },
    {
     "data": {
      "text/html": [
       "<pre>Parsing completed. Parsed 674 lines in 0.03579 secs.</pre>"
      ],
      "text/plain": [
       "Parsing completed. Parsed 674 lines in 0.03579 secs."
      ]
     },
     "metadata": {},
     "output_type": "display_data"
    },
    {
     "data": {
      "text/html": [
       "<pre>Finished parsing file /mnt/c/Users/Karl-Jonathan/Desktop/mudelid/labeled/motionData 2021-04-12 11-56-03.txt</pre>"
      ],
      "text/plain": [
       "Finished parsing file /mnt/c/Users/Karl-Jonathan/Desktop/mudelid/labeled/motionData 2021-04-12 11-56-03.txt"
      ]
     },
     "metadata": {},
     "output_type": "display_data"
    },
    {
     "data": {
      "text/html": [
       "<pre>Parsing completed. Parsed 100 lines in 0.03526 secs.</pre>"
      ],
      "text/plain": [
       "Parsing completed. Parsed 100 lines in 0.03526 secs."
      ]
     },
     "metadata": {},
     "output_type": "display_data"
    },
    {
     "name": "stdout",
     "output_type": "stream",
     "text": [
      "------------------------------------------------------\n",
      "Inferred types from first 100 line(s) of file as \n",
      "column_type_hints=[float,float,float,float,float,float,int,str]\n",
      "If parsing fails due to incorrect types, you can correct\n",
      "the inferred type list above and pass it to read_csv in\n",
      "the column_type_hints argument\n",
      "------------------------------------------------------\n"
     ]
    },
    {
     "data": {
      "text/html": [
       "<pre>Finished parsing file /mnt/c/Users/Karl-Jonathan/Desktop/mudelid/labeled/motionData 2021-04-12 11-56-03.txt</pre>"
      ],
      "text/plain": [
       "Finished parsing file /mnt/c/Users/Karl-Jonathan/Desktop/mudelid/labeled/motionData 2021-04-12 11-56-03.txt"
      ]
     },
     "metadata": {},
     "output_type": "display_data"
    },
    {
     "data": {
      "text/html": [
       "<pre>Parsing completed. Parsed 650 lines in 0.035695 secs.</pre>"
      ],
      "text/plain": [
       "Parsing completed. Parsed 650 lines in 0.035695 secs."
      ]
     },
     "metadata": {},
     "output_type": "display_data"
    },
    {
     "data": {
      "text/html": [
       "<pre>Finished parsing file /mnt/c/Users/Karl-Jonathan/Desktop/mudelid/labeled/motionData 2021-04-12 11-56-21.txt</pre>"
      ],
      "text/plain": [
       "Finished parsing file /mnt/c/Users/Karl-Jonathan/Desktop/mudelid/labeled/motionData 2021-04-12 11-56-21.txt"
      ]
     },
     "metadata": {},
     "output_type": "display_data"
    },
    {
     "data": {
      "text/html": [
       "<pre>Parsing completed. Parsed 100 lines in 0.035602 secs.</pre>"
      ],
      "text/plain": [
       "Parsing completed. Parsed 100 lines in 0.035602 secs."
      ]
     },
     "metadata": {},
     "output_type": "display_data"
    },
    {
     "name": "stdout",
     "output_type": "stream",
     "text": [
      "------------------------------------------------------\n",
      "Inferred types from first 100 line(s) of file as \n",
      "column_type_hints=[float,float,float,float,float,float,int,str]\n",
      "If parsing fails due to incorrect types, you can correct\n",
      "the inferred type list above and pass it to read_csv in\n",
      "the column_type_hints argument\n",
      "------------------------------------------------------\n"
     ]
    },
    {
     "data": {
      "text/html": [
       "<pre>Finished parsing file /mnt/c/Users/Karl-Jonathan/Desktop/mudelid/labeled/motionData 2021-04-12 11-56-21.txt</pre>"
      ],
      "text/plain": [
       "Finished parsing file /mnt/c/Users/Karl-Jonathan/Desktop/mudelid/labeled/motionData 2021-04-12 11-56-21.txt"
      ]
     },
     "metadata": {},
     "output_type": "display_data"
    },
    {
     "data": {
      "text/html": [
       "<pre>Parsing completed. Parsed 676 lines in 0.035559 secs.</pre>"
      ],
      "text/plain": [
       "Parsing completed. Parsed 676 lines in 0.035559 secs."
      ]
     },
     "metadata": {},
     "output_type": "display_data"
    },
    {
     "data": {
      "text/html": [
       "<pre>Finished parsing file /mnt/c/Users/Karl-Jonathan/Desktop/mudelid/labeled/motionData 2021-04-12 11-56-31.txt</pre>"
      ],
      "text/plain": [
       "Finished parsing file /mnt/c/Users/Karl-Jonathan/Desktop/mudelid/labeled/motionData 2021-04-12 11-56-31.txt"
      ]
     },
     "metadata": {},
     "output_type": "display_data"
    },
    {
     "data": {
      "text/html": [
       "<pre>Parsing completed. Parsed 100 lines in 0.035962 secs.</pre>"
      ],
      "text/plain": [
       "Parsing completed. Parsed 100 lines in 0.035962 secs."
      ]
     },
     "metadata": {},
     "output_type": "display_data"
    },
    {
     "name": "stdout",
     "output_type": "stream",
     "text": [
      "------------------------------------------------------\n",
      "Inferred types from first 100 line(s) of file as \n",
      "column_type_hints=[float,float,float,float,float,float,int,str]\n",
      "If parsing fails due to incorrect types, you can correct\n",
      "the inferred type list above and pass it to read_csv in\n",
      "the column_type_hints argument\n",
      "------------------------------------------------------\n"
     ]
    },
    {
     "data": {
      "text/html": [
       "<pre>Finished parsing file /mnt/c/Users/Karl-Jonathan/Desktop/mudelid/labeled/motionData 2021-04-12 11-56-31.txt</pre>"
      ],
      "text/plain": [
       "Finished parsing file /mnt/c/Users/Karl-Jonathan/Desktop/mudelid/labeled/motionData 2021-04-12 11-56-31.txt"
      ]
     },
     "metadata": {},
     "output_type": "display_data"
    },
    {
     "data": {
      "text/html": [
       "<pre>Parsing completed. Parsed 703 lines in 0.035692 secs.</pre>"
      ],
      "text/plain": [
       "Parsing completed. Parsed 703 lines in 0.035692 secs."
      ]
     },
     "metadata": {},
     "output_type": "display_data"
    },
    {
     "data": {
      "text/html": [
       "<pre>Finished parsing file /mnt/c/Users/Karl-Jonathan/Desktop/mudelid/labeled/motionData 2021-04-12 11-56-40.txt</pre>"
      ],
      "text/plain": [
       "Finished parsing file /mnt/c/Users/Karl-Jonathan/Desktop/mudelid/labeled/motionData 2021-04-12 11-56-40.txt"
      ]
     },
     "metadata": {},
     "output_type": "display_data"
    },
    {
     "data": {
      "text/html": [
       "<pre>Parsing completed. Parsed 100 lines in 0.036096 secs.</pre>"
      ],
      "text/plain": [
       "Parsing completed. Parsed 100 lines in 0.036096 secs."
      ]
     },
     "metadata": {},
     "output_type": "display_data"
    },
    {
     "name": "stdout",
     "output_type": "stream",
     "text": [
      "------------------------------------------------------\n",
      "Inferred types from first 100 line(s) of file as \n",
      "column_type_hints=[float,float,float,float,float,float,int,str]\n",
      "If parsing fails due to incorrect types, you can correct\n",
      "the inferred type list above and pass it to read_csv in\n",
      "the column_type_hints argument\n",
      "------------------------------------------------------\n"
     ]
    },
    {
     "data": {
      "text/html": [
       "<pre>Finished parsing file /mnt/c/Users/Karl-Jonathan/Desktop/mudelid/labeled/motionData 2021-04-12 11-56-40.txt</pre>"
      ],
      "text/plain": [
       "Finished parsing file /mnt/c/Users/Karl-Jonathan/Desktop/mudelid/labeled/motionData 2021-04-12 11-56-40.txt"
      ]
     },
     "metadata": {},
     "output_type": "display_data"
    },
    {
     "data": {
      "text/html": [
       "<pre>Parsing completed. Parsed 708 lines in 0.032856 secs.</pre>"
      ],
      "text/plain": [
       "Parsing completed. Parsed 708 lines in 0.032856 secs."
      ]
     },
     "metadata": {},
     "output_type": "display_data"
    },
    {
     "data": {
      "text/html": [
       "<pre>Finished parsing file /mnt/c/Users/Karl-Jonathan/Desktop/mudelid/labeled/motionData 2021-04-12 11-56-49.txt</pre>"
      ],
      "text/plain": [
       "Finished parsing file /mnt/c/Users/Karl-Jonathan/Desktop/mudelid/labeled/motionData 2021-04-12 11-56-49.txt"
      ]
     },
     "metadata": {},
     "output_type": "display_data"
    },
    {
     "data": {
      "text/html": [
       "<pre>Parsing completed. Parsed 100 lines in 0.031151 secs.</pre>"
      ],
      "text/plain": [
       "Parsing completed. Parsed 100 lines in 0.031151 secs."
      ]
     },
     "metadata": {},
     "output_type": "display_data"
    },
    {
     "name": "stdout",
     "output_type": "stream",
     "text": [
      "------------------------------------------------------\n",
      "Inferred types from first 100 line(s) of file as \n",
      "column_type_hints=[float,float,float,float,float,float,int,str]\n",
      "If parsing fails due to incorrect types, you can correct\n",
      "the inferred type list above and pass it to read_csv in\n",
      "the column_type_hints argument\n",
      "------------------------------------------------------\n"
     ]
    },
    {
     "data": {
      "text/html": [
       "<pre>Finished parsing file /mnt/c/Users/Karl-Jonathan/Desktop/mudelid/labeled/motionData 2021-04-12 11-56-49.txt</pre>"
      ],
      "text/plain": [
       "Finished parsing file /mnt/c/Users/Karl-Jonathan/Desktop/mudelid/labeled/motionData 2021-04-12 11-56-49.txt"
      ]
     },
     "metadata": {},
     "output_type": "display_data"
    },
    {
     "data": {
      "text/html": [
       "<pre>Parsing completed. Parsed 732 lines in 0.031023 secs.</pre>"
      ],
      "text/plain": [
       "Parsing completed. Parsed 732 lines in 0.031023 secs."
      ]
     },
     "metadata": {},
     "output_type": "display_data"
    },
    {
     "data": {
      "text/html": [
       "<pre>Finished parsing file /mnt/c/Users/Karl-Jonathan/Desktop/mudelid/labeled/motionData 2021-04-12 11-56-58.txt</pre>"
      ],
      "text/plain": [
       "Finished parsing file /mnt/c/Users/Karl-Jonathan/Desktop/mudelid/labeled/motionData 2021-04-12 11-56-58.txt"
      ]
     },
     "metadata": {},
     "output_type": "display_data"
    },
    {
     "data": {
      "text/html": [
       "<pre>Parsing completed. Parsed 100 lines in 0.031289 secs.</pre>"
      ],
      "text/plain": [
       "Parsing completed. Parsed 100 lines in 0.031289 secs."
      ]
     },
     "metadata": {},
     "output_type": "display_data"
    },
    {
     "name": "stdout",
     "output_type": "stream",
     "text": [
      "------------------------------------------------------\n",
      "Inferred types from first 100 line(s) of file as \n",
      "column_type_hints=[float,float,float,float,float,float,int,str]\n",
      "If parsing fails due to incorrect types, you can correct\n",
      "the inferred type list above and pass it to read_csv in\n",
      "the column_type_hints argument\n",
      "------------------------------------------------------\n"
     ]
    },
    {
     "data": {
      "text/html": [
       "<pre>Finished parsing file /mnt/c/Users/Karl-Jonathan/Desktop/mudelid/labeled/motionData 2021-04-12 11-56-58.txt</pre>"
      ],
      "text/plain": [
       "Finished parsing file /mnt/c/Users/Karl-Jonathan/Desktop/mudelid/labeled/motionData 2021-04-12 11-56-58.txt"
      ]
     },
     "metadata": {},
     "output_type": "display_data"
    },
    {
     "data": {
      "text/html": [
       "<pre>Parsing completed. Parsed 752 lines in 0.032832 secs.</pre>"
      ],
      "text/plain": [
       "Parsing completed. Parsed 752 lines in 0.032832 secs."
      ]
     },
     "metadata": {},
     "output_type": "display_data"
    },
    {
     "data": {
      "text/html": [
       "<pre>Finished parsing file /mnt/c/Users/Karl-Jonathan/Desktop/mudelid/labeled/motionData 2021-04-12 11-57-07.txt</pre>"
      ],
      "text/plain": [
       "Finished parsing file /mnt/c/Users/Karl-Jonathan/Desktop/mudelid/labeled/motionData 2021-04-12 11-57-07.txt"
      ]
     },
     "metadata": {},
     "output_type": "display_data"
    },
    {
     "data": {
      "text/html": [
       "<pre>Parsing completed. Parsed 100 lines in 0.034649 secs.</pre>"
      ],
      "text/plain": [
       "Parsing completed. Parsed 100 lines in 0.034649 secs."
      ]
     },
     "metadata": {},
     "output_type": "display_data"
    },
    {
     "name": "stdout",
     "output_type": "stream",
     "text": [
      "------------------------------------------------------\n",
      "Inferred types from first 100 line(s) of file as \n",
      "column_type_hints=[float,float,float,float,float,float,int,str]\n",
      "If parsing fails due to incorrect types, you can correct\n",
      "the inferred type list above and pass it to read_csv in\n",
      "the column_type_hints argument\n",
      "------------------------------------------------------\n"
     ]
    },
    {
     "data": {
      "text/html": [
       "<pre>Finished parsing file /mnt/c/Users/Karl-Jonathan/Desktop/mudelid/labeled/motionData 2021-04-12 11-57-07.txt</pre>"
      ],
      "text/plain": [
       "Finished parsing file /mnt/c/Users/Karl-Jonathan/Desktop/mudelid/labeled/motionData 2021-04-12 11-57-07.txt"
      ]
     },
     "metadata": {},
     "output_type": "display_data"
    },
    {
     "data": {
      "text/html": [
       "<pre>Parsing completed. Parsed 695 lines in 0.035848 secs.</pre>"
      ],
      "text/plain": [
       "Parsing completed. Parsed 695 lines in 0.035848 secs."
      ]
     },
     "metadata": {},
     "output_type": "display_data"
    },
    {
     "data": {
      "text/html": [
       "<pre>Finished parsing file /mnt/c/Users/Karl-Jonathan/Desktop/mudelid/labeled/motionData 2021-04-12 11-57-18.txt</pre>"
      ],
      "text/plain": [
       "Finished parsing file /mnt/c/Users/Karl-Jonathan/Desktop/mudelid/labeled/motionData 2021-04-12 11-57-18.txt"
      ]
     },
     "metadata": {},
     "output_type": "display_data"
    },
    {
     "data": {
      "text/html": [
       "<pre>Parsing completed. Parsed 100 lines in 0.035963 secs.</pre>"
      ],
      "text/plain": [
       "Parsing completed. Parsed 100 lines in 0.035963 secs."
      ]
     },
     "metadata": {},
     "output_type": "display_data"
    },
    {
     "name": "stdout",
     "output_type": "stream",
     "text": [
      "------------------------------------------------------\n",
      "Inferred types from first 100 line(s) of file as \n",
      "column_type_hints=[float,float,float,float,float,float,int,str]\n",
      "If parsing fails due to incorrect types, you can correct\n",
      "the inferred type list above and pass it to read_csv in\n",
      "the column_type_hints argument\n",
      "------------------------------------------------------\n"
     ]
    },
    {
     "data": {
      "text/html": [
       "<pre>Finished parsing file /mnt/c/Users/Karl-Jonathan/Desktop/mudelid/labeled/motionData 2021-04-12 11-57-18.txt</pre>"
      ],
      "text/plain": [
       "Finished parsing file /mnt/c/Users/Karl-Jonathan/Desktop/mudelid/labeled/motionData 2021-04-12 11-57-18.txt"
      ]
     },
     "metadata": {},
     "output_type": "display_data"
    },
    {
     "data": {
      "text/html": [
       "<pre>Parsing completed. Parsed 835 lines in 0.035524 secs.</pre>"
      ],
      "text/plain": [
       "Parsing completed. Parsed 835 lines in 0.035524 secs."
      ]
     },
     "metadata": {},
     "output_type": "display_data"
    },
    {
     "data": {
      "text/html": [
       "<pre>Finished parsing file /mnt/c/Users/Karl-Jonathan/Desktop/mudelid/labeled/motionData 2021-04-12 11-57-27.txt</pre>"
      ],
      "text/plain": [
       "Finished parsing file /mnt/c/Users/Karl-Jonathan/Desktop/mudelid/labeled/motionData 2021-04-12 11-57-27.txt"
      ]
     },
     "metadata": {},
     "output_type": "display_data"
    },
    {
     "data": {
      "text/html": [
       "<pre>Parsing completed. Parsed 100 lines in 0.035768 secs.</pre>"
      ],
      "text/plain": [
       "Parsing completed. Parsed 100 lines in 0.035768 secs."
      ]
     },
     "metadata": {},
     "output_type": "display_data"
    },
    {
     "name": "stdout",
     "output_type": "stream",
     "text": [
      "------------------------------------------------------\n",
      "Inferred types from first 100 line(s) of file as \n",
      "column_type_hints=[float,float,float,float,float,float,int,str]\n",
      "If parsing fails due to incorrect types, you can correct\n",
      "the inferred type list above and pass it to read_csv in\n",
      "the column_type_hints argument\n",
      "------------------------------------------------------\n"
     ]
    },
    {
     "data": {
      "text/html": [
       "<pre>Finished parsing file /mnt/c/Users/Karl-Jonathan/Desktop/mudelid/labeled/motionData 2021-04-12 11-57-27.txt</pre>"
      ],
      "text/plain": [
       "Finished parsing file /mnt/c/Users/Karl-Jonathan/Desktop/mudelid/labeled/motionData 2021-04-12 11-57-27.txt"
      ]
     },
     "metadata": {},
     "output_type": "display_data"
    },
    {
     "data": {
      "text/html": [
       "<pre>Parsing completed. Parsed 680 lines in 0.035455 secs.</pre>"
      ],
      "text/plain": [
       "Parsing completed. Parsed 680 lines in 0.035455 secs."
      ]
     },
     "metadata": {},
     "output_type": "display_data"
    },
    {
     "data": {
      "text/html": [
       "<pre>Finished parsing file /mnt/c/Users/Karl-Jonathan/Desktop/mudelid/labeled/motionData 2021-04-12 11-57-35.txt</pre>"
      ],
      "text/plain": [
       "Finished parsing file /mnt/c/Users/Karl-Jonathan/Desktop/mudelid/labeled/motionData 2021-04-12 11-57-35.txt"
      ]
     },
     "metadata": {},
     "output_type": "display_data"
    },
    {
     "data": {
      "text/html": [
       "<pre>Parsing completed. Parsed 100 lines in 0.035823 secs.</pre>"
      ],
      "text/plain": [
       "Parsing completed. Parsed 100 lines in 0.035823 secs."
      ]
     },
     "metadata": {},
     "output_type": "display_data"
    },
    {
     "name": "stdout",
     "output_type": "stream",
     "text": [
      "------------------------------------------------------\n",
      "Inferred types from first 100 line(s) of file as \n",
      "column_type_hints=[float,float,float,float,float,float,int,str]\n",
      "If parsing fails due to incorrect types, you can correct\n",
      "the inferred type list above and pass it to read_csv in\n",
      "the column_type_hints argument\n",
      "------------------------------------------------------\n"
     ]
    },
    {
     "data": {
      "text/html": [
       "<pre>Finished parsing file /mnt/c/Users/Karl-Jonathan/Desktop/mudelid/labeled/motionData 2021-04-12 11-57-35.txt</pre>"
      ],
      "text/plain": [
       "Finished parsing file /mnt/c/Users/Karl-Jonathan/Desktop/mudelid/labeled/motionData 2021-04-12 11-57-35.txt"
      ]
     },
     "metadata": {},
     "output_type": "display_data"
    },
    {
     "data": {
      "text/html": [
       "<pre>Parsing completed. Parsed 675 lines in 0.035717 secs.</pre>"
      ],
      "text/plain": [
       "Parsing completed. Parsed 675 lines in 0.035717 secs."
      ]
     },
     "metadata": {},
     "output_type": "display_data"
    },
    {
     "data": {
      "text/html": [
       "<pre>Finished parsing file /mnt/c/Users/Karl-Jonathan/Desktop/mudelid/labeled/motionData 2021-04-12 11-57-44.txt</pre>"
      ],
      "text/plain": [
       "Finished parsing file /mnt/c/Users/Karl-Jonathan/Desktop/mudelid/labeled/motionData 2021-04-12 11-57-44.txt"
      ]
     },
     "metadata": {},
     "output_type": "display_data"
    },
    {
     "data": {
      "text/html": [
       "<pre>Parsing completed. Parsed 100 lines in 0.036014 secs.</pre>"
      ],
      "text/plain": [
       "Parsing completed. Parsed 100 lines in 0.036014 secs."
      ]
     },
     "metadata": {},
     "output_type": "display_data"
    },
    {
     "name": "stdout",
     "output_type": "stream",
     "text": [
      "------------------------------------------------------\n",
      "Inferred types from first 100 line(s) of file as \n",
      "column_type_hints=[float,float,float,float,float,float,int,str]\n",
      "If parsing fails due to incorrect types, you can correct\n",
      "the inferred type list above and pass it to read_csv in\n",
      "the column_type_hints argument\n",
      "------------------------------------------------------\n"
     ]
    },
    {
     "data": {
      "text/html": [
       "<pre>Finished parsing file /mnt/c/Users/Karl-Jonathan/Desktop/mudelid/labeled/motionData 2021-04-12 11-57-44.txt</pre>"
      ],
      "text/plain": [
       "Finished parsing file /mnt/c/Users/Karl-Jonathan/Desktop/mudelid/labeled/motionData 2021-04-12 11-57-44.txt"
      ]
     },
     "metadata": {},
     "output_type": "display_data"
    },
    {
     "data": {
      "text/html": [
       "<pre>Parsing completed. Parsed 659 lines in 0.035654 secs.</pre>"
      ],
      "text/plain": [
       "Parsing completed. Parsed 659 lines in 0.035654 secs."
      ]
     },
     "metadata": {},
     "output_type": "display_data"
    },
    {
     "data": {
      "text/html": [
       "<pre>Finished parsing file /mnt/c/Users/Karl-Jonathan/Desktop/mudelid/labeled/motionData 2021-04-12 11-57-53.txt</pre>"
      ],
      "text/plain": [
       "Finished parsing file /mnt/c/Users/Karl-Jonathan/Desktop/mudelid/labeled/motionData 2021-04-12 11-57-53.txt"
      ]
     },
     "metadata": {},
     "output_type": "display_data"
    },
    {
     "data": {
      "text/html": [
       "<pre>Parsing completed. Parsed 100 lines in 0.03554 secs.</pre>"
      ],
      "text/plain": [
       "Parsing completed. Parsed 100 lines in 0.03554 secs."
      ]
     },
     "metadata": {},
     "output_type": "display_data"
    },
    {
     "name": "stdout",
     "output_type": "stream",
     "text": [
      "------------------------------------------------------\n",
      "Inferred types from first 100 line(s) of file as \n",
      "column_type_hints=[float,float,float,float,float,float,int,str]\n",
      "If parsing fails due to incorrect types, you can correct\n",
      "the inferred type list above and pass it to read_csv in\n",
      "the column_type_hints argument\n",
      "------------------------------------------------------\n"
     ]
    },
    {
     "data": {
      "text/html": [
       "<pre>Finished parsing file /mnt/c/Users/Karl-Jonathan/Desktop/mudelid/labeled/motionData 2021-04-12 11-57-53.txt</pre>"
      ],
      "text/plain": [
       "Finished parsing file /mnt/c/Users/Karl-Jonathan/Desktop/mudelid/labeled/motionData 2021-04-12 11-57-53.txt"
      ]
     },
     "metadata": {},
     "output_type": "display_data"
    },
    {
     "data": {
      "text/html": [
       "<pre>Parsing completed. Parsed 659 lines in 0.035729 secs.</pre>"
      ],
      "text/plain": [
       "Parsing completed. Parsed 659 lines in 0.035729 secs."
      ]
     },
     "metadata": {},
     "output_type": "display_data"
    },
    {
     "data": {
      "text/html": [
       "<pre>Finished parsing file /mnt/c/Users/Karl-Jonathan/Desktop/mudelid/labeled/motionData 2021-04-12 11-58-02.txt</pre>"
      ],
      "text/plain": [
       "Finished parsing file /mnt/c/Users/Karl-Jonathan/Desktop/mudelid/labeled/motionData 2021-04-12 11-58-02.txt"
      ]
     },
     "metadata": {},
     "output_type": "display_data"
    },
    {
     "data": {
      "text/html": [
       "<pre>Parsing completed. Parsed 100 lines in 0.035414 secs.</pre>"
      ],
      "text/plain": [
       "Parsing completed. Parsed 100 lines in 0.035414 secs."
      ]
     },
     "metadata": {},
     "output_type": "display_data"
    },
    {
     "name": "stdout",
     "output_type": "stream",
     "text": [
      "------------------------------------------------------\n",
      "Inferred types from first 100 line(s) of file as \n",
      "column_type_hints=[float,float,float,float,float,float,int,str]\n",
      "If parsing fails due to incorrect types, you can correct\n",
      "the inferred type list above and pass it to read_csv in\n",
      "the column_type_hints argument\n",
      "------------------------------------------------------\n"
     ]
    },
    {
     "data": {
      "text/html": [
       "<pre>Finished parsing file /mnt/c/Users/Karl-Jonathan/Desktop/mudelid/labeled/motionData 2021-04-12 11-58-02.txt</pre>"
      ],
      "text/plain": [
       "Finished parsing file /mnt/c/Users/Karl-Jonathan/Desktop/mudelid/labeled/motionData 2021-04-12 11-58-02.txt"
      ]
     },
     "metadata": {},
     "output_type": "display_data"
    },
    {
     "data": {
      "text/html": [
       "<pre>Parsing completed. Parsed 677 lines in 0.035487 secs.</pre>"
      ],
      "text/plain": [
       "Parsing completed. Parsed 677 lines in 0.035487 secs."
      ]
     },
     "metadata": {},
     "output_type": "display_data"
    },
    {
     "data": {
      "text/html": [
       "<pre>Finished parsing file /mnt/c/Users/Karl-Jonathan/Desktop/mudelid/labeled/motionData 2021-04-12 11-58-10.txt</pre>"
      ],
      "text/plain": [
       "Finished parsing file /mnt/c/Users/Karl-Jonathan/Desktop/mudelid/labeled/motionData 2021-04-12 11-58-10.txt"
      ]
     },
     "metadata": {},
     "output_type": "display_data"
    },
    {
     "data": {
      "text/html": [
       "<pre>Parsing completed. Parsed 100 lines in 0.03556 secs.</pre>"
      ],
      "text/plain": [
       "Parsing completed. Parsed 100 lines in 0.03556 secs."
      ]
     },
     "metadata": {},
     "output_type": "display_data"
    },
    {
     "name": "stdout",
     "output_type": "stream",
     "text": [
      "------------------------------------------------------\n",
      "Inferred types from first 100 line(s) of file as \n",
      "column_type_hints=[float,float,float,float,float,float,int,str]\n",
      "If parsing fails due to incorrect types, you can correct\n",
      "the inferred type list above and pass it to read_csv in\n",
      "the column_type_hints argument\n",
      "------------------------------------------------------\n"
     ]
    },
    {
     "data": {
      "text/html": [
       "<pre>Finished parsing file /mnt/c/Users/Karl-Jonathan/Desktop/mudelid/labeled/motionData 2021-04-12 11-58-10.txt</pre>"
      ],
      "text/plain": [
       "Finished parsing file /mnt/c/Users/Karl-Jonathan/Desktop/mudelid/labeled/motionData 2021-04-12 11-58-10.txt"
      ]
     },
     "metadata": {},
     "output_type": "display_data"
    },
    {
     "data": {
      "text/html": [
       "<pre>Parsing completed. Parsed 628 lines in 0.035375 secs.</pre>"
      ],
      "text/plain": [
       "Parsing completed. Parsed 628 lines in 0.035375 secs."
      ]
     },
     "metadata": {},
     "output_type": "display_data"
    },
    {
     "data": {
      "text/html": [
       "<pre>Finished parsing file /mnt/c/Users/Karl-Jonathan/Desktop/mudelid/labeled/motionData 2021-04-12 11-58-19.txt</pre>"
      ],
      "text/plain": [
       "Finished parsing file /mnt/c/Users/Karl-Jonathan/Desktop/mudelid/labeled/motionData 2021-04-12 11-58-19.txt"
      ]
     },
     "metadata": {},
     "output_type": "display_data"
    },
    {
     "data": {
      "text/html": [
       "<pre>Parsing completed. Parsed 100 lines in 0.035566 secs.</pre>"
      ],
      "text/plain": [
       "Parsing completed. Parsed 100 lines in 0.035566 secs."
      ]
     },
     "metadata": {},
     "output_type": "display_data"
    },
    {
     "name": "stdout",
     "output_type": "stream",
     "text": [
      "------------------------------------------------------\n",
      "Inferred types from first 100 line(s) of file as \n",
      "column_type_hints=[float,float,float,float,float,float,int,str]\n",
      "If parsing fails due to incorrect types, you can correct\n",
      "the inferred type list above and pass it to read_csv in\n",
      "the column_type_hints argument\n",
      "------------------------------------------------------\n"
     ]
    },
    {
     "data": {
      "text/html": [
       "<pre>Finished parsing file /mnt/c/Users/Karl-Jonathan/Desktop/mudelid/labeled/motionData 2021-04-12 11-58-19.txt</pre>"
      ],
      "text/plain": [
       "Finished parsing file /mnt/c/Users/Karl-Jonathan/Desktop/mudelid/labeled/motionData 2021-04-12 11-58-19.txt"
      ]
     },
     "metadata": {},
     "output_type": "display_data"
    },
    {
     "data": {
      "text/html": [
       "<pre>Parsing completed. Parsed 668 lines in 0.036506 secs.</pre>"
      ],
      "text/plain": [
       "Parsing completed. Parsed 668 lines in 0.036506 secs."
      ]
     },
     "metadata": {},
     "output_type": "display_data"
    },
    {
     "data": {
      "text/html": [
       "<pre>Finished parsing file /mnt/c/Users/Karl-Jonathan/Desktop/mudelid/labeled/motionData 2021-04-12 11-59-20.txt</pre>"
      ],
      "text/plain": [
       "Finished parsing file /mnt/c/Users/Karl-Jonathan/Desktop/mudelid/labeled/motionData 2021-04-12 11-59-20.txt"
      ]
     },
     "metadata": {},
     "output_type": "display_data"
    },
    {
     "data": {
      "text/html": [
       "<pre>Parsing completed. Parsed 100 lines in 0.035649 secs.</pre>"
      ],
      "text/plain": [
       "Parsing completed. Parsed 100 lines in 0.035649 secs."
      ]
     },
     "metadata": {},
     "output_type": "display_data"
    },
    {
     "name": "stdout",
     "output_type": "stream",
     "text": [
      "------------------------------------------------------\n",
      "Inferred types from first 100 line(s) of file as \n",
      "column_type_hints=[float,float,float,float,float,float,int,str]\n",
      "If parsing fails due to incorrect types, you can correct\n",
      "the inferred type list above and pass it to read_csv in\n",
      "the column_type_hints argument\n",
      "------------------------------------------------------\n"
     ]
    },
    {
     "data": {
      "text/html": [
       "<pre>Finished parsing file /mnt/c/Users/Karl-Jonathan/Desktop/mudelid/labeled/motionData 2021-04-12 11-59-20.txt</pre>"
      ],
      "text/plain": [
       "Finished parsing file /mnt/c/Users/Karl-Jonathan/Desktop/mudelid/labeled/motionData 2021-04-12 11-59-20.txt"
      ]
     },
     "metadata": {},
     "output_type": "display_data"
    },
    {
     "data": {
      "text/html": [
       "<pre>Parsing completed. Parsed 582 lines in 0.031023 secs.</pre>"
      ],
      "text/plain": [
       "Parsing completed. Parsed 582 lines in 0.031023 secs."
      ]
     },
     "metadata": {},
     "output_type": "display_data"
    },
    {
     "data": {
      "text/html": [
       "<pre>Finished parsing file /mnt/c/Users/Karl-Jonathan/Desktop/mudelid/labeled/motionData 2021-04-12 11-59-27.txt</pre>"
      ],
      "text/plain": [
       "Finished parsing file /mnt/c/Users/Karl-Jonathan/Desktop/mudelid/labeled/motionData 2021-04-12 11-59-27.txt"
      ]
     },
     "metadata": {},
     "output_type": "display_data"
    },
    {
     "data": {
      "text/html": [
       "<pre>Parsing completed. Parsed 100 lines in 0.031144 secs.</pre>"
      ],
      "text/plain": [
       "Parsing completed. Parsed 100 lines in 0.031144 secs."
      ]
     },
     "metadata": {},
     "output_type": "display_data"
    },
    {
     "name": "stdout",
     "output_type": "stream",
     "text": [
      "------------------------------------------------------\n",
      "Inferred types from first 100 line(s) of file as \n",
      "column_type_hints=[float,float,float,float,float,float,int,str]\n",
      "If parsing fails due to incorrect types, you can correct\n",
      "the inferred type list above and pass it to read_csv in\n",
      "the column_type_hints argument\n",
      "------------------------------------------------------\n"
     ]
    },
    {
     "data": {
      "text/html": [
       "<pre>Finished parsing file /mnt/c/Users/Karl-Jonathan/Desktop/mudelid/labeled/motionData 2021-04-12 11-59-27.txt</pre>"
      ],
      "text/plain": [
       "Finished parsing file /mnt/c/Users/Karl-Jonathan/Desktop/mudelid/labeled/motionData 2021-04-12 11-59-27.txt"
      ]
     },
     "metadata": {},
     "output_type": "display_data"
    },
    {
     "data": {
      "text/html": [
       "<pre>Parsing completed. Parsed 637 lines in 0.031059 secs.</pre>"
      ],
      "text/plain": [
       "Parsing completed. Parsed 637 lines in 0.031059 secs."
      ]
     },
     "metadata": {},
     "output_type": "display_data"
    },
    {
     "data": {
      "text/html": [
       "<pre>Finished parsing file /mnt/c/Users/Karl-Jonathan/Desktop/mudelid/labeled/motionData 2021-04-12 11-59-36.txt</pre>"
      ],
      "text/plain": [
       "Finished parsing file /mnt/c/Users/Karl-Jonathan/Desktop/mudelid/labeled/motionData 2021-04-12 11-59-36.txt"
      ]
     },
     "metadata": {},
     "output_type": "display_data"
    },
    {
     "data": {
      "text/html": [
       "<pre>Parsing completed. Parsed 100 lines in 0.030922 secs.</pre>"
      ],
      "text/plain": [
       "Parsing completed. Parsed 100 lines in 0.030922 secs."
      ]
     },
     "metadata": {},
     "output_type": "display_data"
    },
    {
     "name": "stdout",
     "output_type": "stream",
     "text": [
      "------------------------------------------------------\n",
      "Inferred types from first 100 line(s) of file as \n",
      "column_type_hints=[float,float,float,float,float,float,int,str]\n",
      "If parsing fails due to incorrect types, you can correct\n",
      "the inferred type list above and pass it to read_csv in\n",
      "the column_type_hints argument\n",
      "------------------------------------------------------\n"
     ]
    },
    {
     "data": {
      "text/html": [
       "<pre>Finished parsing file /mnt/c/Users/Karl-Jonathan/Desktop/mudelid/labeled/motionData 2021-04-12 11-59-36.txt</pre>"
      ],
      "text/plain": [
       "Finished parsing file /mnt/c/Users/Karl-Jonathan/Desktop/mudelid/labeled/motionData 2021-04-12 11-59-36.txt"
      ]
     },
     "metadata": {},
     "output_type": "display_data"
    },
    {
     "data": {
      "text/html": [
       "<pre>Parsing completed. Parsed 659 lines in 0.033068 secs.</pre>"
      ],
      "text/plain": [
       "Parsing completed. Parsed 659 lines in 0.033068 secs."
      ]
     },
     "metadata": {},
     "output_type": "display_data"
    },
    {
     "data": {
      "text/html": [
       "<pre>Finished parsing file /mnt/c/Users/Karl-Jonathan/Desktop/mudelid/labeled/motionData 2021-04-12 11-59-45.txt</pre>"
      ],
      "text/plain": [
       "Finished parsing file /mnt/c/Users/Karl-Jonathan/Desktop/mudelid/labeled/motionData 2021-04-12 11-59-45.txt"
      ]
     },
     "metadata": {},
     "output_type": "display_data"
    },
    {
     "data": {
      "text/html": [
       "<pre>Parsing completed. Parsed 100 lines in 0.035023 secs.</pre>"
      ],
      "text/plain": [
       "Parsing completed. Parsed 100 lines in 0.035023 secs."
      ]
     },
     "metadata": {},
     "output_type": "display_data"
    },
    {
     "name": "stdout",
     "output_type": "stream",
     "text": [
      "------------------------------------------------------\n",
      "Inferred types from first 100 line(s) of file as \n",
      "column_type_hints=[float,float,float,float,float,float,int,str]\n",
      "If parsing fails due to incorrect types, you can correct\n",
      "the inferred type list above and pass it to read_csv in\n",
      "the column_type_hints argument\n",
      "------------------------------------------------------\n"
     ]
    },
    {
     "data": {
      "text/html": [
       "<pre>Finished parsing file /mnt/c/Users/Karl-Jonathan/Desktop/mudelid/labeled/motionData 2021-04-12 11-59-45.txt</pre>"
      ],
      "text/plain": [
       "Finished parsing file /mnt/c/Users/Karl-Jonathan/Desktop/mudelid/labeled/motionData 2021-04-12 11-59-45.txt"
      ]
     },
     "metadata": {},
     "output_type": "display_data"
    },
    {
     "data": {
      "text/html": [
       "<pre>Parsing completed. Parsed 680 lines in 0.035438 secs.</pre>"
      ],
      "text/plain": [
       "Parsing completed. Parsed 680 lines in 0.035438 secs."
      ]
     },
     "metadata": {},
     "output_type": "display_data"
    },
    {
     "data": {
      "text/html": [
       "<pre>Finished parsing file /mnt/c/Users/Karl-Jonathan/Desktop/mudelid/labeled/motionData 2021-04-18 05-45-53.txt</pre>"
      ],
      "text/plain": [
       "Finished parsing file /mnt/c/Users/Karl-Jonathan/Desktop/mudelid/labeled/motionData 2021-04-18 05-45-53.txt"
      ]
     },
     "metadata": {},
     "output_type": "display_data"
    },
    {
     "data": {
      "text/html": [
       "<pre>Parsing completed. Parsed 100 lines in 0.035601 secs.</pre>"
      ],
      "text/plain": [
       "Parsing completed. Parsed 100 lines in 0.035601 secs."
      ]
     },
     "metadata": {},
     "output_type": "display_data"
    },
    {
     "name": "stdout",
     "output_type": "stream",
     "text": [
      "------------------------------------------------------\n",
      "Inferred types from first 100 line(s) of file as \n",
      "column_type_hints=[float,float,float,float,float,float,int,str]\n",
      "If parsing fails due to incorrect types, you can correct\n",
      "the inferred type list above and pass it to read_csv in\n",
      "the column_type_hints argument\n",
      "------------------------------------------------------\n"
     ]
    },
    {
     "data": {
      "text/html": [
       "<pre>Finished parsing file /mnt/c/Users/Karl-Jonathan/Desktop/mudelid/labeled/motionData 2021-04-18 05-45-53.txt</pre>"
      ],
      "text/plain": [
       "Finished parsing file /mnt/c/Users/Karl-Jonathan/Desktop/mudelid/labeled/motionData 2021-04-18 05-45-53.txt"
      ]
     },
     "metadata": {},
     "output_type": "display_data"
    },
    {
     "data": {
      "text/html": [
       "<pre>Parsing completed. Parsed 908 lines in 0.035534 secs.</pre>"
      ],
      "text/plain": [
       "Parsing completed. Parsed 908 lines in 0.035534 secs."
      ]
     },
     "metadata": {},
     "output_type": "display_data"
    }
   ],
   "source": [
    "for file in positives:\n",
    "    \n",
    "    sf = tc.SFrame.read_csv(file)\n",
    "    sf = sf.rename(new_cols)\n",
    "    sf = sf.remove_column('ts')\n",
    "    sf['exp_id'] = exp_id\n",
    "    \n",
    "    data = data.append(sf)\n",
    "    sfPos = sfPos.append(sf)\n",
    "    exp_id += 1"
   ]
  },
  {
   "cell_type": "code",
   "execution_count": 10,
   "id": "d01d6a20",
   "metadata": {},
   "outputs": [
    {
     "data": {
      "text/html": [
       "<pre>Finished parsing file /mnt/c/Users/Karl-Jonathan/Desktop/labeledPositives/motionData 2021-04-19 08-32-39.txt</pre>"
      ],
      "text/plain": [
       "Finished parsing file /mnt/c/Users/Karl-Jonathan/Desktop/labeledPositives/motionData 2021-04-19 08-32-39.txt"
      ]
     },
     "metadata": {},
     "output_type": "display_data"
    },
    {
     "data": {
      "text/html": [
       "<pre>Parsing completed. Parsed 100 lines in 0.035641 secs.</pre>"
      ],
      "text/plain": [
       "Parsing completed. Parsed 100 lines in 0.035641 secs."
      ]
     },
     "metadata": {},
     "output_type": "display_data"
    },
    {
     "name": "stdout",
     "output_type": "stream",
     "text": [
      "------------------------------------------------------\n",
      "Inferred types from first 100 line(s) of file as \n",
      "column_type_hints=[float,float,float,float,float,float,int,str]\n",
      "If parsing fails due to incorrect types, you can correct\n",
      "the inferred type list above and pass it to read_csv in\n",
      "the column_type_hints argument\n",
      "------------------------------------------------------\n"
     ]
    },
    {
     "data": {
      "text/html": [
       "<pre>Finished parsing file /mnt/c/Users/Karl-Jonathan/Desktop/labeledPositives/motionData 2021-04-19 08-32-39.txt</pre>"
      ],
      "text/plain": [
       "Finished parsing file /mnt/c/Users/Karl-Jonathan/Desktop/labeledPositives/motionData 2021-04-19 08-32-39.txt"
      ]
     },
     "metadata": {},
     "output_type": "display_data"
    },
    {
     "data": {
      "text/html": [
       "<pre>Parsing completed. Parsed 1122 lines in 0.035876 secs.</pre>"
      ],
      "text/plain": [
       "Parsing completed. Parsed 1122 lines in 0.035876 secs."
      ]
     },
     "metadata": {},
     "output_type": "display_data"
    },
    {
     "data": {
      "text/html": [
       "<pre>Finished parsing file /mnt/c/Users/Karl-Jonathan/Desktop/labeledPositives/motionData 2021-04-19 08-32-55.txt</pre>"
      ],
      "text/plain": [
       "Finished parsing file /mnt/c/Users/Karl-Jonathan/Desktop/labeledPositives/motionData 2021-04-19 08-32-55.txt"
      ]
     },
     "metadata": {},
     "output_type": "display_data"
    },
    {
     "data": {
      "text/html": [
       "<pre>Parsing completed. Parsed 100 lines in 0.035619 secs.</pre>"
      ],
      "text/plain": [
       "Parsing completed. Parsed 100 lines in 0.035619 secs."
      ]
     },
     "metadata": {},
     "output_type": "display_data"
    },
    {
     "name": "stdout",
     "output_type": "stream",
     "text": [
      "------------------------------------------------------\n",
      "Inferred types from first 100 line(s) of file as \n",
      "column_type_hints=[float,float,float,float,float,float,int,str]\n",
      "If parsing fails due to incorrect types, you can correct\n",
      "the inferred type list above and pass it to read_csv in\n",
      "the column_type_hints argument\n",
      "------------------------------------------------------\n"
     ]
    },
    {
     "data": {
      "text/html": [
       "<pre>Finished parsing file /mnt/c/Users/Karl-Jonathan/Desktop/labeledPositives/motionData 2021-04-19 08-32-55.txt</pre>"
      ],
      "text/plain": [
       "Finished parsing file /mnt/c/Users/Karl-Jonathan/Desktop/labeledPositives/motionData 2021-04-19 08-32-55.txt"
      ]
     },
     "metadata": {},
     "output_type": "display_data"
    },
    {
     "data": {
      "text/html": [
       "<pre>Parsing completed. Parsed 1090 lines in 0.035716 secs.</pre>"
      ],
      "text/plain": [
       "Parsing completed. Parsed 1090 lines in 0.035716 secs."
      ]
     },
     "metadata": {},
     "output_type": "display_data"
    },
    {
     "data": {
      "text/html": [
       "<pre>Finished parsing file /mnt/c/Users/Karl-Jonathan/Desktop/labeledPositives/motionData 2021-04-19 08-33-09.txt</pre>"
      ],
      "text/plain": [
       "Finished parsing file /mnt/c/Users/Karl-Jonathan/Desktop/labeledPositives/motionData 2021-04-19 08-33-09.txt"
      ]
     },
     "metadata": {},
     "output_type": "display_data"
    },
    {
     "data": {
      "text/html": [
       "<pre>Parsing completed. Parsed 100 lines in 0.036015 secs.</pre>"
      ],
      "text/plain": [
       "Parsing completed. Parsed 100 lines in 0.036015 secs."
      ]
     },
     "metadata": {},
     "output_type": "display_data"
    },
    {
     "name": "stdout",
     "output_type": "stream",
     "text": [
      "------------------------------------------------------\n",
      "Inferred types from first 100 line(s) of file as \n",
      "column_type_hints=[float,float,float,float,float,float,int,str]\n",
      "If parsing fails due to incorrect types, you can correct\n",
      "the inferred type list above and pass it to read_csv in\n",
      "the column_type_hints argument\n",
      "------------------------------------------------------\n"
     ]
    },
    {
     "data": {
      "text/html": [
       "<pre>Finished parsing file /mnt/c/Users/Karl-Jonathan/Desktop/labeledPositives/motionData 2021-04-19 08-33-09.txt</pre>"
      ],
      "text/plain": [
       "Finished parsing file /mnt/c/Users/Karl-Jonathan/Desktop/labeledPositives/motionData 2021-04-19 08-33-09.txt"
      ]
     },
     "metadata": {},
     "output_type": "display_data"
    },
    {
     "data": {
      "text/html": [
       "<pre>Parsing completed. Parsed 1015 lines in 0.035814 secs.</pre>"
      ],
      "text/plain": [
       "Parsing completed. Parsed 1015 lines in 0.035814 secs."
      ]
     },
     "metadata": {},
     "output_type": "display_data"
    },
    {
     "data": {
      "text/html": [
       "<pre>Finished parsing file /mnt/c/Users/Karl-Jonathan/Desktop/labeledPositives/motionData 2021-04-19 08-33-23.txt</pre>"
      ],
      "text/plain": [
       "Finished parsing file /mnt/c/Users/Karl-Jonathan/Desktop/labeledPositives/motionData 2021-04-19 08-33-23.txt"
      ]
     },
     "metadata": {},
     "output_type": "display_data"
    },
    {
     "data": {
      "text/html": [
       "<pre>Parsing completed. Parsed 100 lines in 0.035864 secs.</pre>"
      ],
      "text/plain": [
       "Parsing completed. Parsed 100 lines in 0.035864 secs."
      ]
     },
     "metadata": {},
     "output_type": "display_data"
    },
    {
     "name": "stdout",
     "output_type": "stream",
     "text": [
      "------------------------------------------------------\n",
      "Inferred types from first 100 line(s) of file as \n",
      "column_type_hints=[float,float,float,float,float,float,int,str]\n",
      "If parsing fails due to incorrect types, you can correct\n",
      "the inferred type list above and pass it to read_csv in\n",
      "the column_type_hints argument\n",
      "------------------------------------------------------\n"
     ]
    },
    {
     "data": {
      "text/html": [
       "<pre>Finished parsing file /mnt/c/Users/Karl-Jonathan/Desktop/labeledPositives/motionData 2021-04-19 08-33-23.txt</pre>"
      ],
      "text/plain": [
       "Finished parsing file /mnt/c/Users/Karl-Jonathan/Desktop/labeledPositives/motionData 2021-04-19 08-33-23.txt"
      ]
     },
     "metadata": {},
     "output_type": "display_data"
    },
    {
     "data": {
      "text/html": [
       "<pre>Parsing completed. Parsed 1030 lines in 0.036126 secs.</pre>"
      ],
      "text/plain": [
       "Parsing completed. Parsed 1030 lines in 0.036126 secs."
      ]
     },
     "metadata": {},
     "output_type": "display_data"
    },
    {
     "data": {
      "text/html": [
       "<pre>Finished parsing file /mnt/c/Users/Karl-Jonathan/Desktop/labeledPositives/motionData 2021-04-19 08-33-40.txt</pre>"
      ],
      "text/plain": [
       "Finished parsing file /mnt/c/Users/Karl-Jonathan/Desktop/labeledPositives/motionData 2021-04-19 08-33-40.txt"
      ]
     },
     "metadata": {},
     "output_type": "display_data"
    },
    {
     "data": {
      "text/html": [
       "<pre>Parsing completed. Parsed 100 lines in 0.032865 secs.</pre>"
      ],
      "text/plain": [
       "Parsing completed. Parsed 100 lines in 0.032865 secs."
      ]
     },
     "metadata": {},
     "output_type": "display_data"
    },
    {
     "name": "stdout",
     "output_type": "stream",
     "text": [
      "------------------------------------------------------\n",
      "Inferred types from first 100 line(s) of file as \n",
      "column_type_hints=[float,float,float,float,float,float,int,str]\n",
      "If parsing fails due to incorrect types, you can correct\n",
      "the inferred type list above and pass it to read_csv in\n",
      "the column_type_hints argument\n",
      "------------------------------------------------------\n"
     ]
    },
    {
     "data": {
      "text/html": [
       "<pre>Finished parsing file /mnt/c/Users/Karl-Jonathan/Desktop/labeledPositives/motionData 2021-04-19 08-33-40.txt</pre>"
      ],
      "text/plain": [
       "Finished parsing file /mnt/c/Users/Karl-Jonathan/Desktop/labeledPositives/motionData 2021-04-19 08-33-40.txt"
      ]
     },
     "metadata": {},
     "output_type": "display_data"
    },
    {
     "data": {
      "text/html": [
       "<pre>Parsing completed. Parsed 939 lines in 0.03102 secs.</pre>"
      ],
      "text/plain": [
       "Parsing completed. Parsed 939 lines in 0.03102 secs."
      ]
     },
     "metadata": {},
     "output_type": "display_data"
    },
    {
     "data": {
      "text/html": [
       "<pre>Finished parsing file /mnt/c/Users/Karl-Jonathan/Desktop/labeledPositives/motionData 2021-04-19 08-33-53.txt</pre>"
      ],
      "text/plain": [
       "Finished parsing file /mnt/c/Users/Karl-Jonathan/Desktop/labeledPositives/motionData 2021-04-19 08-33-53.txt"
      ]
     },
     "metadata": {},
     "output_type": "display_data"
    },
    {
     "data": {
      "text/html": [
       "<pre>Parsing completed. Parsed 100 lines in 0.031128 secs.</pre>"
      ],
      "text/plain": [
       "Parsing completed. Parsed 100 lines in 0.031128 secs."
      ]
     },
     "metadata": {},
     "output_type": "display_data"
    },
    {
     "name": "stdout",
     "output_type": "stream",
     "text": [
      "------------------------------------------------------\n",
      "Inferred types from first 100 line(s) of file as \n",
      "column_type_hints=[float,float,float,float,float,float,int,str]\n",
      "If parsing fails due to incorrect types, you can correct\n",
      "the inferred type list above and pass it to read_csv in\n",
      "the column_type_hints argument\n",
      "------------------------------------------------------\n"
     ]
    },
    {
     "data": {
      "text/html": [
       "<pre>Finished parsing file /mnt/c/Users/Karl-Jonathan/Desktop/labeledPositives/motionData 2021-04-19 08-33-53.txt</pre>"
      ],
      "text/plain": [
       "Finished parsing file /mnt/c/Users/Karl-Jonathan/Desktop/labeledPositives/motionData 2021-04-19 08-33-53.txt"
      ]
     },
     "metadata": {},
     "output_type": "display_data"
    },
    {
     "data": {
      "text/html": [
       "<pre>Parsing completed. Parsed 986 lines in 0.031076 secs.</pre>"
      ],
      "text/plain": [
       "Parsing completed. Parsed 986 lines in 0.031076 secs."
      ]
     },
     "metadata": {},
     "output_type": "display_data"
    },
    {
     "data": {
      "text/html": [
       "<pre>Finished parsing file /mnt/c/Users/Karl-Jonathan/Desktop/labeledPositives/motionData 2021-04-19 08-34-06.txt</pre>"
      ],
      "text/plain": [
       "Finished parsing file /mnt/c/Users/Karl-Jonathan/Desktop/labeledPositives/motionData 2021-04-19 08-34-06.txt"
      ]
     },
     "metadata": {},
     "output_type": "display_data"
    },
    {
     "data": {
      "text/html": [
       "<pre>Parsing completed. Parsed 100 lines in 0.033615 secs.</pre>"
      ],
      "text/plain": [
       "Parsing completed. Parsed 100 lines in 0.033615 secs."
      ]
     },
     "metadata": {},
     "output_type": "display_data"
    },
    {
     "name": "stdout",
     "output_type": "stream",
     "text": [
      "------------------------------------------------------\n",
      "Inferred types from first 100 line(s) of file as \n",
      "column_type_hints=[float,float,float,float,float,float,int,str]\n",
      "If parsing fails due to incorrect types, you can correct\n",
      "the inferred type list above and pass it to read_csv in\n",
      "the column_type_hints argument\n",
      "------------------------------------------------------\n"
     ]
    },
    {
     "data": {
      "text/html": [
       "<pre>Finished parsing file /mnt/c/Users/Karl-Jonathan/Desktop/labeledPositives/motionData 2021-04-19 08-34-06.txt</pre>"
      ],
      "text/plain": [
       "Finished parsing file /mnt/c/Users/Karl-Jonathan/Desktop/labeledPositives/motionData 2021-04-19 08-34-06.txt"
      ]
     },
     "metadata": {},
     "output_type": "display_data"
    },
    {
     "data": {
      "text/html": [
       "<pre>Parsing completed. Parsed 794 lines in 0.034989 secs.</pre>"
      ],
      "text/plain": [
       "Parsing completed. Parsed 794 lines in 0.034989 secs."
      ]
     },
     "metadata": {},
     "output_type": "display_data"
    },
    {
     "data": {
      "text/html": [
       "<pre>Finished parsing file /mnt/c/Users/Karl-Jonathan/Desktop/labeledPositives/motionData 2021-04-19 08-34-18.txt</pre>"
      ],
      "text/plain": [
       "Finished parsing file /mnt/c/Users/Karl-Jonathan/Desktop/labeledPositives/motionData 2021-04-19 08-34-18.txt"
      ]
     },
     "metadata": {},
     "output_type": "display_data"
    },
    {
     "data": {
      "text/html": [
       "<pre>Parsing completed. Parsed 100 lines in 0.035718 secs.</pre>"
      ],
      "text/plain": [
       "Parsing completed. Parsed 100 lines in 0.035718 secs."
      ]
     },
     "metadata": {},
     "output_type": "display_data"
    },
    {
     "name": "stdout",
     "output_type": "stream",
     "text": [
      "------------------------------------------------------\n",
      "Inferred types from first 100 line(s) of file as \n",
      "column_type_hints=[float,float,float,float,float,float,int,str]\n",
      "If parsing fails due to incorrect types, you can correct\n",
      "the inferred type list above and pass it to read_csv in\n",
      "the column_type_hints argument\n",
      "------------------------------------------------------\n"
     ]
    },
    {
     "data": {
      "text/html": [
       "<pre>Finished parsing file /mnt/c/Users/Karl-Jonathan/Desktop/labeledPositives/motionData 2021-04-19 08-34-18.txt</pre>"
      ],
      "text/plain": [
       "Finished parsing file /mnt/c/Users/Karl-Jonathan/Desktop/labeledPositives/motionData 2021-04-19 08-34-18.txt"
      ]
     },
     "metadata": {},
     "output_type": "display_data"
    },
    {
     "data": {
      "text/html": [
       "<pre>Parsing completed. Parsed 783 lines in 0.035546 secs.</pre>"
      ],
      "text/plain": [
       "Parsing completed. Parsed 783 lines in 0.035546 secs."
      ]
     },
     "metadata": {},
     "output_type": "display_data"
    },
    {
     "data": {
      "text/html": [
       "<pre>Finished parsing file /mnt/c/Users/Karl-Jonathan/Desktop/labeledPositives/motionData 2021-04-19 08-34-31.txt</pre>"
      ],
      "text/plain": [
       "Finished parsing file /mnt/c/Users/Karl-Jonathan/Desktop/labeledPositives/motionData 2021-04-19 08-34-31.txt"
      ]
     },
     "metadata": {},
     "output_type": "display_data"
    },
    {
     "data": {
      "text/html": [
       "<pre>Parsing completed. Parsed 100 lines in 0.035233 secs.</pre>"
      ],
      "text/plain": [
       "Parsing completed. Parsed 100 lines in 0.035233 secs."
      ]
     },
     "metadata": {},
     "output_type": "display_data"
    },
    {
     "name": "stdout",
     "output_type": "stream",
     "text": [
      "------------------------------------------------------\n",
      "Inferred types from first 100 line(s) of file as \n",
      "column_type_hints=[float,float,float,float,float,float,int,str]\n",
      "If parsing fails due to incorrect types, you can correct\n",
      "the inferred type list above and pass it to read_csv in\n",
      "the column_type_hints argument\n",
      "------------------------------------------------------\n"
     ]
    },
    {
     "data": {
      "text/html": [
       "<pre>Finished parsing file /mnt/c/Users/Karl-Jonathan/Desktop/labeledPositives/motionData 2021-04-19 08-34-31.txt</pre>"
      ],
      "text/plain": [
       "Finished parsing file /mnt/c/Users/Karl-Jonathan/Desktop/labeledPositives/motionData 2021-04-19 08-34-31.txt"
      ]
     },
     "metadata": {},
     "output_type": "display_data"
    },
    {
     "data": {
      "text/html": [
       "<pre>Parsing completed. Parsed 844 lines in 0.036018 secs.</pre>"
      ],
      "text/plain": [
       "Parsing completed. Parsed 844 lines in 0.036018 secs."
      ]
     },
     "metadata": {},
     "output_type": "display_data"
    },
    {
     "data": {
      "text/html": [
       "<pre>Finished parsing file /mnt/c/Users/Karl-Jonathan/Desktop/labeledPositives/motionData 2021-04-19 08-34-42.txt</pre>"
      ],
      "text/plain": [
       "Finished parsing file /mnt/c/Users/Karl-Jonathan/Desktop/labeledPositives/motionData 2021-04-19 08-34-42.txt"
      ]
     },
     "metadata": {},
     "output_type": "display_data"
    },
    {
     "data": {
      "text/html": [
       "<pre>Parsing completed. Parsed 100 lines in 0.035515 secs.</pre>"
      ],
      "text/plain": [
       "Parsing completed. Parsed 100 lines in 0.035515 secs."
      ]
     },
     "metadata": {},
     "output_type": "display_data"
    },
    {
     "name": "stdout",
     "output_type": "stream",
     "text": [
      "------------------------------------------------------\n",
      "Inferred types from first 100 line(s) of file as \n",
      "column_type_hints=[float,float,float,float,float,float,int,str]\n",
      "If parsing fails due to incorrect types, you can correct\n",
      "the inferred type list above and pass it to read_csv in\n",
      "the column_type_hints argument\n",
      "------------------------------------------------------\n"
     ]
    },
    {
     "data": {
      "text/html": [
       "<pre>Finished parsing file /mnt/c/Users/Karl-Jonathan/Desktop/labeledPositives/motionData 2021-04-19 08-34-42.txt</pre>"
      ],
      "text/plain": [
       "Finished parsing file /mnt/c/Users/Karl-Jonathan/Desktop/labeledPositives/motionData 2021-04-19 08-34-42.txt"
      ]
     },
     "metadata": {},
     "output_type": "display_data"
    },
    {
     "data": {
      "text/html": [
       "<pre>Parsing completed. Parsed 838 lines in 0.035396 secs.</pre>"
      ],
      "text/plain": [
       "Parsing completed. Parsed 838 lines in 0.035396 secs."
      ]
     },
     "metadata": {},
     "output_type": "display_data"
    },
    {
     "data": {
      "text/html": [
       "<pre>Finished parsing file /mnt/c/Users/Karl-Jonathan/Desktop/labeledPositives/motionData 2021-04-19 08-34-54.txt</pre>"
      ],
      "text/plain": [
       "Finished parsing file /mnt/c/Users/Karl-Jonathan/Desktop/labeledPositives/motionData 2021-04-19 08-34-54.txt"
      ]
     },
     "metadata": {},
     "output_type": "display_data"
    },
    {
     "data": {
      "text/html": [
       "<pre>Parsing completed. Parsed 100 lines in 0.035561 secs.</pre>"
      ],
      "text/plain": [
       "Parsing completed. Parsed 100 lines in 0.035561 secs."
      ]
     },
     "metadata": {},
     "output_type": "display_data"
    },
    {
     "name": "stdout",
     "output_type": "stream",
     "text": [
      "------------------------------------------------------\n",
      "Inferred types from first 100 line(s) of file as \n",
      "column_type_hints=[float,float,float,float,float,float,int,str]\n",
      "If parsing fails due to incorrect types, you can correct\n",
      "the inferred type list above and pass it to read_csv in\n",
      "the column_type_hints argument\n",
      "------------------------------------------------------\n"
     ]
    },
    {
     "data": {
      "text/html": [
       "<pre>Finished parsing file /mnt/c/Users/Karl-Jonathan/Desktop/labeledPositives/motionData 2021-04-19 08-34-54.txt</pre>"
      ],
      "text/plain": [
       "Finished parsing file /mnt/c/Users/Karl-Jonathan/Desktop/labeledPositives/motionData 2021-04-19 08-34-54.txt"
      ]
     },
     "metadata": {},
     "output_type": "display_data"
    },
    {
     "data": {
      "text/html": [
       "<pre>Parsing completed. Parsed 789 lines in 0.035389 secs.</pre>"
      ],
      "text/plain": [
       "Parsing completed. Parsed 789 lines in 0.035389 secs."
      ]
     },
     "metadata": {},
     "output_type": "display_data"
    },
    {
     "data": {
      "text/html": [
       "<pre>Finished parsing file /mnt/c/Users/Karl-Jonathan/Desktop/labeledPositives/motionData 2021-04-19 08-35-19.txt</pre>"
      ],
      "text/plain": [
       "Finished parsing file /mnt/c/Users/Karl-Jonathan/Desktop/labeledPositives/motionData 2021-04-19 08-35-19.txt"
      ]
     },
     "metadata": {},
     "output_type": "display_data"
    },
    {
     "data": {
      "text/html": [
       "<pre>Parsing completed. Parsed 100 lines in 0.035458 secs.</pre>"
      ],
      "text/plain": [
       "Parsing completed. Parsed 100 lines in 0.035458 secs."
      ]
     },
     "metadata": {},
     "output_type": "display_data"
    },
    {
     "name": "stdout",
     "output_type": "stream",
     "text": [
      "------------------------------------------------------\n",
      "Inferred types from first 100 line(s) of file as \n",
      "column_type_hints=[float,float,float,float,float,float,int,str]\n",
      "If parsing fails due to incorrect types, you can correct\n",
      "the inferred type list above and pass it to read_csv in\n",
      "the column_type_hints argument\n",
      "------------------------------------------------------\n"
     ]
    },
    {
     "data": {
      "text/html": [
       "<pre>Finished parsing file /mnt/c/Users/Karl-Jonathan/Desktop/labeledPositives/motionData 2021-04-19 08-35-19.txt</pre>"
      ],
      "text/plain": [
       "Finished parsing file /mnt/c/Users/Karl-Jonathan/Desktop/labeledPositives/motionData 2021-04-19 08-35-19.txt"
      ]
     },
     "metadata": {},
     "output_type": "display_data"
    },
    {
     "data": {
      "text/html": [
       "<pre>Parsing completed. Parsed 844 lines in 0.036036 secs.</pre>"
      ],
      "text/plain": [
       "Parsing completed. Parsed 844 lines in 0.036036 secs."
      ]
     },
     "metadata": {},
     "output_type": "display_data"
    },
    {
     "data": {
      "text/html": [
       "<pre>Finished parsing file /mnt/c/Users/Karl-Jonathan/Desktop/labeledPositives/motionData 2021-04-19 08-35-33.txt</pre>"
      ],
      "text/plain": [
       "Finished parsing file /mnt/c/Users/Karl-Jonathan/Desktop/labeledPositives/motionData 2021-04-19 08-35-33.txt"
      ]
     },
     "metadata": {},
     "output_type": "display_data"
    },
    {
     "data": {
      "text/html": [
       "<pre>Parsing completed. Parsed 100 lines in 0.035195 secs.</pre>"
      ],
      "text/plain": [
       "Parsing completed. Parsed 100 lines in 0.035195 secs."
      ]
     },
     "metadata": {},
     "output_type": "display_data"
    },
    {
     "name": "stdout",
     "output_type": "stream",
     "text": [
      "------------------------------------------------------\n",
      "Inferred types from first 100 line(s) of file as \n",
      "column_type_hints=[float,float,float,float,float,float,int,str]\n",
      "If parsing fails due to incorrect types, you can correct\n",
      "the inferred type list above and pass it to read_csv in\n",
      "the column_type_hints argument\n",
      "------------------------------------------------------\n"
     ]
    },
    {
     "data": {
      "text/html": [
       "<pre>Finished parsing file /mnt/c/Users/Karl-Jonathan/Desktop/labeledPositives/motionData 2021-04-19 08-35-33.txt</pre>"
      ],
      "text/plain": [
       "Finished parsing file /mnt/c/Users/Karl-Jonathan/Desktop/labeledPositives/motionData 2021-04-19 08-35-33.txt"
      ]
     },
     "metadata": {},
     "output_type": "display_data"
    },
    {
     "data": {
      "text/html": [
       "<pre>Parsing completed. Parsed 826 lines in 0.035637 secs.</pre>"
      ],
      "text/plain": [
       "Parsing completed. Parsed 826 lines in 0.035637 secs."
      ]
     },
     "metadata": {},
     "output_type": "display_data"
    },
    {
     "data": {
      "text/html": [
       "<pre>Finished parsing file /mnt/c/Users/Karl-Jonathan/Desktop/labeledPositives/motionData 2021-04-19 08-36-00.txt</pre>"
      ],
      "text/plain": [
       "Finished parsing file /mnt/c/Users/Karl-Jonathan/Desktop/labeledPositives/motionData 2021-04-19 08-36-00.txt"
      ]
     },
     "metadata": {},
     "output_type": "display_data"
    },
    {
     "data": {
      "text/html": [
       "<pre>Parsing completed. Parsed 100 lines in 0.03569 secs.</pre>"
      ],
      "text/plain": [
       "Parsing completed. Parsed 100 lines in 0.03569 secs."
      ]
     },
     "metadata": {},
     "output_type": "display_data"
    },
    {
     "name": "stdout",
     "output_type": "stream",
     "text": [
      "------------------------------------------------------\n",
      "Inferred types from first 100 line(s) of file as \n",
      "column_type_hints=[float,float,float,float,float,float,int,str]\n",
      "If parsing fails due to incorrect types, you can correct\n",
      "the inferred type list above and pass it to read_csv in\n",
      "the column_type_hints argument\n",
      "------------------------------------------------------\n"
     ]
    },
    {
     "data": {
      "text/html": [
       "<pre>Finished parsing file /mnt/c/Users/Karl-Jonathan/Desktop/labeledPositives/motionData 2021-04-19 08-36-00.txt</pre>"
      ],
      "text/plain": [
       "Finished parsing file /mnt/c/Users/Karl-Jonathan/Desktop/labeledPositives/motionData 2021-04-19 08-36-00.txt"
      ]
     },
     "metadata": {},
     "output_type": "display_data"
    },
    {
     "data": {
      "text/html": [
       "<pre>Parsing completed. Parsed 822 lines in 0.035618 secs.</pre>"
      ],
      "text/plain": [
       "Parsing completed. Parsed 822 lines in 0.035618 secs."
      ]
     },
     "metadata": {},
     "output_type": "display_data"
    },
    {
     "data": {
      "text/html": [
       "<pre>Finished parsing file /mnt/c/Users/Karl-Jonathan/Desktop/labeledPositives/motionData 2021-04-19 08-36-12.txt</pre>"
      ],
      "text/plain": [
       "Finished parsing file /mnt/c/Users/Karl-Jonathan/Desktop/labeledPositives/motionData 2021-04-19 08-36-12.txt"
      ]
     },
     "metadata": {},
     "output_type": "display_data"
    },
    {
     "data": {
      "text/html": [
       "<pre>Parsing completed. Parsed 100 lines in 0.035766 secs.</pre>"
      ],
      "text/plain": [
       "Parsing completed. Parsed 100 lines in 0.035766 secs."
      ]
     },
     "metadata": {},
     "output_type": "display_data"
    },
    {
     "name": "stdout",
     "output_type": "stream",
     "text": [
      "------------------------------------------------------\n",
      "Inferred types from first 100 line(s) of file as \n",
      "column_type_hints=[float,float,float,float,float,float,int,str]\n",
      "If parsing fails due to incorrect types, you can correct\n",
      "the inferred type list above and pass it to read_csv in\n",
      "the column_type_hints argument\n",
      "------------------------------------------------------\n"
     ]
    },
    {
     "data": {
      "text/html": [
       "<pre>Finished parsing file /mnt/c/Users/Karl-Jonathan/Desktop/labeledPositives/motionData 2021-04-19 08-36-12.txt</pre>"
      ],
      "text/plain": [
       "Finished parsing file /mnt/c/Users/Karl-Jonathan/Desktop/labeledPositives/motionData 2021-04-19 08-36-12.txt"
      ]
     },
     "metadata": {},
     "output_type": "display_data"
    },
    {
     "data": {
      "text/html": [
       "<pre>Parsing completed. Parsed 856 lines in 0.035216 secs.</pre>"
      ],
      "text/plain": [
       "Parsing completed. Parsed 856 lines in 0.035216 secs."
      ]
     },
     "metadata": {},
     "output_type": "display_data"
    },
    {
     "data": {
      "text/html": [
       "<pre>Finished parsing file /mnt/c/Users/Karl-Jonathan/Desktop/labeledPositives/motionData 2021-04-19 08-36-24.txt</pre>"
      ],
      "text/plain": [
       "Finished parsing file /mnt/c/Users/Karl-Jonathan/Desktop/labeledPositives/motionData 2021-04-19 08-36-24.txt"
      ]
     },
     "metadata": {},
     "output_type": "display_data"
    },
    {
     "data": {
      "text/html": [
       "<pre>Parsing completed. Parsed 100 lines in 0.035399 secs.</pre>"
      ],
      "text/plain": [
       "Parsing completed. Parsed 100 lines in 0.035399 secs."
      ]
     },
     "metadata": {},
     "output_type": "display_data"
    },
    {
     "name": "stdout",
     "output_type": "stream",
     "text": [
      "------------------------------------------------------\n",
      "Inferred types from first 100 line(s) of file as \n",
      "column_type_hints=[float,float,float,float,float,float,int,str]\n",
      "If parsing fails due to incorrect types, you can correct\n",
      "the inferred type list above and pass it to read_csv in\n",
      "the column_type_hints argument\n",
      "------------------------------------------------------\n"
     ]
    },
    {
     "data": {
      "text/html": [
       "<pre>Finished parsing file /mnt/c/Users/Karl-Jonathan/Desktop/labeledPositives/motionData 2021-04-19 08-36-24.txt</pre>"
      ],
      "text/plain": [
       "Finished parsing file /mnt/c/Users/Karl-Jonathan/Desktop/labeledPositives/motionData 2021-04-19 08-36-24.txt"
      ]
     },
     "metadata": {},
     "output_type": "display_data"
    },
    {
     "data": {
      "text/html": [
       "<pre>Parsing completed. Parsed 791 lines in 0.034744 secs.</pre>"
      ],
      "text/plain": [
       "Parsing completed. Parsed 791 lines in 0.034744 secs."
      ]
     },
     "metadata": {},
     "output_type": "display_data"
    },
    {
     "data": {
      "text/html": [
       "<pre>Finished parsing file /mnt/c/Users/Karl-Jonathan/Desktop/labeledPositives/motionData 2021-04-19 08-36-36.txt</pre>"
      ],
      "text/plain": [
       "Finished parsing file /mnt/c/Users/Karl-Jonathan/Desktop/labeledPositives/motionData 2021-04-19 08-36-36.txt"
      ]
     },
     "metadata": {},
     "output_type": "display_data"
    },
    {
     "data": {
      "text/html": [
       "<pre>Parsing completed. Parsed 100 lines in 0.030958 secs.</pre>"
      ],
      "text/plain": [
       "Parsing completed. Parsed 100 lines in 0.030958 secs."
      ]
     },
     "metadata": {},
     "output_type": "display_data"
    },
    {
     "name": "stdout",
     "output_type": "stream",
     "text": [
      "------------------------------------------------------\n",
      "Inferred types from first 100 line(s) of file as \n",
      "column_type_hints=[float,float,float,float,float,float,int,str]\n",
      "If parsing fails due to incorrect types, you can correct\n",
      "the inferred type list above and pass it to read_csv in\n",
      "the column_type_hints argument\n",
      "------------------------------------------------------\n"
     ]
    },
    {
     "data": {
      "text/html": [
       "<pre>Finished parsing file /mnt/c/Users/Karl-Jonathan/Desktop/labeledPositives/motionData 2021-04-19 08-36-36.txt</pre>"
      ],
      "text/plain": [
       "Finished parsing file /mnt/c/Users/Karl-Jonathan/Desktop/labeledPositives/motionData 2021-04-19 08-36-36.txt"
      ]
     },
     "metadata": {},
     "output_type": "display_data"
    },
    {
     "data": {
      "text/html": [
       "<pre>Parsing completed. Parsed 859 lines in 0.030836 secs.</pre>"
      ],
      "text/plain": [
       "Parsing completed. Parsed 859 lines in 0.030836 secs."
      ]
     },
     "metadata": {},
     "output_type": "display_data"
    },
    {
     "data": {
      "text/html": [
       "<pre>Finished parsing file /mnt/c/Users/Karl-Jonathan/Desktop/labeledPositives/motionData 2021-04-19 08-36-50.txt</pre>"
      ],
      "text/plain": [
       "Finished parsing file /mnt/c/Users/Karl-Jonathan/Desktop/labeledPositives/motionData 2021-04-19 08-36-50.txt"
      ]
     },
     "metadata": {},
     "output_type": "display_data"
    },
    {
     "data": {
      "text/html": [
       "<pre>Parsing completed. Parsed 100 lines in 0.030825 secs.</pre>"
      ],
      "text/plain": [
       "Parsing completed. Parsed 100 lines in 0.030825 secs."
      ]
     },
     "metadata": {},
     "output_type": "display_data"
    },
    {
     "name": "stdout",
     "output_type": "stream",
     "text": [
      "------------------------------------------------------\n",
      "Inferred types from first 100 line(s) of file as \n",
      "column_type_hints=[float,float,float,float,float,float,int,str]\n",
      "If parsing fails due to incorrect types, you can correct\n",
      "the inferred type list above and pass it to read_csv in\n",
      "the column_type_hints argument\n",
      "------------------------------------------------------\n"
     ]
    },
    {
     "data": {
      "text/html": [
       "<pre>Finished parsing file /mnt/c/Users/Karl-Jonathan/Desktop/labeledPositives/motionData 2021-04-19 08-36-50.txt</pre>"
      ],
      "text/plain": [
       "Finished parsing file /mnt/c/Users/Karl-Jonathan/Desktop/labeledPositives/motionData 2021-04-19 08-36-50.txt"
      ]
     },
     "metadata": {},
     "output_type": "display_data"
    },
    {
     "data": {
      "text/html": [
       "<pre>Parsing completed. Parsed 794 lines in 0.032615 secs.</pre>"
      ],
      "text/plain": [
       "Parsing completed. Parsed 794 lines in 0.032615 secs."
      ]
     },
     "metadata": {},
     "output_type": "display_data"
    },
    {
     "data": {
      "text/html": [
       "<pre>Finished parsing file /mnt/c/Users/Karl-Jonathan/Desktop/labeledPositives/motionData 2021-04-19 08-37-03.txt</pre>"
      ],
      "text/plain": [
       "Finished parsing file /mnt/c/Users/Karl-Jonathan/Desktop/labeledPositives/motionData 2021-04-19 08-37-03.txt"
      ]
     },
     "metadata": {},
     "output_type": "display_data"
    },
    {
     "data": {
      "text/html": [
       "<pre>Parsing completed. Parsed 100 lines in 0.034819 secs.</pre>"
      ],
      "text/plain": [
       "Parsing completed. Parsed 100 lines in 0.034819 secs."
      ]
     },
     "metadata": {},
     "output_type": "display_data"
    },
    {
     "name": "stdout",
     "output_type": "stream",
     "text": [
      "------------------------------------------------------\n",
      "Inferred types from first 100 line(s) of file as \n",
      "column_type_hints=[float,float,float,float,float,float,int,str]\n",
      "If parsing fails due to incorrect types, you can correct\n",
      "the inferred type list above and pass it to read_csv in\n",
      "the column_type_hints argument\n",
      "------------------------------------------------------\n"
     ]
    },
    {
     "data": {
      "text/html": [
       "<pre>Finished parsing file /mnt/c/Users/Karl-Jonathan/Desktop/labeledPositives/motionData 2021-04-19 08-37-03.txt</pre>"
      ],
      "text/plain": [
       "Finished parsing file /mnt/c/Users/Karl-Jonathan/Desktop/labeledPositives/motionData 2021-04-19 08-37-03.txt"
      ]
     },
     "metadata": {},
     "output_type": "display_data"
    },
    {
     "data": {
      "text/html": [
       "<pre>Parsing completed. Parsed 787 lines in 0.03591 secs.</pre>"
      ],
      "text/plain": [
       "Parsing completed. Parsed 787 lines in 0.03591 secs."
      ]
     },
     "metadata": {},
     "output_type": "display_data"
    },
    {
     "data": {
      "text/html": [
       "<pre>Finished parsing file /mnt/c/Users/Karl-Jonathan/Desktop/labeledPositives/motionData 2021-04-19 08-37-13.txt</pre>"
      ],
      "text/plain": [
       "Finished parsing file /mnt/c/Users/Karl-Jonathan/Desktop/labeledPositives/motionData 2021-04-19 08-37-13.txt"
      ]
     },
     "metadata": {},
     "output_type": "display_data"
    },
    {
     "data": {
      "text/html": [
       "<pre>Parsing completed. Parsed 100 lines in 0.035743 secs.</pre>"
      ],
      "text/plain": [
       "Parsing completed. Parsed 100 lines in 0.035743 secs."
      ]
     },
     "metadata": {},
     "output_type": "display_data"
    },
    {
     "name": "stdout",
     "output_type": "stream",
     "text": [
      "------------------------------------------------------\n",
      "Inferred types from first 100 line(s) of file as \n",
      "column_type_hints=[float,float,float,float,float,float,int,str]\n",
      "If parsing fails due to incorrect types, you can correct\n",
      "the inferred type list above and pass it to read_csv in\n",
      "the column_type_hints argument\n",
      "------------------------------------------------------\n"
     ]
    },
    {
     "data": {
      "text/html": [
       "<pre>Finished parsing file /mnt/c/Users/Karl-Jonathan/Desktop/labeledPositives/motionData 2021-04-19 08-37-13.txt</pre>"
      ],
      "text/plain": [
       "Finished parsing file /mnt/c/Users/Karl-Jonathan/Desktop/labeledPositives/motionData 2021-04-19 08-37-13.txt"
      ]
     },
     "metadata": {},
     "output_type": "display_data"
    },
    {
     "data": {
      "text/html": [
       "<pre>Parsing completed. Parsed 756 lines in 0.03582 secs.</pre>"
      ],
      "text/plain": [
       "Parsing completed. Parsed 756 lines in 0.03582 secs."
      ]
     },
     "metadata": {},
     "output_type": "display_data"
    },
    {
     "data": {
      "text/html": [
       "<pre>Finished parsing file /mnt/c/Users/Karl-Jonathan/Desktop/labeledPositives/motionData 2021-04-19 08-37-35.txt</pre>"
      ],
      "text/plain": [
       "Finished parsing file /mnt/c/Users/Karl-Jonathan/Desktop/labeledPositives/motionData 2021-04-19 08-37-35.txt"
      ]
     },
     "metadata": {},
     "output_type": "display_data"
    },
    {
     "data": {
      "text/html": [
       "<pre>Parsing completed. Parsed 100 lines in 0.035242 secs.</pre>"
      ],
      "text/plain": [
       "Parsing completed. Parsed 100 lines in 0.035242 secs."
      ]
     },
     "metadata": {},
     "output_type": "display_data"
    },
    {
     "name": "stdout",
     "output_type": "stream",
     "text": [
      "------------------------------------------------------\n",
      "Inferred types from first 100 line(s) of file as \n",
      "column_type_hints=[float,float,float,float,float,float,int,str]\n",
      "If parsing fails due to incorrect types, you can correct\n",
      "the inferred type list above and pass it to read_csv in\n",
      "the column_type_hints argument\n",
      "------------------------------------------------------\n"
     ]
    },
    {
     "data": {
      "text/html": [
       "<pre>Finished parsing file /mnt/c/Users/Karl-Jonathan/Desktop/labeledPositives/motionData 2021-04-19 08-37-35.txt</pre>"
      ],
      "text/plain": [
       "Finished parsing file /mnt/c/Users/Karl-Jonathan/Desktop/labeledPositives/motionData 2021-04-19 08-37-35.txt"
      ]
     },
     "metadata": {},
     "output_type": "display_data"
    },
    {
     "data": {
      "text/html": [
       "<pre>Parsing completed. Parsed 754 lines in 0.035578 secs.</pre>"
      ],
      "text/plain": [
       "Parsing completed. Parsed 754 lines in 0.035578 secs."
      ]
     },
     "metadata": {},
     "output_type": "display_data"
    },
    {
     "data": {
      "text/html": [
       "<pre>Finished parsing file /mnt/c/Users/Karl-Jonathan/Desktop/labeledPositives/motionData 2021-04-19 08-37-45.txt</pre>"
      ],
      "text/plain": [
       "Finished parsing file /mnt/c/Users/Karl-Jonathan/Desktop/labeledPositives/motionData 2021-04-19 08-37-45.txt"
      ]
     },
     "metadata": {},
     "output_type": "display_data"
    },
    {
     "data": {
      "text/html": [
       "<pre>Parsing completed. Parsed 100 lines in 0.035616 secs.</pre>"
      ],
      "text/plain": [
       "Parsing completed. Parsed 100 lines in 0.035616 secs."
      ]
     },
     "metadata": {},
     "output_type": "display_data"
    },
    {
     "name": "stdout",
     "output_type": "stream",
     "text": [
      "------------------------------------------------------\n",
      "Inferred types from first 100 line(s) of file as \n",
      "column_type_hints=[float,float,float,float,float,float,int,str]\n",
      "If parsing fails due to incorrect types, you can correct\n",
      "the inferred type list above and pass it to read_csv in\n",
      "the column_type_hints argument\n",
      "------------------------------------------------------\n"
     ]
    },
    {
     "data": {
      "text/html": [
       "<pre>Finished parsing file /mnt/c/Users/Karl-Jonathan/Desktop/labeledPositives/motionData 2021-04-19 08-37-45.txt</pre>"
      ],
      "text/plain": [
       "Finished parsing file /mnt/c/Users/Karl-Jonathan/Desktop/labeledPositives/motionData 2021-04-19 08-37-45.txt"
      ]
     },
     "metadata": {},
     "output_type": "display_data"
    },
    {
     "data": {
      "text/html": [
       "<pre>Parsing completed. Parsed 824 lines in 0.035748 secs.</pre>"
      ],
      "text/plain": [
       "Parsing completed. Parsed 824 lines in 0.035748 secs."
      ]
     },
     "metadata": {},
     "output_type": "display_data"
    },
    {
     "data": {
      "text/html": [
       "<pre>Finished parsing file /mnt/c/Users/Karl-Jonathan/Desktop/labeledPositives/motionData 2021-04-19 08-37-55.txt</pre>"
      ],
      "text/plain": [
       "Finished parsing file /mnt/c/Users/Karl-Jonathan/Desktop/labeledPositives/motionData 2021-04-19 08-37-55.txt"
      ]
     },
     "metadata": {},
     "output_type": "display_data"
    },
    {
     "data": {
      "text/html": [
       "<pre>Parsing completed. Parsed 100 lines in 0.035707 secs.</pre>"
      ],
      "text/plain": [
       "Parsing completed. Parsed 100 lines in 0.035707 secs."
      ]
     },
     "metadata": {},
     "output_type": "display_data"
    },
    {
     "name": "stdout",
     "output_type": "stream",
     "text": [
      "------------------------------------------------------\n",
      "Inferred types from first 100 line(s) of file as \n",
      "column_type_hints=[float,float,float,float,float,float,int,str]\n",
      "If parsing fails due to incorrect types, you can correct\n",
      "the inferred type list above and pass it to read_csv in\n",
      "the column_type_hints argument\n",
      "------------------------------------------------------\n"
     ]
    },
    {
     "data": {
      "text/html": [
       "<pre>Finished parsing file /mnt/c/Users/Karl-Jonathan/Desktop/labeledPositives/motionData 2021-04-19 08-37-55.txt</pre>"
      ],
      "text/plain": [
       "Finished parsing file /mnt/c/Users/Karl-Jonathan/Desktop/labeledPositives/motionData 2021-04-19 08-37-55.txt"
      ]
     },
     "metadata": {},
     "output_type": "display_data"
    },
    {
     "data": {
      "text/html": [
       "<pre>Parsing completed. Parsed 784 lines in 0.035575 secs.</pre>"
      ],
      "text/plain": [
       "Parsing completed. Parsed 784 lines in 0.035575 secs."
      ]
     },
     "metadata": {},
     "output_type": "display_data"
    },
    {
     "data": {
      "text/html": [
       "<pre>Finished parsing file /mnt/c/Users/Karl-Jonathan/Desktop/labeledPositives/motionData 2021-04-19 08-38-05.txt</pre>"
      ],
      "text/plain": [
       "Finished parsing file /mnt/c/Users/Karl-Jonathan/Desktop/labeledPositives/motionData 2021-04-19 08-38-05.txt"
      ]
     },
     "metadata": {},
     "output_type": "display_data"
    },
    {
     "data": {
      "text/html": [
       "<pre>Parsing completed. Parsed 100 lines in 0.035333 secs.</pre>"
      ],
      "text/plain": [
       "Parsing completed. Parsed 100 lines in 0.035333 secs."
      ]
     },
     "metadata": {},
     "output_type": "display_data"
    },
    {
     "name": "stdout",
     "output_type": "stream",
     "text": [
      "------------------------------------------------------\n",
      "Inferred types from first 100 line(s) of file as \n",
      "column_type_hints=[float,float,float,float,float,float,int,str]\n",
      "If parsing fails due to incorrect types, you can correct\n",
      "the inferred type list above and pass it to read_csv in\n",
      "the column_type_hints argument\n",
      "------------------------------------------------------\n"
     ]
    },
    {
     "data": {
      "text/html": [
       "<pre>Finished parsing file /mnt/c/Users/Karl-Jonathan/Desktop/labeledPositives/motionData 2021-04-19 08-38-05.txt</pre>"
      ],
      "text/plain": [
       "Finished parsing file /mnt/c/Users/Karl-Jonathan/Desktop/labeledPositives/motionData 2021-04-19 08-38-05.txt"
      ]
     },
     "metadata": {},
     "output_type": "display_data"
    },
    {
     "data": {
      "text/html": [
       "<pre>Parsing completed. Parsed 830 lines in 0.035513 secs.</pre>"
      ],
      "text/plain": [
       "Parsing completed. Parsed 830 lines in 0.035513 secs."
      ]
     },
     "metadata": {},
     "output_type": "display_data"
    },
    {
     "data": {
      "text/html": [
       "<pre>Finished parsing file /mnt/c/Users/Karl-Jonathan/Desktop/labeledPositives/motionData 2021-04-19 08-38-16.txt</pre>"
      ],
      "text/plain": [
       "Finished parsing file /mnt/c/Users/Karl-Jonathan/Desktop/labeledPositives/motionData 2021-04-19 08-38-16.txt"
      ]
     },
     "metadata": {},
     "output_type": "display_data"
    },
    {
     "data": {
      "text/html": [
       "<pre>Parsing completed. Parsed 100 lines in 0.035467 secs.</pre>"
      ],
      "text/plain": [
       "Parsing completed. Parsed 100 lines in 0.035467 secs."
      ]
     },
     "metadata": {},
     "output_type": "display_data"
    },
    {
     "name": "stdout",
     "output_type": "stream",
     "text": [
      "------------------------------------------------------\n",
      "Inferred types from first 100 line(s) of file as \n",
      "column_type_hints=[float,float,float,float,float,float,int,str]\n",
      "If parsing fails due to incorrect types, you can correct\n",
      "the inferred type list above and pass it to read_csv in\n",
      "the column_type_hints argument\n",
      "------------------------------------------------------\n"
     ]
    },
    {
     "data": {
      "text/html": [
       "<pre>Finished parsing file /mnt/c/Users/Karl-Jonathan/Desktop/labeledPositives/motionData 2021-04-19 08-38-16.txt</pre>"
      ],
      "text/plain": [
       "Finished parsing file /mnt/c/Users/Karl-Jonathan/Desktop/labeledPositives/motionData 2021-04-19 08-38-16.txt"
      ]
     },
     "metadata": {},
     "output_type": "display_data"
    },
    {
     "data": {
      "text/html": [
       "<pre>Parsing completed. Parsed 861 lines in 0.035686 secs.</pre>"
      ],
      "text/plain": [
       "Parsing completed. Parsed 861 lines in 0.035686 secs."
      ]
     },
     "metadata": {},
     "output_type": "display_data"
    },
    {
     "data": {
      "text/html": [
       "<pre>Finished parsing file /mnt/c/Users/Karl-Jonathan/Desktop/labeledPositives/motionData 2021-04-19 08-38-26.txt</pre>"
      ],
      "text/plain": [
       "Finished parsing file /mnt/c/Users/Karl-Jonathan/Desktop/labeledPositives/motionData 2021-04-19 08-38-26.txt"
      ]
     },
     "metadata": {},
     "output_type": "display_data"
    },
    {
     "data": {
      "text/html": [
       "<pre>Parsing completed. Parsed 100 lines in 0.03574 secs.</pre>"
      ],
      "text/plain": [
       "Parsing completed. Parsed 100 lines in 0.03574 secs."
      ]
     },
     "metadata": {},
     "output_type": "display_data"
    },
    {
     "name": "stdout",
     "output_type": "stream",
     "text": [
      "------------------------------------------------------\n",
      "Inferred types from first 100 line(s) of file as \n",
      "column_type_hints=[float,float,float,float,float,float,int,str]\n",
      "If parsing fails due to incorrect types, you can correct\n",
      "the inferred type list above and pass it to read_csv in\n",
      "the column_type_hints argument\n",
      "------------------------------------------------------\n"
     ]
    },
    {
     "data": {
      "text/html": [
       "<pre>Finished parsing file /mnt/c/Users/Karl-Jonathan/Desktop/labeledPositives/motionData 2021-04-19 08-38-26.txt</pre>"
      ],
      "text/plain": [
       "Finished parsing file /mnt/c/Users/Karl-Jonathan/Desktop/labeledPositives/motionData 2021-04-19 08-38-26.txt"
      ]
     },
     "metadata": {},
     "output_type": "display_data"
    },
    {
     "data": {
      "text/html": [
       "<pre>Parsing completed. Parsed 838 lines in 0.035723 secs.</pre>"
      ],
      "text/plain": [
       "Parsing completed. Parsed 838 lines in 0.035723 secs."
      ]
     },
     "metadata": {},
     "output_type": "display_data"
    },
    {
     "data": {
      "text/html": [
       "<pre>Finished parsing file /mnt/c/Users/Karl-Jonathan/Desktop/labeledPositives/motionData 2021-04-19 08-38-36.txt</pre>"
      ],
      "text/plain": [
       "Finished parsing file /mnt/c/Users/Karl-Jonathan/Desktop/labeledPositives/motionData 2021-04-19 08-38-36.txt"
      ]
     },
     "metadata": {},
     "output_type": "display_data"
    },
    {
     "data": {
      "text/html": [
       "<pre>Parsing completed. Parsed 100 lines in 0.035308 secs.</pre>"
      ],
      "text/plain": [
       "Parsing completed. Parsed 100 lines in 0.035308 secs."
      ]
     },
     "metadata": {},
     "output_type": "display_data"
    },
    {
     "name": "stdout",
     "output_type": "stream",
     "text": [
      "------------------------------------------------------\n",
      "Inferred types from first 100 line(s) of file as \n",
      "column_type_hints=[float,float,float,float,float,float,int,str]\n",
      "If parsing fails due to incorrect types, you can correct\n",
      "the inferred type list above and pass it to read_csv in\n",
      "the column_type_hints argument\n",
      "------------------------------------------------------\n"
     ]
    },
    {
     "data": {
      "text/html": [
       "<pre>Finished parsing file /mnt/c/Users/Karl-Jonathan/Desktop/labeledPositives/motionData 2021-04-19 08-38-36.txt</pre>"
      ],
      "text/plain": [
       "Finished parsing file /mnt/c/Users/Karl-Jonathan/Desktop/labeledPositives/motionData 2021-04-19 08-38-36.txt"
      ]
     },
     "metadata": {},
     "output_type": "display_data"
    },
    {
     "data": {
      "text/html": [
       "<pre>Parsing completed. Parsed 810 lines in 0.035573 secs.</pre>"
      ],
      "text/plain": [
       "Parsing completed. Parsed 810 lines in 0.035573 secs."
      ]
     },
     "metadata": {},
     "output_type": "display_data"
    },
    {
     "data": {
      "text/html": [
       "<pre>Finished parsing file /mnt/c/Users/Karl-Jonathan/Desktop/labeledPositives/motionData 2021-04-19 08-38-46.txt</pre>"
      ],
      "text/plain": [
       "Finished parsing file /mnt/c/Users/Karl-Jonathan/Desktop/labeledPositives/motionData 2021-04-19 08-38-46.txt"
      ]
     },
     "metadata": {},
     "output_type": "display_data"
    },
    {
     "data": {
      "text/html": [
       "<pre>Parsing completed. Parsed 100 lines in 0.035889 secs.</pre>"
      ],
      "text/plain": [
       "Parsing completed. Parsed 100 lines in 0.035889 secs."
      ]
     },
     "metadata": {},
     "output_type": "display_data"
    },
    {
     "name": "stdout",
     "output_type": "stream",
     "text": [
      "------------------------------------------------------\n",
      "Inferred types from first 100 line(s) of file as \n",
      "column_type_hints=[float,float,float,float,float,float,int,str]\n",
      "If parsing fails due to incorrect types, you can correct\n",
      "the inferred type list above and pass it to read_csv in\n",
      "the column_type_hints argument\n",
      "------------------------------------------------------\n"
     ]
    },
    {
     "data": {
      "text/html": [
       "<pre>Finished parsing file /mnt/c/Users/Karl-Jonathan/Desktop/labeledPositives/motionData 2021-04-19 08-38-46.txt</pre>"
      ],
      "text/plain": [
       "Finished parsing file /mnt/c/Users/Karl-Jonathan/Desktop/labeledPositives/motionData 2021-04-19 08-38-46.txt"
      ]
     },
     "metadata": {},
     "output_type": "display_data"
    },
    {
     "data": {
      "text/html": [
       "<pre>Parsing completed. Parsed 818 lines in 0.032242 secs.</pre>"
      ],
      "text/plain": [
       "Parsing completed. Parsed 818 lines in 0.032242 secs."
      ]
     },
     "metadata": {},
     "output_type": "display_data"
    },
    {
     "data": {
      "text/html": [
       "<pre>Finished parsing file /mnt/c/Users/Karl-Jonathan/Desktop/labeledPositives/motionData 2021-04-19 08-38-59.txt</pre>"
      ],
      "text/plain": [
       "Finished parsing file /mnt/c/Users/Karl-Jonathan/Desktop/labeledPositives/motionData 2021-04-19 08-38-59.txt"
      ]
     },
     "metadata": {},
     "output_type": "display_data"
    },
    {
     "data": {
      "text/html": [
       "<pre>Parsing completed. Parsed 100 lines in 0.031011 secs.</pre>"
      ],
      "text/plain": [
       "Parsing completed. Parsed 100 lines in 0.031011 secs."
      ]
     },
     "metadata": {},
     "output_type": "display_data"
    },
    {
     "name": "stdout",
     "output_type": "stream",
     "text": [
      "------------------------------------------------------\n",
      "Inferred types from first 100 line(s) of file as \n",
      "column_type_hints=[float,float,float,float,float,float,int,str]\n",
      "If parsing fails due to incorrect types, you can correct\n",
      "the inferred type list above and pass it to read_csv in\n",
      "the column_type_hints argument\n",
      "------------------------------------------------------\n"
     ]
    },
    {
     "data": {
      "text/html": [
       "<pre>Finished parsing file /mnt/c/Users/Karl-Jonathan/Desktop/labeledPositives/motionData 2021-04-19 08-38-59.txt</pre>"
      ],
      "text/plain": [
       "Finished parsing file /mnt/c/Users/Karl-Jonathan/Desktop/labeledPositives/motionData 2021-04-19 08-38-59.txt"
      ]
     },
     "metadata": {},
     "output_type": "display_data"
    },
    {
     "data": {
      "text/html": [
       "<pre>Parsing completed. Parsed 810 lines in 0.030903 secs.</pre>"
      ],
      "text/plain": [
       "Parsing completed. Parsed 810 lines in 0.030903 secs."
      ]
     },
     "metadata": {},
     "output_type": "display_data"
    },
    {
     "data": {
      "text/html": [
       "<pre>Finished parsing file /mnt/c/Users/Karl-Jonathan/Desktop/labeledPositives/motionData 2021-04-19 08-39-17.txt</pre>"
      ],
      "text/plain": [
       "Finished parsing file /mnt/c/Users/Karl-Jonathan/Desktop/labeledPositives/motionData 2021-04-19 08-39-17.txt"
      ]
     },
     "metadata": {},
     "output_type": "display_data"
    },
    {
     "data": {
      "text/html": [
       "<pre>Parsing completed. Parsed 100 lines in 0.031145 secs.</pre>"
      ],
      "text/plain": [
       "Parsing completed. Parsed 100 lines in 0.031145 secs."
      ]
     },
     "metadata": {},
     "output_type": "display_data"
    },
    {
     "name": "stdout",
     "output_type": "stream",
     "text": [
      "------------------------------------------------------\n",
      "Inferred types from first 100 line(s) of file as \n",
      "column_type_hints=[float,float,float,float,float,float,int,str]\n",
      "If parsing fails due to incorrect types, you can correct\n",
      "the inferred type list above and pass it to read_csv in\n",
      "the column_type_hints argument\n",
      "------------------------------------------------------\n"
     ]
    },
    {
     "data": {
      "text/html": [
       "<pre>Finished parsing file /mnt/c/Users/Karl-Jonathan/Desktop/labeledPositives/motionData 2021-04-19 08-39-17.txt</pre>"
      ],
      "text/plain": [
       "Finished parsing file /mnt/c/Users/Karl-Jonathan/Desktop/labeledPositives/motionData 2021-04-19 08-39-17.txt"
      ]
     },
     "metadata": {},
     "output_type": "display_data"
    },
    {
     "data": {
      "text/html": [
       "<pre>Parsing completed. Parsed 759 lines in 0.033377 secs.</pre>"
      ],
      "text/plain": [
       "Parsing completed. Parsed 759 lines in 0.033377 secs."
      ]
     },
     "metadata": {},
     "output_type": "display_data"
    },
    {
     "data": {
      "text/html": [
       "<pre>Finished parsing file /mnt/c/Users/Karl-Jonathan/Desktop/labeledPositives/motionData 2021-04-19 08-39-27.txt</pre>"
      ],
      "text/plain": [
       "Finished parsing file /mnt/c/Users/Karl-Jonathan/Desktop/labeledPositives/motionData 2021-04-19 08-39-27.txt"
      ]
     },
     "metadata": {},
     "output_type": "display_data"
    },
    {
     "data": {
      "text/html": [
       "<pre>Parsing completed. Parsed 100 lines in 0.03499 secs.</pre>"
      ],
      "text/plain": [
       "Parsing completed. Parsed 100 lines in 0.03499 secs."
      ]
     },
     "metadata": {},
     "output_type": "display_data"
    },
    {
     "name": "stdout",
     "output_type": "stream",
     "text": [
      "------------------------------------------------------\n",
      "Inferred types from first 100 line(s) of file as \n",
      "column_type_hints=[float,float,float,float,float,float,int,str]\n",
      "If parsing fails due to incorrect types, you can correct\n",
      "the inferred type list above and pass it to read_csv in\n",
      "the column_type_hints argument\n",
      "------------------------------------------------------\n"
     ]
    },
    {
     "data": {
      "text/html": [
       "<pre>Finished parsing file /mnt/c/Users/Karl-Jonathan/Desktop/labeledPositives/motionData 2021-04-19 08-39-27.txt</pre>"
      ],
      "text/plain": [
       "Finished parsing file /mnt/c/Users/Karl-Jonathan/Desktop/labeledPositives/motionData 2021-04-19 08-39-27.txt"
      ]
     },
     "metadata": {},
     "output_type": "display_data"
    },
    {
     "data": {
      "text/html": [
       "<pre>Parsing completed. Parsed 790 lines in 0.035232 secs.</pre>"
      ],
      "text/plain": [
       "Parsing completed. Parsed 790 lines in 0.035232 secs."
      ]
     },
     "metadata": {},
     "output_type": "display_data"
    },
    {
     "data": {
      "text/html": [
       "<pre>Finished parsing file /mnt/c/Users/Karl-Jonathan/Desktop/labeledPositives/motionData 2021-04-19 08-39-38.txt</pre>"
      ],
      "text/plain": [
       "Finished parsing file /mnt/c/Users/Karl-Jonathan/Desktop/labeledPositives/motionData 2021-04-19 08-39-38.txt"
      ]
     },
     "metadata": {},
     "output_type": "display_data"
    },
    {
     "data": {
      "text/html": [
       "<pre>Parsing completed. Parsed 100 lines in 0.035638 secs.</pre>"
      ],
      "text/plain": [
       "Parsing completed. Parsed 100 lines in 0.035638 secs."
      ]
     },
     "metadata": {},
     "output_type": "display_data"
    },
    {
     "name": "stdout",
     "output_type": "stream",
     "text": [
      "------------------------------------------------------\n",
      "Inferred types from first 100 line(s) of file as \n",
      "column_type_hints=[float,float,float,float,float,float,int,str]\n",
      "If parsing fails due to incorrect types, you can correct\n",
      "the inferred type list above and pass it to read_csv in\n",
      "the column_type_hints argument\n",
      "------------------------------------------------------\n"
     ]
    },
    {
     "data": {
      "text/html": [
       "<pre>Finished parsing file /mnt/c/Users/Karl-Jonathan/Desktop/labeledPositives/motionData 2021-04-19 08-39-38.txt</pre>"
      ],
      "text/plain": [
       "Finished parsing file /mnt/c/Users/Karl-Jonathan/Desktop/labeledPositives/motionData 2021-04-19 08-39-38.txt"
      ]
     },
     "metadata": {},
     "output_type": "display_data"
    },
    {
     "data": {
      "text/html": [
       "<pre>Parsing completed. Parsed 830 lines in 0.035718 secs.</pre>"
      ],
      "text/plain": [
       "Parsing completed. Parsed 830 lines in 0.035718 secs."
      ]
     },
     "metadata": {},
     "output_type": "display_data"
    },
    {
     "data": {
      "text/html": [
       "<pre>Finished parsing file /mnt/c/Users/Karl-Jonathan/Desktop/labeledPositives/motionData 2021-04-19 08-39-50.txt</pre>"
      ],
      "text/plain": [
       "Finished parsing file /mnt/c/Users/Karl-Jonathan/Desktop/labeledPositives/motionData 2021-04-19 08-39-50.txt"
      ]
     },
     "metadata": {},
     "output_type": "display_data"
    },
    {
     "data": {
      "text/html": [
       "<pre>Parsing completed. Parsed 100 lines in 0.035388 secs.</pre>"
      ],
      "text/plain": [
       "Parsing completed. Parsed 100 lines in 0.035388 secs."
      ]
     },
     "metadata": {},
     "output_type": "display_data"
    },
    {
     "name": "stdout",
     "output_type": "stream",
     "text": [
      "------------------------------------------------------\n",
      "Inferred types from first 100 line(s) of file as \n",
      "column_type_hints=[float,float,float,float,float,float,int,str]\n",
      "If parsing fails due to incorrect types, you can correct\n",
      "the inferred type list above and pass it to read_csv in\n",
      "the column_type_hints argument\n",
      "------------------------------------------------------\n"
     ]
    },
    {
     "data": {
      "text/html": [
       "<pre>Finished parsing file /mnt/c/Users/Karl-Jonathan/Desktop/labeledPositives/motionData 2021-04-19 08-39-50.txt</pre>"
      ],
      "text/plain": [
       "Finished parsing file /mnt/c/Users/Karl-Jonathan/Desktop/labeledPositives/motionData 2021-04-19 08-39-50.txt"
      ]
     },
     "metadata": {},
     "output_type": "display_data"
    },
    {
     "data": {
      "text/html": [
       "<pre>Parsing completed. Parsed 827 lines in 0.036289 secs.</pre>"
      ],
      "text/plain": [
       "Parsing completed. Parsed 827 lines in 0.036289 secs."
      ]
     },
     "metadata": {},
     "output_type": "display_data"
    },
    {
     "data": {
      "text/html": [
       "<pre>Finished parsing file /mnt/c/Users/Karl-Jonathan/Desktop/labeledPositives/motionData 2021-04-19 08-40-01.txt</pre>"
      ],
      "text/plain": [
       "Finished parsing file /mnt/c/Users/Karl-Jonathan/Desktop/labeledPositives/motionData 2021-04-19 08-40-01.txt"
      ]
     },
     "metadata": {},
     "output_type": "display_data"
    },
    {
     "data": {
      "text/html": [
       "<pre>Parsing completed. Parsed 100 lines in 0.035677 secs.</pre>"
      ],
      "text/plain": [
       "Parsing completed. Parsed 100 lines in 0.035677 secs."
      ]
     },
     "metadata": {},
     "output_type": "display_data"
    },
    {
     "name": "stdout",
     "output_type": "stream",
     "text": [
      "------------------------------------------------------\n",
      "Inferred types from first 100 line(s) of file as \n",
      "column_type_hints=[float,float,float,float,float,float,int,str]\n",
      "If parsing fails due to incorrect types, you can correct\n",
      "the inferred type list above and pass it to read_csv in\n",
      "the column_type_hints argument\n",
      "------------------------------------------------------\n"
     ]
    },
    {
     "data": {
      "text/html": [
       "<pre>Finished parsing file /mnt/c/Users/Karl-Jonathan/Desktop/labeledPositives/motionData 2021-04-19 08-40-01.txt</pre>"
      ],
      "text/plain": [
       "Finished parsing file /mnt/c/Users/Karl-Jonathan/Desktop/labeledPositives/motionData 2021-04-19 08-40-01.txt"
      ]
     },
     "metadata": {},
     "output_type": "display_data"
    },
    {
     "data": {
      "text/html": [
       "<pre>Parsing completed. Parsed 880 lines in 0.035424 secs.</pre>"
      ],
      "text/plain": [
       "Parsing completed. Parsed 880 lines in 0.035424 secs."
      ]
     },
     "metadata": {},
     "output_type": "display_data"
    },
    {
     "data": {
      "text/html": [
       "<pre>Finished parsing file /mnt/c/Users/Karl-Jonathan/Desktop/labeledPositives/motionData 2021-04-19 08-40-10.txt</pre>"
      ],
      "text/plain": [
       "Finished parsing file /mnt/c/Users/Karl-Jonathan/Desktop/labeledPositives/motionData 2021-04-19 08-40-10.txt"
      ]
     },
     "metadata": {},
     "output_type": "display_data"
    },
    {
     "data": {
      "text/html": [
       "<pre>Parsing completed. Parsed 100 lines in 0.035553 secs.</pre>"
      ],
      "text/plain": [
       "Parsing completed. Parsed 100 lines in 0.035553 secs."
      ]
     },
     "metadata": {},
     "output_type": "display_data"
    },
    {
     "name": "stdout",
     "output_type": "stream",
     "text": [
      "------------------------------------------------------\n",
      "Inferred types from first 100 line(s) of file as \n",
      "column_type_hints=[float,float,float,float,float,float,int,str]\n",
      "If parsing fails due to incorrect types, you can correct\n",
      "the inferred type list above and pass it to read_csv in\n",
      "the column_type_hints argument\n",
      "------------------------------------------------------\n"
     ]
    },
    {
     "data": {
      "text/html": [
       "<pre>Finished parsing file /mnt/c/Users/Karl-Jonathan/Desktop/labeledPositives/motionData 2021-04-19 08-40-10.txt</pre>"
      ],
      "text/plain": [
       "Finished parsing file /mnt/c/Users/Karl-Jonathan/Desktop/labeledPositives/motionData 2021-04-19 08-40-10.txt"
      ]
     },
     "metadata": {},
     "output_type": "display_data"
    },
    {
     "data": {
      "text/html": [
       "<pre>Parsing completed. Parsed 758 lines in 0.035621 secs.</pre>"
      ],
      "text/plain": [
       "Parsing completed. Parsed 758 lines in 0.035621 secs."
      ]
     },
     "metadata": {},
     "output_type": "display_data"
    },
    {
     "data": {
      "text/html": [
       "<pre>Finished parsing file /mnt/c/Users/Karl-Jonathan/Desktop/labeledPositives/motionData 2021-04-19 08-40-20.txt</pre>"
      ],
      "text/plain": [
       "Finished parsing file /mnt/c/Users/Karl-Jonathan/Desktop/labeledPositives/motionData 2021-04-19 08-40-20.txt"
      ]
     },
     "metadata": {},
     "output_type": "display_data"
    },
    {
     "data": {
      "text/html": [
       "<pre>Parsing completed. Parsed 100 lines in 0.035437 secs.</pre>"
      ],
      "text/plain": [
       "Parsing completed. Parsed 100 lines in 0.035437 secs."
      ]
     },
     "metadata": {},
     "output_type": "display_data"
    },
    {
     "name": "stdout",
     "output_type": "stream",
     "text": [
      "------------------------------------------------------\n",
      "Inferred types from first 100 line(s) of file as \n",
      "column_type_hints=[float,float,float,float,float,float,int,str]\n",
      "If parsing fails due to incorrect types, you can correct\n",
      "the inferred type list above and pass it to read_csv in\n",
      "the column_type_hints argument\n",
      "------------------------------------------------------\n"
     ]
    },
    {
     "data": {
      "text/html": [
       "<pre>Finished parsing file /mnt/c/Users/Karl-Jonathan/Desktop/labeledPositives/motionData 2021-04-19 08-40-20.txt</pre>"
      ],
      "text/plain": [
       "Finished parsing file /mnt/c/Users/Karl-Jonathan/Desktop/labeledPositives/motionData 2021-04-19 08-40-20.txt"
      ]
     },
     "metadata": {},
     "output_type": "display_data"
    },
    {
     "data": {
      "text/html": [
       "<pre>Parsing completed. Parsed 782 lines in 0.035953 secs.</pre>"
      ],
      "text/plain": [
       "Parsing completed. Parsed 782 lines in 0.035953 secs."
      ]
     },
     "metadata": {},
     "output_type": "display_data"
    },
    {
     "data": {
      "text/html": [
       "<pre>Finished parsing file /mnt/c/Users/Karl-Jonathan/Desktop/labeledPositives/motionData 2021-04-19 08-40-32.txt</pre>"
      ],
      "text/plain": [
       "Finished parsing file /mnt/c/Users/Karl-Jonathan/Desktop/labeledPositives/motionData 2021-04-19 08-40-32.txt"
      ]
     },
     "metadata": {},
     "output_type": "display_data"
    },
    {
     "data": {
      "text/html": [
       "<pre>Parsing completed. Parsed 100 lines in 0.035633 secs.</pre>"
      ],
      "text/plain": [
       "Parsing completed. Parsed 100 lines in 0.035633 secs."
      ]
     },
     "metadata": {},
     "output_type": "display_data"
    },
    {
     "name": "stdout",
     "output_type": "stream",
     "text": [
      "------------------------------------------------------\n",
      "Inferred types from first 100 line(s) of file as \n",
      "column_type_hints=[float,float,float,float,float,float,int,str]\n",
      "If parsing fails due to incorrect types, you can correct\n",
      "the inferred type list above and pass it to read_csv in\n",
      "the column_type_hints argument\n",
      "------------------------------------------------------\n"
     ]
    },
    {
     "data": {
      "text/html": [
       "<pre>Finished parsing file /mnt/c/Users/Karl-Jonathan/Desktop/labeledPositives/motionData 2021-04-19 08-40-32.txt</pre>"
      ],
      "text/plain": [
       "Finished parsing file /mnt/c/Users/Karl-Jonathan/Desktop/labeledPositives/motionData 2021-04-19 08-40-32.txt"
      ]
     },
     "metadata": {},
     "output_type": "display_data"
    },
    {
     "data": {
      "text/html": [
       "<pre>Parsing completed. Parsed 772 lines in 0.035532 secs.</pre>"
      ],
      "text/plain": [
       "Parsing completed. Parsed 772 lines in 0.035532 secs."
      ]
     },
     "metadata": {},
     "output_type": "display_data"
    },
    {
     "data": {
      "text/html": [
       "<pre>Finished parsing file /mnt/c/Users/Karl-Jonathan/Desktop/labeledPositives/motionData 2021-04-19 08-40-43.txt</pre>"
      ],
      "text/plain": [
       "Finished parsing file /mnt/c/Users/Karl-Jonathan/Desktop/labeledPositives/motionData 2021-04-19 08-40-43.txt"
      ]
     },
     "metadata": {},
     "output_type": "display_data"
    },
    {
     "data": {
      "text/html": [
       "<pre>Parsing completed. Parsed 100 lines in 0.035883 secs.</pre>"
      ],
      "text/plain": [
       "Parsing completed. Parsed 100 lines in 0.035883 secs."
      ]
     },
     "metadata": {},
     "output_type": "display_data"
    },
    {
     "name": "stdout",
     "output_type": "stream",
     "text": [
      "------------------------------------------------------\n",
      "Inferred types from first 100 line(s) of file as \n",
      "column_type_hints=[float,float,float,float,float,float,int,str]\n",
      "If parsing fails due to incorrect types, you can correct\n",
      "the inferred type list above and pass it to read_csv in\n",
      "the column_type_hints argument\n",
      "------------------------------------------------------\n"
     ]
    },
    {
     "data": {
      "text/html": [
       "<pre>Finished parsing file /mnt/c/Users/Karl-Jonathan/Desktop/labeledPositives/motionData 2021-04-19 08-40-43.txt</pre>"
      ],
      "text/plain": [
       "Finished parsing file /mnt/c/Users/Karl-Jonathan/Desktop/labeledPositives/motionData 2021-04-19 08-40-43.txt"
      ]
     },
     "metadata": {},
     "output_type": "display_data"
    },
    {
     "data": {
      "text/html": [
       "<pre>Parsing completed. Parsed 899 lines in 0.035921 secs.</pre>"
      ],
      "text/plain": [
       "Parsing completed. Parsed 899 lines in 0.035921 secs."
      ]
     },
     "metadata": {},
     "output_type": "display_data"
    },
    {
     "data": {
      "text/html": [
       "<pre>Finished parsing file /mnt/c/Users/Karl-Jonathan/Desktop/labeledPositives/motionData 2021-04-19 08-40-53.txt</pre>"
      ],
      "text/plain": [
       "Finished parsing file /mnt/c/Users/Karl-Jonathan/Desktop/labeledPositives/motionData 2021-04-19 08-40-53.txt"
      ]
     },
     "metadata": {},
     "output_type": "display_data"
    },
    {
     "data": {
      "text/html": [
       "<pre>Parsing completed. Parsed 100 lines in 0.03598 secs.</pre>"
      ],
      "text/plain": [
       "Parsing completed. Parsed 100 lines in 0.03598 secs."
      ]
     },
     "metadata": {},
     "output_type": "display_data"
    },
    {
     "name": "stdout",
     "output_type": "stream",
     "text": [
      "------------------------------------------------------\n",
      "Inferred types from first 100 line(s) of file as \n",
      "column_type_hints=[float,float,float,float,float,float,int,str]\n",
      "If parsing fails due to incorrect types, you can correct\n",
      "the inferred type list above and pass it to read_csv in\n",
      "the column_type_hints argument\n",
      "------------------------------------------------------\n"
     ]
    },
    {
     "data": {
      "text/html": [
       "<pre>Finished parsing file /mnt/c/Users/Karl-Jonathan/Desktop/labeledPositives/motionData 2021-04-19 08-40-53.txt</pre>"
      ],
      "text/plain": [
       "Finished parsing file /mnt/c/Users/Karl-Jonathan/Desktop/labeledPositives/motionData 2021-04-19 08-40-53.txt"
      ]
     },
     "metadata": {},
     "output_type": "display_data"
    },
    {
     "data": {
      "text/html": [
       "<pre>Parsing completed. Parsed 858 lines in 0.036319 secs.</pre>"
      ],
      "text/plain": [
       "Parsing completed. Parsed 858 lines in 0.036319 secs."
      ]
     },
     "metadata": {},
     "output_type": "display_data"
    },
    {
     "data": {
      "text/html": [
       "<pre>Finished parsing file /mnt/c/Users/Karl-Jonathan/Desktop/labeledPositives/motionData 2021-04-19 08-41-21.txt</pre>"
      ],
      "text/plain": [
       "Finished parsing file /mnt/c/Users/Karl-Jonathan/Desktop/labeledPositives/motionData 2021-04-19 08-41-21.txt"
      ]
     },
     "metadata": {},
     "output_type": "display_data"
    },
    {
     "data": {
      "text/html": [
       "<pre>Parsing completed. Parsed 100 lines in 0.033074 secs.</pre>"
      ],
      "text/plain": [
       "Parsing completed. Parsed 100 lines in 0.033074 secs."
      ]
     },
     "metadata": {},
     "output_type": "display_data"
    },
    {
     "name": "stdout",
     "output_type": "stream",
     "text": [
      "------------------------------------------------------\n",
      "Inferred types from first 100 line(s) of file as \n",
      "column_type_hints=[float,float,float,float,float,float,int,str]\n",
      "If parsing fails due to incorrect types, you can correct\n",
      "the inferred type list above and pass it to read_csv in\n",
      "the column_type_hints argument\n",
      "------------------------------------------------------\n"
     ]
    },
    {
     "data": {
      "text/html": [
       "<pre>Finished parsing file /mnt/c/Users/Karl-Jonathan/Desktop/labeledPositives/motionData 2021-04-19 08-41-21.txt</pre>"
      ],
      "text/plain": [
       "Finished parsing file /mnt/c/Users/Karl-Jonathan/Desktop/labeledPositives/motionData 2021-04-19 08-41-21.txt"
      ]
     },
     "metadata": {},
     "output_type": "display_data"
    },
    {
     "data": {
      "text/html": [
       "<pre>Parsing completed. Parsed 834 lines in 0.031122 secs.</pre>"
      ],
      "text/plain": [
       "Parsing completed. Parsed 834 lines in 0.031122 secs."
      ]
     },
     "metadata": {},
     "output_type": "display_data"
    },
    {
     "data": {
      "text/html": [
       "<pre>Finished parsing file /mnt/c/Users/Karl-Jonathan/Desktop/labeledPositives/motionData 2021-04-19 08-41-32.txt</pre>"
      ],
      "text/plain": [
       "Finished parsing file /mnt/c/Users/Karl-Jonathan/Desktop/labeledPositives/motionData 2021-04-19 08-41-32.txt"
      ]
     },
     "metadata": {},
     "output_type": "display_data"
    },
    {
     "data": {
      "text/html": [
       "<pre>Parsing completed. Parsed 100 lines in 0.030739 secs.</pre>"
      ],
      "text/plain": [
       "Parsing completed. Parsed 100 lines in 0.030739 secs."
      ]
     },
     "metadata": {},
     "output_type": "display_data"
    },
    {
     "name": "stdout",
     "output_type": "stream",
     "text": [
      "------------------------------------------------------\n",
      "Inferred types from first 100 line(s) of file as \n",
      "column_type_hints=[float,float,float,float,float,float,int,str]\n",
      "If parsing fails due to incorrect types, you can correct\n",
      "the inferred type list above and pass it to read_csv in\n",
      "the column_type_hints argument\n",
      "------------------------------------------------------\n"
     ]
    },
    {
     "data": {
      "text/html": [
       "<pre>Finished parsing file /mnt/c/Users/Karl-Jonathan/Desktop/labeledPositives/motionData 2021-04-19 08-41-32.txt</pre>"
      ],
      "text/plain": [
       "Finished parsing file /mnt/c/Users/Karl-Jonathan/Desktop/labeledPositives/motionData 2021-04-19 08-41-32.txt"
      ]
     },
     "metadata": {},
     "output_type": "display_data"
    },
    {
     "data": {
      "text/html": [
       "<pre>Parsing completed. Parsed 807 lines in 0.030954 secs.</pre>"
      ],
      "text/plain": [
       "Parsing completed. Parsed 807 lines in 0.030954 secs."
      ]
     },
     "metadata": {},
     "output_type": "display_data"
    },
    {
     "data": {
      "text/html": [
       "<pre>Finished parsing file /mnt/c/Users/Karl-Jonathan/Desktop/labeledPositives/motionData 2021-04-19 08-41-51.txt</pre>"
      ],
      "text/plain": [
       "Finished parsing file /mnt/c/Users/Karl-Jonathan/Desktop/labeledPositives/motionData 2021-04-19 08-41-51.txt"
      ]
     },
     "metadata": {},
     "output_type": "display_data"
    },
    {
     "data": {
      "text/html": [
       "<pre>Parsing completed. Parsed 100 lines in 0.033482 secs.</pre>"
      ],
      "text/plain": [
       "Parsing completed. Parsed 100 lines in 0.033482 secs."
      ]
     },
     "metadata": {},
     "output_type": "display_data"
    },
    {
     "name": "stdout",
     "output_type": "stream",
     "text": [
      "------------------------------------------------------\n",
      "Inferred types from first 100 line(s) of file as \n",
      "column_type_hints=[float,float,float,float,float,float,int,str]\n",
      "If parsing fails due to incorrect types, you can correct\n",
      "the inferred type list above and pass it to read_csv in\n",
      "the column_type_hints argument\n",
      "------------------------------------------------------\n"
     ]
    },
    {
     "data": {
      "text/html": [
       "<pre>Finished parsing file /mnt/c/Users/Karl-Jonathan/Desktop/labeledPositives/motionData 2021-04-19 08-41-51.txt</pre>"
      ],
      "text/plain": [
       "Finished parsing file /mnt/c/Users/Karl-Jonathan/Desktop/labeledPositives/motionData 2021-04-19 08-41-51.txt"
      ]
     },
     "metadata": {},
     "output_type": "display_data"
    },
    {
     "data": {
      "text/html": [
       "<pre>Parsing completed. Parsed 850 lines in 0.035043 secs.</pre>"
      ],
      "text/plain": [
       "Parsing completed. Parsed 850 lines in 0.035043 secs."
      ]
     },
     "metadata": {},
     "output_type": "display_data"
    },
    {
     "data": {
      "text/html": [
       "<pre>Finished parsing file /mnt/c/Users/Karl-Jonathan/Desktop/labeledPositives/motionData 2021-04-19 08-42-02.txt</pre>"
      ],
      "text/plain": [
       "Finished parsing file /mnt/c/Users/Karl-Jonathan/Desktop/labeledPositives/motionData 2021-04-19 08-42-02.txt"
      ]
     },
     "metadata": {},
     "output_type": "display_data"
    },
    {
     "data": {
      "text/html": [
       "<pre>Parsing completed. Parsed 100 lines in 0.035379 secs.</pre>"
      ],
      "text/plain": [
       "Parsing completed. Parsed 100 lines in 0.035379 secs."
      ]
     },
     "metadata": {},
     "output_type": "display_data"
    },
    {
     "name": "stdout",
     "output_type": "stream",
     "text": [
      "------------------------------------------------------\n",
      "Inferred types from first 100 line(s) of file as \n",
      "column_type_hints=[float,float,float,float,float,float,int,str]\n",
      "If parsing fails due to incorrect types, you can correct\n",
      "the inferred type list above and pass it to read_csv in\n",
      "the column_type_hints argument\n",
      "------------------------------------------------------\n"
     ]
    },
    {
     "data": {
      "text/html": [
       "<pre>Finished parsing file /mnt/c/Users/Karl-Jonathan/Desktop/labeledPositives/motionData 2021-04-19 08-42-02.txt</pre>"
      ],
      "text/plain": [
       "Finished parsing file /mnt/c/Users/Karl-Jonathan/Desktop/labeledPositives/motionData 2021-04-19 08-42-02.txt"
      ]
     },
     "metadata": {},
     "output_type": "display_data"
    },
    {
     "data": {
      "text/html": [
       "<pre>Parsing completed. Parsed 928 lines in 0.035573 secs.</pre>"
      ],
      "text/plain": [
       "Parsing completed. Parsed 928 lines in 0.035573 secs."
      ]
     },
     "metadata": {},
     "output_type": "display_data"
    },
    {
     "data": {
      "text/html": [
       "<pre>Finished parsing file /mnt/c/Users/Karl-Jonathan/Desktop/labeledPositives/motionData 2021-04-19 08-42-13.txt</pre>"
      ],
      "text/plain": [
       "Finished parsing file /mnt/c/Users/Karl-Jonathan/Desktop/labeledPositives/motionData 2021-04-19 08-42-13.txt"
      ]
     },
     "metadata": {},
     "output_type": "display_data"
    },
    {
     "data": {
      "text/html": [
       "<pre>Parsing completed. Parsed 100 lines in 0.035513 secs.</pre>"
      ],
      "text/plain": [
       "Parsing completed. Parsed 100 lines in 0.035513 secs."
      ]
     },
     "metadata": {},
     "output_type": "display_data"
    },
    {
     "name": "stdout",
     "output_type": "stream",
     "text": [
      "------------------------------------------------------\n",
      "Inferred types from first 100 line(s) of file as \n",
      "column_type_hints=[float,float,float,float,float,float,int,str]\n",
      "If parsing fails due to incorrect types, you can correct\n",
      "the inferred type list above and pass it to read_csv in\n",
      "the column_type_hints argument\n",
      "------------------------------------------------------\n"
     ]
    },
    {
     "data": {
      "text/html": [
       "<pre>Finished parsing file /mnt/c/Users/Karl-Jonathan/Desktop/labeledPositives/motionData 2021-04-19 08-42-13.txt</pre>"
      ],
      "text/plain": [
       "Finished parsing file /mnt/c/Users/Karl-Jonathan/Desktop/labeledPositives/motionData 2021-04-19 08-42-13.txt"
      ]
     },
     "metadata": {},
     "output_type": "display_data"
    },
    {
     "data": {
      "text/html": [
       "<pre>Parsing completed. Parsed 816 lines in 0.035457 secs.</pre>"
      ],
      "text/plain": [
       "Parsing completed. Parsed 816 lines in 0.035457 secs."
      ]
     },
     "metadata": {},
     "output_type": "display_data"
    },
    {
     "data": {
      "text/html": [
       "<pre>Finished parsing file /mnt/c/Users/Karl-Jonathan/Desktop/labeledPositives/motionData 2021-04-19 08-42-26.txt</pre>"
      ],
      "text/plain": [
       "Finished parsing file /mnt/c/Users/Karl-Jonathan/Desktop/labeledPositives/motionData 2021-04-19 08-42-26.txt"
      ]
     },
     "metadata": {},
     "output_type": "display_data"
    },
    {
     "data": {
      "text/html": [
       "<pre>Parsing completed. Parsed 100 lines in 0.035414 secs.</pre>"
      ],
      "text/plain": [
       "Parsing completed. Parsed 100 lines in 0.035414 secs."
      ]
     },
     "metadata": {},
     "output_type": "display_data"
    },
    {
     "name": "stdout",
     "output_type": "stream",
     "text": [
      "------------------------------------------------------\n",
      "Inferred types from first 100 line(s) of file as \n",
      "column_type_hints=[float,float,float,float,float,float,int,str]\n",
      "If parsing fails due to incorrect types, you can correct\n",
      "the inferred type list above and pass it to read_csv in\n",
      "the column_type_hints argument\n",
      "------------------------------------------------------\n"
     ]
    },
    {
     "data": {
      "text/html": [
       "<pre>Finished parsing file /mnt/c/Users/Karl-Jonathan/Desktop/labeledPositives/motionData 2021-04-19 08-42-26.txt</pre>"
      ],
      "text/plain": [
       "Finished parsing file /mnt/c/Users/Karl-Jonathan/Desktop/labeledPositives/motionData 2021-04-19 08-42-26.txt"
      ]
     },
     "metadata": {},
     "output_type": "display_data"
    },
    {
     "data": {
      "text/html": [
       "<pre>Parsing completed. Parsed 778 lines in 0.03595 secs.</pre>"
      ],
      "text/plain": [
       "Parsing completed. Parsed 778 lines in 0.03595 secs."
      ]
     },
     "metadata": {},
     "output_type": "display_data"
    },
    {
     "data": {
      "text/html": [
       "<pre>Finished parsing file /mnt/c/Users/Karl-Jonathan/Desktop/labeledPositives/motionData 2021-04-19 08-42-36.txt</pre>"
      ],
      "text/plain": [
       "Finished parsing file /mnt/c/Users/Karl-Jonathan/Desktop/labeledPositives/motionData 2021-04-19 08-42-36.txt"
      ]
     },
     "metadata": {},
     "output_type": "display_data"
    },
    {
     "data": {
      "text/html": [
       "<pre>Parsing completed. Parsed 100 lines in 0.035499 secs.</pre>"
      ],
      "text/plain": [
       "Parsing completed. Parsed 100 lines in 0.035499 secs."
      ]
     },
     "metadata": {},
     "output_type": "display_data"
    },
    {
     "name": "stdout",
     "output_type": "stream",
     "text": [
      "------------------------------------------------------\n",
      "Inferred types from first 100 line(s) of file as \n",
      "column_type_hints=[float,float,float,float,float,float,int,str]\n",
      "If parsing fails due to incorrect types, you can correct\n",
      "the inferred type list above and pass it to read_csv in\n",
      "the column_type_hints argument\n",
      "------------------------------------------------------\n"
     ]
    },
    {
     "data": {
      "text/html": [
       "<pre>Finished parsing file /mnt/c/Users/Karl-Jonathan/Desktop/labeledPositives/motionData 2021-04-19 08-42-36.txt</pre>"
      ],
      "text/plain": [
       "Finished parsing file /mnt/c/Users/Karl-Jonathan/Desktop/labeledPositives/motionData 2021-04-19 08-42-36.txt"
      ]
     },
     "metadata": {},
     "output_type": "display_data"
    },
    {
     "data": {
      "text/html": [
       "<pre>Parsing completed. Parsed 780 lines in 0.035797 secs.</pre>"
      ],
      "text/plain": [
       "Parsing completed. Parsed 780 lines in 0.035797 secs."
      ]
     },
     "metadata": {},
     "output_type": "display_data"
    },
    {
     "data": {
      "text/html": [
       "<pre>Finished parsing file /mnt/c/Users/Karl-Jonathan/Desktop/labeledPositives/motionData 2021-04-19 08-42-47.txt</pre>"
      ],
      "text/plain": [
       "Finished parsing file /mnt/c/Users/Karl-Jonathan/Desktop/labeledPositives/motionData 2021-04-19 08-42-47.txt"
      ]
     },
     "metadata": {},
     "output_type": "display_data"
    },
    {
     "data": {
      "text/html": [
       "<pre>Parsing completed. Parsed 100 lines in 0.035305 secs.</pre>"
      ],
      "text/plain": [
       "Parsing completed. Parsed 100 lines in 0.035305 secs."
      ]
     },
     "metadata": {},
     "output_type": "display_data"
    },
    {
     "name": "stdout",
     "output_type": "stream",
     "text": [
      "------------------------------------------------------\n",
      "Inferred types from first 100 line(s) of file as \n",
      "column_type_hints=[float,float,float,float,float,float,int,str]\n",
      "If parsing fails due to incorrect types, you can correct\n",
      "the inferred type list above and pass it to read_csv in\n",
      "the column_type_hints argument\n",
      "------------------------------------------------------\n"
     ]
    },
    {
     "data": {
      "text/html": [
       "<pre>Finished parsing file /mnt/c/Users/Karl-Jonathan/Desktop/labeledPositives/motionData 2021-04-19 08-42-47.txt</pre>"
      ],
      "text/plain": [
       "Finished parsing file /mnt/c/Users/Karl-Jonathan/Desktop/labeledPositives/motionData 2021-04-19 08-42-47.txt"
      ]
     },
     "metadata": {},
     "output_type": "display_data"
    },
    {
     "data": {
      "text/html": [
       "<pre>Parsing completed. Parsed 866 lines in 0.03593 secs.</pre>"
      ],
      "text/plain": [
       "Parsing completed. Parsed 866 lines in 0.03593 secs."
      ]
     },
     "metadata": {},
     "output_type": "display_data"
    },
    {
     "data": {
      "text/html": [
       "<pre>Finished parsing file /mnt/c/Users/Karl-Jonathan/Desktop/labeledPositives/motionData 2021-04-19 08-43-01.txt</pre>"
      ],
      "text/plain": [
       "Finished parsing file /mnt/c/Users/Karl-Jonathan/Desktop/labeledPositives/motionData 2021-04-19 08-43-01.txt"
      ]
     },
     "metadata": {},
     "output_type": "display_data"
    },
    {
     "data": {
      "text/html": [
       "<pre>Parsing completed. Parsed 100 lines in 0.035985 secs.</pre>"
      ],
      "text/plain": [
       "Parsing completed. Parsed 100 lines in 0.035985 secs."
      ]
     },
     "metadata": {},
     "output_type": "display_data"
    },
    {
     "name": "stdout",
     "output_type": "stream",
     "text": [
      "------------------------------------------------------\n",
      "Inferred types from first 100 line(s) of file as \n",
      "column_type_hints=[float,float,float,float,float,float,int,str]\n",
      "If parsing fails due to incorrect types, you can correct\n",
      "the inferred type list above and pass it to read_csv in\n",
      "the column_type_hints argument\n",
      "------------------------------------------------------\n"
     ]
    },
    {
     "data": {
      "text/html": [
       "<pre>Finished parsing file /mnt/c/Users/Karl-Jonathan/Desktop/labeledPositives/motionData 2021-04-19 08-43-01.txt</pre>"
      ],
      "text/plain": [
       "Finished parsing file /mnt/c/Users/Karl-Jonathan/Desktop/labeledPositives/motionData 2021-04-19 08-43-01.txt"
      ]
     },
     "metadata": {},
     "output_type": "display_data"
    },
    {
     "data": {
      "text/html": [
       "<pre>Parsing completed. Parsed 999 lines in 0.035633 secs.</pre>"
      ],
      "text/plain": [
       "Parsing completed. Parsed 999 lines in 0.035633 secs."
      ]
     },
     "metadata": {},
     "output_type": "display_data"
    },
    {
     "data": {
      "text/html": [
       "<pre>Finished parsing file /mnt/c/Users/Karl-Jonathan/Desktop/labeledPositives/motionData 2021-04-19 08-43-14.txt</pre>"
      ],
      "text/plain": [
       "Finished parsing file /mnt/c/Users/Karl-Jonathan/Desktop/labeledPositives/motionData 2021-04-19 08-43-14.txt"
      ]
     },
     "metadata": {},
     "output_type": "display_data"
    },
    {
     "data": {
      "text/html": [
       "<pre>Parsing completed. Parsed 100 lines in 0.035647 secs.</pre>"
      ],
      "text/plain": [
       "Parsing completed. Parsed 100 lines in 0.035647 secs."
      ]
     },
     "metadata": {},
     "output_type": "display_data"
    },
    {
     "name": "stdout",
     "output_type": "stream",
     "text": [
      "------------------------------------------------------\n",
      "Inferred types from first 100 line(s) of file as \n",
      "column_type_hints=[float,float,float,float,float,float,int,str]\n",
      "If parsing fails due to incorrect types, you can correct\n",
      "the inferred type list above and pass it to read_csv in\n",
      "the column_type_hints argument\n",
      "------------------------------------------------------\n"
     ]
    },
    {
     "data": {
      "text/html": [
       "<pre>Finished parsing file /mnt/c/Users/Karl-Jonathan/Desktop/labeledPositives/motionData 2021-04-19 08-43-14.txt</pre>"
      ],
      "text/plain": [
       "Finished parsing file /mnt/c/Users/Karl-Jonathan/Desktop/labeledPositives/motionData 2021-04-19 08-43-14.txt"
      ]
     },
     "metadata": {},
     "output_type": "display_data"
    },
    {
     "data": {
      "text/html": [
       "<pre>Parsing completed. Parsed 988 lines in 0.036107 secs.</pre>"
      ],
      "text/plain": [
       "Parsing completed. Parsed 988 lines in 0.036107 secs."
      ]
     },
     "metadata": {},
     "output_type": "display_data"
    },
    {
     "data": {
      "text/html": [
       "<pre>Finished parsing file /mnt/c/Users/Karl-Jonathan/Desktop/labeledPositives/motionData 2021-04-19 08-43-35.txt</pre>"
      ],
      "text/plain": [
       "Finished parsing file /mnt/c/Users/Karl-Jonathan/Desktop/labeledPositives/motionData 2021-04-19 08-43-35.txt"
      ]
     },
     "metadata": {},
     "output_type": "display_data"
    },
    {
     "data": {
      "text/html": [
       "<pre>Parsing completed. Parsed 100 lines in 0.035845 secs.</pre>"
      ],
      "text/plain": [
       "Parsing completed. Parsed 100 lines in 0.035845 secs."
      ]
     },
     "metadata": {},
     "output_type": "display_data"
    },
    {
     "name": "stdout",
     "output_type": "stream",
     "text": [
      "------------------------------------------------------\n",
      "Inferred types from first 100 line(s) of file as \n",
      "column_type_hints=[float,float,float,float,float,float,int,str]\n",
      "If parsing fails due to incorrect types, you can correct\n",
      "the inferred type list above and pass it to read_csv in\n",
      "the column_type_hints argument\n",
      "------------------------------------------------------\n"
     ]
    },
    {
     "data": {
      "text/html": [
       "<pre>Finished parsing file /mnt/c/Users/Karl-Jonathan/Desktop/labeledPositives/motionData 2021-04-19 08-43-35.txt</pre>"
      ],
      "text/plain": [
       "Finished parsing file /mnt/c/Users/Karl-Jonathan/Desktop/labeledPositives/motionData 2021-04-19 08-43-35.txt"
      ]
     },
     "metadata": {},
     "output_type": "display_data"
    },
    {
     "data": {
      "text/html": [
       "<pre>Parsing completed. Parsed 990 lines in 0.036031 secs.</pre>"
      ],
      "text/plain": [
       "Parsing completed. Parsed 990 lines in 0.036031 secs."
      ]
     },
     "metadata": {},
     "output_type": "display_data"
    },
    {
     "data": {
      "text/html": [
       "<pre>Finished parsing file /mnt/c/Users/Karl-Jonathan/Desktop/labeledPositives/motionData 2021-04-19 08-43-49.txt</pre>"
      ],
      "text/plain": [
       "Finished parsing file /mnt/c/Users/Karl-Jonathan/Desktop/labeledPositives/motionData 2021-04-19 08-43-49.txt"
      ]
     },
     "metadata": {},
     "output_type": "display_data"
    },
    {
     "data": {
      "text/html": [
       "<pre>Parsing completed. Parsed 100 lines in 0.035633 secs.</pre>"
      ],
      "text/plain": [
       "Parsing completed. Parsed 100 lines in 0.035633 secs."
      ]
     },
     "metadata": {},
     "output_type": "display_data"
    },
    {
     "name": "stdout",
     "output_type": "stream",
     "text": [
      "------------------------------------------------------\n",
      "Inferred types from first 100 line(s) of file as \n",
      "column_type_hints=[float,float,float,float,float,float,int,str]\n",
      "If parsing fails due to incorrect types, you can correct\n",
      "the inferred type list above and pass it to read_csv in\n",
      "the column_type_hints argument\n",
      "------------------------------------------------------\n"
     ]
    },
    {
     "data": {
      "text/html": [
       "<pre>Finished parsing file /mnt/c/Users/Karl-Jonathan/Desktop/labeledPositives/motionData 2021-04-19 08-43-49.txt</pre>"
      ],
      "text/plain": [
       "Finished parsing file /mnt/c/Users/Karl-Jonathan/Desktop/labeledPositives/motionData 2021-04-19 08-43-49.txt"
      ]
     },
     "metadata": {},
     "output_type": "display_data"
    },
    {
     "data": {
      "text/html": [
       "<pre>Parsing completed. Parsed 929 lines in 0.033296 secs.</pre>"
      ],
      "text/plain": [
       "Parsing completed. Parsed 929 lines in 0.033296 secs."
      ]
     },
     "metadata": {},
     "output_type": "display_data"
    },
    {
     "data": {
      "text/html": [
       "<pre>Finished parsing file /mnt/c/Users/Karl-Jonathan/Desktop/labeledPositives/motionData 2021-04-19 08-44-00.txt</pre>"
      ],
      "text/plain": [
       "Finished parsing file /mnt/c/Users/Karl-Jonathan/Desktop/labeledPositives/motionData 2021-04-19 08-44-00.txt"
      ]
     },
     "metadata": {},
     "output_type": "display_data"
    },
    {
     "data": {
      "text/html": [
       "<pre>Parsing completed. Parsed 100 lines in 0.030975 secs.</pre>"
      ],
      "text/plain": [
       "Parsing completed. Parsed 100 lines in 0.030975 secs."
      ]
     },
     "metadata": {},
     "output_type": "display_data"
    },
    {
     "name": "stdout",
     "output_type": "stream",
     "text": [
      "------------------------------------------------------\n",
      "Inferred types from first 100 line(s) of file as \n",
      "column_type_hints=[float,float,float,float,float,float,int,str]\n",
      "If parsing fails due to incorrect types, you can correct\n",
      "the inferred type list above and pass it to read_csv in\n",
      "the column_type_hints argument\n",
      "------------------------------------------------------\n"
     ]
    },
    {
     "data": {
      "text/html": [
       "<pre>Finished parsing file /mnt/c/Users/Karl-Jonathan/Desktop/labeledPositives/motionData 2021-04-19 08-44-00.txt</pre>"
      ],
      "text/plain": [
       "Finished parsing file /mnt/c/Users/Karl-Jonathan/Desktop/labeledPositives/motionData 2021-04-19 08-44-00.txt"
      ]
     },
     "metadata": {},
     "output_type": "display_data"
    },
    {
     "data": {
      "text/html": [
       "<pre>Parsing completed. Parsed 866 lines in 0.031086 secs.</pre>"
      ],
      "text/plain": [
       "Parsing completed. Parsed 866 lines in 0.031086 secs."
      ]
     },
     "metadata": {},
     "output_type": "display_data"
    },
    {
     "data": {
      "text/html": [
       "<pre>Finished parsing file /mnt/c/Users/Karl-Jonathan/Desktop/labeledPositives/motionData 2021-04-19 08-44-10.txt</pre>"
      ],
      "text/plain": [
       "Finished parsing file /mnt/c/Users/Karl-Jonathan/Desktop/labeledPositives/motionData 2021-04-19 08-44-10.txt"
      ]
     },
     "metadata": {},
     "output_type": "display_data"
    },
    {
     "data": {
      "text/html": [
       "<pre>Parsing completed. Parsed 100 lines in 0.031206 secs.</pre>"
      ],
      "text/plain": [
       "Parsing completed. Parsed 100 lines in 0.031206 secs."
      ]
     },
     "metadata": {},
     "output_type": "display_data"
    },
    {
     "name": "stdout",
     "output_type": "stream",
     "text": [
      "------------------------------------------------------\n",
      "Inferred types from first 100 line(s) of file as \n",
      "column_type_hints=[float,float,float,float,float,float,int,str]\n",
      "If parsing fails due to incorrect types, you can correct\n",
      "the inferred type list above and pass it to read_csv in\n",
      "the column_type_hints argument\n",
      "------------------------------------------------------\n"
     ]
    },
    {
     "data": {
      "text/html": [
       "<pre>Finished parsing file /mnt/c/Users/Karl-Jonathan/Desktop/labeledPositives/motionData 2021-04-19 08-44-10.txt</pre>"
      ],
      "text/plain": [
       "Finished parsing file /mnt/c/Users/Karl-Jonathan/Desktop/labeledPositives/motionData 2021-04-19 08-44-10.txt"
      ]
     },
     "metadata": {},
     "output_type": "display_data"
    },
    {
     "data": {
      "text/html": [
       "<pre>Parsing completed. Parsed 841 lines in 0.033428 secs.</pre>"
      ],
      "text/plain": [
       "Parsing completed. Parsed 841 lines in 0.033428 secs."
      ]
     },
     "metadata": {},
     "output_type": "display_data"
    },
    {
     "data": {
      "text/html": [
       "<pre>Finished parsing file /mnt/c/Users/Karl-Jonathan/Desktop/labeledPositives/motionData 2021-04-19 08-44-22.txt</pre>"
      ],
      "text/plain": [
       "Finished parsing file /mnt/c/Users/Karl-Jonathan/Desktop/labeledPositives/motionData 2021-04-19 08-44-22.txt"
      ]
     },
     "metadata": {},
     "output_type": "display_data"
    },
    {
     "data": {
      "text/html": [
       "<pre>Parsing completed. Parsed 100 lines in 0.035094 secs.</pre>"
      ],
      "text/plain": [
       "Parsing completed. Parsed 100 lines in 0.035094 secs."
      ]
     },
     "metadata": {},
     "output_type": "display_data"
    },
    {
     "name": "stdout",
     "output_type": "stream",
     "text": [
      "------------------------------------------------------\n",
      "Inferred types from first 100 line(s) of file as \n",
      "column_type_hints=[float,float,float,float,float,float,int,str]\n",
      "If parsing fails due to incorrect types, you can correct\n",
      "the inferred type list above and pass it to read_csv in\n",
      "the column_type_hints argument\n",
      "------------------------------------------------------\n"
     ]
    },
    {
     "data": {
      "text/html": [
       "<pre>Finished parsing file /mnt/c/Users/Karl-Jonathan/Desktop/labeledPositives/motionData 2021-04-19 08-44-22.txt</pre>"
      ],
      "text/plain": [
       "Finished parsing file /mnt/c/Users/Karl-Jonathan/Desktop/labeledPositives/motionData 2021-04-19 08-44-22.txt"
      ]
     },
     "metadata": {},
     "output_type": "display_data"
    },
    {
     "data": {
      "text/html": [
       "<pre>Parsing completed. Parsed 894 lines in 0.035608 secs.</pre>"
      ],
      "text/plain": [
       "Parsing completed. Parsed 894 lines in 0.035608 secs."
      ]
     },
     "metadata": {},
     "output_type": "display_data"
    },
    {
     "data": {
      "text/html": [
       "<pre>Finished parsing file /mnt/c/Users/Karl-Jonathan/Desktop/labeledPositives/motionData 2021-04-19 08-44-34.txt</pre>"
      ],
      "text/plain": [
       "Finished parsing file /mnt/c/Users/Karl-Jonathan/Desktop/labeledPositives/motionData 2021-04-19 08-44-34.txt"
      ]
     },
     "metadata": {},
     "output_type": "display_data"
    },
    {
     "data": {
      "text/html": [
       "<pre>Parsing completed. Parsed 100 lines in 0.035429 secs.</pre>"
      ],
      "text/plain": [
       "Parsing completed. Parsed 100 lines in 0.035429 secs."
      ]
     },
     "metadata": {},
     "output_type": "display_data"
    },
    {
     "name": "stdout",
     "output_type": "stream",
     "text": [
      "------------------------------------------------------\n",
      "Inferred types from first 100 line(s) of file as \n",
      "column_type_hints=[float,float,float,float,float,float,int,str]\n",
      "If parsing fails due to incorrect types, you can correct\n",
      "the inferred type list above and pass it to read_csv in\n",
      "the column_type_hints argument\n",
      "------------------------------------------------------\n"
     ]
    },
    {
     "data": {
      "text/html": [
       "<pre>Finished parsing file /mnt/c/Users/Karl-Jonathan/Desktop/labeledPositives/motionData 2021-04-19 08-44-34.txt</pre>"
      ],
      "text/plain": [
       "Finished parsing file /mnt/c/Users/Karl-Jonathan/Desktop/labeledPositives/motionData 2021-04-19 08-44-34.txt"
      ]
     },
     "metadata": {},
     "output_type": "display_data"
    },
    {
     "data": {
      "text/html": [
       "<pre>Parsing completed. Parsed 861 lines in 0.035638 secs.</pre>"
      ],
      "text/plain": [
       "Parsing completed. Parsed 861 lines in 0.035638 secs."
      ]
     },
     "metadata": {},
     "output_type": "display_data"
    },
    {
     "data": {
      "text/html": [
       "<pre>Finished parsing file /mnt/c/Users/Karl-Jonathan/Desktop/labeledPositives/motionData 2021-04-19 08-44-45.txt</pre>"
      ],
      "text/plain": [
       "Finished parsing file /mnt/c/Users/Karl-Jonathan/Desktop/labeledPositives/motionData 2021-04-19 08-44-45.txt"
      ]
     },
     "metadata": {},
     "output_type": "display_data"
    },
    {
     "data": {
      "text/html": [
       "<pre>Parsing completed. Parsed 100 lines in 0.035652 secs.</pre>"
      ],
      "text/plain": [
       "Parsing completed. Parsed 100 lines in 0.035652 secs."
      ]
     },
     "metadata": {},
     "output_type": "display_data"
    },
    {
     "name": "stdout",
     "output_type": "stream",
     "text": [
      "------------------------------------------------------\n",
      "Inferred types from first 100 line(s) of file as \n",
      "column_type_hints=[float,float,float,float,float,float,int,str]\n",
      "If parsing fails due to incorrect types, you can correct\n",
      "the inferred type list above and pass it to read_csv in\n",
      "the column_type_hints argument\n",
      "------------------------------------------------------\n"
     ]
    },
    {
     "data": {
      "text/html": [
       "<pre>Finished parsing file /mnt/c/Users/Karl-Jonathan/Desktop/labeledPositives/motionData 2021-04-19 08-44-45.txt</pre>"
      ],
      "text/plain": [
       "Finished parsing file /mnt/c/Users/Karl-Jonathan/Desktop/labeledPositives/motionData 2021-04-19 08-44-45.txt"
      ]
     },
     "metadata": {},
     "output_type": "display_data"
    },
    {
     "data": {
      "text/html": [
       "<pre>Parsing completed. Parsed 861 lines in 0.035775 secs.</pre>"
      ],
      "text/plain": [
       "Parsing completed. Parsed 861 lines in 0.035775 secs."
      ]
     },
     "metadata": {},
     "output_type": "display_data"
    },
    {
     "data": {
      "text/html": [
       "<pre>Finished parsing file /mnt/c/Users/Karl-Jonathan/Desktop/labeledPositives/motionData 2021-04-19 08-44-58.txt</pre>"
      ],
      "text/plain": [
       "Finished parsing file /mnt/c/Users/Karl-Jonathan/Desktop/labeledPositives/motionData 2021-04-19 08-44-58.txt"
      ]
     },
     "metadata": {},
     "output_type": "display_data"
    },
    {
     "data": {
      "text/html": [
       "<pre>Parsing completed. Parsed 100 lines in 0.035647 secs.</pre>"
      ],
      "text/plain": [
       "Parsing completed. Parsed 100 lines in 0.035647 secs."
      ]
     },
     "metadata": {},
     "output_type": "display_data"
    },
    {
     "name": "stdout",
     "output_type": "stream",
     "text": [
      "------------------------------------------------------\n",
      "Inferred types from first 100 line(s) of file as \n",
      "column_type_hints=[float,float,float,float,float,float,int,str]\n",
      "If parsing fails due to incorrect types, you can correct\n",
      "the inferred type list above and pass it to read_csv in\n",
      "the column_type_hints argument\n",
      "------------------------------------------------------\n"
     ]
    },
    {
     "data": {
      "text/html": [
       "<pre>Finished parsing file /mnt/c/Users/Karl-Jonathan/Desktop/labeledPositives/motionData 2021-04-19 08-44-58.txt</pre>"
      ],
      "text/plain": [
       "Finished parsing file /mnt/c/Users/Karl-Jonathan/Desktop/labeledPositives/motionData 2021-04-19 08-44-58.txt"
      ]
     },
     "metadata": {},
     "output_type": "display_data"
    },
    {
     "data": {
      "text/html": [
       "<pre>Parsing completed. Parsed 1021 lines in 0.036583 secs.</pre>"
      ],
      "text/plain": [
       "Parsing completed. Parsed 1021 lines in 0.036583 secs."
      ]
     },
     "metadata": {},
     "output_type": "display_data"
    },
    {
     "data": {
      "text/html": [
       "<pre>Finished parsing file /mnt/c/Users/Karl-Jonathan/Desktop/labeledPositives/motionData 2021-04-19 08-45-08.txt</pre>"
      ],
      "text/plain": [
       "Finished parsing file /mnt/c/Users/Karl-Jonathan/Desktop/labeledPositives/motionData 2021-04-19 08-45-08.txt"
      ]
     },
     "metadata": {},
     "output_type": "display_data"
    },
    {
     "data": {
      "text/html": [
       "<pre>Parsing completed. Parsed 100 lines in 0.035173 secs.</pre>"
      ],
      "text/plain": [
       "Parsing completed. Parsed 100 lines in 0.035173 secs."
      ]
     },
     "metadata": {},
     "output_type": "display_data"
    },
    {
     "name": "stdout",
     "output_type": "stream",
     "text": [
      "------------------------------------------------------\n",
      "Inferred types from first 100 line(s) of file as \n",
      "column_type_hints=[float,float,float,float,float,float,int,str]\n",
      "If parsing fails due to incorrect types, you can correct\n",
      "the inferred type list above and pass it to read_csv in\n",
      "the column_type_hints argument\n",
      "------------------------------------------------------\n"
     ]
    },
    {
     "data": {
      "text/html": [
       "<pre>Finished parsing file /mnt/c/Users/Karl-Jonathan/Desktop/labeledPositives/motionData 2021-04-19 08-45-08.txt</pre>"
      ],
      "text/plain": [
       "Finished parsing file /mnt/c/Users/Karl-Jonathan/Desktop/labeledPositives/motionData 2021-04-19 08-45-08.txt"
      ]
     },
     "metadata": {},
     "output_type": "display_data"
    },
    {
     "data": {
      "text/html": [
       "<pre>Parsing completed. Parsed 835 lines in 0.035576 secs.</pre>"
      ],
      "text/plain": [
       "Parsing completed. Parsed 835 lines in 0.035576 secs."
      ]
     },
     "metadata": {},
     "output_type": "display_data"
    },
    {
     "data": {
      "text/html": [
       "<pre>Finished parsing file /mnt/c/Users/Karl-Jonathan/Desktop/labeledPositives/motionData 2021-04-19 08-45-50.txt</pre>"
      ],
      "text/plain": [
       "Finished parsing file /mnt/c/Users/Karl-Jonathan/Desktop/labeledPositives/motionData 2021-04-19 08-45-50.txt"
      ]
     },
     "metadata": {},
     "output_type": "display_data"
    },
    {
     "data": {
      "text/html": [
       "<pre>Parsing completed. Parsed 100 lines in 0.036004 secs.</pre>"
      ],
      "text/plain": [
       "Parsing completed. Parsed 100 lines in 0.036004 secs."
      ]
     },
     "metadata": {},
     "output_type": "display_data"
    },
    {
     "name": "stdout",
     "output_type": "stream",
     "text": [
      "------------------------------------------------------\n",
      "Inferred types from first 100 line(s) of file as \n",
      "column_type_hints=[float,float,float,float,float,float,int,str]\n",
      "If parsing fails due to incorrect types, you can correct\n",
      "the inferred type list above and pass it to read_csv in\n",
      "the column_type_hints argument\n",
      "------------------------------------------------------\n"
     ]
    },
    {
     "data": {
      "text/html": [
       "<pre>Finished parsing file /mnt/c/Users/Karl-Jonathan/Desktop/labeledPositives/motionData 2021-04-19 08-45-50.txt</pre>"
      ],
      "text/plain": [
       "Finished parsing file /mnt/c/Users/Karl-Jonathan/Desktop/labeledPositives/motionData 2021-04-19 08-45-50.txt"
      ]
     },
     "metadata": {},
     "output_type": "display_data"
    },
    {
     "data": {
      "text/html": [
       "<pre>Parsing completed. Parsed 964 lines in 0.035938 secs.</pre>"
      ],
      "text/plain": [
       "Parsing completed. Parsed 964 lines in 0.035938 secs."
      ]
     },
     "metadata": {},
     "output_type": "display_data"
    },
    {
     "data": {
      "text/html": [
       "<pre>Finished parsing file /mnt/c/Users/Karl-Jonathan/Desktop/labeledPositives/motionData 2021-04-19 08-46-02.txt</pre>"
      ],
      "text/plain": [
       "Finished parsing file /mnt/c/Users/Karl-Jonathan/Desktop/labeledPositives/motionData 2021-04-19 08-46-02.txt"
      ]
     },
     "metadata": {},
     "output_type": "display_data"
    },
    {
     "data": {
      "text/html": [
       "<pre>Parsing completed. Parsed 100 lines in 0.035632 secs.</pre>"
      ],
      "text/plain": [
       "Parsing completed. Parsed 100 lines in 0.035632 secs."
      ]
     },
     "metadata": {},
     "output_type": "display_data"
    },
    {
     "name": "stdout",
     "output_type": "stream",
     "text": [
      "------------------------------------------------------\n",
      "Inferred types from first 100 line(s) of file as \n",
      "column_type_hints=[float,float,float,float,float,float,int,str]\n",
      "If parsing fails due to incorrect types, you can correct\n",
      "the inferred type list above and pass it to read_csv in\n",
      "the column_type_hints argument\n",
      "------------------------------------------------------\n"
     ]
    },
    {
     "data": {
      "text/html": [
       "<pre>Finished parsing file /mnt/c/Users/Karl-Jonathan/Desktop/labeledPositives/motionData 2021-04-19 08-46-02.txt</pre>"
      ],
      "text/plain": [
       "Finished parsing file /mnt/c/Users/Karl-Jonathan/Desktop/labeledPositives/motionData 2021-04-19 08-46-02.txt"
      ]
     },
     "metadata": {},
     "output_type": "display_data"
    },
    {
     "data": {
      "text/html": [
       "<pre>Parsing completed. Parsed 937 lines in 0.035658 secs.</pre>"
      ],
      "text/plain": [
       "Parsing completed. Parsed 937 lines in 0.035658 secs."
      ]
     },
     "metadata": {},
     "output_type": "display_data"
    },
    {
     "data": {
      "text/html": [
       "<pre>Finished parsing file /mnt/c/Users/Karl-Jonathan/Desktop/labeledPositives/motionData 2021-04-19 08-47-15.txt</pre>"
      ],
      "text/plain": [
       "Finished parsing file /mnt/c/Users/Karl-Jonathan/Desktop/labeledPositives/motionData 2021-04-19 08-47-15.txt"
      ]
     },
     "metadata": {},
     "output_type": "display_data"
    },
    {
     "data": {
      "text/html": [
       "<pre>Parsing completed. Parsed 100 lines in 0.0359 secs.</pre>"
      ],
      "text/plain": [
       "Parsing completed. Parsed 100 lines in 0.0359 secs."
      ]
     },
     "metadata": {},
     "output_type": "display_data"
    },
    {
     "name": "stdout",
     "output_type": "stream",
     "text": [
      "------------------------------------------------------\n",
      "Inferred types from first 100 line(s) of file as \n",
      "column_type_hints=[float,float,float,float,float,float,int,str]\n",
      "If parsing fails due to incorrect types, you can correct\n",
      "the inferred type list above and pass it to read_csv in\n",
      "the column_type_hints argument\n",
      "------------------------------------------------------\n"
     ]
    },
    {
     "data": {
      "text/html": [
       "<pre>Finished parsing file /mnt/c/Users/Karl-Jonathan/Desktop/labeledPositives/motionData 2021-04-19 08-47-15.txt</pre>"
      ],
      "text/plain": [
       "Finished parsing file /mnt/c/Users/Karl-Jonathan/Desktop/labeledPositives/motionData 2021-04-19 08-47-15.txt"
      ]
     },
     "metadata": {},
     "output_type": "display_data"
    },
    {
     "data": {
      "text/html": [
       "<pre>Parsing completed. Parsed 1040 lines in 0.035535 secs.</pre>"
      ],
      "text/plain": [
       "Parsing completed. Parsed 1040 lines in 0.035535 secs."
      ]
     },
     "metadata": {},
     "output_type": "display_data"
    },
    {
     "data": {
      "text/html": [
       "<pre>Finished parsing file /mnt/c/Users/Karl-Jonathan/Desktop/labeledPositives/motionData 2021-04-19 08-47-30.txt</pre>"
      ],
      "text/plain": [
       "Finished parsing file /mnt/c/Users/Karl-Jonathan/Desktop/labeledPositives/motionData 2021-04-19 08-47-30.txt"
      ]
     },
     "metadata": {},
     "output_type": "display_data"
    },
    {
     "data": {
      "text/html": [
       "<pre>Parsing completed. Parsed 100 lines in 0.035822 secs.</pre>"
      ],
      "text/plain": [
       "Parsing completed. Parsed 100 lines in 0.035822 secs."
      ]
     },
     "metadata": {},
     "output_type": "display_data"
    },
    {
     "name": "stdout",
     "output_type": "stream",
     "text": [
      "------------------------------------------------------\n",
      "Inferred types from first 100 line(s) of file as \n",
      "column_type_hints=[float,float,float,float,float,float,int,str]\n",
      "If parsing fails due to incorrect types, you can correct\n",
      "the inferred type list above and pass it to read_csv in\n",
      "the column_type_hints argument\n",
      "------------------------------------------------------\n"
     ]
    },
    {
     "data": {
      "text/html": [
       "<pre>Finished parsing file /mnt/c/Users/Karl-Jonathan/Desktop/labeledPositives/motionData 2021-04-19 08-47-30.txt</pre>"
      ],
      "text/plain": [
       "Finished parsing file /mnt/c/Users/Karl-Jonathan/Desktop/labeledPositives/motionData 2021-04-19 08-47-30.txt"
      ]
     },
     "metadata": {},
     "output_type": "display_data"
    },
    {
     "data": {
      "text/html": [
       "<pre>Parsing completed. Parsed 1132 lines in 0.03585 secs.</pre>"
      ],
      "text/plain": [
       "Parsing completed. Parsed 1132 lines in 0.03585 secs."
      ]
     },
     "metadata": {},
     "output_type": "display_data"
    },
    {
     "data": {
      "text/html": [
       "<pre>Finished parsing file /mnt/c/Users/Karl-Jonathan/Desktop/labeledPositives/motionData 2021-04-19 08-47-42.txt</pre>"
      ],
      "text/plain": [
       "Finished parsing file /mnt/c/Users/Karl-Jonathan/Desktop/labeledPositives/motionData 2021-04-19 08-47-42.txt"
      ]
     },
     "metadata": {},
     "output_type": "display_data"
    },
    {
     "data": {
      "text/html": [
       "<pre>Parsing completed. Parsed 100 lines in 0.031166 secs.</pre>"
      ],
      "text/plain": [
       "Parsing completed. Parsed 100 lines in 0.031166 secs."
      ]
     },
     "metadata": {},
     "output_type": "display_data"
    },
    {
     "name": "stdout",
     "output_type": "stream",
     "text": [
      "------------------------------------------------------\n",
      "Inferred types from first 100 line(s) of file as \n",
      "column_type_hints=[float,float,float,float,float,float,int,str]\n",
      "If parsing fails due to incorrect types, you can correct\n",
      "the inferred type list above and pass it to read_csv in\n",
      "the column_type_hints argument\n",
      "------------------------------------------------------\n"
     ]
    },
    {
     "data": {
      "text/html": [
       "<pre>Finished parsing file /mnt/c/Users/Karl-Jonathan/Desktop/labeledPositives/motionData 2021-04-19 08-47-42.txt</pre>"
      ],
      "text/plain": [
       "Finished parsing file /mnt/c/Users/Karl-Jonathan/Desktop/labeledPositives/motionData 2021-04-19 08-47-42.txt"
      ]
     },
     "metadata": {},
     "output_type": "display_data"
    },
    {
     "data": {
      "text/html": [
       "<pre>Parsing completed. Parsed 997 lines in 0.030856 secs.</pre>"
      ],
      "text/plain": [
       "Parsing completed. Parsed 997 lines in 0.030856 secs."
      ]
     },
     "metadata": {},
     "output_type": "display_data"
    },
    {
     "data": {
      "text/html": [
       "<pre>Finished parsing file /mnt/c/Users/Karl-Jonathan/Desktop/labeledPositives/motionData 2021-04-19 08-47-56.txt</pre>"
      ],
      "text/plain": [
       "Finished parsing file /mnt/c/Users/Karl-Jonathan/Desktop/labeledPositives/motionData 2021-04-19 08-47-56.txt"
      ]
     },
     "metadata": {},
     "output_type": "display_data"
    },
    {
     "data": {
      "text/html": [
       "<pre>Parsing completed. Parsed 100 lines in 0.031044 secs.</pre>"
      ],
      "text/plain": [
       "Parsing completed. Parsed 100 lines in 0.031044 secs."
      ]
     },
     "metadata": {},
     "output_type": "display_data"
    },
    {
     "name": "stdout",
     "output_type": "stream",
     "text": [
      "------------------------------------------------------\n",
      "Inferred types from first 100 line(s) of file as \n",
      "column_type_hints=[float,float,float,float,float,float,int,str]\n",
      "If parsing fails due to incorrect types, you can correct\n",
      "the inferred type list above and pass it to read_csv in\n",
      "the column_type_hints argument\n",
      "------------------------------------------------------\n"
     ]
    },
    {
     "data": {
      "text/html": [
       "<pre>Finished parsing file /mnt/c/Users/Karl-Jonathan/Desktop/labeledPositives/motionData 2021-04-19 08-47-56.txt</pre>"
      ],
      "text/plain": [
       "Finished parsing file /mnt/c/Users/Karl-Jonathan/Desktop/labeledPositives/motionData 2021-04-19 08-47-56.txt"
      ]
     },
     "metadata": {},
     "output_type": "display_data"
    },
    {
     "data": {
      "text/html": [
       "<pre>Parsing completed. Parsed 930 lines in 0.03082 secs.</pre>"
      ],
      "text/plain": [
       "Parsing completed. Parsed 930 lines in 0.03082 secs."
      ]
     },
     "metadata": {},
     "output_type": "display_data"
    },
    {
     "data": {
      "text/html": [
       "<pre>Finished parsing file /mnt/c/Users/Karl-Jonathan/Desktop/labeledPositives/motionData 2021-04-19 08-48-11.txt</pre>"
      ],
      "text/plain": [
       "Finished parsing file /mnt/c/Users/Karl-Jonathan/Desktop/labeledPositives/motionData 2021-04-19 08-48-11.txt"
      ]
     },
     "metadata": {},
     "output_type": "display_data"
    },
    {
     "data": {
      "text/html": [
       "<pre>Parsing completed. Parsed 100 lines in 0.033444 secs.</pre>"
      ],
      "text/plain": [
       "Parsing completed. Parsed 100 lines in 0.033444 secs."
      ]
     },
     "metadata": {},
     "output_type": "display_data"
    },
    {
     "name": "stdout",
     "output_type": "stream",
     "text": [
      "------------------------------------------------------\n",
      "Inferred types from first 100 line(s) of file as \n",
      "column_type_hints=[float,float,float,float,float,float,int,str]\n",
      "If parsing fails due to incorrect types, you can correct\n",
      "the inferred type list above and pass it to read_csv in\n",
      "the column_type_hints argument\n",
      "------------------------------------------------------\n"
     ]
    },
    {
     "data": {
      "text/html": [
       "<pre>Finished parsing file /mnt/c/Users/Karl-Jonathan/Desktop/labeledPositives/motionData 2021-04-19 08-48-11.txt</pre>"
      ],
      "text/plain": [
       "Finished parsing file /mnt/c/Users/Karl-Jonathan/Desktop/labeledPositives/motionData 2021-04-19 08-48-11.txt"
      ]
     },
     "metadata": {},
     "output_type": "display_data"
    },
    {
     "data": {
      "text/html": [
       "<pre>Parsing completed. Parsed 1190 lines in 0.03497 secs.</pre>"
      ],
      "text/plain": [
       "Parsing completed. Parsed 1190 lines in 0.03497 secs."
      ]
     },
     "metadata": {},
     "output_type": "display_data"
    },
    {
     "data": {
      "text/html": [
       "<pre>Finished parsing file /mnt/c/Users/Karl-Jonathan/Desktop/labeledPositives/motionData 2021-04-19 08-48-25.txt</pre>"
      ],
      "text/plain": [
       "Finished parsing file /mnt/c/Users/Karl-Jonathan/Desktop/labeledPositives/motionData 2021-04-19 08-48-25.txt"
      ]
     },
     "metadata": {},
     "output_type": "display_data"
    },
    {
     "data": {
      "text/html": [
       "<pre>Parsing completed. Parsed 100 lines in 0.035452 secs.</pre>"
      ],
      "text/plain": [
       "Parsing completed. Parsed 100 lines in 0.035452 secs."
      ]
     },
     "metadata": {},
     "output_type": "display_data"
    },
    {
     "name": "stdout",
     "output_type": "stream",
     "text": [
      "------------------------------------------------------\n",
      "Inferred types from first 100 line(s) of file as \n",
      "column_type_hints=[float,float,float,float,float,float,int,str]\n",
      "If parsing fails due to incorrect types, you can correct\n",
      "the inferred type list above and pass it to read_csv in\n",
      "the column_type_hints argument\n",
      "------------------------------------------------------\n"
     ]
    },
    {
     "data": {
      "text/html": [
       "<pre>Finished parsing file /mnt/c/Users/Karl-Jonathan/Desktop/labeledPositives/motionData 2021-04-19 08-48-25.txt</pre>"
      ],
      "text/plain": [
       "Finished parsing file /mnt/c/Users/Karl-Jonathan/Desktop/labeledPositives/motionData 2021-04-19 08-48-25.txt"
      ]
     },
     "metadata": {},
     "output_type": "display_data"
    },
    {
     "data": {
      "text/html": [
       "<pre>Parsing completed. Parsed 1087 lines in 0.035876 secs.</pre>"
      ],
      "text/plain": [
       "Parsing completed. Parsed 1087 lines in 0.035876 secs."
      ]
     },
     "metadata": {},
     "output_type": "display_data"
    },
    {
     "data": {
      "text/html": [
       "<pre>Finished parsing file /mnt/c/Users/Karl-Jonathan/Desktop/labeledPositives/motionData 2021-04-19 08-48-40.txt</pre>"
      ],
      "text/plain": [
       "Finished parsing file /mnt/c/Users/Karl-Jonathan/Desktop/labeledPositives/motionData 2021-04-19 08-48-40.txt"
      ]
     },
     "metadata": {},
     "output_type": "display_data"
    },
    {
     "data": {
      "text/html": [
       "<pre>Parsing completed. Parsed 100 lines in 0.035616 secs.</pre>"
      ],
      "text/plain": [
       "Parsing completed. Parsed 100 lines in 0.035616 secs."
      ]
     },
     "metadata": {},
     "output_type": "display_data"
    },
    {
     "name": "stdout",
     "output_type": "stream",
     "text": [
      "------------------------------------------------------\n",
      "Inferred types from first 100 line(s) of file as \n",
      "column_type_hints=[float,float,float,float,float,float,int,str]\n",
      "If parsing fails due to incorrect types, you can correct\n",
      "the inferred type list above and pass it to read_csv in\n",
      "the column_type_hints argument\n",
      "------------------------------------------------------\n"
     ]
    },
    {
     "data": {
      "text/html": [
       "<pre>Finished parsing file /mnt/c/Users/Karl-Jonathan/Desktop/labeledPositives/motionData 2021-04-19 08-48-40.txt</pre>"
      ],
      "text/plain": [
       "Finished parsing file /mnt/c/Users/Karl-Jonathan/Desktop/labeledPositives/motionData 2021-04-19 08-48-40.txt"
      ]
     },
     "metadata": {},
     "output_type": "display_data"
    },
    {
     "data": {
      "text/html": [
       "<pre>Parsing completed. Parsed 1171 lines in 0.035913 secs.</pre>"
      ],
      "text/plain": [
       "Parsing completed. Parsed 1171 lines in 0.035913 secs."
      ]
     },
     "metadata": {},
     "output_type": "display_data"
    },
    {
     "data": {
      "text/html": [
       "<pre>Finished parsing file /mnt/c/Users/Karl-Jonathan/Desktop/labeledPositives/motionData 2021-04-19 08-48-55.txt</pre>"
      ],
      "text/plain": [
       "Finished parsing file /mnt/c/Users/Karl-Jonathan/Desktop/labeledPositives/motionData 2021-04-19 08-48-55.txt"
      ]
     },
     "metadata": {},
     "output_type": "display_data"
    },
    {
     "data": {
      "text/html": [
       "<pre>Parsing completed. Parsed 100 lines in 0.035794 secs.</pre>"
      ],
      "text/plain": [
       "Parsing completed. Parsed 100 lines in 0.035794 secs."
      ]
     },
     "metadata": {},
     "output_type": "display_data"
    },
    {
     "name": "stdout",
     "output_type": "stream",
     "text": [
      "------------------------------------------------------\n",
      "Inferred types from first 100 line(s) of file as \n",
      "column_type_hints=[float,float,float,float,float,float,int,str]\n",
      "If parsing fails due to incorrect types, you can correct\n",
      "the inferred type list above and pass it to read_csv in\n",
      "the column_type_hints argument\n",
      "------------------------------------------------------\n"
     ]
    },
    {
     "data": {
      "text/html": [
       "<pre>Finished parsing file /mnt/c/Users/Karl-Jonathan/Desktop/labeledPositives/motionData 2021-04-19 08-48-55.txt</pre>"
      ],
      "text/plain": [
       "Finished parsing file /mnt/c/Users/Karl-Jonathan/Desktop/labeledPositives/motionData 2021-04-19 08-48-55.txt"
      ]
     },
     "metadata": {},
     "output_type": "display_data"
    },
    {
     "data": {
      "text/html": [
       "<pre>Parsing completed. Parsed 1257 lines in 0.035613 secs.</pre>"
      ],
      "text/plain": [
       "Parsing completed. Parsed 1257 lines in 0.035613 secs."
      ]
     },
     "metadata": {},
     "output_type": "display_data"
    },
    {
     "data": {
      "text/html": [
       "<pre>Finished parsing file /mnt/c/Users/Karl-Jonathan/Desktop/labeledPositives/motionData 2021-04-19 08-49-08.txt</pre>"
      ],
      "text/plain": [
       "Finished parsing file /mnt/c/Users/Karl-Jonathan/Desktop/labeledPositives/motionData 2021-04-19 08-49-08.txt"
      ]
     },
     "metadata": {},
     "output_type": "display_data"
    },
    {
     "data": {
      "text/html": [
       "<pre>Parsing completed. Parsed 100 lines in 0.035482 secs.</pre>"
      ],
      "text/plain": [
       "Parsing completed. Parsed 100 lines in 0.035482 secs."
      ]
     },
     "metadata": {},
     "output_type": "display_data"
    },
    {
     "name": "stdout",
     "output_type": "stream",
     "text": [
      "------------------------------------------------------\n",
      "Inferred types from first 100 line(s) of file as \n",
      "column_type_hints=[float,float,float,float,float,float,int,str]\n",
      "If parsing fails due to incorrect types, you can correct\n",
      "the inferred type list above and pass it to read_csv in\n",
      "the column_type_hints argument\n",
      "------------------------------------------------------\n"
     ]
    },
    {
     "data": {
      "text/html": [
       "<pre>Finished parsing file /mnt/c/Users/Karl-Jonathan/Desktop/labeledPositives/motionData 2021-04-19 08-49-08.txt</pre>"
      ],
      "text/plain": [
       "Finished parsing file /mnt/c/Users/Karl-Jonathan/Desktop/labeledPositives/motionData 2021-04-19 08-49-08.txt"
      ]
     },
     "metadata": {},
     "output_type": "display_data"
    },
    {
     "data": {
      "text/html": [
       "<pre>Parsing completed. Parsed 1066 lines in 0.036021 secs.</pre>"
      ],
      "text/plain": [
       "Parsing completed. Parsed 1066 lines in 0.036021 secs."
      ]
     },
     "metadata": {},
     "output_type": "display_data"
    },
    {
     "data": {
      "text/html": [
       "<pre>Finished parsing file /mnt/c/Users/Karl-Jonathan/Desktop/labeledPositives/motionData 2021-04-19 08-49-22.txt</pre>"
      ],
      "text/plain": [
       "Finished parsing file /mnt/c/Users/Karl-Jonathan/Desktop/labeledPositives/motionData 2021-04-19 08-49-22.txt"
      ]
     },
     "metadata": {},
     "output_type": "display_data"
    },
    {
     "data": {
      "text/html": [
       "<pre>Parsing completed. Parsed 100 lines in 0.035671 secs.</pre>"
      ],
      "text/plain": [
       "Parsing completed. Parsed 100 lines in 0.035671 secs."
      ]
     },
     "metadata": {},
     "output_type": "display_data"
    },
    {
     "name": "stdout",
     "output_type": "stream",
     "text": [
      "------------------------------------------------------\n",
      "Inferred types from first 100 line(s) of file as \n",
      "column_type_hints=[float,float,float,float,float,float,int,str]\n",
      "If parsing fails due to incorrect types, you can correct\n",
      "the inferred type list above and pass it to read_csv in\n",
      "the column_type_hints argument\n",
      "------------------------------------------------------\n"
     ]
    },
    {
     "data": {
      "text/html": [
       "<pre>Finished parsing file /mnt/c/Users/Karl-Jonathan/Desktop/labeledPositives/motionData 2021-04-19 08-49-22.txt</pre>"
      ],
      "text/plain": [
       "Finished parsing file /mnt/c/Users/Karl-Jonathan/Desktop/labeledPositives/motionData 2021-04-19 08-49-22.txt"
      ]
     },
     "metadata": {},
     "output_type": "display_data"
    },
    {
     "data": {
      "text/html": [
       "<pre>Parsing completed. Parsed 1183 lines in 0.035399 secs.</pre>"
      ],
      "text/plain": [
       "Parsing completed. Parsed 1183 lines in 0.035399 secs."
      ]
     },
     "metadata": {},
     "output_type": "display_data"
    },
    {
     "data": {
      "text/html": [
       "<pre>Finished parsing file /mnt/c/Users/Karl-Jonathan/Desktop/labeledPositives/motionData 2021-04-19 08-50-10.txt</pre>"
      ],
      "text/plain": [
       "Finished parsing file /mnt/c/Users/Karl-Jonathan/Desktop/labeledPositives/motionData 2021-04-19 08-50-10.txt"
      ]
     },
     "metadata": {},
     "output_type": "display_data"
    },
    {
     "data": {
      "text/html": [
       "<pre>Parsing completed. Parsed 100 lines in 0.035627 secs.</pre>"
      ],
      "text/plain": [
       "Parsing completed. Parsed 100 lines in 0.035627 secs."
      ]
     },
     "metadata": {},
     "output_type": "display_data"
    },
    {
     "name": "stdout",
     "output_type": "stream",
     "text": [
      "------------------------------------------------------\n",
      "Inferred types from first 100 line(s) of file as \n",
      "column_type_hints=[float,float,float,float,float,float,int,str]\n",
      "If parsing fails due to incorrect types, you can correct\n",
      "the inferred type list above and pass it to read_csv in\n",
      "the column_type_hints argument\n",
      "------------------------------------------------------\n"
     ]
    },
    {
     "data": {
      "text/html": [
       "<pre>Finished parsing file /mnt/c/Users/Karl-Jonathan/Desktop/labeledPositives/motionData 2021-04-19 08-50-10.txt</pre>"
      ],
      "text/plain": [
       "Finished parsing file /mnt/c/Users/Karl-Jonathan/Desktop/labeledPositives/motionData 2021-04-19 08-50-10.txt"
      ]
     },
     "metadata": {},
     "output_type": "display_data"
    },
    {
     "data": {
      "text/html": [
       "<pre>Parsing completed. Parsed 1071 lines in 0.035924 secs.</pre>"
      ],
      "text/plain": [
       "Parsing completed. Parsed 1071 lines in 0.035924 secs."
      ]
     },
     "metadata": {},
     "output_type": "display_data"
    },
    {
     "data": {
      "text/html": [
       "<pre>Finished parsing file /mnt/c/Users/Karl-Jonathan/Desktop/labeledPositives/motionData 2021-04-19 08-50-25.txt</pre>"
      ],
      "text/plain": [
       "Finished parsing file /mnt/c/Users/Karl-Jonathan/Desktop/labeledPositives/motionData 2021-04-19 08-50-25.txt"
      ]
     },
     "metadata": {},
     "output_type": "display_data"
    },
    {
     "data": {
      "text/html": [
       "<pre>Parsing completed. Parsed 100 lines in 0.03605 secs.</pre>"
      ],
      "text/plain": [
       "Parsing completed. Parsed 100 lines in 0.03605 secs."
      ]
     },
     "metadata": {},
     "output_type": "display_data"
    },
    {
     "name": "stdout",
     "output_type": "stream",
     "text": [
      "------------------------------------------------------\n",
      "Inferred types from first 100 line(s) of file as \n",
      "column_type_hints=[float,float,float,float,float,float,int,str]\n",
      "If parsing fails due to incorrect types, you can correct\n",
      "the inferred type list above and pass it to read_csv in\n",
      "the column_type_hints argument\n",
      "------------------------------------------------------\n"
     ]
    },
    {
     "data": {
      "text/html": [
       "<pre>Finished parsing file /mnt/c/Users/Karl-Jonathan/Desktop/labeledPositives/motionData 2021-04-19 08-50-25.txt</pre>"
      ],
      "text/plain": [
       "Finished parsing file /mnt/c/Users/Karl-Jonathan/Desktop/labeledPositives/motionData 2021-04-19 08-50-25.txt"
      ]
     },
     "metadata": {},
     "output_type": "display_data"
    },
    {
     "data": {
      "text/html": [
       "<pre>Parsing completed. Parsed 1032 lines in 0.035724 secs.</pre>"
      ],
      "text/plain": [
       "Parsing completed. Parsed 1032 lines in 0.035724 secs."
      ]
     },
     "metadata": {},
     "output_type": "display_data"
    },
    {
     "data": {
      "text/html": [
       "<pre>Finished parsing file /mnt/c/Users/Karl-Jonathan/Desktop/labeledPositives/motionData 2021-04-19 08-50-39.txt</pre>"
      ],
      "text/plain": [
       "Finished parsing file /mnt/c/Users/Karl-Jonathan/Desktop/labeledPositives/motionData 2021-04-19 08-50-39.txt"
      ]
     },
     "metadata": {},
     "output_type": "display_data"
    },
    {
     "data": {
      "text/html": [
       "<pre>Parsing completed. Parsed 100 lines in 0.035228 secs.</pre>"
      ],
      "text/plain": [
       "Parsing completed. Parsed 100 lines in 0.035228 secs."
      ]
     },
     "metadata": {},
     "output_type": "display_data"
    },
    {
     "name": "stdout",
     "output_type": "stream",
     "text": [
      "------------------------------------------------------\n",
      "Inferred types from first 100 line(s) of file as \n",
      "column_type_hints=[float,float,float,float,float,float,int,str]\n",
      "If parsing fails due to incorrect types, you can correct\n",
      "the inferred type list above and pass it to read_csv in\n",
      "the column_type_hints argument\n",
      "------------------------------------------------------\n"
     ]
    },
    {
     "data": {
      "text/html": [
       "<pre>Finished parsing file /mnt/c/Users/Karl-Jonathan/Desktop/labeledPositives/motionData 2021-04-19 08-50-39.txt</pre>"
      ],
      "text/plain": [
       "Finished parsing file /mnt/c/Users/Karl-Jonathan/Desktop/labeledPositives/motionData 2021-04-19 08-50-39.txt"
      ]
     },
     "metadata": {},
     "output_type": "display_data"
    },
    {
     "data": {
      "text/html": [
       "<pre>Parsing completed. Parsed 992 lines in 0.035871 secs.</pre>"
      ],
      "text/plain": [
       "Parsing completed. Parsed 992 lines in 0.035871 secs."
      ]
     },
     "metadata": {},
     "output_type": "display_data"
    },
    {
     "data": {
      "text/html": [
       "<pre>Finished parsing file /mnt/c/Users/Karl-Jonathan/Desktop/labeledPositives/motionData 2021-04-19 08-51-12.txt</pre>"
      ],
      "text/plain": [
       "Finished parsing file /mnt/c/Users/Karl-Jonathan/Desktop/labeledPositives/motionData 2021-04-19 08-51-12.txt"
      ]
     },
     "metadata": {},
     "output_type": "display_data"
    },
    {
     "data": {
      "text/html": [
       "<pre>Parsing completed. Parsed 100 lines in 0.033835 secs.</pre>"
      ],
      "text/plain": [
       "Parsing completed. Parsed 100 lines in 0.033835 secs."
      ]
     },
     "metadata": {},
     "output_type": "display_data"
    },
    {
     "name": "stdout",
     "output_type": "stream",
     "text": [
      "------------------------------------------------------\n",
      "Inferred types from first 100 line(s) of file as \n",
      "column_type_hints=[float,float,float,float,float,float,int,str]\n",
      "If parsing fails due to incorrect types, you can correct\n",
      "the inferred type list above and pass it to read_csv in\n",
      "the column_type_hints argument\n",
      "------------------------------------------------------\n"
     ]
    },
    {
     "data": {
      "text/html": [
       "<pre>Finished parsing file /mnt/c/Users/Karl-Jonathan/Desktop/labeledPositives/motionData 2021-04-19 08-51-12.txt</pre>"
      ],
      "text/plain": [
       "Finished parsing file /mnt/c/Users/Karl-Jonathan/Desktop/labeledPositives/motionData 2021-04-19 08-51-12.txt"
      ]
     },
     "metadata": {},
     "output_type": "display_data"
    },
    {
     "data": {
      "text/html": [
       "<pre>Parsing completed. Parsed 1742 lines in 0.03167 secs.</pre>"
      ],
      "text/plain": [
       "Parsing completed. Parsed 1742 lines in 0.03167 secs."
      ]
     },
     "metadata": {},
     "output_type": "display_data"
    },
    {
     "data": {
      "text/html": [
       "<pre>Finished parsing file /mnt/c/Users/Karl-Jonathan/Desktop/labeledPositives/motionData 2021-04-19 08-51-28.txt</pre>"
      ],
      "text/plain": [
       "Finished parsing file /mnt/c/Users/Karl-Jonathan/Desktop/labeledPositives/motionData 2021-04-19 08-51-28.txt"
      ]
     },
     "metadata": {},
     "output_type": "display_data"
    },
    {
     "data": {
      "text/html": [
       "<pre>Parsing completed. Parsed 100 lines in 0.031121 secs.</pre>"
      ],
      "text/plain": [
       "Parsing completed. Parsed 100 lines in 0.031121 secs."
      ]
     },
     "metadata": {},
     "output_type": "display_data"
    },
    {
     "name": "stdout",
     "output_type": "stream",
     "text": [
      "------------------------------------------------------\n",
      "Inferred types from first 100 line(s) of file as \n",
      "column_type_hints=[float,float,float,float,float,float,int,str]\n",
      "If parsing fails due to incorrect types, you can correct\n",
      "the inferred type list above and pass it to read_csv in\n",
      "the column_type_hints argument\n",
      "------------------------------------------------------\n"
     ]
    },
    {
     "data": {
      "text/html": [
       "<pre>Finished parsing file /mnt/c/Users/Karl-Jonathan/Desktop/labeledPositives/motionData 2021-04-19 08-51-28.txt</pre>"
      ],
      "text/plain": [
       "Finished parsing file /mnt/c/Users/Karl-Jonathan/Desktop/labeledPositives/motionData 2021-04-19 08-51-28.txt"
      ]
     },
     "metadata": {},
     "output_type": "display_data"
    },
    {
     "data": {
      "text/html": [
       "<pre>Parsing completed. Parsed 929 lines in 0.0312 secs.</pre>"
      ],
      "text/plain": [
       "Parsing completed. Parsed 929 lines in 0.0312 secs."
      ]
     },
     "metadata": {},
     "output_type": "display_data"
    },
    {
     "data": {
      "text/html": [
       "<pre>Finished parsing file /mnt/c/Users/Karl-Jonathan/Desktop/labeledPositives/motionData 2021-04-19 08-51-45.txt</pre>"
      ],
      "text/plain": [
       "Finished parsing file /mnt/c/Users/Karl-Jonathan/Desktop/labeledPositives/motionData 2021-04-19 08-51-45.txt"
      ]
     },
     "metadata": {},
     "output_type": "display_data"
    },
    {
     "data": {
      "text/html": [
       "<pre>Parsing completed. Parsed 100 lines in 0.03385 secs.</pre>"
      ],
      "text/plain": [
       "Parsing completed. Parsed 100 lines in 0.03385 secs."
      ]
     },
     "metadata": {},
     "output_type": "display_data"
    },
    {
     "name": "stdout",
     "output_type": "stream",
     "text": [
      "------------------------------------------------------\n",
      "Inferred types from first 100 line(s) of file as \n",
      "column_type_hints=[float,float,float,float,float,float,int,str]\n",
      "If parsing fails due to incorrect types, you can correct\n",
      "the inferred type list above and pass it to read_csv in\n",
      "the column_type_hints argument\n",
      "------------------------------------------------------\n"
     ]
    },
    {
     "data": {
      "text/html": [
       "<pre>Finished parsing file /mnt/c/Users/Karl-Jonathan/Desktop/labeledPositives/motionData 2021-04-19 08-51-45.txt</pre>"
      ],
      "text/plain": [
       "Finished parsing file /mnt/c/Users/Karl-Jonathan/Desktop/labeledPositives/motionData 2021-04-19 08-51-45.txt"
      ]
     },
     "metadata": {},
     "output_type": "display_data"
    },
    {
     "data": {
      "text/html": [
       "<pre>Parsing completed. Parsed 1201 lines in 0.035249 secs.</pre>"
      ],
      "text/plain": [
       "Parsing completed. Parsed 1201 lines in 0.035249 secs."
      ]
     },
     "metadata": {},
     "output_type": "display_data"
    },
    {
     "data": {
      "text/html": [
       "<pre>Finished parsing file /mnt/c/Users/Karl-Jonathan/Desktop/labeledPositives/motionData 2021-04-19 08-52-02.txt</pre>"
      ],
      "text/plain": [
       "Finished parsing file /mnt/c/Users/Karl-Jonathan/Desktop/labeledPositives/motionData 2021-04-19 08-52-02.txt"
      ]
     },
     "metadata": {},
     "output_type": "display_data"
    },
    {
     "data": {
      "text/html": [
       "<pre>Parsing completed. Parsed 100 lines in 0.03561 secs.</pre>"
      ],
      "text/plain": [
       "Parsing completed. Parsed 100 lines in 0.03561 secs."
      ]
     },
     "metadata": {},
     "output_type": "display_data"
    },
    {
     "name": "stdout",
     "output_type": "stream",
     "text": [
      "------------------------------------------------------\n",
      "Inferred types from first 100 line(s) of file as \n",
      "column_type_hints=[float,float,float,float,float,float,int,str]\n",
      "If parsing fails due to incorrect types, you can correct\n",
      "the inferred type list above and pass it to read_csv in\n",
      "the column_type_hints argument\n",
      "------------------------------------------------------\n"
     ]
    },
    {
     "data": {
      "text/html": [
       "<pre>Finished parsing file /mnt/c/Users/Karl-Jonathan/Desktop/labeledPositives/motionData 2021-04-19 08-52-02.txt</pre>"
      ],
      "text/plain": [
       "Finished parsing file /mnt/c/Users/Karl-Jonathan/Desktop/labeledPositives/motionData 2021-04-19 08-52-02.txt"
      ]
     },
     "metadata": {},
     "output_type": "display_data"
    },
    {
     "data": {
      "text/html": [
       "<pre>Parsing completed. Parsed 1366 lines in 0.03552 secs.</pre>"
      ],
      "text/plain": [
       "Parsing completed. Parsed 1366 lines in 0.03552 secs."
      ]
     },
     "metadata": {},
     "output_type": "display_data"
    },
    {
     "data": {
      "text/html": [
       "<pre>Finished parsing file /mnt/c/Users/Karl-Jonathan/Desktop/labeledPositives/motionData 2021-04-19 08-52-16.txt</pre>"
      ],
      "text/plain": [
       "Finished parsing file /mnt/c/Users/Karl-Jonathan/Desktop/labeledPositives/motionData 2021-04-19 08-52-16.txt"
      ]
     },
     "metadata": {},
     "output_type": "display_data"
    },
    {
     "data": {
      "text/html": [
       "<pre>Parsing completed. Parsed 100 lines in 0.03567 secs.</pre>"
      ],
      "text/plain": [
       "Parsing completed. Parsed 100 lines in 0.03567 secs."
      ]
     },
     "metadata": {},
     "output_type": "display_data"
    },
    {
     "name": "stdout",
     "output_type": "stream",
     "text": [
      "------------------------------------------------------\n",
      "Inferred types from first 100 line(s) of file as \n",
      "column_type_hints=[float,float,float,float,float,float,int,str]\n",
      "If parsing fails due to incorrect types, you can correct\n",
      "the inferred type list above and pass it to read_csv in\n",
      "the column_type_hints argument\n",
      "------------------------------------------------------\n"
     ]
    },
    {
     "data": {
      "text/html": [
       "<pre>Finished parsing file /mnt/c/Users/Karl-Jonathan/Desktop/labeledPositives/motionData 2021-04-19 08-52-16.txt</pre>"
      ],
      "text/plain": [
       "Finished parsing file /mnt/c/Users/Karl-Jonathan/Desktop/labeledPositives/motionData 2021-04-19 08-52-16.txt"
      ]
     },
     "metadata": {},
     "output_type": "display_data"
    },
    {
     "data": {
      "text/html": [
       "<pre>Parsing completed. Parsed 1191 lines in 0.035672 secs.</pre>"
      ],
      "text/plain": [
       "Parsing completed. Parsed 1191 lines in 0.035672 secs."
      ]
     },
     "metadata": {},
     "output_type": "display_data"
    },
    {
     "data": {
      "text/html": [
       "<pre>Finished parsing file /mnt/c/Users/Karl-Jonathan/Desktop/labeledPositives/motionData 2021-04-19 08-52-32.txt</pre>"
      ],
      "text/plain": [
       "Finished parsing file /mnt/c/Users/Karl-Jonathan/Desktop/labeledPositives/motionData 2021-04-19 08-52-32.txt"
      ]
     },
     "metadata": {},
     "output_type": "display_data"
    },
    {
     "data": {
      "text/html": [
       "<pre>Parsing completed. Parsed 100 lines in 0.035366 secs.</pre>"
      ],
      "text/plain": [
       "Parsing completed. Parsed 100 lines in 0.035366 secs."
      ]
     },
     "metadata": {},
     "output_type": "display_data"
    },
    {
     "name": "stdout",
     "output_type": "stream",
     "text": [
      "------------------------------------------------------\n",
      "Inferred types from first 100 line(s) of file as \n",
      "column_type_hints=[float,float,float,float,float,float,int,str]\n",
      "If parsing fails due to incorrect types, you can correct\n",
      "the inferred type list above and pass it to read_csv in\n",
      "the column_type_hints argument\n",
      "------------------------------------------------------\n"
     ]
    },
    {
     "data": {
      "text/html": [
       "<pre>Finished parsing file /mnt/c/Users/Karl-Jonathan/Desktop/labeledPositives/motionData 2021-04-19 08-52-32.txt</pre>"
      ],
      "text/plain": [
       "Finished parsing file /mnt/c/Users/Karl-Jonathan/Desktop/labeledPositives/motionData 2021-04-19 08-52-32.txt"
      ]
     },
     "metadata": {},
     "output_type": "display_data"
    },
    {
     "data": {
      "text/html": [
       "<pre>Parsing completed. Parsed 1064 lines in 0.035682 secs.</pre>"
      ],
      "text/plain": [
       "Parsing completed. Parsed 1064 lines in 0.035682 secs."
      ]
     },
     "metadata": {},
     "output_type": "display_data"
    },
    {
     "data": {
      "text/html": [
       "<pre>Finished parsing file /mnt/c/Users/Karl-Jonathan/Desktop/labeledPositives/motionData 2021-04-19 08-52-47.txt</pre>"
      ],
      "text/plain": [
       "Finished parsing file /mnt/c/Users/Karl-Jonathan/Desktop/labeledPositives/motionData 2021-04-19 08-52-47.txt"
      ]
     },
     "metadata": {},
     "output_type": "display_data"
    },
    {
     "data": {
      "text/html": [
       "<pre>Parsing completed. Parsed 100 lines in 0.035601 secs.</pre>"
      ],
      "text/plain": [
       "Parsing completed. Parsed 100 lines in 0.035601 secs."
      ]
     },
     "metadata": {},
     "output_type": "display_data"
    },
    {
     "name": "stdout",
     "output_type": "stream",
     "text": [
      "------------------------------------------------------\n",
      "Inferred types from first 100 line(s) of file as \n",
      "column_type_hints=[float,float,float,float,float,float,int,str]\n",
      "If parsing fails due to incorrect types, you can correct\n",
      "the inferred type list above and pass it to read_csv in\n",
      "the column_type_hints argument\n",
      "------------------------------------------------------\n"
     ]
    },
    {
     "data": {
      "text/html": [
       "<pre>Finished parsing file /mnt/c/Users/Karl-Jonathan/Desktop/labeledPositives/motionData 2021-04-19 08-52-47.txt</pre>"
      ],
      "text/plain": [
       "Finished parsing file /mnt/c/Users/Karl-Jonathan/Desktop/labeledPositives/motionData 2021-04-19 08-52-47.txt"
      ]
     },
     "metadata": {},
     "output_type": "display_data"
    },
    {
     "data": {
      "text/html": [
       "<pre>Parsing completed. Parsed 1124 lines in 0.035994 secs.</pre>"
      ],
      "text/plain": [
       "Parsing completed. Parsed 1124 lines in 0.035994 secs."
      ]
     },
     "metadata": {},
     "output_type": "display_data"
    },
    {
     "data": {
      "text/html": [
       "<pre>Finished parsing file /mnt/c/Users/Karl-Jonathan/Desktop/labeledPositives/motionData 2021-04-19 08-53-06.txt</pre>"
      ],
      "text/plain": [
       "Finished parsing file /mnt/c/Users/Karl-Jonathan/Desktop/labeledPositives/motionData 2021-04-19 08-53-06.txt"
      ]
     },
     "metadata": {},
     "output_type": "display_data"
    },
    {
     "data": {
      "text/html": [
       "<pre>Parsing completed. Parsed 100 lines in 0.035965 secs.</pre>"
      ],
      "text/plain": [
       "Parsing completed. Parsed 100 lines in 0.035965 secs."
      ]
     },
     "metadata": {},
     "output_type": "display_data"
    },
    {
     "name": "stdout",
     "output_type": "stream",
     "text": [
      "------------------------------------------------------\n",
      "Inferred types from first 100 line(s) of file as \n",
      "column_type_hints=[float,float,float,float,float,float,int,str]\n",
      "If parsing fails due to incorrect types, you can correct\n",
      "the inferred type list above and pass it to read_csv in\n",
      "the column_type_hints argument\n",
      "------------------------------------------------------\n"
     ]
    },
    {
     "data": {
      "text/html": [
       "<pre>Finished parsing file /mnt/c/Users/Karl-Jonathan/Desktop/labeledPositives/motionData 2021-04-19 08-53-06.txt</pre>"
      ],
      "text/plain": [
       "Finished parsing file /mnt/c/Users/Karl-Jonathan/Desktop/labeledPositives/motionData 2021-04-19 08-53-06.txt"
      ]
     },
     "metadata": {},
     "output_type": "display_data"
    },
    {
     "data": {
      "text/html": [
       "<pre>Parsing completed. Parsed 1630 lines in 0.035638 secs.</pre>"
      ],
      "text/plain": [
       "Parsing completed. Parsed 1630 lines in 0.035638 secs."
      ]
     },
     "metadata": {},
     "output_type": "display_data"
    },
    {
     "data": {
      "text/html": [
       "<pre>Finished parsing file /mnt/c/Users/Karl-Jonathan/Desktop/labeledPositives/motionData 2021-04-19 08-53-19.txt</pre>"
      ],
      "text/plain": [
       "Finished parsing file /mnt/c/Users/Karl-Jonathan/Desktop/labeledPositives/motionData 2021-04-19 08-53-19.txt"
      ]
     },
     "metadata": {},
     "output_type": "display_data"
    },
    {
     "data": {
      "text/html": [
       "<pre>Parsing completed. Parsed 100 lines in 0.035626 secs.</pre>"
      ],
      "text/plain": [
       "Parsing completed. Parsed 100 lines in 0.035626 secs."
      ]
     },
     "metadata": {},
     "output_type": "display_data"
    },
    {
     "name": "stdout",
     "output_type": "stream",
     "text": [
      "------------------------------------------------------\n",
      "Inferred types from first 100 line(s) of file as \n",
      "column_type_hints=[float,float,float,float,float,float,int,str]\n",
      "If parsing fails due to incorrect types, you can correct\n",
      "the inferred type list above and pass it to read_csv in\n",
      "the column_type_hints argument\n",
      "------------------------------------------------------\n"
     ]
    },
    {
     "data": {
      "text/html": [
       "<pre>Finished parsing file /mnt/c/Users/Karl-Jonathan/Desktop/labeledPositives/motionData 2021-04-19 08-53-19.txt</pre>"
      ],
      "text/plain": [
       "Finished parsing file /mnt/c/Users/Karl-Jonathan/Desktop/labeledPositives/motionData 2021-04-19 08-53-19.txt"
      ]
     },
     "metadata": {},
     "output_type": "display_data"
    },
    {
     "data": {
      "text/html": [
       "<pre>Parsing completed. Parsed 1148 lines in 0.035563 secs.</pre>"
      ],
      "text/plain": [
       "Parsing completed. Parsed 1148 lines in 0.035563 secs."
      ]
     },
     "metadata": {},
     "output_type": "display_data"
    },
    {
     "data": {
      "text/html": [
       "<pre>Finished parsing file /mnt/c/Users/Karl-Jonathan/Desktop/labeledPositives/motionData 2021-04-19 08-53-35.txt</pre>"
      ],
      "text/plain": [
       "Finished parsing file /mnt/c/Users/Karl-Jonathan/Desktop/labeledPositives/motionData 2021-04-19 08-53-35.txt"
      ]
     },
     "metadata": {},
     "output_type": "display_data"
    },
    {
     "data": {
      "text/html": [
       "<pre>Parsing completed. Parsed 100 lines in 0.035828 secs.</pre>"
      ],
      "text/plain": [
       "Parsing completed. Parsed 100 lines in 0.035828 secs."
      ]
     },
     "metadata": {},
     "output_type": "display_data"
    },
    {
     "name": "stdout",
     "output_type": "stream",
     "text": [
      "------------------------------------------------------\n",
      "Inferred types from first 100 line(s) of file as \n",
      "column_type_hints=[float,float,float,float,float,float,int,str]\n",
      "If parsing fails due to incorrect types, you can correct\n",
      "the inferred type list above and pass it to read_csv in\n",
      "the column_type_hints argument\n",
      "------------------------------------------------------\n"
     ]
    },
    {
     "data": {
      "text/html": [
       "<pre>Finished parsing file /mnt/c/Users/Karl-Jonathan/Desktop/labeledPositives/motionData 2021-04-19 08-53-35.txt</pre>"
      ],
      "text/plain": [
       "Finished parsing file /mnt/c/Users/Karl-Jonathan/Desktop/labeledPositives/motionData 2021-04-19 08-53-35.txt"
      ]
     },
     "metadata": {},
     "output_type": "display_data"
    },
    {
     "data": {
      "text/html": [
       "<pre>Parsing completed. Parsed 1409 lines in 0.035861 secs.</pre>"
      ],
      "text/plain": [
       "Parsing completed. Parsed 1409 lines in 0.035861 secs."
      ]
     },
     "metadata": {},
     "output_type": "display_data"
    },
    {
     "data": {
      "text/html": [
       "<pre>Finished parsing file /mnt/c/Users/Karl-Jonathan/Desktop/labeledPositives/motionData 2021-04-19 08-53-48.txt</pre>"
      ],
      "text/plain": [
       "Finished parsing file /mnt/c/Users/Karl-Jonathan/Desktop/labeledPositives/motionData 2021-04-19 08-53-48.txt"
      ]
     },
     "metadata": {},
     "output_type": "display_data"
    },
    {
     "data": {
      "text/html": [
       "<pre>Parsing completed. Parsed 100 lines in 0.035533 secs.</pre>"
      ],
      "text/plain": [
       "Parsing completed. Parsed 100 lines in 0.035533 secs."
      ]
     },
     "metadata": {},
     "output_type": "display_data"
    },
    {
     "name": "stdout",
     "output_type": "stream",
     "text": [
      "------------------------------------------------------\n",
      "Inferred types from first 100 line(s) of file as \n",
      "column_type_hints=[float,float,float,float,float,float,int,str]\n",
      "If parsing fails due to incorrect types, you can correct\n",
      "the inferred type list above and pass it to read_csv in\n",
      "the column_type_hints argument\n",
      "------------------------------------------------------\n"
     ]
    },
    {
     "data": {
      "text/html": [
       "<pre>Finished parsing file /mnt/c/Users/Karl-Jonathan/Desktop/labeledPositives/motionData 2021-04-19 08-53-48.txt</pre>"
      ],
      "text/plain": [
       "Finished parsing file /mnt/c/Users/Karl-Jonathan/Desktop/labeledPositives/motionData 2021-04-19 08-53-48.txt"
      ]
     },
     "metadata": {},
     "output_type": "display_data"
    },
    {
     "data": {
      "text/html": [
       "<pre>Parsing completed. Parsed 1045 lines in 0.035649 secs.</pre>"
      ],
      "text/plain": [
       "Parsing completed. Parsed 1045 lines in 0.035649 secs."
      ]
     },
     "metadata": {},
     "output_type": "display_data"
    },
    {
     "data": {
      "text/html": [
       "<pre>Finished parsing file /mnt/c/Users/Karl-Jonathan/Desktop/labeledPositives/motionData 2021-04-19 08-54-01.txt</pre>"
      ],
      "text/plain": [
       "Finished parsing file /mnt/c/Users/Karl-Jonathan/Desktop/labeledPositives/motionData 2021-04-19 08-54-01.txt"
      ]
     },
     "metadata": {},
     "output_type": "display_data"
    },
    {
     "data": {
      "text/html": [
       "<pre>Parsing completed. Parsed 100 lines in 0.035269 secs.</pre>"
      ],
      "text/plain": [
       "Parsing completed. Parsed 100 lines in 0.035269 secs."
      ]
     },
     "metadata": {},
     "output_type": "display_data"
    },
    {
     "name": "stdout",
     "output_type": "stream",
     "text": [
      "------------------------------------------------------\n",
      "Inferred types from first 100 line(s) of file as \n",
      "column_type_hints=[float,float,float,float,float,float,int,str]\n",
      "If parsing fails due to incorrect types, you can correct\n",
      "the inferred type list above and pass it to read_csv in\n",
      "the column_type_hints argument\n",
      "------------------------------------------------------\n"
     ]
    },
    {
     "data": {
      "text/html": [
       "<pre>Finished parsing file /mnt/c/Users/Karl-Jonathan/Desktop/labeledPositives/motionData 2021-04-19 08-54-01.txt</pre>"
      ],
      "text/plain": [
       "Finished parsing file /mnt/c/Users/Karl-Jonathan/Desktop/labeledPositives/motionData 2021-04-19 08-54-01.txt"
      ]
     },
     "metadata": {},
     "output_type": "display_data"
    },
    {
     "data": {
      "text/html": [
       "<pre>Parsing completed. Parsed 978 lines in 0.031773 secs.</pre>"
      ],
      "text/plain": [
       "Parsing completed. Parsed 978 lines in 0.031773 secs."
      ]
     },
     "metadata": {},
     "output_type": "display_data"
    },
    {
     "data": {
      "text/html": [
       "<pre>Finished parsing file /mnt/c/Users/Karl-Jonathan/Desktop/labeledPositives/motionData 2021-04-19 08-54-19.txt</pre>"
      ],
      "text/plain": [
       "Finished parsing file /mnt/c/Users/Karl-Jonathan/Desktop/labeledPositives/motionData 2021-04-19 08-54-19.txt"
      ]
     },
     "metadata": {},
     "output_type": "display_data"
    },
    {
     "data": {
      "text/html": [
       "<pre>Parsing completed. Parsed 100 lines in 0.031007 secs.</pre>"
      ],
      "text/plain": [
       "Parsing completed. Parsed 100 lines in 0.031007 secs."
      ]
     },
     "metadata": {},
     "output_type": "display_data"
    },
    {
     "name": "stdout",
     "output_type": "stream",
     "text": [
      "------------------------------------------------------\n",
      "Inferred types from first 100 line(s) of file as \n",
      "column_type_hints=[float,float,float,float,float,float,int,str]\n",
      "If parsing fails due to incorrect types, you can correct\n",
      "the inferred type list above and pass it to read_csv in\n",
      "the column_type_hints argument\n",
      "------------------------------------------------------\n"
     ]
    },
    {
     "data": {
      "text/html": [
       "<pre>Finished parsing file /mnt/c/Users/Karl-Jonathan/Desktop/labeledPositives/motionData 2021-04-19 08-54-19.txt</pre>"
      ],
      "text/plain": [
       "Finished parsing file /mnt/c/Users/Karl-Jonathan/Desktop/labeledPositives/motionData 2021-04-19 08-54-19.txt"
      ]
     },
     "metadata": {},
     "output_type": "display_data"
    },
    {
     "data": {
      "text/html": [
       "<pre>Parsing completed. Parsed 1412 lines in 0.031153 secs.</pre>"
      ],
      "text/plain": [
       "Parsing completed. Parsed 1412 lines in 0.031153 secs."
      ]
     },
     "metadata": {},
     "output_type": "display_data"
    },
    {
     "data": {
      "text/html": [
       "<pre>Finished parsing file /mnt/c/Users/Karl-Jonathan/Desktop/labeledPositives/motionData 2021-04-19 08-54-33.txt</pre>"
      ],
      "text/plain": [
       "Finished parsing file /mnt/c/Users/Karl-Jonathan/Desktop/labeledPositives/motionData 2021-04-19 08-54-33.txt"
      ]
     },
     "metadata": {},
     "output_type": "display_data"
    },
    {
     "data": {
      "text/html": [
       "<pre>Parsing completed. Parsed 100 lines in 0.031348 secs.</pre>"
      ],
      "text/plain": [
       "Parsing completed. Parsed 100 lines in 0.031348 secs."
      ]
     },
     "metadata": {},
     "output_type": "display_data"
    },
    {
     "name": "stdout",
     "output_type": "stream",
     "text": [
      "------------------------------------------------------\n",
      "Inferred types from first 100 line(s) of file as \n",
      "column_type_hints=[float,float,float,float,float,float,int,str]\n",
      "If parsing fails due to incorrect types, you can correct\n",
      "the inferred type list above and pass it to read_csv in\n",
      "the column_type_hints argument\n",
      "------------------------------------------------------\n"
     ]
    },
    {
     "data": {
      "text/html": [
       "<pre>Finished parsing file /mnt/c/Users/Karl-Jonathan/Desktop/labeledPositives/motionData 2021-04-19 08-54-33.txt</pre>"
      ],
      "text/plain": [
       "Finished parsing file /mnt/c/Users/Karl-Jonathan/Desktop/labeledPositives/motionData 2021-04-19 08-54-33.txt"
      ]
     },
     "metadata": {},
     "output_type": "display_data"
    },
    {
     "data": {
      "text/html": [
       "<pre>Parsing completed. Parsed 1102 lines in 0.034011 secs.</pre>"
      ],
      "text/plain": [
       "Parsing completed. Parsed 1102 lines in 0.034011 secs."
      ]
     },
     "metadata": {},
     "output_type": "display_data"
    },
    {
     "data": {
      "text/html": [
       "<pre>Finished parsing file /mnt/c/Users/Karl-Jonathan/Desktop/labeledPositives/motionData 2021-04-19 08-54-49.txt</pre>"
      ],
      "text/plain": [
       "Finished parsing file /mnt/c/Users/Karl-Jonathan/Desktop/labeledPositives/motionData 2021-04-19 08-54-49.txt"
      ]
     },
     "metadata": {},
     "output_type": "display_data"
    },
    {
     "data": {
      "text/html": [
       "<pre>Parsing completed. Parsed 100 lines in 0.0353 secs.</pre>"
      ],
      "text/plain": [
       "Parsing completed. Parsed 100 lines in 0.0353 secs."
      ]
     },
     "metadata": {},
     "output_type": "display_data"
    },
    {
     "name": "stdout",
     "output_type": "stream",
     "text": [
      "------------------------------------------------------\n",
      "Inferred types from first 100 line(s) of file as \n",
      "column_type_hints=[float,float,float,float,float,float,int,str]\n",
      "If parsing fails due to incorrect types, you can correct\n",
      "the inferred type list above and pass it to read_csv in\n",
      "the column_type_hints argument\n",
      "------------------------------------------------------\n"
     ]
    },
    {
     "data": {
      "text/html": [
       "<pre>Finished parsing file /mnt/c/Users/Karl-Jonathan/Desktop/labeledPositives/motionData 2021-04-19 08-54-49.txt</pre>"
      ],
      "text/plain": [
       "Finished parsing file /mnt/c/Users/Karl-Jonathan/Desktop/labeledPositives/motionData 2021-04-19 08-54-49.txt"
      ]
     },
     "metadata": {},
     "output_type": "display_data"
    },
    {
     "data": {
      "text/html": [
       "<pre>Parsing completed. Parsed 1406 lines in 0.035774 secs.</pre>"
      ],
      "text/plain": [
       "Parsing completed. Parsed 1406 lines in 0.035774 secs."
      ]
     },
     "metadata": {},
     "output_type": "display_data"
    },
    {
     "data": {
      "text/html": [
       "<pre>Finished parsing file /mnt/c/Users/Karl-Jonathan/Desktop/labeledPositives/motionData 2021-04-19 08-55-04.txt</pre>"
      ],
      "text/plain": [
       "Finished parsing file /mnt/c/Users/Karl-Jonathan/Desktop/labeledPositives/motionData 2021-04-19 08-55-04.txt"
      ]
     },
     "metadata": {},
     "output_type": "display_data"
    },
    {
     "data": {
      "text/html": [
       "<pre>Parsing completed. Parsed 100 lines in 0.035624 secs.</pre>"
      ],
      "text/plain": [
       "Parsing completed. Parsed 100 lines in 0.035624 secs."
      ]
     },
     "metadata": {},
     "output_type": "display_data"
    },
    {
     "name": "stdout",
     "output_type": "stream",
     "text": [
      "------------------------------------------------------\n",
      "Inferred types from first 100 line(s) of file as \n",
      "column_type_hints=[float,float,float,float,float,float,int,str]\n",
      "If parsing fails due to incorrect types, you can correct\n",
      "the inferred type list above and pass it to read_csv in\n",
      "the column_type_hints argument\n",
      "------------------------------------------------------\n"
     ]
    },
    {
     "data": {
      "text/html": [
       "<pre>Finished parsing file /mnt/c/Users/Karl-Jonathan/Desktop/labeledPositives/motionData 2021-04-19 08-55-04.txt</pre>"
      ],
      "text/plain": [
       "Finished parsing file /mnt/c/Users/Karl-Jonathan/Desktop/labeledPositives/motionData 2021-04-19 08-55-04.txt"
      ]
     },
     "metadata": {},
     "output_type": "display_data"
    },
    {
     "data": {
      "text/html": [
       "<pre>Parsing completed. Parsed 1246 lines in 0.035751 secs.</pre>"
      ],
      "text/plain": [
       "Parsing completed. Parsed 1246 lines in 0.035751 secs."
      ]
     },
     "metadata": {},
     "output_type": "display_data"
    },
    {
     "data": {
      "text/html": [
       "<pre>Finished parsing file /mnt/c/Users/Karl-Jonathan/Desktop/labeledPositives/motionData 2021-04-19 08-55-20.txt</pre>"
      ],
      "text/plain": [
       "Finished parsing file /mnt/c/Users/Karl-Jonathan/Desktop/labeledPositives/motionData 2021-04-19 08-55-20.txt"
      ]
     },
     "metadata": {},
     "output_type": "display_data"
    },
    {
     "data": {
      "text/html": [
       "<pre>Parsing completed. Parsed 100 lines in 0.035837 secs.</pre>"
      ],
      "text/plain": [
       "Parsing completed. Parsed 100 lines in 0.035837 secs."
      ]
     },
     "metadata": {},
     "output_type": "display_data"
    },
    {
     "name": "stdout",
     "output_type": "stream",
     "text": [
      "------------------------------------------------------\n",
      "Inferred types from first 100 line(s) of file as \n",
      "column_type_hints=[float,float,float,float,float,float,int,str]\n",
      "If parsing fails due to incorrect types, you can correct\n",
      "the inferred type list above and pass it to read_csv in\n",
      "the column_type_hints argument\n",
      "------------------------------------------------------\n"
     ]
    },
    {
     "data": {
      "text/html": [
       "<pre>Finished parsing file /mnt/c/Users/Karl-Jonathan/Desktop/labeledPositives/motionData 2021-04-19 08-55-20.txt</pre>"
      ],
      "text/plain": [
       "Finished parsing file /mnt/c/Users/Karl-Jonathan/Desktop/labeledPositives/motionData 2021-04-19 08-55-20.txt"
      ]
     },
     "metadata": {},
     "output_type": "display_data"
    },
    {
     "data": {
      "text/html": [
       "<pre>Parsing completed. Parsed 1348 lines in 0.035735 secs.</pre>"
      ],
      "text/plain": [
       "Parsing completed. Parsed 1348 lines in 0.035735 secs."
      ]
     },
     "metadata": {},
     "output_type": "display_data"
    },
    {
     "data": {
      "text/html": [
       "<pre>Finished parsing file /mnt/c/Users/Karl-Jonathan/Desktop/labeledPositives/motionData 2021-04-19 08-55-37.txt</pre>"
      ],
      "text/plain": [
       "Finished parsing file /mnt/c/Users/Karl-Jonathan/Desktop/labeledPositives/motionData 2021-04-19 08-55-37.txt"
      ]
     },
     "metadata": {},
     "output_type": "display_data"
    },
    {
     "data": {
      "text/html": [
       "<pre>Parsing completed. Parsed 100 lines in 0.035495 secs.</pre>"
      ],
      "text/plain": [
       "Parsing completed. Parsed 100 lines in 0.035495 secs."
      ]
     },
     "metadata": {},
     "output_type": "display_data"
    },
    {
     "name": "stdout",
     "output_type": "stream",
     "text": [
      "------------------------------------------------------\n",
      "Inferred types from first 100 line(s) of file as \n",
      "column_type_hints=[float,float,float,float,float,float,int,str]\n",
      "If parsing fails due to incorrect types, you can correct\n",
      "the inferred type list above and pass it to read_csv in\n",
      "the column_type_hints argument\n",
      "------------------------------------------------------\n"
     ]
    },
    {
     "data": {
      "text/html": [
       "<pre>Finished parsing file /mnt/c/Users/Karl-Jonathan/Desktop/labeledPositives/motionData 2021-04-19 08-55-37.txt</pre>"
      ],
      "text/plain": [
       "Finished parsing file /mnt/c/Users/Karl-Jonathan/Desktop/labeledPositives/motionData 2021-04-19 08-55-37.txt"
      ]
     },
     "metadata": {},
     "output_type": "display_data"
    },
    {
     "data": {
      "text/html": [
       "<pre>Parsing completed. Parsed 1383 lines in 0.035717 secs.</pre>"
      ],
      "text/plain": [
       "Parsing completed. Parsed 1383 lines in 0.035717 secs."
      ]
     },
     "metadata": {},
     "output_type": "display_data"
    },
    {
     "data": {
      "text/html": [
       "<pre>Finished parsing file /mnt/c/Users/Karl-Jonathan/Desktop/labeledPositives/motionData 2021-04-19 08-56-03.txt</pre>"
      ],
      "text/plain": [
       "Finished parsing file /mnt/c/Users/Karl-Jonathan/Desktop/labeledPositives/motionData 2021-04-19 08-56-03.txt"
      ]
     },
     "metadata": {},
     "output_type": "display_data"
    },
    {
     "data": {
      "text/html": [
       "<pre>Parsing completed. Parsed 100 lines in 0.035678 secs.</pre>"
      ],
      "text/plain": [
       "Parsing completed. Parsed 100 lines in 0.035678 secs."
      ]
     },
     "metadata": {},
     "output_type": "display_data"
    },
    {
     "name": "stdout",
     "output_type": "stream",
     "text": [
      "------------------------------------------------------\n",
      "Inferred types from first 100 line(s) of file as \n",
      "column_type_hints=[float,float,float,float,float,float,int,str]\n",
      "If parsing fails due to incorrect types, you can correct\n",
      "the inferred type list above and pass it to read_csv in\n",
      "the column_type_hints argument\n",
      "------------------------------------------------------\n"
     ]
    },
    {
     "data": {
      "text/html": [
       "<pre>Finished parsing file /mnt/c/Users/Karl-Jonathan/Desktop/labeledPositives/motionData 2021-04-19 08-56-03.txt</pre>"
      ],
      "text/plain": [
       "Finished parsing file /mnt/c/Users/Karl-Jonathan/Desktop/labeledPositives/motionData 2021-04-19 08-56-03.txt"
      ]
     },
     "metadata": {},
     "output_type": "display_data"
    },
    {
     "data": {
      "text/html": [
       "<pre>Parsing completed. Parsed 1367 lines in 0.035571 secs.</pre>"
      ],
      "text/plain": [
       "Parsing completed. Parsed 1367 lines in 0.035571 secs."
      ]
     },
     "metadata": {},
     "output_type": "display_data"
    },
    {
     "data": {
      "text/html": [
       "<pre>Finished parsing file /mnt/c/Users/Karl-Jonathan/Desktop/labeledPositives/motionData 2021-04-19 08-56-15.txt</pre>"
      ],
      "text/plain": [
       "Finished parsing file /mnt/c/Users/Karl-Jonathan/Desktop/labeledPositives/motionData 2021-04-19 08-56-15.txt"
      ]
     },
     "metadata": {},
     "output_type": "display_data"
    },
    {
     "data": {
      "text/html": [
       "<pre>Parsing completed. Parsed 100 lines in 0.035362 secs.</pre>"
      ],
      "text/plain": [
       "Parsing completed. Parsed 100 lines in 0.035362 secs."
      ]
     },
     "metadata": {},
     "output_type": "display_data"
    },
    {
     "name": "stdout",
     "output_type": "stream",
     "text": [
      "------------------------------------------------------\n",
      "Inferred types from first 100 line(s) of file as \n",
      "column_type_hints=[float,float,float,float,float,float,int,str]\n",
      "If parsing fails due to incorrect types, you can correct\n",
      "the inferred type list above and pass it to read_csv in\n",
      "the column_type_hints argument\n",
      "------------------------------------------------------\n"
     ]
    },
    {
     "data": {
      "text/html": [
       "<pre>Finished parsing file /mnt/c/Users/Karl-Jonathan/Desktop/labeledPositives/motionData 2021-04-19 08-56-15.txt</pre>"
      ],
      "text/plain": [
       "Finished parsing file /mnt/c/Users/Karl-Jonathan/Desktop/labeledPositives/motionData 2021-04-19 08-56-15.txt"
      ]
     },
     "metadata": {},
     "output_type": "display_data"
    },
    {
     "data": {
      "text/html": [
       "<pre>Parsing completed. Parsed 1072 lines in 0.035607 secs.</pre>"
      ],
      "text/plain": [
       "Parsing completed. Parsed 1072 lines in 0.035607 secs."
      ]
     },
     "metadata": {},
     "output_type": "display_data"
    },
    {
     "data": {
      "text/html": [
       "<pre>Finished parsing file /mnt/c/Users/Karl-Jonathan/Desktop/labeledPositives/motionData 2021-04-19 08-56-29.txt</pre>"
      ],
      "text/plain": [
       "Finished parsing file /mnt/c/Users/Karl-Jonathan/Desktop/labeledPositives/motionData 2021-04-19 08-56-29.txt"
      ]
     },
     "metadata": {},
     "output_type": "display_data"
    },
    {
     "data": {
      "text/html": [
       "<pre>Parsing completed. Parsed 100 lines in 0.035397 secs.</pre>"
      ],
      "text/plain": [
       "Parsing completed. Parsed 100 lines in 0.035397 secs."
      ]
     },
     "metadata": {},
     "output_type": "display_data"
    },
    {
     "name": "stdout",
     "output_type": "stream",
     "text": [
      "------------------------------------------------------\n",
      "Inferred types from first 100 line(s) of file as \n",
      "column_type_hints=[float,float,float,float,float,float,int,str]\n",
      "If parsing fails due to incorrect types, you can correct\n",
      "the inferred type list above and pass it to read_csv in\n",
      "the column_type_hints argument\n",
      "------------------------------------------------------\n"
     ]
    },
    {
     "data": {
      "text/html": [
       "<pre>Finished parsing file /mnt/c/Users/Karl-Jonathan/Desktop/labeledPositives/motionData 2021-04-19 08-56-29.txt</pre>"
      ],
      "text/plain": [
       "Finished parsing file /mnt/c/Users/Karl-Jonathan/Desktop/labeledPositives/motionData 2021-04-19 08-56-29.txt"
      ]
     },
     "metadata": {},
     "output_type": "display_data"
    },
    {
     "data": {
      "text/html": [
       "<pre>Parsing completed. Parsed 1238 lines in 0.035446 secs.</pre>"
      ],
      "text/plain": [
       "Parsing completed. Parsed 1238 lines in 0.035446 secs."
      ]
     },
     "metadata": {},
     "output_type": "display_data"
    },
    {
     "data": {
      "text/html": [
       "<pre>Finished parsing file /mnt/c/Users/Karl-Jonathan/Desktop/labeledPositives/motionData 2021-04-19 09-05-30.txt</pre>"
      ],
      "text/plain": [
       "Finished parsing file /mnt/c/Users/Karl-Jonathan/Desktop/labeledPositives/motionData 2021-04-19 09-05-30.txt"
      ]
     },
     "metadata": {},
     "output_type": "display_data"
    },
    {
     "data": {
      "text/html": [
       "<pre>Parsing completed. Parsed 100 lines in 0.035694 secs.</pre>"
      ],
      "text/plain": [
       "Parsing completed. Parsed 100 lines in 0.035694 secs."
      ]
     },
     "metadata": {},
     "output_type": "display_data"
    },
    {
     "name": "stdout",
     "output_type": "stream",
     "text": [
      "------------------------------------------------------\n",
      "Inferred types from first 100 line(s) of file as \n",
      "column_type_hints=[float,float,float,float,float,float,int,str]\n",
      "If parsing fails due to incorrect types, you can correct\n",
      "the inferred type list above and pass it to read_csv in\n",
      "the column_type_hints argument\n",
      "------------------------------------------------------\n"
     ]
    },
    {
     "data": {
      "text/html": [
       "<pre>Finished parsing file /mnt/c/Users/Karl-Jonathan/Desktop/labeledPositives/motionData 2021-04-19 09-05-30.txt</pre>"
      ],
      "text/plain": [
       "Finished parsing file /mnt/c/Users/Karl-Jonathan/Desktop/labeledPositives/motionData 2021-04-19 09-05-30.txt"
      ]
     },
     "metadata": {},
     "output_type": "display_data"
    },
    {
     "data": {
      "text/html": [
       "<pre>Parsing completed. Parsed 1567 lines in 0.035755 secs.</pre>"
      ],
      "text/plain": [
       "Parsing completed. Parsed 1567 lines in 0.035755 secs."
      ]
     },
     "metadata": {},
     "output_type": "display_data"
    },
    {
     "data": {
      "text/html": [
       "<pre>Finished parsing file /mnt/c/Users/Karl-Jonathan/Desktop/labeledPositives/motionData 2021-04-19 09-05-46.txt</pre>"
      ],
      "text/plain": [
       "Finished parsing file /mnt/c/Users/Karl-Jonathan/Desktop/labeledPositives/motionData 2021-04-19 09-05-46.txt"
      ]
     },
     "metadata": {},
     "output_type": "display_data"
    },
    {
     "data": {
      "text/html": [
       "<pre>Parsing completed. Parsed 100 lines in 0.035645 secs.</pre>"
      ],
      "text/plain": [
       "Parsing completed. Parsed 100 lines in 0.035645 secs."
      ]
     },
     "metadata": {},
     "output_type": "display_data"
    },
    {
     "name": "stdout",
     "output_type": "stream",
     "text": [
      "------------------------------------------------------\n",
      "Inferred types from first 100 line(s) of file as \n",
      "column_type_hints=[float,float,float,float,float,float,int,str]\n",
      "If parsing fails due to incorrect types, you can correct\n",
      "the inferred type list above and pass it to read_csv in\n",
      "the column_type_hints argument\n",
      "------------------------------------------------------\n"
     ]
    },
    {
     "data": {
      "text/html": [
       "<pre>Finished parsing file /mnt/c/Users/Karl-Jonathan/Desktop/labeledPositives/motionData 2021-04-19 09-05-46.txt</pre>"
      ],
      "text/plain": [
       "Finished parsing file /mnt/c/Users/Karl-Jonathan/Desktop/labeledPositives/motionData 2021-04-19 09-05-46.txt"
      ]
     },
     "metadata": {},
     "output_type": "display_data"
    },
    {
     "data": {
      "text/html": [
       "<pre>Parsing completed. Parsed 1410 lines in 0.03199 secs.</pre>"
      ],
      "text/plain": [
       "Parsing completed. Parsed 1410 lines in 0.03199 secs."
      ]
     },
     "metadata": {},
     "output_type": "display_data"
    },
    {
     "data": {
      "text/html": [
       "<pre>Finished parsing file /mnt/c/Users/Karl-Jonathan/Desktop/labeledPositives/motionData 2021-04-19 09-06-04.txt</pre>"
      ],
      "text/plain": [
       "Finished parsing file /mnt/c/Users/Karl-Jonathan/Desktop/labeledPositives/motionData 2021-04-19 09-06-04.txt"
      ]
     },
     "metadata": {},
     "output_type": "display_data"
    },
    {
     "data": {
      "text/html": [
       "<pre>Parsing completed. Parsed 100 lines in 0.030798 secs.</pre>"
      ],
      "text/plain": [
       "Parsing completed. Parsed 100 lines in 0.030798 secs."
      ]
     },
     "metadata": {},
     "output_type": "display_data"
    },
    {
     "name": "stdout",
     "output_type": "stream",
     "text": [
      "------------------------------------------------------\n",
      "Inferred types from first 100 line(s) of file as \n",
      "column_type_hints=[float,float,float,float,float,float,int,str]\n",
      "If parsing fails due to incorrect types, you can correct\n",
      "the inferred type list above and pass it to read_csv in\n",
      "the column_type_hints argument\n",
      "------------------------------------------------------\n"
     ]
    },
    {
     "data": {
      "text/html": [
       "<pre>Finished parsing file /mnt/c/Users/Karl-Jonathan/Desktop/labeledPositives/motionData 2021-04-19 09-06-04.txt</pre>"
      ],
      "text/plain": [
       "Finished parsing file /mnt/c/Users/Karl-Jonathan/Desktop/labeledPositives/motionData 2021-04-19 09-06-04.txt"
      ]
     },
     "metadata": {},
     "output_type": "display_data"
    },
    {
     "data": {
      "text/html": [
       "<pre>Parsing completed. Parsed 1396 lines in 0.031009 secs.</pre>"
      ],
      "text/plain": [
       "Parsing completed. Parsed 1396 lines in 0.031009 secs."
      ]
     },
     "metadata": {},
     "output_type": "display_data"
    },
    {
     "data": {
      "text/html": [
       "<pre>Finished parsing file /mnt/c/Users/Karl-Jonathan/Desktop/labeledPositives/motionData 2021-04-19 09-06-53.txt</pre>"
      ],
      "text/plain": [
       "Finished parsing file /mnt/c/Users/Karl-Jonathan/Desktop/labeledPositives/motionData 2021-04-19 09-06-53.txt"
      ]
     },
     "metadata": {},
     "output_type": "display_data"
    },
    {
     "data": {
      "text/html": [
       "<pre>Parsing completed. Parsed 100 lines in 0.030864 secs.</pre>"
      ],
      "text/plain": [
       "Parsing completed. Parsed 100 lines in 0.030864 secs."
      ]
     },
     "metadata": {},
     "output_type": "display_data"
    },
    {
     "name": "stdout",
     "output_type": "stream",
     "text": [
      "------------------------------------------------------\n",
      "Inferred types from first 100 line(s) of file as \n",
      "column_type_hints=[float,float,float,float,float,float,int,str]\n",
      "If parsing fails due to incorrect types, you can correct\n",
      "the inferred type list above and pass it to read_csv in\n",
      "the column_type_hints argument\n",
      "------------------------------------------------------\n"
     ]
    },
    {
     "data": {
      "text/html": [
       "<pre>Finished parsing file /mnt/c/Users/Karl-Jonathan/Desktop/labeledPositives/motionData 2021-04-19 09-06-53.txt</pre>"
      ],
      "text/plain": [
       "Finished parsing file /mnt/c/Users/Karl-Jonathan/Desktop/labeledPositives/motionData 2021-04-19 09-06-53.txt"
      ]
     },
     "metadata": {},
     "output_type": "display_data"
    },
    {
     "data": {
      "text/html": [
       "<pre>Parsing completed. Parsed 1149 lines in 0.034321 secs.</pre>"
      ],
      "text/plain": [
       "Parsing completed. Parsed 1149 lines in 0.034321 secs."
      ]
     },
     "metadata": {},
     "output_type": "display_data"
    },
    {
     "data": {
      "text/html": [
       "<pre>Finished parsing file /mnt/c/Users/Karl-Jonathan/Desktop/labeledPositives/motionData 2021-04-19 09-07-12.txt</pre>"
      ],
      "text/plain": [
       "Finished parsing file /mnt/c/Users/Karl-Jonathan/Desktop/labeledPositives/motionData 2021-04-19 09-07-12.txt"
      ]
     },
     "metadata": {},
     "output_type": "display_data"
    },
    {
     "data": {
      "text/html": [
       "<pre>Parsing completed. Parsed 100 lines in 0.035723 secs.</pre>"
      ],
      "text/plain": [
       "Parsing completed. Parsed 100 lines in 0.035723 secs."
      ]
     },
     "metadata": {},
     "output_type": "display_data"
    },
    {
     "name": "stdout",
     "output_type": "stream",
     "text": [
      "------------------------------------------------------\n",
      "Inferred types from first 100 line(s) of file as \n",
      "column_type_hints=[float,float,float,float,float,float,int,str]\n",
      "If parsing fails due to incorrect types, you can correct\n",
      "the inferred type list above and pass it to read_csv in\n",
      "the column_type_hints argument\n",
      "------------------------------------------------------\n"
     ]
    },
    {
     "data": {
      "text/html": [
       "<pre>Finished parsing file /mnt/c/Users/Karl-Jonathan/Desktop/labeledPositives/motionData 2021-04-19 09-07-12.txt</pre>"
      ],
      "text/plain": [
       "Finished parsing file /mnt/c/Users/Karl-Jonathan/Desktop/labeledPositives/motionData 2021-04-19 09-07-12.txt"
      ]
     },
     "metadata": {},
     "output_type": "display_data"
    },
    {
     "data": {
      "text/html": [
       "<pre>Parsing completed. Parsed 1678 lines in 0.035884 secs.</pre>"
      ],
      "text/plain": [
       "Parsing completed. Parsed 1678 lines in 0.035884 secs."
      ]
     },
     "metadata": {},
     "output_type": "display_data"
    },
    {
     "data": {
      "text/html": [
       "<pre>Finished parsing file /mnt/c/Users/Karl-Jonathan/Desktop/labeledPositives/motionData 2021-04-19 09-07-33.txt</pre>"
      ],
      "text/plain": [
       "Finished parsing file /mnt/c/Users/Karl-Jonathan/Desktop/labeledPositives/motionData 2021-04-19 09-07-33.txt"
      ]
     },
     "metadata": {},
     "output_type": "display_data"
    },
    {
     "data": {
      "text/html": [
       "<pre>Parsing completed. Parsed 100 lines in 0.036157 secs.</pre>"
      ],
      "text/plain": [
       "Parsing completed. Parsed 100 lines in 0.036157 secs."
      ]
     },
     "metadata": {},
     "output_type": "display_data"
    },
    {
     "name": "stdout",
     "output_type": "stream",
     "text": [
      "------------------------------------------------------\n",
      "Inferred types from first 100 line(s) of file as \n",
      "column_type_hints=[float,float,float,float,float,float,int,str]\n",
      "If parsing fails due to incorrect types, you can correct\n",
      "the inferred type list above and pass it to read_csv in\n",
      "the column_type_hints argument\n",
      "------------------------------------------------------\n"
     ]
    },
    {
     "data": {
      "text/html": [
       "<pre>Finished parsing file /mnt/c/Users/Karl-Jonathan/Desktop/labeledPositives/motionData 2021-04-19 09-07-33.txt</pre>"
      ],
      "text/plain": [
       "Finished parsing file /mnt/c/Users/Karl-Jonathan/Desktop/labeledPositives/motionData 2021-04-19 09-07-33.txt"
      ]
     },
     "metadata": {},
     "output_type": "display_data"
    },
    {
     "data": {
      "text/html": [
       "<pre>Parsing completed. Parsed 1778 lines in 0.035917 secs.</pre>"
      ],
      "text/plain": [
       "Parsing completed. Parsed 1778 lines in 0.035917 secs."
      ]
     },
     "metadata": {},
     "output_type": "display_data"
    },
    {
     "data": {
      "text/html": [
       "<pre>Finished parsing file /mnt/c/Users/Karl-Jonathan/Desktop/labeledPositives/motionData 2021-04-19 09-07-57.txt</pre>"
      ],
      "text/plain": [
       "Finished parsing file /mnt/c/Users/Karl-Jonathan/Desktop/labeledPositives/motionData 2021-04-19 09-07-57.txt"
      ]
     },
     "metadata": {},
     "output_type": "display_data"
    },
    {
     "data": {
      "text/html": [
       "<pre>Parsing completed. Parsed 100 lines in 0.035949 secs.</pre>"
      ],
      "text/plain": [
       "Parsing completed. Parsed 100 lines in 0.035949 secs."
      ]
     },
     "metadata": {},
     "output_type": "display_data"
    },
    {
     "name": "stdout",
     "output_type": "stream",
     "text": [
      "------------------------------------------------------\n",
      "Inferred types from first 100 line(s) of file as \n",
      "column_type_hints=[float,float,float,float,float,float,int,str]\n",
      "If parsing fails due to incorrect types, you can correct\n",
      "the inferred type list above and pass it to read_csv in\n",
      "the column_type_hints argument\n",
      "------------------------------------------------------\n"
     ]
    },
    {
     "data": {
      "text/html": [
       "<pre>Finished parsing file /mnt/c/Users/Karl-Jonathan/Desktop/labeledPositives/motionData 2021-04-19 09-07-57.txt</pre>"
      ],
      "text/plain": [
       "Finished parsing file /mnt/c/Users/Karl-Jonathan/Desktop/labeledPositives/motionData 2021-04-19 09-07-57.txt"
      ]
     },
     "metadata": {},
     "output_type": "display_data"
    },
    {
     "data": {
      "text/html": [
       "<pre>Parsing completed. Parsed 1964 lines in 0.035973 secs.</pre>"
      ],
      "text/plain": [
       "Parsing completed. Parsed 1964 lines in 0.035973 secs."
      ]
     },
     "metadata": {},
     "output_type": "display_data"
    },
    {
     "data": {
      "text/html": [
       "<pre>Finished parsing file /mnt/c/Users/Karl-Jonathan/Desktop/labeledPositives/motionData 2021-04-19 09-08-20.txt</pre>"
      ],
      "text/plain": [
       "Finished parsing file /mnt/c/Users/Karl-Jonathan/Desktop/labeledPositives/motionData 2021-04-19 09-08-20.txt"
      ]
     },
     "metadata": {},
     "output_type": "display_data"
    },
    {
     "data": {
      "text/html": [
       "<pre>Parsing completed. Parsed 100 lines in 0.036081 secs.</pre>"
      ],
      "text/plain": [
       "Parsing completed. Parsed 100 lines in 0.036081 secs."
      ]
     },
     "metadata": {},
     "output_type": "display_data"
    },
    {
     "name": "stdout",
     "output_type": "stream",
     "text": [
      "------------------------------------------------------\n",
      "Inferred types from first 100 line(s) of file as \n",
      "column_type_hints=[float,float,float,float,float,float,int,str]\n",
      "If parsing fails due to incorrect types, you can correct\n",
      "the inferred type list above and pass it to read_csv in\n",
      "the column_type_hints argument\n",
      "------------------------------------------------------\n"
     ]
    },
    {
     "data": {
      "text/html": [
       "<pre>Finished parsing file /mnt/c/Users/Karl-Jonathan/Desktop/labeledPositives/motionData 2021-04-19 09-08-20.txt</pre>"
      ],
      "text/plain": [
       "Finished parsing file /mnt/c/Users/Karl-Jonathan/Desktop/labeledPositives/motionData 2021-04-19 09-08-20.txt"
      ]
     },
     "metadata": {},
     "output_type": "display_data"
    },
    {
     "data": {
      "text/html": [
       "<pre>Parsing completed. Parsed 1982 lines in 0.035793 secs.</pre>"
      ],
      "text/plain": [
       "Parsing completed. Parsed 1982 lines in 0.035793 secs."
      ]
     },
     "metadata": {},
     "output_type": "display_data"
    },
    {
     "data": {
      "text/html": [
       "<pre>Finished parsing file /mnt/c/Users/Karl-Jonathan/Desktop/labeledPositives/motionData 2021-04-19 09-08-50.txt</pre>"
      ],
      "text/plain": [
       "Finished parsing file /mnt/c/Users/Karl-Jonathan/Desktop/labeledPositives/motionData 2021-04-19 09-08-50.txt"
      ]
     },
     "metadata": {},
     "output_type": "display_data"
    },
    {
     "data": {
      "text/html": [
       "<pre>Parsing completed. Parsed 100 lines in 0.035931 secs.</pre>"
      ],
      "text/plain": [
       "Parsing completed. Parsed 100 lines in 0.035931 secs."
      ]
     },
     "metadata": {},
     "output_type": "display_data"
    },
    {
     "name": "stdout",
     "output_type": "stream",
     "text": [
      "------------------------------------------------------\n",
      "Inferred types from first 100 line(s) of file as \n",
      "column_type_hints=[float,float,float,float,float,float,int,str]\n",
      "If parsing fails due to incorrect types, you can correct\n",
      "the inferred type list above and pass it to read_csv in\n",
      "the column_type_hints argument\n",
      "------------------------------------------------------\n"
     ]
    },
    {
     "data": {
      "text/html": [
       "<pre>Finished parsing file /mnt/c/Users/Karl-Jonathan/Desktop/labeledPositives/motionData 2021-04-19 09-08-50.txt</pre>"
      ],
      "text/plain": [
       "Finished parsing file /mnt/c/Users/Karl-Jonathan/Desktop/labeledPositives/motionData 2021-04-19 09-08-50.txt"
      ]
     },
     "metadata": {},
     "output_type": "display_data"
    },
    {
     "data": {
      "text/html": [
       "<pre>Parsing completed. Parsed 2129 lines in 0.036013 secs.</pre>"
      ],
      "text/plain": [
       "Parsing completed. Parsed 2129 lines in 0.036013 secs."
      ]
     },
     "metadata": {},
     "output_type": "display_data"
    },
    {
     "data": {
      "text/html": [
       "<pre>Finished parsing file /mnt/c/Users/Karl-Jonathan/Desktop/labeledPositives/motionData 2021-04-19 09-09-14.txt</pre>"
      ],
      "text/plain": [
       "Finished parsing file /mnt/c/Users/Karl-Jonathan/Desktop/labeledPositives/motionData 2021-04-19 09-09-14.txt"
      ]
     },
     "metadata": {},
     "output_type": "display_data"
    },
    {
     "data": {
      "text/html": [
       "<pre>Parsing completed. Parsed 100 lines in 0.036022 secs.</pre>"
      ],
      "text/plain": [
       "Parsing completed. Parsed 100 lines in 0.036022 secs."
      ]
     },
     "metadata": {},
     "output_type": "display_data"
    },
    {
     "name": "stdout",
     "output_type": "stream",
     "text": [
      "------------------------------------------------------\n",
      "Inferred types from first 100 line(s) of file as \n",
      "column_type_hints=[float,float,float,float,float,float,int,str]\n",
      "If parsing fails due to incorrect types, you can correct\n",
      "the inferred type list above and pass it to read_csv in\n",
      "the column_type_hints argument\n",
      "------------------------------------------------------\n"
     ]
    },
    {
     "data": {
      "text/html": [
       "<pre>Finished parsing file /mnt/c/Users/Karl-Jonathan/Desktop/labeledPositives/motionData 2021-04-19 09-09-14.txt</pre>"
      ],
      "text/plain": [
       "Finished parsing file /mnt/c/Users/Karl-Jonathan/Desktop/labeledPositives/motionData 2021-04-19 09-09-14.txt"
      ]
     },
     "metadata": {},
     "output_type": "display_data"
    },
    {
     "data": {
      "text/html": [
       "<pre>Parsing completed. Parsed 1820 lines in 0.035954 secs.</pre>"
      ],
      "text/plain": [
       "Parsing completed. Parsed 1820 lines in 0.035954 secs."
      ]
     },
     "metadata": {},
     "output_type": "display_data"
    },
    {
     "data": {
      "text/html": [
       "<pre>Finished parsing file /mnt/c/Users/Karl-Jonathan/Desktop/labeledPositives/motionData 2021-04-19 09-10-16.txt</pre>"
      ],
      "text/plain": [
       "Finished parsing file /mnt/c/Users/Karl-Jonathan/Desktop/labeledPositives/motionData 2021-04-19 09-10-16.txt"
      ]
     },
     "metadata": {},
     "output_type": "display_data"
    },
    {
     "data": {
      "text/html": [
       "<pre>Parsing completed. Parsed 100 lines in 0.036052 secs.</pre>"
      ],
      "text/plain": [
       "Parsing completed. Parsed 100 lines in 0.036052 secs."
      ]
     },
     "metadata": {},
     "output_type": "display_data"
    },
    {
     "name": "stdout",
     "output_type": "stream",
     "text": [
      "------------------------------------------------------\n",
      "Inferred types from first 100 line(s) of file as \n",
      "column_type_hints=[float,float,float,float,float,float,int,str]\n",
      "If parsing fails due to incorrect types, you can correct\n",
      "the inferred type list above and pass it to read_csv in\n",
      "the column_type_hints argument\n",
      "------------------------------------------------------\n"
     ]
    },
    {
     "data": {
      "text/html": [
       "<pre>Finished parsing file /mnt/c/Users/Karl-Jonathan/Desktop/labeledPositives/motionData 2021-04-19 09-10-16.txt</pre>"
      ],
      "text/plain": [
       "Finished parsing file /mnt/c/Users/Karl-Jonathan/Desktop/labeledPositives/motionData 2021-04-19 09-10-16.txt"
      ]
     },
     "metadata": {},
     "output_type": "display_data"
    },
    {
     "data": {
      "text/html": [
       "<pre>Parsing completed. Parsed 1776 lines in 0.035945 secs.</pre>"
      ],
      "text/plain": [
       "Parsing completed. Parsed 1776 lines in 0.035945 secs."
      ]
     },
     "metadata": {},
     "output_type": "display_data"
    },
    {
     "data": {
      "text/html": [
       "<pre>Finished parsing file /mnt/c/Users/Karl-Jonathan/Desktop/labeledPositives/motionData 2021-04-19 09-10-46.txt</pre>"
      ],
      "text/plain": [
       "Finished parsing file /mnt/c/Users/Karl-Jonathan/Desktop/labeledPositives/motionData 2021-04-19 09-10-46.txt"
      ]
     },
     "metadata": {},
     "output_type": "display_data"
    },
    {
     "data": {
      "text/html": [
       "<pre>Parsing completed. Parsed 100 lines in 0.03604 secs.</pre>"
      ],
      "text/plain": [
       "Parsing completed. Parsed 100 lines in 0.03604 secs."
      ]
     },
     "metadata": {},
     "output_type": "display_data"
    },
    {
     "name": "stdout",
     "output_type": "stream",
     "text": [
      "------------------------------------------------------\n",
      "Inferred types from first 100 line(s) of file as \n",
      "column_type_hints=[float,float,float,float,float,float,int,str]\n",
      "If parsing fails due to incorrect types, you can correct\n",
      "the inferred type list above and pass it to read_csv in\n",
      "the column_type_hints argument\n",
      "------------------------------------------------------\n"
     ]
    },
    {
     "data": {
      "text/html": [
       "<pre>Finished parsing file /mnt/c/Users/Karl-Jonathan/Desktop/labeledPositives/motionData 2021-04-19 09-10-46.txt</pre>"
      ],
      "text/plain": [
       "Finished parsing file /mnt/c/Users/Karl-Jonathan/Desktop/labeledPositives/motionData 2021-04-19 09-10-46.txt"
      ]
     },
     "metadata": {},
     "output_type": "display_data"
    },
    {
     "data": {
      "text/html": [
       "<pre>Parsing completed. Parsed 1917 lines in 0.035822 secs.</pre>"
      ],
      "text/plain": [
       "Parsing completed. Parsed 1917 lines in 0.035822 secs."
      ]
     },
     "metadata": {},
     "output_type": "display_data"
    },
    {
     "data": {
      "text/html": [
       "<pre>Finished parsing file /mnt/c/Users/Karl-Jonathan/Desktop/labeledPositives/motionData 2021-04-19 09-11-25.txt</pre>"
      ],
      "text/plain": [
       "Finished parsing file /mnt/c/Users/Karl-Jonathan/Desktop/labeledPositives/motionData 2021-04-19 09-11-25.txt"
      ]
     },
     "metadata": {},
     "output_type": "display_data"
    },
    {
     "data": {
      "text/html": [
       "<pre>Parsing completed. Parsed 100 lines in 0.036558 secs.</pre>"
      ],
      "text/plain": [
       "Parsing completed. Parsed 100 lines in 0.036558 secs."
      ]
     },
     "metadata": {},
     "output_type": "display_data"
    },
    {
     "name": "stdout",
     "output_type": "stream",
     "text": [
      "------------------------------------------------------\n",
      "Inferred types from first 100 line(s) of file as \n",
      "column_type_hints=[float,float,float,float,float,float,int,str]\n",
      "If parsing fails due to incorrect types, you can correct\n",
      "the inferred type list above and pass it to read_csv in\n",
      "the column_type_hints argument\n",
      "------------------------------------------------------\n"
     ]
    },
    {
     "data": {
      "text/html": [
       "<pre>Finished parsing file /mnt/c/Users/Karl-Jonathan/Desktop/labeledPositives/motionData 2021-04-19 09-11-25.txt</pre>"
      ],
      "text/plain": [
       "Finished parsing file /mnt/c/Users/Karl-Jonathan/Desktop/labeledPositives/motionData 2021-04-19 09-11-25.txt"
      ]
     },
     "metadata": {},
     "output_type": "display_data"
    },
    {
     "data": {
      "text/html": [
       "<pre>Parsing completed. Parsed 2468 lines in 0.032364 secs.</pre>"
      ],
      "text/plain": [
       "Parsing completed. Parsed 2468 lines in 0.032364 secs."
      ]
     },
     "metadata": {},
     "output_type": "display_data"
    },
    {
     "data": {
      "text/html": [
       "<pre>Finished parsing file /mnt/c/Users/Karl-Jonathan/Desktop/labeledPositives/motionData 2021-04-19 09-11-49.txt</pre>"
      ],
      "text/plain": [
       "Finished parsing file /mnt/c/Users/Karl-Jonathan/Desktop/labeledPositives/motionData 2021-04-19 09-11-49.txt"
      ]
     },
     "metadata": {},
     "output_type": "display_data"
    },
    {
     "data": {
      "text/html": [
       "<pre>Parsing completed. Parsed 100 lines in 0.03134 secs.</pre>"
      ],
      "text/plain": [
       "Parsing completed. Parsed 100 lines in 0.03134 secs."
      ]
     },
     "metadata": {},
     "output_type": "display_data"
    },
    {
     "name": "stdout",
     "output_type": "stream",
     "text": [
      "------------------------------------------------------\n",
      "Inferred types from first 100 line(s) of file as \n",
      "column_type_hints=[float,float,float,float,float,float,int,str]\n",
      "If parsing fails due to incorrect types, you can correct\n",
      "the inferred type list above and pass it to read_csv in\n",
      "the column_type_hints argument\n",
      "------------------------------------------------------\n"
     ]
    },
    {
     "data": {
      "text/html": [
       "<pre>Finished parsing file /mnt/c/Users/Karl-Jonathan/Desktop/labeledPositives/motionData 2021-04-19 09-11-49.txt</pre>"
      ],
      "text/plain": [
       "Finished parsing file /mnt/c/Users/Karl-Jonathan/Desktop/labeledPositives/motionData 2021-04-19 09-11-49.txt"
      ]
     },
     "metadata": {},
     "output_type": "display_data"
    },
    {
     "data": {
      "text/html": [
       "<pre>Parsing completed. Parsed 1722 lines in 0.031268 secs.</pre>"
      ],
      "text/plain": [
       "Parsing completed. Parsed 1722 lines in 0.031268 secs."
      ]
     },
     "metadata": {},
     "output_type": "display_data"
    },
    {
     "data": {
      "text/html": [
       "<pre>Finished parsing file /mnt/c/Users/Karl-Jonathan/Desktop/labeledPositives/motionData 2021-04-19 09-12-06.txt</pre>"
      ],
      "text/plain": [
       "Finished parsing file /mnt/c/Users/Karl-Jonathan/Desktop/labeledPositives/motionData 2021-04-19 09-12-06.txt"
      ]
     },
     "metadata": {},
     "output_type": "display_data"
    },
    {
     "data": {
      "text/html": [
       "<pre>Parsing completed. Parsed 100 lines in 0.031204 secs.</pre>"
      ],
      "text/plain": [
       "Parsing completed. Parsed 100 lines in 0.031204 secs."
      ]
     },
     "metadata": {},
     "output_type": "display_data"
    },
    {
     "name": "stdout",
     "output_type": "stream",
     "text": [
      "------------------------------------------------------\n",
      "Inferred types from first 100 line(s) of file as \n",
      "column_type_hints=[float,float,float,float,float,float,int,str]\n",
      "If parsing fails due to incorrect types, you can correct\n",
      "the inferred type list above and pass it to read_csv in\n",
      "the column_type_hints argument\n",
      "------------------------------------------------------\n"
     ]
    },
    {
     "data": {
      "text/html": [
       "<pre>Finished parsing file /mnt/c/Users/Karl-Jonathan/Desktop/labeledPositives/motionData 2021-04-19 09-12-06.txt</pre>"
      ],
      "text/plain": [
       "Finished parsing file /mnt/c/Users/Karl-Jonathan/Desktop/labeledPositives/motionData 2021-04-19 09-12-06.txt"
      ]
     },
     "metadata": {},
     "output_type": "display_data"
    },
    {
     "data": {
      "text/html": [
       "<pre>Parsing completed. Parsed 1383 lines in 0.034723 secs.</pre>"
      ],
      "text/plain": [
       "Parsing completed. Parsed 1383 lines in 0.034723 secs."
      ]
     },
     "metadata": {},
     "output_type": "display_data"
    },
    {
     "data": {
      "text/html": [
       "<pre>Finished parsing file /mnt/c/Users/Karl-Jonathan/Desktop/labeledPositives/motionData 2021-04-19 09-12-25.txt</pre>"
      ],
      "text/plain": [
       "Finished parsing file /mnt/c/Users/Karl-Jonathan/Desktop/labeledPositives/motionData 2021-04-19 09-12-25.txt"
      ]
     },
     "metadata": {},
     "output_type": "display_data"
    },
    {
     "data": {
      "text/html": [
       "<pre>Parsing completed. Parsed 100 lines in 0.035509 secs.</pre>"
      ],
      "text/plain": [
       "Parsing completed. Parsed 100 lines in 0.035509 secs."
      ]
     },
     "metadata": {},
     "output_type": "display_data"
    },
    {
     "name": "stdout",
     "output_type": "stream",
     "text": [
      "------------------------------------------------------\n",
      "Inferred types from first 100 line(s) of file as \n",
      "column_type_hints=[float,float,float,float,float,float,int,str]\n",
      "If parsing fails due to incorrect types, you can correct\n",
      "the inferred type list above and pass it to read_csv in\n",
      "the column_type_hints argument\n",
      "------------------------------------------------------\n"
     ]
    },
    {
     "data": {
      "text/html": [
       "<pre>Finished parsing file /mnt/c/Users/Karl-Jonathan/Desktop/labeledPositives/motionData 2021-04-19 09-12-25.txt</pre>"
      ],
      "text/plain": [
       "Finished parsing file /mnt/c/Users/Karl-Jonathan/Desktop/labeledPositives/motionData 2021-04-19 09-12-25.txt"
      ]
     },
     "metadata": {},
     "output_type": "display_data"
    },
    {
     "data": {
      "text/html": [
       "<pre>Parsing completed. Parsed 1523 lines in 0.035821 secs.</pre>"
      ],
      "text/plain": [
       "Parsing completed. Parsed 1523 lines in 0.035821 secs."
      ]
     },
     "metadata": {},
     "output_type": "display_data"
    },
    {
     "data": {
      "text/html": [
       "<pre>Finished parsing file /mnt/c/Users/Karl-Jonathan/Desktop/labeledPositives/motionData 2021-04-19 09-12-39.txt</pre>"
      ],
      "text/plain": [
       "Finished parsing file /mnt/c/Users/Karl-Jonathan/Desktop/labeledPositives/motionData 2021-04-19 09-12-39.txt"
      ]
     },
     "metadata": {},
     "output_type": "display_data"
    },
    {
     "data": {
      "text/html": [
       "<pre>Parsing completed. Parsed 100 lines in 0.035483 secs.</pre>"
      ],
      "text/plain": [
       "Parsing completed. Parsed 100 lines in 0.035483 secs."
      ]
     },
     "metadata": {},
     "output_type": "display_data"
    },
    {
     "name": "stdout",
     "output_type": "stream",
     "text": [
      "------------------------------------------------------\n",
      "Inferred types from first 100 line(s) of file as \n",
      "column_type_hints=[float,float,float,float,float,float,int,str]\n",
      "If parsing fails due to incorrect types, you can correct\n",
      "the inferred type list above and pass it to read_csv in\n",
      "the column_type_hints argument\n",
      "------------------------------------------------------\n"
     ]
    },
    {
     "data": {
      "text/html": [
       "<pre>Finished parsing file /mnt/c/Users/Karl-Jonathan/Desktop/labeledPositives/motionData 2021-04-19 09-12-39.txt</pre>"
      ],
      "text/plain": [
       "Finished parsing file /mnt/c/Users/Karl-Jonathan/Desktop/labeledPositives/motionData 2021-04-19 09-12-39.txt"
      ]
     },
     "metadata": {},
     "output_type": "display_data"
    },
    {
     "data": {
      "text/html": [
       "<pre>Parsing completed. Parsed 1128 lines in 0.035542 secs.</pre>"
      ],
      "text/plain": [
       "Parsing completed. Parsed 1128 lines in 0.035542 secs."
      ]
     },
     "metadata": {},
     "output_type": "display_data"
    },
    {
     "data": {
      "text/html": [
       "<pre>Finished parsing file /mnt/c/Users/Karl-Jonathan/Desktop/labeledPositives/motionData 2021-04-19 09-13-03.txt</pre>"
      ],
      "text/plain": [
       "Finished parsing file /mnt/c/Users/Karl-Jonathan/Desktop/labeledPositives/motionData 2021-04-19 09-13-03.txt"
      ]
     },
     "metadata": {},
     "output_type": "display_data"
    },
    {
     "data": {
      "text/html": [
       "<pre>Parsing completed. Parsed 100 lines in 0.035816 secs.</pre>"
      ],
      "text/plain": [
       "Parsing completed. Parsed 100 lines in 0.035816 secs."
      ]
     },
     "metadata": {},
     "output_type": "display_data"
    },
    {
     "name": "stdout",
     "output_type": "stream",
     "text": [
      "------------------------------------------------------\n",
      "Inferred types from first 100 line(s) of file as \n",
      "column_type_hints=[float,float,float,float,float,float,int,str]\n",
      "If parsing fails due to incorrect types, you can correct\n",
      "the inferred type list above and pass it to read_csv in\n",
      "the column_type_hints argument\n",
      "------------------------------------------------------\n"
     ]
    },
    {
     "data": {
      "text/html": [
       "<pre>Finished parsing file /mnt/c/Users/Karl-Jonathan/Desktop/labeledPositives/motionData 2021-04-19 09-13-03.txt</pre>"
      ],
      "text/plain": [
       "Finished parsing file /mnt/c/Users/Karl-Jonathan/Desktop/labeledPositives/motionData 2021-04-19 09-13-03.txt"
      ]
     },
     "metadata": {},
     "output_type": "display_data"
    },
    {
     "data": {
      "text/html": [
       "<pre>Parsing completed. Parsed 1755 lines in 0.035756 secs.</pre>"
      ],
      "text/plain": [
       "Parsing completed. Parsed 1755 lines in 0.035756 secs."
      ]
     },
     "metadata": {},
     "output_type": "display_data"
    },
    {
     "data": {
      "text/html": [
       "<pre>Finished parsing file /mnt/c/Users/Karl-Jonathan/Desktop/labeledPositives/motionData 2021-04-19 09-13-50.txt</pre>"
      ],
      "text/plain": [
       "Finished parsing file /mnt/c/Users/Karl-Jonathan/Desktop/labeledPositives/motionData 2021-04-19 09-13-50.txt"
      ]
     },
     "metadata": {},
     "output_type": "display_data"
    },
    {
     "data": {
      "text/html": [
       "<pre>Parsing completed. Parsed 100 lines in 0.036012 secs.</pre>"
      ],
      "text/plain": [
       "Parsing completed. Parsed 100 lines in 0.036012 secs."
      ]
     },
     "metadata": {},
     "output_type": "display_data"
    },
    {
     "name": "stdout",
     "output_type": "stream",
     "text": [
      "------------------------------------------------------\n",
      "Inferred types from first 100 line(s) of file as \n",
      "column_type_hints=[float,float,float,float,float,float,int,str]\n",
      "If parsing fails due to incorrect types, you can correct\n",
      "the inferred type list above and pass it to read_csv in\n",
      "the column_type_hints argument\n",
      "------------------------------------------------------\n"
     ]
    },
    {
     "data": {
      "text/html": [
       "<pre>Finished parsing file /mnt/c/Users/Karl-Jonathan/Desktop/labeledPositives/motionData 2021-04-19 09-13-50.txt</pre>"
      ],
      "text/plain": [
       "Finished parsing file /mnt/c/Users/Karl-Jonathan/Desktop/labeledPositives/motionData 2021-04-19 09-13-50.txt"
      ]
     },
     "metadata": {},
     "output_type": "display_data"
    },
    {
     "data": {
      "text/html": [
       "<pre>Parsing completed. Parsed 1830 lines in 0.036102 secs.</pre>"
      ],
      "text/plain": [
       "Parsing completed. Parsed 1830 lines in 0.036102 secs."
      ]
     },
     "metadata": {},
     "output_type": "display_data"
    },
    {
     "data": {
      "text/html": [
       "<pre>Finished parsing file /mnt/c/Users/Karl-Jonathan/Desktop/labeledPositives/motionData 2021-04-19 09-14-14.txt</pre>"
      ],
      "text/plain": [
       "Finished parsing file /mnt/c/Users/Karl-Jonathan/Desktop/labeledPositives/motionData 2021-04-19 09-14-14.txt"
      ]
     },
     "metadata": {},
     "output_type": "display_data"
    },
    {
     "data": {
      "text/html": [
       "<pre>Parsing completed. Parsed 100 lines in 0.036017 secs.</pre>"
      ],
      "text/plain": [
       "Parsing completed. Parsed 100 lines in 0.036017 secs."
      ]
     },
     "metadata": {},
     "output_type": "display_data"
    },
    {
     "name": "stdout",
     "output_type": "stream",
     "text": [
      "------------------------------------------------------\n",
      "Inferred types from first 100 line(s) of file as \n",
      "column_type_hints=[float,float,float,float,float,float,int,str]\n",
      "If parsing fails due to incorrect types, you can correct\n",
      "the inferred type list above and pass it to read_csv in\n",
      "the column_type_hints argument\n",
      "------------------------------------------------------\n"
     ]
    },
    {
     "data": {
      "text/html": [
       "<pre>Finished parsing file /mnt/c/Users/Karl-Jonathan/Desktop/labeledPositives/motionData 2021-04-19 09-14-14.txt</pre>"
      ],
      "text/plain": [
       "Finished parsing file /mnt/c/Users/Karl-Jonathan/Desktop/labeledPositives/motionData 2021-04-19 09-14-14.txt"
      ]
     },
     "metadata": {},
     "output_type": "display_data"
    },
    {
     "data": {
      "text/html": [
       "<pre>Parsing completed. Parsed 1910 lines in 0.035912 secs.</pre>"
      ],
      "text/plain": [
       "Parsing completed. Parsed 1910 lines in 0.035912 secs."
      ]
     },
     "metadata": {},
     "output_type": "display_data"
    },
    {
     "data": {
      "text/html": [
       "<pre>Finished parsing file /mnt/c/Users/Karl-Jonathan/Desktop/labeledPositives/motionData 2021-04-19 09-15-56.txt</pre>"
      ],
      "text/plain": [
       "Finished parsing file /mnt/c/Users/Karl-Jonathan/Desktop/labeledPositives/motionData 2021-04-19 09-15-56.txt"
      ]
     },
     "metadata": {},
     "output_type": "display_data"
    },
    {
     "data": {
      "text/html": [
       "<pre>Parsing completed. Parsed 100 lines in 0.035589 secs.</pre>"
      ],
      "text/plain": [
       "Parsing completed. Parsed 100 lines in 0.035589 secs."
      ]
     },
     "metadata": {},
     "output_type": "display_data"
    },
    {
     "name": "stdout",
     "output_type": "stream",
     "text": [
      "------------------------------------------------------\n",
      "Inferred types from first 100 line(s) of file as \n",
      "column_type_hints=[float,float,float,float,float,float,int,str]\n",
      "If parsing fails due to incorrect types, you can correct\n",
      "the inferred type list above and pass it to read_csv in\n",
      "the column_type_hints argument\n",
      "------------------------------------------------------\n"
     ]
    },
    {
     "data": {
      "text/html": [
       "<pre>Finished parsing file /mnt/c/Users/Karl-Jonathan/Desktop/labeledPositives/motionData 2021-04-19 09-15-56.txt</pre>"
      ],
      "text/plain": [
       "Finished parsing file /mnt/c/Users/Karl-Jonathan/Desktop/labeledPositives/motionData 2021-04-19 09-15-56.txt"
      ]
     },
     "metadata": {},
     "output_type": "display_data"
    },
    {
     "data": {
      "text/html": [
       "<pre>Parsing completed. Parsed 1624 lines in 0.035588 secs.</pre>"
      ],
      "text/plain": [
       "Parsing completed. Parsed 1624 lines in 0.035588 secs."
      ]
     },
     "metadata": {},
     "output_type": "display_data"
    },
    {
     "data": {
      "text/html": [
       "<pre>Finished parsing file /mnt/c/Users/Karl-Jonathan/Desktop/labeledPositives/motionData 2021-04-19 09-16-10.txt</pre>"
      ],
      "text/plain": [
       "Finished parsing file /mnt/c/Users/Karl-Jonathan/Desktop/labeledPositives/motionData 2021-04-19 09-16-10.txt"
      ]
     },
     "metadata": {},
     "output_type": "display_data"
    },
    {
     "data": {
      "text/html": [
       "<pre>Parsing completed. Parsed 100 lines in 0.035437 secs.</pre>"
      ],
      "text/plain": [
       "Parsing completed. Parsed 100 lines in 0.035437 secs."
      ]
     },
     "metadata": {},
     "output_type": "display_data"
    },
    {
     "name": "stdout",
     "output_type": "stream",
     "text": [
      "------------------------------------------------------\n",
      "Inferred types from first 100 line(s) of file as \n",
      "column_type_hints=[float,float,float,float,float,float,int,str]\n",
      "If parsing fails due to incorrect types, you can correct\n",
      "the inferred type list above and pass it to read_csv in\n",
      "the column_type_hints argument\n",
      "------------------------------------------------------\n"
     ]
    },
    {
     "data": {
      "text/html": [
       "<pre>Finished parsing file /mnt/c/Users/Karl-Jonathan/Desktop/labeledPositives/motionData 2021-04-19 09-16-10.txt</pre>"
      ],
      "text/plain": [
       "Finished parsing file /mnt/c/Users/Karl-Jonathan/Desktop/labeledPositives/motionData 2021-04-19 09-16-10.txt"
      ]
     },
     "metadata": {},
     "output_type": "display_data"
    },
    {
     "data": {
      "text/html": [
       "<pre>Parsing completed. Parsed 1031 lines in 0.035896 secs.</pre>"
      ],
      "text/plain": [
       "Parsing completed. Parsed 1031 lines in 0.035896 secs."
      ]
     },
     "metadata": {},
     "output_type": "display_data"
    },
    {
     "data": {
      "text/html": [
       "<pre>Finished parsing file /mnt/c/Users/Karl-Jonathan/Desktop/labeledPositives/motionData 2021-04-19 09-16-39.txt</pre>"
      ],
      "text/plain": [
       "Finished parsing file /mnt/c/Users/Karl-Jonathan/Desktop/labeledPositives/motionData 2021-04-19 09-16-39.txt"
      ]
     },
     "metadata": {},
     "output_type": "display_data"
    },
    {
     "data": {
      "text/html": [
       "<pre>Parsing completed. Parsed 100 lines in 0.036132 secs.</pre>"
      ],
      "text/plain": [
       "Parsing completed. Parsed 100 lines in 0.036132 secs."
      ]
     },
     "metadata": {},
     "output_type": "display_data"
    },
    {
     "name": "stdout",
     "output_type": "stream",
     "text": [
      "------------------------------------------------------\n",
      "Inferred types from first 100 line(s) of file as \n",
      "column_type_hints=[float,float,float,float,float,float,int,str]\n",
      "If parsing fails due to incorrect types, you can correct\n",
      "the inferred type list above and pass it to read_csv in\n",
      "the column_type_hints argument\n",
      "------------------------------------------------------\n"
     ]
    },
    {
     "data": {
      "text/html": [
       "<pre>Finished parsing file /mnt/c/Users/Karl-Jonathan/Desktop/labeledPositives/motionData 2021-04-19 09-16-39.txt</pre>"
      ],
      "text/plain": [
       "Finished parsing file /mnt/c/Users/Karl-Jonathan/Desktop/labeledPositives/motionData 2021-04-19 09-16-39.txt"
      ]
     },
     "metadata": {},
     "output_type": "display_data"
    },
    {
     "data": {
      "text/html": [
       "<pre>Parsing completed. Parsed 2368 lines in 0.035968 secs.</pre>"
      ],
      "text/plain": [
       "Parsing completed. Parsed 2368 lines in 0.035968 secs."
      ]
     },
     "metadata": {},
     "output_type": "display_data"
    },
    {
     "data": {
      "text/html": [
       "<pre>Finished parsing file /mnt/c/Users/Karl-Jonathan/Desktop/labeledPositives/motionData 2021-04-19 09-16-53.txt</pre>"
      ],
      "text/plain": [
       "Finished parsing file /mnt/c/Users/Karl-Jonathan/Desktop/labeledPositives/motionData 2021-04-19 09-16-53.txt"
      ]
     },
     "metadata": {},
     "output_type": "display_data"
    },
    {
     "data": {
      "text/html": [
       "<pre>Parsing completed. Parsed 100 lines in 0.035989 secs.</pre>"
      ],
      "text/plain": [
       "Parsing completed. Parsed 100 lines in 0.035989 secs."
      ]
     },
     "metadata": {},
     "output_type": "display_data"
    },
    {
     "name": "stdout",
     "output_type": "stream",
     "text": [
      "------------------------------------------------------\n",
      "Inferred types from first 100 line(s) of file as \n",
      "column_type_hints=[float,float,float,float,float,float,int,str]\n",
      "If parsing fails due to incorrect types, you can correct\n",
      "the inferred type list above and pass it to read_csv in\n",
      "the column_type_hints argument\n",
      "------------------------------------------------------\n"
     ]
    },
    {
     "data": {
      "text/html": [
       "<pre>Finished parsing file /mnt/c/Users/Karl-Jonathan/Desktop/labeledPositives/motionData 2021-04-19 09-16-53.txt</pre>"
      ],
      "text/plain": [
       "Finished parsing file /mnt/c/Users/Karl-Jonathan/Desktop/labeledPositives/motionData 2021-04-19 09-16-53.txt"
      ]
     },
     "metadata": {},
     "output_type": "display_data"
    },
    {
     "data": {
      "text/html": [
       "<pre>Parsing completed. Parsed 1098 lines in 0.031978 secs.</pre>"
      ],
      "text/plain": [
       "Parsing completed. Parsed 1098 lines in 0.031978 secs."
      ]
     },
     "metadata": {},
     "output_type": "display_data"
    },
    {
     "data": {
      "text/html": [
       "<pre>Finished parsing file /mnt/c/Users/Karl-Jonathan/Desktop/labeledPositives/motionData 2021-04-19 09-17-13.txt</pre>"
      ],
      "text/plain": [
       "Finished parsing file /mnt/c/Users/Karl-Jonathan/Desktop/labeledPositives/motionData 2021-04-19 09-17-13.txt"
      ]
     },
     "metadata": {},
     "output_type": "display_data"
    },
    {
     "data": {
      "text/html": [
       "<pre>Parsing completed. Parsed 100 lines in 0.031085 secs.</pre>"
      ],
      "text/plain": [
       "Parsing completed. Parsed 100 lines in 0.031085 secs."
      ]
     },
     "metadata": {},
     "output_type": "display_data"
    },
    {
     "name": "stdout",
     "output_type": "stream",
     "text": [
      "------------------------------------------------------\n",
      "Inferred types from first 100 line(s) of file as \n",
      "column_type_hints=[float,float,float,float,float,float,int,str]\n",
      "If parsing fails due to incorrect types, you can correct\n",
      "the inferred type list above and pass it to read_csv in\n",
      "the column_type_hints argument\n",
      "------------------------------------------------------\n"
     ]
    },
    {
     "data": {
      "text/html": [
       "<pre>Finished parsing file /mnt/c/Users/Karl-Jonathan/Desktop/labeledPositives/motionData 2021-04-19 09-17-13.txt</pre>"
      ],
      "text/plain": [
       "Finished parsing file /mnt/c/Users/Karl-Jonathan/Desktop/labeledPositives/motionData 2021-04-19 09-17-13.txt"
      ]
     },
     "metadata": {},
     "output_type": "display_data"
    },
    {
     "data": {
      "text/html": [
       "<pre>Parsing completed. Parsed 1617 lines in 0.031295 secs.</pre>"
      ],
      "text/plain": [
       "Parsing completed. Parsed 1617 lines in 0.031295 secs."
      ]
     },
     "metadata": {},
     "output_type": "display_data"
    },
    {
     "data": {
      "text/html": [
       "<pre>Finished parsing file /mnt/c/Users/Karl-Jonathan/Desktop/labeledPositives/motionData 2021-04-19 09-17-27.txt</pre>"
      ],
      "text/plain": [
       "Finished parsing file /mnt/c/Users/Karl-Jonathan/Desktop/labeledPositives/motionData 2021-04-19 09-17-27.txt"
      ]
     },
     "metadata": {},
     "output_type": "display_data"
    },
    {
     "data": {
      "text/html": [
       "<pre>Parsing completed. Parsed 100 lines in 0.031294 secs.</pre>"
      ],
      "text/plain": [
       "Parsing completed. Parsed 100 lines in 0.031294 secs."
      ]
     },
     "metadata": {},
     "output_type": "display_data"
    },
    {
     "name": "stdout",
     "output_type": "stream",
     "text": [
      "------------------------------------------------------\n",
      "Inferred types from first 100 line(s) of file as \n",
      "column_type_hints=[float,float,float,float,float,float,int,str]\n",
      "If parsing fails due to incorrect types, you can correct\n",
      "the inferred type list above and pass it to read_csv in\n",
      "the column_type_hints argument\n",
      "------------------------------------------------------\n"
     ]
    },
    {
     "data": {
      "text/html": [
       "<pre>Finished parsing file /mnt/c/Users/Karl-Jonathan/Desktop/labeledPositives/motionData 2021-04-19 09-17-27.txt</pre>"
      ],
      "text/plain": [
       "Finished parsing file /mnt/c/Users/Karl-Jonathan/Desktop/labeledPositives/motionData 2021-04-19 09-17-27.txt"
      ]
     },
     "metadata": {},
     "output_type": "display_data"
    },
    {
     "data": {
      "text/html": [
       "<pre>Parsing completed. Parsed 1138 lines in 0.034454 secs.</pre>"
      ],
      "text/plain": [
       "Parsing completed. Parsed 1138 lines in 0.034454 secs."
      ]
     },
     "metadata": {},
     "output_type": "display_data"
    },
    {
     "data": {
      "text/html": [
       "<pre>Finished parsing file /mnt/c/Users/Karl-Jonathan/Desktop/labeledPositives/motionData 2021-04-19 09-17-41.txt</pre>"
      ],
      "text/plain": [
       "Finished parsing file /mnt/c/Users/Karl-Jonathan/Desktop/labeledPositives/motionData 2021-04-19 09-17-41.txt"
      ]
     },
     "metadata": {},
     "output_type": "display_data"
    },
    {
     "data": {
      "text/html": [
       "<pre>Parsing completed. Parsed 100 lines in 0.03542 secs.</pre>"
      ],
      "text/plain": [
       "Parsing completed. Parsed 100 lines in 0.03542 secs."
      ]
     },
     "metadata": {},
     "output_type": "display_data"
    },
    {
     "name": "stdout",
     "output_type": "stream",
     "text": [
      "------------------------------------------------------\n",
      "Inferred types from first 100 line(s) of file as \n",
      "column_type_hints=[float,float,float,float,float,float,int,str]\n",
      "If parsing fails due to incorrect types, you can correct\n",
      "the inferred type list above and pass it to read_csv in\n",
      "the column_type_hints argument\n",
      "------------------------------------------------------\n"
     ]
    },
    {
     "data": {
      "text/html": [
       "<pre>Finished parsing file /mnt/c/Users/Karl-Jonathan/Desktop/labeledPositives/motionData 2021-04-19 09-17-41.txt</pre>"
      ],
      "text/plain": [
       "Finished parsing file /mnt/c/Users/Karl-Jonathan/Desktop/labeledPositives/motionData 2021-04-19 09-17-41.txt"
      ]
     },
     "metadata": {},
     "output_type": "display_data"
    },
    {
     "data": {
      "text/html": [
       "<pre>Parsing completed. Parsed 1038 lines in 0.036163 secs.</pre>"
      ],
      "text/plain": [
       "Parsing completed. Parsed 1038 lines in 0.036163 secs."
      ]
     },
     "metadata": {},
     "output_type": "display_data"
    },
    {
     "data": {
      "text/html": [
       "<pre>Finished parsing file /mnt/c/Users/Karl-Jonathan/Desktop/labeledPositives/motionData 2021-04-19 09-18-01.txt</pre>"
      ],
      "text/plain": [
       "Finished parsing file /mnt/c/Users/Karl-Jonathan/Desktop/labeledPositives/motionData 2021-04-19 09-18-01.txt"
      ]
     },
     "metadata": {},
     "output_type": "display_data"
    },
    {
     "data": {
      "text/html": [
       "<pre>Parsing completed. Parsed 100 lines in 0.036134 secs.</pre>"
      ],
      "text/plain": [
       "Parsing completed. Parsed 100 lines in 0.036134 secs."
      ]
     },
     "metadata": {},
     "output_type": "display_data"
    },
    {
     "name": "stdout",
     "output_type": "stream",
     "text": [
      "------------------------------------------------------\n",
      "Inferred types from first 100 line(s) of file as \n",
      "column_type_hints=[float,float,float,float,float,float,int,str]\n",
      "If parsing fails due to incorrect types, you can correct\n",
      "the inferred type list above and pass it to read_csv in\n",
      "the column_type_hints argument\n",
      "------------------------------------------------------\n"
     ]
    },
    {
     "data": {
      "text/html": [
       "<pre>Finished parsing file /mnt/c/Users/Karl-Jonathan/Desktop/labeledPositives/motionData 2021-04-19 09-18-01.txt</pre>"
      ],
      "text/plain": [
       "Finished parsing file /mnt/c/Users/Karl-Jonathan/Desktop/labeledPositives/motionData 2021-04-19 09-18-01.txt"
      ]
     },
     "metadata": {},
     "output_type": "display_data"
    },
    {
     "data": {
      "text/html": [
       "<pre>Parsing completed. Parsed 1833 lines in 0.035964 secs.</pre>"
      ],
      "text/plain": [
       "Parsing completed. Parsed 1833 lines in 0.035964 secs."
      ]
     },
     "metadata": {},
     "output_type": "display_data"
    },
    {
     "data": {
      "text/html": [
       "<pre>Finished parsing file /mnt/c/Users/Karl-Jonathan/Desktop/labeledPositives/motionData 2021-04-19 09-18-21.txt</pre>"
      ],
      "text/plain": [
       "Finished parsing file /mnt/c/Users/Karl-Jonathan/Desktop/labeledPositives/motionData 2021-04-19 09-18-21.txt"
      ]
     },
     "metadata": {},
     "output_type": "display_data"
    },
    {
     "data": {
      "text/html": [
       "<pre>Parsing completed. Parsed 100 lines in 0.036045 secs.</pre>"
      ],
      "text/plain": [
       "Parsing completed. Parsed 100 lines in 0.036045 secs."
      ]
     },
     "metadata": {},
     "output_type": "display_data"
    },
    {
     "name": "stdout",
     "output_type": "stream",
     "text": [
      "------------------------------------------------------\n",
      "Inferred types from first 100 line(s) of file as \n",
      "column_type_hints=[float,float,float,float,float,float,int,str]\n",
      "If parsing fails due to incorrect types, you can correct\n",
      "the inferred type list above and pass it to read_csv in\n",
      "the column_type_hints argument\n",
      "------------------------------------------------------\n"
     ]
    },
    {
     "data": {
      "text/html": [
       "<pre>Finished parsing file /mnt/c/Users/Karl-Jonathan/Desktop/labeledPositives/motionData 2021-04-19 09-18-21.txt</pre>"
      ],
      "text/plain": [
       "Finished parsing file /mnt/c/Users/Karl-Jonathan/Desktop/labeledPositives/motionData 2021-04-19 09-18-21.txt"
      ]
     },
     "metadata": {},
     "output_type": "display_data"
    },
    {
     "data": {
      "text/html": [
       "<pre>Parsing completed. Parsed 1529 lines in 0.035992 secs.</pre>"
      ],
      "text/plain": [
       "Parsing completed. Parsed 1529 lines in 0.035992 secs."
      ]
     },
     "metadata": {},
     "output_type": "display_data"
    },
    {
     "data": {
      "text/html": [
       "<pre>Finished parsing file /mnt/c/Users/Karl-Jonathan/Desktop/labeledPositives/motionData 2021-04-19 09-18-55.txt</pre>"
      ],
      "text/plain": [
       "Finished parsing file /mnt/c/Users/Karl-Jonathan/Desktop/labeledPositives/motionData 2021-04-19 09-18-55.txt"
      ]
     },
     "metadata": {},
     "output_type": "display_data"
    },
    {
     "data": {
      "text/html": [
       "<pre>Parsing completed. Parsed 100 lines in 0.03596 secs.</pre>"
      ],
      "text/plain": [
       "Parsing completed. Parsed 100 lines in 0.03596 secs."
      ]
     },
     "metadata": {},
     "output_type": "display_data"
    },
    {
     "name": "stdout",
     "output_type": "stream",
     "text": [
      "------------------------------------------------------\n",
      "Inferred types from first 100 line(s) of file as \n",
      "column_type_hints=[float,float,float,float,float,float,int,str]\n",
      "If parsing fails due to incorrect types, you can correct\n",
      "the inferred type list above and pass it to read_csv in\n",
      "the column_type_hints argument\n",
      "------------------------------------------------------\n"
     ]
    },
    {
     "data": {
      "text/html": [
       "<pre>Finished parsing file /mnt/c/Users/Karl-Jonathan/Desktop/labeledPositives/motionData 2021-04-19 09-18-55.txt</pre>"
      ],
      "text/plain": [
       "Finished parsing file /mnt/c/Users/Karl-Jonathan/Desktop/labeledPositives/motionData 2021-04-19 09-18-55.txt"
      ]
     },
     "metadata": {},
     "output_type": "display_data"
    },
    {
     "data": {
      "text/html": [
       "<pre>Parsing completed. Parsed 1598 lines in 0.035699 secs.</pre>"
      ],
      "text/plain": [
       "Parsing completed. Parsed 1598 lines in 0.035699 secs."
      ]
     },
     "metadata": {},
     "output_type": "display_data"
    },
    {
     "data": {
      "text/html": [
       "<pre>Finished parsing file /mnt/c/Users/Karl-Jonathan/Desktop/labeledPositives/motionData 2021-04-19 09-19-13.txt</pre>"
      ],
      "text/plain": [
       "Finished parsing file /mnt/c/Users/Karl-Jonathan/Desktop/labeledPositives/motionData 2021-04-19 09-19-13.txt"
      ]
     },
     "metadata": {},
     "output_type": "display_data"
    },
    {
     "data": {
      "text/html": [
       "<pre>Parsing completed. Parsed 100 lines in 0.0356 secs.</pre>"
      ],
      "text/plain": [
       "Parsing completed. Parsed 100 lines in 0.0356 secs."
      ]
     },
     "metadata": {},
     "output_type": "display_data"
    },
    {
     "name": "stdout",
     "output_type": "stream",
     "text": [
      "------------------------------------------------------\n",
      "Inferred types from first 100 line(s) of file as \n",
      "column_type_hints=[float,float,float,float,float,float,int,str]\n",
      "If parsing fails due to incorrect types, you can correct\n",
      "the inferred type list above and pass it to read_csv in\n",
      "the column_type_hints argument\n",
      "------------------------------------------------------\n"
     ]
    },
    {
     "data": {
      "text/html": [
       "<pre>Finished parsing file /mnt/c/Users/Karl-Jonathan/Desktop/labeledPositives/motionData 2021-04-19 09-19-13.txt</pre>"
      ],
      "text/plain": [
       "Finished parsing file /mnt/c/Users/Karl-Jonathan/Desktop/labeledPositives/motionData 2021-04-19 09-19-13.txt"
      ]
     },
     "metadata": {},
     "output_type": "display_data"
    },
    {
     "data": {
      "text/html": [
       "<pre>Parsing completed. Parsed 1517 lines in 0.035818 secs.</pre>"
      ],
      "text/plain": [
       "Parsing completed. Parsed 1517 lines in 0.035818 secs."
      ]
     },
     "metadata": {},
     "output_type": "display_data"
    },
    {
     "data": {
      "text/html": [
       "<pre>Finished parsing file /mnt/c/Users/Karl-Jonathan/Desktop/labeledPositives/motionData 2021-04-19 09-19-31.txt</pre>"
      ],
      "text/plain": [
       "Finished parsing file /mnt/c/Users/Karl-Jonathan/Desktop/labeledPositives/motionData 2021-04-19 09-19-31.txt"
      ]
     },
     "metadata": {},
     "output_type": "display_data"
    },
    {
     "data": {
      "text/html": [
       "<pre>Parsing completed. Parsed 100 lines in 0.035857 secs.</pre>"
      ],
      "text/plain": [
       "Parsing completed. Parsed 100 lines in 0.035857 secs."
      ]
     },
     "metadata": {},
     "output_type": "display_data"
    },
    {
     "name": "stdout",
     "output_type": "stream",
     "text": [
      "------------------------------------------------------\n",
      "Inferred types from first 100 line(s) of file as \n",
      "column_type_hints=[float,float,float,float,float,float,int,str]\n",
      "If parsing fails due to incorrect types, you can correct\n",
      "the inferred type list above and pass it to read_csv in\n",
      "the column_type_hints argument\n",
      "------------------------------------------------------\n"
     ]
    },
    {
     "data": {
      "text/html": [
       "<pre>Finished parsing file /mnt/c/Users/Karl-Jonathan/Desktop/labeledPositives/motionData 2021-04-19 09-19-31.txt</pre>"
      ],
      "text/plain": [
       "Finished parsing file /mnt/c/Users/Karl-Jonathan/Desktop/labeledPositives/motionData 2021-04-19 09-19-31.txt"
      ]
     },
     "metadata": {},
     "output_type": "display_data"
    },
    {
     "data": {
      "text/html": [
       "<pre>Parsing completed. Parsed 1565 lines in 0.0358 secs.</pre>"
      ],
      "text/plain": [
       "Parsing completed. Parsed 1565 lines in 0.0358 secs."
      ]
     },
     "metadata": {},
     "output_type": "display_data"
    },
    {
     "data": {
      "text/html": [
       "<pre>Finished parsing file /mnt/c/Users/Karl-Jonathan/Desktop/labeledPositives/motionData 2021-04-19 09-19-49.txt</pre>"
      ],
      "text/plain": [
       "Finished parsing file /mnt/c/Users/Karl-Jonathan/Desktop/labeledPositives/motionData 2021-04-19 09-19-49.txt"
      ]
     },
     "metadata": {},
     "output_type": "display_data"
    },
    {
     "data": {
      "text/html": [
       "<pre>Parsing completed. Parsed 100 lines in 0.036942 secs.</pre>"
      ],
      "text/plain": [
       "Parsing completed. Parsed 100 lines in 0.036942 secs."
      ]
     },
     "metadata": {},
     "output_type": "display_data"
    },
    {
     "name": "stdout",
     "output_type": "stream",
     "text": [
      "------------------------------------------------------\n",
      "Inferred types from first 100 line(s) of file as \n",
      "column_type_hints=[float,float,float,float,float,float,int,str]\n",
      "If parsing fails due to incorrect types, you can correct\n",
      "the inferred type list above and pass it to read_csv in\n",
      "the column_type_hints argument\n",
      "------------------------------------------------------\n"
     ]
    },
    {
     "data": {
      "text/html": [
       "<pre>Finished parsing file /mnt/c/Users/Karl-Jonathan/Desktop/labeledPositives/motionData 2021-04-19 09-19-49.txt</pre>"
      ],
      "text/plain": [
       "Finished parsing file /mnt/c/Users/Karl-Jonathan/Desktop/labeledPositives/motionData 2021-04-19 09-19-49.txt"
      ]
     },
     "metadata": {},
     "output_type": "display_data"
    },
    {
     "data": {
      "text/html": [
       "<pre>Parsing completed. Parsed 1635 lines in 0.035649 secs.</pre>"
      ],
      "text/plain": [
       "Parsing completed. Parsed 1635 lines in 0.035649 secs."
      ]
     },
     "metadata": {},
     "output_type": "display_data"
    },
    {
     "data": {
      "text/html": [
       "<pre>Finished parsing file /mnt/c/Users/Karl-Jonathan/Desktop/labeledPositives/motionData 2021-04-19 09-20-09.txt</pre>"
      ],
      "text/plain": [
       "Finished parsing file /mnt/c/Users/Karl-Jonathan/Desktop/labeledPositives/motionData 2021-04-19 09-20-09.txt"
      ]
     },
     "metadata": {},
     "output_type": "display_data"
    },
    {
     "data": {
      "text/html": [
       "<pre>Parsing completed. Parsed 100 lines in 0.036161 secs.</pre>"
      ],
      "text/plain": [
       "Parsing completed. Parsed 100 lines in 0.036161 secs."
      ]
     },
     "metadata": {},
     "output_type": "display_data"
    },
    {
     "name": "stdout",
     "output_type": "stream",
     "text": [
      "------------------------------------------------------\n",
      "Inferred types from first 100 line(s) of file as \n",
      "column_type_hints=[float,float,float,float,float,float,int,str]\n",
      "If parsing fails due to incorrect types, you can correct\n",
      "the inferred type list above and pass it to read_csv in\n",
      "the column_type_hints argument\n",
      "------------------------------------------------------\n"
     ]
    },
    {
     "data": {
      "text/html": [
       "<pre>Finished parsing file /mnt/c/Users/Karl-Jonathan/Desktop/labeledPositives/motionData 2021-04-19 09-20-09.txt</pre>"
      ],
      "text/plain": [
       "Finished parsing file /mnt/c/Users/Karl-Jonathan/Desktop/labeledPositives/motionData 2021-04-19 09-20-09.txt"
      ]
     },
     "metadata": {},
     "output_type": "display_data"
    },
    {
     "data": {
      "text/html": [
       "<pre>Parsing completed. Parsed 1733 lines in 0.035858 secs.</pre>"
      ],
      "text/plain": [
       "Parsing completed. Parsed 1733 lines in 0.035858 secs."
      ]
     },
     "metadata": {},
     "output_type": "display_data"
    },
    {
     "data": {
      "text/html": [
       "<pre>Finished parsing file /mnt/c/Users/Karl-Jonathan/Desktop/labeledPositives/motionData 2021-04-19 09-20-28.txt</pre>"
      ],
      "text/plain": [
       "Finished parsing file /mnt/c/Users/Karl-Jonathan/Desktop/labeledPositives/motionData 2021-04-19 09-20-28.txt"
      ]
     },
     "metadata": {},
     "output_type": "display_data"
    },
    {
     "data": {
      "text/html": [
       "<pre>Parsing completed. Parsed 100 lines in 0.035914 secs.</pre>"
      ],
      "text/plain": [
       "Parsing completed. Parsed 100 lines in 0.035914 secs."
      ]
     },
     "metadata": {},
     "output_type": "display_data"
    },
    {
     "name": "stdout",
     "output_type": "stream",
     "text": [
      "------------------------------------------------------\n",
      "Inferred types from first 100 line(s) of file as \n",
      "column_type_hints=[float,float,float,float,float,float,int,str]\n",
      "If parsing fails due to incorrect types, you can correct\n",
      "the inferred type list above and pass it to read_csv in\n",
      "the column_type_hints argument\n",
      "------------------------------------------------------\n"
     ]
    },
    {
     "data": {
      "text/html": [
       "<pre>Finished parsing file /mnt/c/Users/Karl-Jonathan/Desktop/labeledPositives/motionData 2021-04-19 09-20-28.txt</pre>"
      ],
      "text/plain": [
       "Finished parsing file /mnt/c/Users/Karl-Jonathan/Desktop/labeledPositives/motionData 2021-04-19 09-20-28.txt"
      ]
     },
     "metadata": {},
     "output_type": "display_data"
    },
    {
     "data": {
      "text/html": [
       "<pre>Parsing completed. Parsed 1599 lines in 0.031221 secs.</pre>"
      ],
      "text/plain": [
       "Parsing completed. Parsed 1599 lines in 0.031221 secs."
      ]
     },
     "metadata": {},
     "output_type": "display_data"
    },
    {
     "data": {
      "text/html": [
       "<pre>Finished parsing file /mnt/c/Users/Karl-Jonathan/Desktop/labeledPositives/motionData 2021-04-19 09-20-42.txt</pre>"
      ],
      "text/plain": [
       "Finished parsing file /mnt/c/Users/Karl-Jonathan/Desktop/labeledPositives/motionData 2021-04-19 09-20-42.txt"
      ]
     },
     "metadata": {},
     "output_type": "display_data"
    },
    {
     "data": {
      "text/html": [
       "<pre>Parsing completed. Parsed 100 lines in 0.031768 secs.</pre>"
      ],
      "text/plain": [
       "Parsing completed. Parsed 100 lines in 0.031768 secs."
      ]
     },
     "metadata": {},
     "output_type": "display_data"
    },
    {
     "name": "stdout",
     "output_type": "stream",
     "text": [
      "------------------------------------------------------\n",
      "Inferred types from first 100 line(s) of file as \n",
      "column_type_hints=[float,float,float,float,float,float,int,str]\n",
      "If parsing fails due to incorrect types, you can correct\n",
      "the inferred type list above and pass it to read_csv in\n",
      "the column_type_hints argument\n",
      "------------------------------------------------------\n"
     ]
    },
    {
     "data": {
      "text/html": [
       "<pre>Finished parsing file /mnt/c/Users/Karl-Jonathan/Desktop/labeledPositives/motionData 2021-04-19 09-20-42.txt</pre>"
      ],
      "text/plain": [
       "Finished parsing file /mnt/c/Users/Karl-Jonathan/Desktop/labeledPositives/motionData 2021-04-19 09-20-42.txt"
      ]
     },
     "metadata": {},
     "output_type": "display_data"
    },
    {
     "data": {
      "text/html": [
       "<pre>Parsing completed. Parsed 1228 lines in 0.031346 secs.</pre>"
      ],
      "text/plain": [
       "Parsing completed. Parsed 1228 lines in 0.031346 secs."
      ]
     },
     "metadata": {},
     "output_type": "display_data"
    },
    {
     "data": {
      "text/html": [
       "<pre>Finished parsing file /mnt/c/Users/Karl-Jonathan/Desktop/labeledPositives/motionData 2021-04-19 09-21-29.txt</pre>"
      ],
      "text/plain": [
       "Finished parsing file /mnt/c/Users/Karl-Jonathan/Desktop/labeledPositives/motionData 2021-04-19 09-21-29.txt"
      ]
     },
     "metadata": {},
     "output_type": "display_data"
    },
    {
     "data": {
      "text/html": [
       "<pre>Parsing completed. Parsed 100 lines in 0.031699 secs.</pre>"
      ],
      "text/plain": [
       "Parsing completed. Parsed 100 lines in 0.031699 secs."
      ]
     },
     "metadata": {},
     "output_type": "display_data"
    },
    {
     "name": "stdout",
     "output_type": "stream",
     "text": [
      "------------------------------------------------------\n",
      "Inferred types from first 100 line(s) of file as \n",
      "column_type_hints=[float,float,float,float,float,float,int,str]\n",
      "If parsing fails due to incorrect types, you can correct\n",
      "the inferred type list above and pass it to read_csv in\n",
      "the column_type_hints argument\n",
      "------------------------------------------------------\n"
     ]
    },
    {
     "data": {
      "text/html": [
       "<pre>Finished parsing file /mnt/c/Users/Karl-Jonathan/Desktop/labeledPositives/motionData 2021-04-19 09-21-29.txt</pre>"
      ],
      "text/plain": [
       "Finished parsing file /mnt/c/Users/Karl-Jonathan/Desktop/labeledPositives/motionData 2021-04-19 09-21-29.txt"
      ]
     },
     "metadata": {},
     "output_type": "display_data"
    },
    {
     "data": {
      "text/html": [
       "<pre>Parsing completed. Parsed 1604 lines in 0.034797 secs.</pre>"
      ],
      "text/plain": [
       "Parsing completed. Parsed 1604 lines in 0.034797 secs."
      ]
     },
     "metadata": {},
     "output_type": "display_data"
    },
    {
     "data": {
      "text/html": [
       "<pre>Finished parsing file /mnt/c/Users/Karl-Jonathan/Desktop/labeledPositives/motionData 2021-04-19 09-22-48.txt</pre>"
      ],
      "text/plain": [
       "Finished parsing file /mnt/c/Users/Karl-Jonathan/Desktop/labeledPositives/motionData 2021-04-19 09-22-48.txt"
      ]
     },
     "metadata": {},
     "output_type": "display_data"
    },
    {
     "data": {
      "text/html": [
       "<pre>Parsing completed. Parsed 100 lines in 0.035941 secs.</pre>"
      ],
      "text/plain": [
       "Parsing completed. Parsed 100 lines in 0.035941 secs."
      ]
     },
     "metadata": {},
     "output_type": "display_data"
    },
    {
     "name": "stdout",
     "output_type": "stream",
     "text": [
      "------------------------------------------------------\n",
      "Inferred types from first 100 line(s) of file as \n",
      "column_type_hints=[float,float,float,float,float,float,int,str]\n",
      "If parsing fails due to incorrect types, you can correct\n",
      "the inferred type list above and pass it to read_csv in\n",
      "the column_type_hints argument\n",
      "------------------------------------------------------\n"
     ]
    },
    {
     "data": {
      "text/html": [
       "<pre>Finished parsing file /mnt/c/Users/Karl-Jonathan/Desktop/labeledPositives/motionData 2021-04-19 09-22-48.txt</pre>"
      ],
      "text/plain": [
       "Finished parsing file /mnt/c/Users/Karl-Jonathan/Desktop/labeledPositives/motionData 2021-04-19 09-22-48.txt"
      ]
     },
     "metadata": {},
     "output_type": "display_data"
    },
    {
     "data": {
      "text/html": [
       "<pre>Parsing completed. Parsed 1717 lines in 0.035585 secs.</pre>"
      ],
      "text/plain": [
       "Parsing completed. Parsed 1717 lines in 0.035585 secs."
      ]
     },
     "metadata": {},
     "output_type": "display_data"
    },
    {
     "data": {
      "text/html": [
       "<pre>Finished parsing file /mnt/c/Users/Karl-Jonathan/Desktop/labeledPositives/motionData 2021-04-19 09-23-22.txt</pre>"
      ],
      "text/plain": [
       "Finished parsing file /mnt/c/Users/Karl-Jonathan/Desktop/labeledPositives/motionData 2021-04-19 09-23-22.txt"
      ]
     },
     "metadata": {},
     "output_type": "display_data"
    },
    {
     "data": {
      "text/html": [
       "<pre>Parsing completed. Parsed 100 lines in 0.035493 secs.</pre>"
      ],
      "text/plain": [
       "Parsing completed. Parsed 100 lines in 0.035493 secs."
      ]
     },
     "metadata": {},
     "output_type": "display_data"
    },
    {
     "name": "stdout",
     "output_type": "stream",
     "text": [
      "------------------------------------------------------\n",
      "Inferred types from first 100 line(s) of file as \n",
      "column_type_hints=[float,float,float,float,float,float,int,str]\n",
      "If parsing fails due to incorrect types, you can correct\n",
      "the inferred type list above and pass it to read_csv in\n",
      "the column_type_hints argument\n",
      "------------------------------------------------------\n"
     ]
    },
    {
     "data": {
      "text/html": [
       "<pre>Finished parsing file /mnt/c/Users/Karl-Jonathan/Desktop/labeledPositives/motionData 2021-04-19 09-23-22.txt</pre>"
      ],
      "text/plain": [
       "Finished parsing file /mnt/c/Users/Karl-Jonathan/Desktop/labeledPositives/motionData 2021-04-19 09-23-22.txt"
      ]
     },
     "metadata": {},
     "output_type": "display_data"
    },
    {
     "data": {
      "text/html": [
       "<pre>Parsing completed. Parsed 1492 lines in 0.035767 secs.</pre>"
      ],
      "text/plain": [
       "Parsing completed. Parsed 1492 lines in 0.035767 secs."
      ]
     },
     "metadata": {},
     "output_type": "display_data"
    },
    {
     "data": {
      "text/html": [
       "<pre>Finished parsing file /mnt/c/Users/Karl-Jonathan/Desktop/labeledPositives/motionData 2021-04-19 09-23-38.txt</pre>"
      ],
      "text/plain": [
       "Finished parsing file /mnt/c/Users/Karl-Jonathan/Desktop/labeledPositives/motionData 2021-04-19 09-23-38.txt"
      ]
     },
     "metadata": {},
     "output_type": "display_data"
    },
    {
     "data": {
      "text/html": [
       "<pre>Parsing completed. Parsed 100 lines in 0.035534 secs.</pre>"
      ],
      "text/plain": [
       "Parsing completed. Parsed 100 lines in 0.035534 secs."
      ]
     },
     "metadata": {},
     "output_type": "display_data"
    },
    {
     "name": "stdout",
     "output_type": "stream",
     "text": [
      "------------------------------------------------------\n",
      "Inferred types from first 100 line(s) of file as \n",
      "column_type_hints=[float,float,float,float,float,float,int,str]\n",
      "If parsing fails due to incorrect types, you can correct\n",
      "the inferred type list above and pass it to read_csv in\n",
      "the column_type_hints argument\n",
      "------------------------------------------------------\n"
     ]
    },
    {
     "data": {
      "text/html": [
       "<pre>Finished parsing file /mnt/c/Users/Karl-Jonathan/Desktop/labeledPositives/motionData 2021-04-19 09-23-38.txt</pre>"
      ],
      "text/plain": [
       "Finished parsing file /mnt/c/Users/Karl-Jonathan/Desktop/labeledPositives/motionData 2021-04-19 09-23-38.txt"
      ]
     },
     "metadata": {},
     "output_type": "display_data"
    },
    {
     "data": {
      "text/html": [
       "<pre>Parsing completed. Parsed 1467 lines in 0.035951 secs.</pre>"
      ],
      "text/plain": [
       "Parsing completed. Parsed 1467 lines in 0.035951 secs."
      ]
     },
     "metadata": {},
     "output_type": "display_data"
    },
    {
     "data": {
      "text/html": [
       "<pre>Finished parsing file /mnt/c/Users/Karl-Jonathan/Desktop/labeledPositives/motionData 2021-04-19 09-23-53.txt</pre>"
      ],
      "text/plain": [
       "Finished parsing file /mnt/c/Users/Karl-Jonathan/Desktop/labeledPositives/motionData 2021-04-19 09-23-53.txt"
      ]
     },
     "metadata": {},
     "output_type": "display_data"
    },
    {
     "data": {
      "text/html": [
       "<pre>Parsing completed. Parsed 100 lines in 0.035355 secs.</pre>"
      ],
      "text/plain": [
       "Parsing completed. Parsed 100 lines in 0.035355 secs."
      ]
     },
     "metadata": {},
     "output_type": "display_data"
    },
    {
     "name": "stdout",
     "output_type": "stream",
     "text": [
      "------------------------------------------------------\n",
      "Inferred types from first 100 line(s) of file as \n",
      "column_type_hints=[float,float,float,float,float,float,int,str]\n",
      "If parsing fails due to incorrect types, you can correct\n",
      "the inferred type list above and pass it to read_csv in\n",
      "the column_type_hints argument\n",
      "------------------------------------------------------\n"
     ]
    },
    {
     "data": {
      "text/html": [
       "<pre>Finished parsing file /mnt/c/Users/Karl-Jonathan/Desktop/labeledPositives/motionData 2021-04-19 09-23-53.txt</pre>"
      ],
      "text/plain": [
       "Finished parsing file /mnt/c/Users/Karl-Jonathan/Desktop/labeledPositives/motionData 2021-04-19 09-23-53.txt"
      ]
     },
     "metadata": {},
     "output_type": "display_data"
    },
    {
     "data": {
      "text/html": [
       "<pre>Parsing completed. Parsed 1131 lines in 0.035725 secs.</pre>"
      ],
      "text/plain": [
       "Parsing completed. Parsed 1131 lines in 0.035725 secs."
      ]
     },
     "metadata": {},
     "output_type": "display_data"
    },
    {
     "data": {
      "text/html": [
       "<pre>Finished parsing file /mnt/c/Users/Karl-Jonathan/Desktop/labeledPositives/motionData 2021-04-19 09-24-06.txt</pre>"
      ],
      "text/plain": [
       "Finished parsing file /mnt/c/Users/Karl-Jonathan/Desktop/labeledPositives/motionData 2021-04-19 09-24-06.txt"
      ]
     },
     "metadata": {},
     "output_type": "display_data"
    },
    {
     "data": {
      "text/html": [
       "<pre>Parsing completed. Parsed 100 lines in 0.035661 secs.</pre>"
      ],
      "text/plain": [
       "Parsing completed. Parsed 100 lines in 0.035661 secs."
      ]
     },
     "metadata": {},
     "output_type": "display_data"
    },
    {
     "name": "stdout",
     "output_type": "stream",
     "text": [
      "------------------------------------------------------\n",
      "Inferred types from first 100 line(s) of file as \n",
      "column_type_hints=[float,float,float,float,float,float,int,str]\n",
      "If parsing fails due to incorrect types, you can correct\n",
      "the inferred type list above and pass it to read_csv in\n",
      "the column_type_hints argument\n",
      "------------------------------------------------------\n"
     ]
    },
    {
     "data": {
      "text/html": [
       "<pre>Finished parsing file /mnt/c/Users/Karl-Jonathan/Desktop/labeledPositives/motionData 2021-04-19 09-24-06.txt</pre>"
      ],
      "text/plain": [
       "Finished parsing file /mnt/c/Users/Karl-Jonathan/Desktop/labeledPositives/motionData 2021-04-19 09-24-06.txt"
      ]
     },
     "metadata": {},
     "output_type": "display_data"
    },
    {
     "data": {
      "text/html": [
       "<pre>Parsing completed. Parsed 1065 lines in 0.035791 secs.</pre>"
      ],
      "text/plain": [
       "Parsing completed. Parsed 1065 lines in 0.035791 secs."
      ]
     },
     "metadata": {},
     "output_type": "display_data"
    },
    {
     "data": {
      "text/html": [
       "<pre>Finished parsing file /mnt/c/Users/Karl-Jonathan/Desktop/labeledPositives/motionData 2021-04-19 09-24-39.txt</pre>"
      ],
      "text/plain": [
       "Finished parsing file /mnt/c/Users/Karl-Jonathan/Desktop/labeledPositives/motionData 2021-04-19 09-24-39.txt"
      ]
     },
     "metadata": {},
     "output_type": "display_data"
    },
    {
     "data": {
      "text/html": [
       "<pre>Parsing completed. Parsed 100 lines in 0.035519 secs.</pre>"
      ],
      "text/plain": [
       "Parsing completed. Parsed 100 lines in 0.035519 secs."
      ]
     },
     "metadata": {},
     "output_type": "display_data"
    },
    {
     "name": "stdout",
     "output_type": "stream",
     "text": [
      "------------------------------------------------------\n",
      "Inferred types from first 100 line(s) of file as \n",
      "column_type_hints=[float,float,float,float,float,float,int,str]\n",
      "If parsing fails due to incorrect types, you can correct\n",
      "the inferred type list above and pass it to read_csv in\n",
      "the column_type_hints argument\n",
      "------------------------------------------------------\n"
     ]
    },
    {
     "data": {
      "text/html": [
       "<pre>Finished parsing file /mnt/c/Users/Karl-Jonathan/Desktop/labeledPositives/motionData 2021-04-19 09-24-39.txt</pre>"
      ],
      "text/plain": [
       "Finished parsing file /mnt/c/Users/Karl-Jonathan/Desktop/labeledPositives/motionData 2021-04-19 09-24-39.txt"
      ]
     },
     "metadata": {},
     "output_type": "display_data"
    },
    {
     "data": {
      "text/html": [
       "<pre>Parsing completed. Parsed 1456 lines in 0.035648 secs.</pre>"
      ],
      "text/plain": [
       "Parsing completed. Parsed 1456 lines in 0.035648 secs."
      ]
     },
     "metadata": {},
     "output_type": "display_data"
    },
    {
     "data": {
      "text/html": [
       "<pre>Finished parsing file /mnt/c/Users/Karl-Jonathan/Desktop/labeledPositives/motionData 2021-04-19 09-24-51.txt</pre>"
      ],
      "text/plain": [
       "Finished parsing file /mnt/c/Users/Karl-Jonathan/Desktop/labeledPositives/motionData 2021-04-19 09-24-51.txt"
      ]
     },
     "metadata": {},
     "output_type": "display_data"
    },
    {
     "data": {
      "text/html": [
       "<pre>Parsing completed. Parsed 100 lines in 0.035518 secs.</pre>"
      ],
      "text/plain": [
       "Parsing completed. Parsed 100 lines in 0.035518 secs."
      ]
     },
     "metadata": {},
     "output_type": "display_data"
    },
    {
     "name": "stdout",
     "output_type": "stream",
     "text": [
      "------------------------------------------------------\n",
      "Inferred types from first 100 line(s) of file as \n",
      "column_type_hints=[float,float,float,float,float,float,int,str]\n",
      "If parsing fails due to incorrect types, you can correct\n",
      "the inferred type list above and pass it to read_csv in\n",
      "the column_type_hints argument\n",
      "------------------------------------------------------\n"
     ]
    },
    {
     "data": {
      "text/html": [
       "<pre>Finished parsing file /mnt/c/Users/Karl-Jonathan/Desktop/labeledPositives/motionData 2021-04-19 09-24-51.txt</pre>"
      ],
      "text/plain": [
       "Finished parsing file /mnt/c/Users/Karl-Jonathan/Desktop/labeledPositives/motionData 2021-04-19 09-24-51.txt"
      ]
     },
     "metadata": {},
     "output_type": "display_data"
    },
    {
     "data": {
      "text/html": [
       "<pre>Parsing completed. Parsed 1027 lines in 0.035674 secs.</pre>"
      ],
      "text/plain": [
       "Parsing completed. Parsed 1027 lines in 0.035674 secs."
      ]
     },
     "metadata": {},
     "output_type": "display_data"
    },
    {
     "data": {
      "text/html": [
       "<pre>Finished parsing file /mnt/c/Users/Karl-Jonathan/Desktop/labeledPositives/motionData 2021-04-19 09-25-04.txt</pre>"
      ],
      "text/plain": [
       "Finished parsing file /mnt/c/Users/Karl-Jonathan/Desktop/labeledPositives/motionData 2021-04-19 09-25-04.txt"
      ]
     },
     "metadata": {},
     "output_type": "display_data"
    },
    {
     "data": {
      "text/html": [
       "<pre>Parsing completed. Parsed 100 lines in 0.035099 secs.</pre>"
      ],
      "text/plain": [
       "Parsing completed. Parsed 100 lines in 0.035099 secs."
      ]
     },
     "metadata": {},
     "output_type": "display_data"
    },
    {
     "name": "stdout",
     "output_type": "stream",
     "text": [
      "------------------------------------------------------\n",
      "Inferred types from first 100 line(s) of file as \n",
      "column_type_hints=[float,float,float,float,float,float,int,str]\n",
      "If parsing fails due to incorrect types, you can correct\n",
      "the inferred type list above and pass it to read_csv in\n",
      "the column_type_hints argument\n",
      "------------------------------------------------------\n"
     ]
    },
    {
     "data": {
      "text/html": [
       "<pre>Finished parsing file /mnt/c/Users/Karl-Jonathan/Desktop/labeledPositives/motionData 2021-04-19 09-25-04.txt</pre>"
      ],
      "text/plain": [
       "Finished parsing file /mnt/c/Users/Karl-Jonathan/Desktop/labeledPositives/motionData 2021-04-19 09-25-04.txt"
      ]
     },
     "metadata": {},
     "output_type": "display_data"
    },
    {
     "data": {
      "text/html": [
       "<pre>Parsing completed. Parsed 1164 lines in 0.035663 secs.</pre>"
      ],
      "text/plain": [
       "Parsing completed. Parsed 1164 lines in 0.035663 secs."
      ]
     },
     "metadata": {},
     "output_type": "display_data"
    },
    {
     "data": {
      "text/html": [
       "<pre>Finished parsing file /mnt/c/Users/Karl-Jonathan/Desktop/labeledPositives/motionData 2021-04-19 09-25-15.txt</pre>"
      ],
      "text/plain": [
       "Finished parsing file /mnt/c/Users/Karl-Jonathan/Desktop/labeledPositives/motionData 2021-04-19 09-25-15.txt"
      ]
     },
     "metadata": {},
     "output_type": "display_data"
    },
    {
     "data": {
      "text/html": [
       "<pre>Parsing completed. Parsed 100 lines in 0.034278 secs.</pre>"
      ],
      "text/plain": [
       "Parsing completed. Parsed 100 lines in 0.034278 secs."
      ]
     },
     "metadata": {},
     "output_type": "display_data"
    },
    {
     "name": "stdout",
     "output_type": "stream",
     "text": [
      "------------------------------------------------------\n",
      "Inferred types from first 100 line(s) of file as \n",
      "column_type_hints=[float,float,float,float,float,float,int,str]\n",
      "If parsing fails due to incorrect types, you can correct\n",
      "the inferred type list above and pass it to read_csv in\n",
      "the column_type_hints argument\n",
      "------------------------------------------------------\n"
     ]
    },
    {
     "data": {
      "text/html": [
       "<pre>Finished parsing file /mnt/c/Users/Karl-Jonathan/Desktop/labeledPositives/motionData 2021-04-19 09-25-15.txt</pre>"
      ],
      "text/plain": [
       "Finished parsing file /mnt/c/Users/Karl-Jonathan/Desktop/labeledPositives/motionData 2021-04-19 09-25-15.txt"
      ]
     },
     "metadata": {},
     "output_type": "display_data"
    },
    {
     "data": {
      "text/html": [
       "<pre>Parsing completed. Parsed 1033 lines in 0.031197 secs.</pre>"
      ],
      "text/plain": [
       "Parsing completed. Parsed 1033 lines in 0.031197 secs."
      ]
     },
     "metadata": {},
     "output_type": "display_data"
    },
    {
     "data": {
      "text/html": [
       "<pre>Finished parsing file /mnt/c/Users/Karl-Jonathan/Desktop/labeledPositives/motionData 2021-04-19 09-25-56.txt</pre>"
      ],
      "text/plain": [
       "Finished parsing file /mnt/c/Users/Karl-Jonathan/Desktop/labeledPositives/motionData 2021-04-19 09-25-56.txt"
      ]
     },
     "metadata": {},
     "output_type": "display_data"
    },
    {
     "data": {
      "text/html": [
       "<pre>Parsing completed. Parsed 100 lines in 0.031097 secs.</pre>"
      ],
      "text/plain": [
       "Parsing completed. Parsed 100 lines in 0.031097 secs."
      ]
     },
     "metadata": {},
     "output_type": "display_data"
    },
    {
     "name": "stdout",
     "output_type": "stream",
     "text": [
      "------------------------------------------------------\n",
      "Inferred types from first 100 line(s) of file as \n",
      "column_type_hints=[float,float,float,float,float,float,int,str]\n",
      "If parsing fails due to incorrect types, you can correct\n",
      "the inferred type list above and pass it to read_csv in\n",
      "the column_type_hints argument\n",
      "------------------------------------------------------\n"
     ]
    },
    {
     "data": {
      "text/html": [
       "<pre>Finished parsing file /mnt/c/Users/Karl-Jonathan/Desktop/labeledPositives/motionData 2021-04-19 09-25-56.txt</pre>"
      ],
      "text/plain": [
       "Finished parsing file /mnt/c/Users/Karl-Jonathan/Desktop/labeledPositives/motionData 2021-04-19 09-25-56.txt"
      ]
     },
     "metadata": {},
     "output_type": "display_data"
    },
    {
     "data": {
      "text/html": [
       "<pre>Parsing completed. Parsed 1477 lines in 0.03147 secs.</pre>"
      ],
      "text/plain": [
       "Parsing completed. Parsed 1477 lines in 0.03147 secs."
      ]
     },
     "metadata": {},
     "output_type": "display_data"
    },
    {
     "data": {
      "text/html": [
       "<pre>Finished parsing file /mnt/c/Users/Karl-Jonathan/Desktop/labeledPositives/motionData 2021-04-19 09-26-07.txt</pre>"
      ],
      "text/plain": [
       "Finished parsing file /mnt/c/Users/Karl-Jonathan/Desktop/labeledPositives/motionData 2021-04-19 09-26-07.txt"
      ]
     },
     "metadata": {},
     "output_type": "display_data"
    },
    {
     "data": {
      "text/html": [
       "<pre>Parsing completed. Parsed 100 lines in 0.033918 secs.</pre>"
      ],
      "text/plain": [
       "Parsing completed. Parsed 100 lines in 0.033918 secs."
      ]
     },
     "metadata": {},
     "output_type": "display_data"
    },
    {
     "name": "stdout",
     "output_type": "stream",
     "text": [
      "------------------------------------------------------\n",
      "Inferred types from first 100 line(s) of file as \n",
      "column_type_hints=[float,float,float,float,float,float,int,str]\n",
      "If parsing fails due to incorrect types, you can correct\n",
      "the inferred type list above and pass it to read_csv in\n",
      "the column_type_hints argument\n",
      "------------------------------------------------------\n"
     ]
    },
    {
     "data": {
      "text/html": [
       "<pre>Finished parsing file /mnt/c/Users/Karl-Jonathan/Desktop/labeledPositives/motionData 2021-04-19 09-26-07.txt</pre>"
      ],
      "text/plain": [
       "Finished parsing file /mnt/c/Users/Karl-Jonathan/Desktop/labeledPositives/motionData 2021-04-19 09-26-07.txt"
      ]
     },
     "metadata": {},
     "output_type": "display_data"
    },
    {
     "data": {
      "text/html": [
       "<pre>Parsing completed. Parsed 955 lines in 0.035072 secs.</pre>"
      ],
      "text/plain": [
       "Parsing completed. Parsed 955 lines in 0.035072 secs."
      ]
     },
     "metadata": {},
     "output_type": "display_data"
    },
    {
     "data": {
      "text/html": [
       "<pre>Finished parsing file /mnt/c/Users/Karl-Jonathan/Desktop/labeledPositives/motionData 2021-04-19 09-26-39.txt</pre>"
      ],
      "text/plain": [
       "Finished parsing file /mnt/c/Users/Karl-Jonathan/Desktop/labeledPositives/motionData 2021-04-19 09-26-39.txt"
      ]
     },
     "metadata": {},
     "output_type": "display_data"
    },
    {
     "data": {
      "text/html": [
       "<pre>Parsing completed. Parsed 100 lines in 0.035663 secs.</pre>"
      ],
      "text/plain": [
       "Parsing completed. Parsed 100 lines in 0.035663 secs."
      ]
     },
     "metadata": {},
     "output_type": "display_data"
    },
    {
     "name": "stdout",
     "output_type": "stream",
     "text": [
      "------------------------------------------------------\n",
      "Inferred types from first 100 line(s) of file as \n",
      "column_type_hints=[float,float,float,float,float,float,int,str]\n",
      "If parsing fails due to incorrect types, you can correct\n",
      "the inferred type list above and pass it to read_csv in\n",
      "the column_type_hints argument\n",
      "------------------------------------------------------\n"
     ]
    },
    {
     "data": {
      "text/html": [
       "<pre>Finished parsing file /mnt/c/Users/Karl-Jonathan/Desktop/labeledPositives/motionData 2021-04-19 09-26-39.txt</pre>"
      ],
      "text/plain": [
       "Finished parsing file /mnt/c/Users/Karl-Jonathan/Desktop/labeledPositives/motionData 2021-04-19 09-26-39.txt"
      ]
     },
     "metadata": {},
     "output_type": "display_data"
    },
    {
     "data": {
      "text/html": [
       "<pre>Parsing completed. Parsed 1541 lines in 0.035884 secs.</pre>"
      ],
      "text/plain": [
       "Parsing completed. Parsed 1541 lines in 0.035884 secs."
      ]
     },
     "metadata": {},
     "output_type": "display_data"
    },
    {
     "data": {
      "text/html": [
       "<pre>Finished parsing file /mnt/c/Users/Karl-Jonathan/Desktop/labeledPositives/motionData 2021-04-19 09-27-09.txt</pre>"
      ],
      "text/plain": [
       "Finished parsing file /mnt/c/Users/Karl-Jonathan/Desktop/labeledPositives/motionData 2021-04-19 09-27-09.txt"
      ]
     },
     "metadata": {},
     "output_type": "display_data"
    },
    {
     "data": {
      "text/html": [
       "<pre>Parsing completed. Parsed 100 lines in 0.035899 secs.</pre>"
      ],
      "text/plain": [
       "Parsing completed. Parsed 100 lines in 0.035899 secs."
      ]
     },
     "metadata": {},
     "output_type": "display_data"
    },
    {
     "name": "stdout",
     "output_type": "stream",
     "text": [
      "------------------------------------------------------\n",
      "Inferred types from first 100 line(s) of file as \n",
      "column_type_hints=[float,float,float,float,float,float,int,str]\n",
      "If parsing fails due to incorrect types, you can correct\n",
      "the inferred type list above and pass it to read_csv in\n",
      "the column_type_hints argument\n",
      "------------------------------------------------------\n"
     ]
    },
    {
     "data": {
      "text/html": [
       "<pre>Finished parsing file /mnt/c/Users/Karl-Jonathan/Desktop/labeledPositives/motionData 2021-04-19 09-27-09.txt</pre>"
      ],
      "text/plain": [
       "Finished parsing file /mnt/c/Users/Karl-Jonathan/Desktop/labeledPositives/motionData 2021-04-19 09-27-09.txt"
      ]
     },
     "metadata": {},
     "output_type": "display_data"
    },
    {
     "data": {
      "text/html": [
       "<pre>Parsing completed. Parsed 1555 lines in 0.036009 secs.</pre>"
      ],
      "text/plain": [
       "Parsing completed. Parsed 1555 lines in 0.036009 secs."
      ]
     },
     "metadata": {},
     "output_type": "display_data"
    },
    {
     "data": {
      "text/html": [
       "<pre>Finished parsing file /mnt/c/Users/Karl-Jonathan/Desktop/labeledPositives/motionData 2021-04-19 09-27-26.txt</pre>"
      ],
      "text/plain": [
       "Finished parsing file /mnt/c/Users/Karl-Jonathan/Desktop/labeledPositives/motionData 2021-04-19 09-27-26.txt"
      ]
     },
     "metadata": {},
     "output_type": "display_data"
    },
    {
     "data": {
      "text/html": [
       "<pre>Parsing completed. Parsed 100 lines in 0.035727 secs.</pre>"
      ],
      "text/plain": [
       "Parsing completed. Parsed 100 lines in 0.035727 secs."
      ]
     },
     "metadata": {},
     "output_type": "display_data"
    },
    {
     "name": "stdout",
     "output_type": "stream",
     "text": [
      "------------------------------------------------------\n",
      "Inferred types from first 100 line(s) of file as \n",
      "column_type_hints=[float,float,float,float,float,float,int,str]\n",
      "If parsing fails due to incorrect types, you can correct\n",
      "the inferred type list above and pass it to read_csv in\n",
      "the column_type_hints argument\n",
      "------------------------------------------------------\n"
     ]
    },
    {
     "data": {
      "text/html": [
       "<pre>Finished parsing file /mnt/c/Users/Karl-Jonathan/Desktop/labeledPositives/motionData 2021-04-19 09-27-26.txt</pre>"
      ],
      "text/plain": [
       "Finished parsing file /mnt/c/Users/Karl-Jonathan/Desktop/labeledPositives/motionData 2021-04-19 09-27-26.txt"
      ]
     },
     "metadata": {},
     "output_type": "display_data"
    },
    {
     "data": {
      "text/html": [
       "<pre>Parsing completed. Parsed 1521 lines in 0.035698 secs.</pre>"
      ],
      "text/plain": [
       "Parsing completed. Parsed 1521 lines in 0.035698 secs."
      ]
     },
     "metadata": {},
     "output_type": "display_data"
    },
    {
     "data": {
      "text/html": [
       "<pre>Finished parsing file /mnt/c/Users/Karl-Jonathan/Desktop/labeledPositives/motionData 2021-04-19 09-27-43.txt</pre>"
      ],
      "text/plain": [
       "Finished parsing file /mnt/c/Users/Karl-Jonathan/Desktop/labeledPositives/motionData 2021-04-19 09-27-43.txt"
      ]
     },
     "metadata": {},
     "output_type": "display_data"
    },
    {
     "data": {
      "text/html": [
       "<pre>Parsing completed. Parsed 100 lines in 0.035488 secs.</pre>"
      ],
      "text/plain": [
       "Parsing completed. Parsed 100 lines in 0.035488 secs."
      ]
     },
     "metadata": {},
     "output_type": "display_data"
    },
    {
     "name": "stdout",
     "output_type": "stream",
     "text": [
      "------------------------------------------------------\n",
      "Inferred types from first 100 line(s) of file as \n",
      "column_type_hints=[float,float,float,float,float,float,int,str]\n",
      "If parsing fails due to incorrect types, you can correct\n",
      "the inferred type list above and pass it to read_csv in\n",
      "the column_type_hints argument\n",
      "------------------------------------------------------\n"
     ]
    },
    {
     "data": {
      "text/html": [
       "<pre>Finished parsing file /mnt/c/Users/Karl-Jonathan/Desktop/labeledPositives/motionData 2021-04-19 09-27-43.txt</pre>"
      ],
      "text/plain": [
       "Finished parsing file /mnt/c/Users/Karl-Jonathan/Desktop/labeledPositives/motionData 2021-04-19 09-27-43.txt"
      ]
     },
     "metadata": {},
     "output_type": "display_data"
    },
    {
     "data": {
      "text/html": [
       "<pre>Parsing completed. Parsed 973 lines in 0.035808 secs.</pre>"
      ],
      "text/plain": [
       "Parsing completed. Parsed 973 lines in 0.035808 secs."
      ]
     },
     "metadata": {},
     "output_type": "display_data"
    },
    {
     "data": {
      "text/html": [
       "<pre>Finished parsing file /mnt/c/Users/Karl-Jonathan/Desktop/labeledPositives/motionData 2021-04-19 09-27-57.txt</pre>"
      ],
      "text/plain": [
       "Finished parsing file /mnt/c/Users/Karl-Jonathan/Desktop/labeledPositives/motionData 2021-04-19 09-27-57.txt"
      ]
     },
     "metadata": {},
     "output_type": "display_data"
    },
    {
     "data": {
      "text/html": [
       "<pre>Parsing completed. Parsed 100 lines in 0.035633 secs.</pre>"
      ],
      "text/plain": [
       "Parsing completed. Parsed 100 lines in 0.035633 secs."
      ]
     },
     "metadata": {},
     "output_type": "display_data"
    },
    {
     "name": "stdout",
     "output_type": "stream",
     "text": [
      "------------------------------------------------------\n",
      "Inferred types from first 100 line(s) of file as \n",
      "column_type_hints=[float,float,float,float,float,float,int,str]\n",
      "If parsing fails due to incorrect types, you can correct\n",
      "the inferred type list above and pass it to read_csv in\n",
      "the column_type_hints argument\n",
      "------------------------------------------------------\n"
     ]
    },
    {
     "data": {
      "text/html": [
       "<pre>Finished parsing file /mnt/c/Users/Karl-Jonathan/Desktop/labeledPositives/motionData 2021-04-19 09-27-57.txt</pre>"
      ],
      "text/plain": [
       "Finished parsing file /mnt/c/Users/Karl-Jonathan/Desktop/labeledPositives/motionData 2021-04-19 09-27-57.txt"
      ]
     },
     "metadata": {},
     "output_type": "display_data"
    },
    {
     "data": {
      "text/html": [
       "<pre>Parsing completed. Parsed 1070 lines in 0.035846 secs.</pre>"
      ],
      "text/plain": [
       "Parsing completed. Parsed 1070 lines in 0.035846 secs."
      ]
     },
     "metadata": {},
     "output_type": "display_data"
    },
    {
     "data": {
      "text/html": [
       "<pre>Finished parsing file /mnt/c/Users/Karl-Jonathan/Desktop/labeledPositives/motionData 2021-04-19 09-28-16.txt</pre>"
      ],
      "text/plain": [
       "Finished parsing file /mnt/c/Users/Karl-Jonathan/Desktop/labeledPositives/motionData 2021-04-19 09-28-16.txt"
      ]
     },
     "metadata": {},
     "output_type": "display_data"
    },
    {
     "data": {
      "text/html": [
       "<pre>Parsing completed. Parsed 100 lines in 0.035834 secs.</pre>"
      ],
      "text/plain": [
       "Parsing completed. Parsed 100 lines in 0.035834 secs."
      ]
     },
     "metadata": {},
     "output_type": "display_data"
    },
    {
     "name": "stdout",
     "output_type": "stream",
     "text": [
      "------------------------------------------------------\n",
      "Inferred types from first 100 line(s) of file as \n",
      "column_type_hints=[float,float,float,float,float,float,int,str]\n",
      "If parsing fails due to incorrect types, you can correct\n",
      "the inferred type list above and pass it to read_csv in\n",
      "the column_type_hints argument\n",
      "------------------------------------------------------\n"
     ]
    },
    {
     "data": {
      "text/html": [
       "<pre>Finished parsing file /mnt/c/Users/Karl-Jonathan/Desktop/labeledPositives/motionData 2021-04-19 09-28-16.txt</pre>"
      ],
      "text/plain": [
       "Finished parsing file /mnt/c/Users/Karl-Jonathan/Desktop/labeledPositives/motionData 2021-04-19 09-28-16.txt"
      ]
     },
     "metadata": {},
     "output_type": "display_data"
    },
    {
     "data": {
      "text/html": [
       "<pre>Parsing completed. Parsed 1665 lines in 0.036063 secs.</pre>"
      ],
      "text/plain": [
       "Parsing completed. Parsed 1665 lines in 0.036063 secs."
      ]
     },
     "metadata": {},
     "output_type": "display_data"
    },
    {
     "data": {
      "text/html": [
       "<pre>Finished parsing file /mnt/c/Users/Karl-Jonathan/Desktop/labeledPositives/motionData 2021-04-19 09-28-32.txt</pre>"
      ],
      "text/plain": [
       "Finished parsing file /mnt/c/Users/Karl-Jonathan/Desktop/labeledPositives/motionData 2021-04-19 09-28-32.txt"
      ]
     },
     "metadata": {},
     "output_type": "display_data"
    },
    {
     "data": {
      "text/html": [
       "<pre>Parsing completed. Parsed 100 lines in 0.035497 secs.</pre>"
      ],
      "text/plain": [
       "Parsing completed. Parsed 100 lines in 0.035497 secs."
      ]
     },
     "metadata": {},
     "output_type": "display_data"
    },
    {
     "name": "stdout",
     "output_type": "stream",
     "text": [
      "------------------------------------------------------\n",
      "Inferred types from first 100 line(s) of file as \n",
      "column_type_hints=[float,float,float,float,float,float,int,str]\n",
      "If parsing fails due to incorrect types, you can correct\n",
      "the inferred type list above and pass it to read_csv in\n",
      "the column_type_hints argument\n",
      "------------------------------------------------------\n"
     ]
    },
    {
     "data": {
      "text/html": [
       "<pre>Finished parsing file /mnt/c/Users/Karl-Jonathan/Desktop/labeledPositives/motionData 2021-04-19 09-28-32.txt</pre>"
      ],
      "text/plain": [
       "Finished parsing file /mnt/c/Users/Karl-Jonathan/Desktop/labeledPositives/motionData 2021-04-19 09-28-32.txt"
      ]
     },
     "metadata": {},
     "output_type": "display_data"
    },
    {
     "data": {
      "text/html": [
       "<pre>Parsing completed. Parsed 1417 lines in 0.03586 secs.</pre>"
      ],
      "text/plain": [
       "Parsing completed. Parsed 1417 lines in 0.03586 secs."
      ]
     },
     "metadata": {},
     "output_type": "display_data"
    }
   ],
   "source": [
    "for file in positives2:\n",
    "    \n",
    "    sf = tc.SFrame.read_csv(file)\n",
    "    sf = sf.rename(new_cols)\n",
    "    sf = sf.remove_column('ts')\n",
    "    sf['exp_id'] = exp_id\n",
    "    \n",
    "    data = data.append(sf)\n",
    "    sfPos = sfPos.append(sf)\n",
    "    exp_id += 1"
   ]
  },
  {
   "cell_type": "code",
   "execution_count": 13,
   "id": "0335bee4",
   "metadata": {},
   "outputs": [
    {
     "data": {
      "text/html": [
       "<div style=\"max-height:1000px;max-width:1500px;overflow:auto;\"><table frame=\"box\" rules=\"cols\">\n",
       "    <tr>\n",
       "        <th style=\"padding-left: 1em; padding-right: 1em; text-align: center\">accx</th>\n",
       "        <th style=\"padding-left: 1em; padding-right: 1em; text-align: center\">accy</th>\n",
       "        <th style=\"padding-left: 1em; padding-right: 1em; text-align: center\">accz</th>\n",
       "        <th style=\"padding-left: 1em; padding-right: 1em; text-align: center\">gyrx</th>\n",
       "        <th style=\"padding-left: 1em; padding-right: 1em; text-align: center\">gyry</th>\n",
       "        <th style=\"padding-left: 1em; padding-right: 1em; text-align: center\">gyrz</th>\n",
       "        <th style=\"padding-left: 1em; padding-right: 1em; text-align: center\">act_id</th>\n",
       "        <th style=\"padding-left: 1em; padding-right: 1em; text-align: center\">exp_id</th>\n",
       "    </tr>\n",
       "    <tr>\n",
       "        <td style=\"padding-left: 1em; padding-right: 1em; text-align: center; vertical-align: top\">0.003977</td>\n",
       "        <td style=\"padding-left: 1em; padding-right: 1em; text-align: center; vertical-align: top\">-0.215489</td>\n",
       "        <td style=\"padding-left: 1em; padding-right: 1em; text-align: center; vertical-align: top\">0.050329</td>\n",
       "        <td style=\"padding-left: 1em; padding-right: 1em; text-align: center; vertical-align: top\">-1.583084</td>\n",
       "        <td style=\"padding-left: 1em; padding-right: 1em; text-align: center; vertical-align: top\">0.775935</td>\n",
       "        <td style=\"padding-left: 1em; padding-right: 1em; text-align: center; vertical-align: top\">1.548656</td>\n",
       "        <td style=\"padding-left: 1em; padding-right: 1em; text-align: center; vertical-align: top\">noise</td>\n",
       "        <td style=\"padding-left: 1em; padding-right: 1em; text-align: center; vertical-align: top\">0</td>\n",
       "    </tr>\n",
       "    <tr>\n",
       "        <td style=\"padding-left: 1em; padding-right: 1em; text-align: center; vertical-align: top\">-8.2e-05</td>\n",
       "        <td style=\"padding-left: 1em; padding-right: 1em; text-align: center; vertical-align: top\">-0.256488</td>\n",
       "        <td style=\"padding-left: 1em; padding-right: 1em; text-align: center; vertical-align: top\">0.03442</td>\n",
       "        <td style=\"padding-left: 1em; padding-right: 1em; text-align: center; vertical-align: top\">-1.684852</td>\n",
       "        <td style=\"padding-left: 1em; padding-right: 1em; text-align: center; vertical-align: top\">0.898713</td>\n",
       "        <td style=\"padding-left: 1em; padding-right: 1em; text-align: center; vertical-align: top\">1.600717</td>\n",
       "        <td style=\"padding-left: 1em; padding-right: 1em; text-align: center; vertical-align: top\">noise</td>\n",
       "        <td style=\"padding-left: 1em; padding-right: 1em; text-align: center; vertical-align: top\">0</td>\n",
       "    </tr>\n",
       "    <tr>\n",
       "        <td style=\"padding-left: 1em; padding-right: 1em; text-align: center; vertical-align: top\">0.001391</td>\n",
       "        <td style=\"padding-left: 1em; padding-right: 1em; text-align: center; vertical-align: top\">-0.259617</td>\n",
       "        <td style=\"padding-left: 1em; padding-right: 1em; text-align: center; vertical-align: top\">0.00519</td>\n",
       "        <td style=\"padding-left: 1em; padding-right: 1em; text-align: center; vertical-align: top\">-1.694027</td>\n",
       "        <td style=\"padding-left: 1em; padding-right: 1em; text-align: center; vertical-align: top\">0.916689</td>\n",
       "        <td style=\"padding-left: 1em; padding-right: 1em; text-align: center; vertical-align: top\">1.675023</td>\n",
       "        <td style=\"padding-left: 1em; padding-right: 1em; text-align: center; vertical-align: top\">noise</td>\n",
       "        <td style=\"padding-left: 1em; padding-right: 1em; text-align: center; vertical-align: top\">0</td>\n",
       "    </tr>\n",
       "    <tr>\n",
       "        <td style=\"padding-left: 1em; padding-right: 1em; text-align: center; vertical-align: top\">0.00575</td>\n",
       "        <td style=\"padding-left: 1em; padding-right: 1em; text-align: center; vertical-align: top\">-0.194053</td>\n",
       "        <td style=\"padding-left: 1em; padding-right: 1em; text-align: center; vertical-align: top\">0.020434</td>\n",
       "        <td style=\"padding-left: 1em; padding-right: 1em; text-align: center; vertical-align: top\">-1.651936</td>\n",
       "        <td style=\"padding-left: 1em; padding-right: 1em; text-align: center; vertical-align: top\">0.961757</td>\n",
       "        <td style=\"padding-left: 1em; padding-right: 1em; text-align: center; vertical-align: top\">1.799307</td>\n",
       "        <td style=\"padding-left: 1em; padding-right: 1em; text-align: center; vertical-align: top\">noise</td>\n",
       "        <td style=\"padding-left: 1em; padding-right: 1em; text-align: center; vertical-align: top\">0</td>\n",
       "    </tr>\n",
       "    <tr>\n",
       "        <td style=\"padding-left: 1em; padding-right: 1em; text-align: center; vertical-align: top\">0.025243</td>\n",
       "        <td style=\"padding-left: 1em; padding-right: 1em; text-align: center; vertical-align: top\">-0.143609</td>\n",
       "        <td style=\"padding-left: 1em; padding-right: 1em; text-align: center; vertical-align: top\">0.068569</td>\n",
       "        <td style=\"padding-left: 1em; padding-right: 1em; text-align: center; vertical-align: top\">-1.539246</td>\n",
       "        <td style=\"padding-left: 1em; padding-right: 1em; text-align: center; vertical-align: top\">0.902704</td>\n",
       "        <td style=\"padding-left: 1em; padding-right: 1em; text-align: center; vertical-align: top\">1.944424</td>\n",
       "        <td style=\"padding-left: 1em; padding-right: 1em; text-align: center; vertical-align: top\">noise</td>\n",
       "        <td style=\"padding-left: 1em; padding-right: 1em; text-align: center; vertical-align: top\">0</td>\n",
       "    </tr>\n",
       "    <tr>\n",
       "        <td style=\"padding-left: 1em; padding-right: 1em; text-align: center; vertical-align: top\">0.025677</td>\n",
       "        <td style=\"padding-left: 1em; padding-right: 1em; text-align: center; vertical-align: top\">-0.121164</td>\n",
       "        <td style=\"padding-left: 1em; padding-right: 1em; text-align: center; vertical-align: top\">0.08961</td>\n",
       "        <td style=\"padding-left: 1em; padding-right: 1em; text-align: center; vertical-align: top\">-1.560508</td>\n",
       "        <td style=\"padding-left: 1em; padding-right: 1em; text-align: center; vertical-align: top\">0.970423</td>\n",
       "        <td style=\"padding-left: 1em; padding-right: 1em; text-align: center; vertical-align: top\">2.021523</td>\n",
       "        <td style=\"padding-left: 1em; padding-right: 1em; text-align: center; vertical-align: top\">noise</td>\n",
       "        <td style=\"padding-left: 1em; padding-right: 1em; text-align: center; vertical-align: top\">0</td>\n",
       "    </tr>\n",
       "    <tr>\n",
       "        <td style=\"padding-left: 1em; padding-right: 1em; text-align: center; vertical-align: top\">-0.019027</td>\n",
       "        <td style=\"padding-left: 1em; padding-right: 1em; text-align: center; vertical-align: top\">-0.130406</td>\n",
       "        <td style=\"padding-left: 1em; padding-right: 1em; text-align: center; vertical-align: top\">0.139956</td>\n",
       "        <td style=\"padding-left: 1em; padding-right: 1em; text-align: center; vertical-align: top\">-1.713281</td>\n",
       "        <td style=\"padding-left: 1em; padding-right: 1em; text-align: center; vertical-align: top\">1.071957</td>\n",
       "        <td style=\"padding-left: 1em; padding-right: 1em; text-align: center; vertical-align: top\">2.092121</td>\n",
       "        <td style=\"padding-left: 1em; padding-right: 1em; text-align: center; vertical-align: top\">noise</td>\n",
       "        <td style=\"padding-left: 1em; padding-right: 1em; text-align: center; vertical-align: top\">0</td>\n",
       "    </tr>\n",
       "    <tr>\n",
       "        <td style=\"padding-left: 1em; padding-right: 1em; text-align: center; vertical-align: top\">-0.017683</td>\n",
       "        <td style=\"padding-left: 1em; padding-right: 1em; text-align: center; vertical-align: top\">-0.142693</td>\n",
       "        <td style=\"padding-left: 1em; padding-right: 1em; text-align: center; vertical-align: top\">0.150531</td>\n",
       "        <td style=\"padding-left: 1em; padding-right: 1em; text-align: center; vertical-align: top\">-1.95659</td>\n",
       "        <td style=\"padding-left: 1em; padding-right: 1em; text-align: center; vertical-align: top\">1.198493</td>\n",
       "        <td style=\"padding-left: 1em; padding-right: 1em; text-align: center; vertical-align: top\">2.141927</td>\n",
       "        <td style=\"padding-left: 1em; padding-right: 1em; text-align: center; vertical-align: top\">noise</td>\n",
       "        <td style=\"padding-left: 1em; padding-right: 1em; text-align: center; vertical-align: top\">0</td>\n",
       "    </tr>\n",
       "    <tr>\n",
       "        <td style=\"padding-left: 1em; padding-right: 1em; text-align: center; vertical-align: top\">-0.011034</td>\n",
       "        <td style=\"padding-left: 1em; padding-right: 1em; text-align: center; vertical-align: top\">-0.174082</td>\n",
       "        <td style=\"padding-left: 1em; padding-right: 1em; text-align: center; vertical-align: top\">0.163264</td>\n",
       "        <td style=\"padding-left: 1em; padding-right: 1em; text-align: center; vertical-align: top\">-2.335586</td>\n",
       "        <td style=\"padding-left: 1em; padding-right: 1em; text-align: center; vertical-align: top\">1.312266</td>\n",
       "        <td style=\"padding-left: 1em; padding-right: 1em; text-align: center; vertical-align: top\">2.189578</td>\n",
       "        <td style=\"padding-left: 1em; padding-right: 1em; text-align: center; vertical-align: top\">noise</td>\n",
       "        <td style=\"padding-left: 1em; padding-right: 1em; text-align: center; vertical-align: top\">0</td>\n",
       "    </tr>\n",
       "    <tr>\n",
       "        <td style=\"padding-left: 1em; padding-right: 1em; text-align: center; vertical-align: top\">-0.024246</td>\n",
       "        <td style=\"padding-left: 1em; padding-right: 1em; text-align: center; vertical-align: top\">-0.161735</td>\n",
       "        <td style=\"padding-left: 1em; padding-right: 1em; text-align: center; vertical-align: top\">0.152034</td>\n",
       "        <td style=\"padding-left: 1em; padding-right: 1em; text-align: center; vertical-align: top\">-2.596396</td>\n",
       "        <td style=\"padding-left: 1em; padding-right: 1em; text-align: center; vertical-align: top\">1.498913</td>\n",
       "        <td style=\"padding-left: 1em; padding-right: 1em; text-align: center; vertical-align: top\">2.275226</td>\n",
       "        <td style=\"padding-left: 1em; padding-right: 1em; text-align: center; vertical-align: top\">noise</td>\n",
       "        <td style=\"padding-left: 1em; padding-right: 1em; text-align: center; vertical-align: top\">0</td>\n",
       "    </tr>\n",
       "</table>\n",
       "[229323 rows x 8 columns]<br/>Note: Only the head of the SFrame is printed.<br/>You can use print_rows(num_rows=m, num_columns=n) to print more rows and columns.\n",
       "</div>"
      ],
      "text/plain": [
       "Columns:\n",
       "\taccx\tfloat\n",
       "\taccy\tfloat\n",
       "\taccz\tfloat\n",
       "\tgyrx\tfloat\n",
       "\tgyry\tfloat\n",
       "\tgyrz\tfloat\n",
       "\tact_id\tstr\n",
       "\texp_id\tint\n",
       "\n",
       "Rows: 229323\n",
       "\n",
       "Data:\n",
       "+-----------+-----------+----------+-----------+----------+----------+--------+\n",
       "|    accx   |    accy   |   accz   |    gyrx   |   gyry   |   gyrz   | act_id |\n",
       "+-----------+-----------+----------+-----------+----------+----------+--------+\n",
       "|  0.003977 | -0.215489 | 0.050329 | -1.583084 | 0.775935 | 1.548656 | noise  |\n",
       "|  -8.2e-05 | -0.256488 | 0.03442  | -1.684852 | 0.898713 | 1.600717 | noise  |\n",
       "|  0.001391 | -0.259617 | 0.00519  | -1.694027 | 0.916689 | 1.675023 | noise  |\n",
       "|  0.00575  | -0.194053 | 0.020434 | -1.651936 | 0.961757 | 1.799307 | noise  |\n",
       "|  0.025243 | -0.143609 | 0.068569 | -1.539246 | 0.902704 | 1.944424 | noise  |\n",
       "|  0.025677 | -0.121164 | 0.08961  | -1.560508 | 0.970423 | 2.021523 | noise  |\n",
       "| -0.019027 | -0.130406 | 0.139956 | -1.713281 | 1.071957 | 2.092121 | noise  |\n",
       "| -0.017683 | -0.142693 | 0.150531 |  -1.95659 | 1.198493 | 2.141927 | noise  |\n",
       "| -0.011034 | -0.174082 | 0.163264 | -2.335586 | 1.312266 | 2.189578 | noise  |\n",
       "| -0.024246 | -0.161735 | 0.152034 | -2.596396 | 1.498913 | 2.275226 | noise  |\n",
       "+-----------+-----------+----------+-----------+----------+----------+--------+\n",
       "+--------+\n",
       "| exp_id |\n",
       "+--------+\n",
       "|   0    |\n",
       "|   0    |\n",
       "|   0    |\n",
       "|   0    |\n",
       "|   0    |\n",
       "|   0    |\n",
       "|   0    |\n",
       "|   0    |\n",
       "|   0    |\n",
       "|   0    |\n",
       "+--------+\n",
       "[229323 rows x 8 columns]\n",
       "Note: Only the head of the SFrame is printed.\n",
       "You can use print_rows(num_rows=m, num_columns=n) to print more rows and columns."
      ]
     },
     "execution_count": 13,
     "metadata": {},
     "output_type": "execute_result"
    }
   ],
   "source": [
    "data"
   ]
  },
  {
   "cell_type": "code",
   "execution_count": 11,
   "id": "93992b70",
   "metadata": {},
   "outputs": [],
   "source": [
    "new_cols = {\n",
    " 'accel x': 'accx',\n",
    " 'accel y': 'accy',\n",
    " 'accel z': 'accz',\n",
    " 'gyro x': 'gyrx',\n",
    " 'gyro y': 'gyry',\n",
    " 'gyro z': 'gyrz',\n",
    " 'timestamp(ticks since 1970)': 'ts' }"
   ]
  },
  {
   "cell_type": "code",
   "execution_count": 12,
   "id": "92c9018b",
   "metadata": {},
   "outputs": [
    {
     "data": {
      "text/html": [
       "<pre>Finished parsing file /mnt/c/Users/Karl-Jonathan/Desktop/mudelid/negatives/motionData 2021-04-08 06-50-53.txt</pre>"
      ],
      "text/plain": [
       "Finished parsing file /mnt/c/Users/Karl-Jonathan/Desktop/mudelid/negatives/motionData 2021-04-08 06-50-53.txt"
      ]
     },
     "metadata": {},
     "output_type": "display_data"
    },
    {
     "data": {
      "text/html": [
       "<pre>Parsing completed. Parsed 100 lines in 0.0353 secs.</pre>"
      ],
      "text/plain": [
       "Parsing completed. Parsed 100 lines in 0.0353 secs."
      ]
     },
     "metadata": {},
     "output_type": "display_data"
    },
    {
     "name": "stdout",
     "output_type": "stream",
     "text": [
      "------------------------------------------------------\n",
      "Inferred types from first 100 line(s) of file as \n",
      "column_type_hints=[float,float,float,float,float,float,int]\n",
      "If parsing fails due to incorrect types, you can correct\n",
      "the inferred type list above and pass it to read_csv in\n",
      "the column_type_hints argument\n",
      "------------------------------------------------------\n"
     ]
    },
    {
     "data": {
      "text/html": [
       "<pre>Finished parsing file /mnt/c/Users/Karl-Jonathan/Desktop/mudelid/negatives/motionData 2021-04-08 06-50-53.txt</pre>"
      ],
      "text/plain": [
       "Finished parsing file /mnt/c/Users/Karl-Jonathan/Desktop/mudelid/negatives/motionData 2021-04-08 06-50-53.txt"
      ]
     },
     "metadata": {},
     "output_type": "display_data"
    },
    {
     "data": {
      "text/html": [
       "<pre>Parsing completed. Parsed 210 lines in 0.036082 secs.</pre>"
      ],
      "text/plain": [
       "Parsing completed. Parsed 210 lines in 0.036082 secs."
      ]
     },
     "metadata": {},
     "output_type": "display_data"
    },
    {
     "data": {
      "text/html": [
       "<pre>Finished parsing file /mnt/c/Users/Karl-Jonathan/Desktop/mudelid/negatives/motionData 2021-04-08 06-51-09.txt</pre>"
      ],
      "text/plain": [
       "Finished parsing file /mnt/c/Users/Karl-Jonathan/Desktop/mudelid/negatives/motionData 2021-04-08 06-51-09.txt"
      ]
     },
     "metadata": {},
     "output_type": "display_data"
    },
    {
     "data": {
      "text/html": [
       "<pre>Parsing completed. Parsed 100 lines in 0.032485 secs.</pre>"
      ],
      "text/plain": [
       "Parsing completed. Parsed 100 lines in 0.032485 secs."
      ]
     },
     "metadata": {},
     "output_type": "display_data"
    },
    {
     "name": "stdout",
     "output_type": "stream",
     "text": [
      "------------------------------------------------------\n",
      "Inferred types from first 100 line(s) of file as \n",
      "column_type_hints=[float,float,float,float,float,float,int]\n",
      "If parsing fails due to incorrect types, you can correct\n",
      "the inferred type list above and pass it to read_csv in\n",
      "the column_type_hints argument\n",
      "------------------------------------------------------\n"
     ]
    },
    {
     "data": {
      "text/html": [
       "<pre>Finished parsing file /mnt/c/Users/Karl-Jonathan/Desktop/mudelid/negatives/motionData 2021-04-08 06-51-09.txt</pre>"
      ],
      "text/plain": [
       "Finished parsing file /mnt/c/Users/Karl-Jonathan/Desktop/mudelid/negatives/motionData 2021-04-08 06-51-09.txt"
      ]
     },
     "metadata": {},
     "output_type": "display_data"
    },
    {
     "data": {
      "text/html": [
       "<pre>Parsing completed. Parsed 1263 lines in 0.031407 secs.</pre>"
      ],
      "text/plain": [
       "Parsing completed. Parsed 1263 lines in 0.031407 secs."
      ]
     },
     "metadata": {},
     "output_type": "display_data"
    },
    {
     "data": {
      "text/html": [
       "<pre>Finished parsing file /mnt/c/Users/Karl-Jonathan/Desktop/mudelid/negatives/motionData 2021-04-08 06-52-41.txt</pre>"
      ],
      "text/plain": [
       "Finished parsing file /mnt/c/Users/Karl-Jonathan/Desktop/mudelid/negatives/motionData 2021-04-08 06-52-41.txt"
      ]
     },
     "metadata": {},
     "output_type": "display_data"
    },
    {
     "data": {
      "text/html": [
       "<pre>Parsing completed. Parsed 100 lines in 0.030964 secs.</pre>"
      ],
      "text/plain": [
       "Parsing completed. Parsed 100 lines in 0.030964 secs."
      ]
     },
     "metadata": {},
     "output_type": "display_data"
    },
    {
     "name": "stdout",
     "output_type": "stream",
     "text": [
      "------------------------------------------------------\n",
      "Inferred types from first 100 line(s) of file as \n",
      "column_type_hints=[float,float,float,float,float,float,int]\n",
      "If parsing fails due to incorrect types, you can correct\n",
      "the inferred type list above and pass it to read_csv in\n",
      "the column_type_hints argument\n",
      "------------------------------------------------------\n"
     ]
    },
    {
     "data": {
      "text/html": [
       "<pre>Finished parsing file /mnt/c/Users/Karl-Jonathan/Desktop/mudelid/negatives/motionData 2021-04-08 06-52-41.txt</pre>"
      ],
      "text/plain": [
       "Finished parsing file /mnt/c/Users/Karl-Jonathan/Desktop/mudelid/negatives/motionData 2021-04-08 06-52-41.txt"
      ]
     },
     "metadata": {},
     "output_type": "display_data"
    },
    {
     "data": {
      "text/html": [
       "<pre>Parsing completed. Parsed 1176 lines in 0.031522 secs.</pre>"
      ],
      "text/plain": [
       "Parsing completed. Parsed 1176 lines in 0.031522 secs."
      ]
     },
     "metadata": {},
     "output_type": "display_data"
    },
    {
     "data": {
      "text/html": [
       "<pre>Finished parsing file /mnt/c/Users/Karl-Jonathan/Desktop/mudelid/negatives/motionData 2021-04-08 06-53-20.txt</pre>"
      ],
      "text/plain": [
       "Finished parsing file /mnt/c/Users/Karl-Jonathan/Desktop/mudelid/negatives/motionData 2021-04-08 06-53-20.txt"
      ]
     },
     "metadata": {},
     "output_type": "display_data"
    },
    {
     "data": {
      "text/html": [
       "<pre>Parsing completed. Parsed 100 lines in 0.034337 secs.</pre>"
      ],
      "text/plain": [
       "Parsing completed. Parsed 100 lines in 0.034337 secs."
      ]
     },
     "metadata": {},
     "output_type": "display_data"
    },
    {
     "name": "stdout",
     "output_type": "stream",
     "text": [
      "------------------------------------------------------\n",
      "Inferred types from first 100 line(s) of file as \n",
      "column_type_hints=[float,float,float,float,float,float,int]\n",
      "If parsing fails due to incorrect types, you can correct\n",
      "the inferred type list above and pass it to read_csv in\n",
      "the column_type_hints argument\n",
      "------------------------------------------------------\n"
     ]
    },
    {
     "data": {
      "text/html": [
       "<pre>Finished parsing file /mnt/c/Users/Karl-Jonathan/Desktop/mudelid/negatives/motionData 2021-04-08 06-53-20.txt</pre>"
      ],
      "text/plain": [
       "Finished parsing file /mnt/c/Users/Karl-Jonathan/Desktop/mudelid/negatives/motionData 2021-04-08 06-53-20.txt"
      ]
     },
     "metadata": {},
     "output_type": "display_data"
    },
    {
     "data": {
      "text/html": [
       "<pre>Parsing completed. Parsed 1013 lines in 0.035457 secs.</pre>"
      ],
      "text/plain": [
       "Parsing completed. Parsed 1013 lines in 0.035457 secs."
      ]
     },
     "metadata": {},
     "output_type": "display_data"
    },
    {
     "data": {
      "text/html": [
       "<pre>Finished parsing file /mnt/c/Users/Karl-Jonathan/Desktop/mudelid/negatives/motionData 2021-04-08 06-53-32.txt</pre>"
      ],
      "text/plain": [
       "Finished parsing file /mnt/c/Users/Karl-Jonathan/Desktop/mudelid/negatives/motionData 2021-04-08 06-53-32.txt"
      ]
     },
     "metadata": {},
     "output_type": "display_data"
    },
    {
     "data": {
      "text/html": [
       "<pre>Parsing completed. Parsed 100 lines in 0.035502 secs.</pre>"
      ],
      "text/plain": [
       "Parsing completed. Parsed 100 lines in 0.035502 secs."
      ]
     },
     "metadata": {},
     "output_type": "display_data"
    },
    {
     "name": "stdout",
     "output_type": "stream",
     "text": [
      "------------------------------------------------------\n",
      "Inferred types from first 100 line(s) of file as \n",
      "column_type_hints=[float,float,float,float,float,float,int]\n",
      "If parsing fails due to incorrect types, you can correct\n",
      "the inferred type list above and pass it to read_csv in\n",
      "the column_type_hints argument\n",
      "------------------------------------------------------\n"
     ]
    },
    {
     "data": {
      "text/html": [
       "<pre>Finished parsing file /mnt/c/Users/Karl-Jonathan/Desktop/mudelid/negatives/motionData 2021-04-08 06-53-32.txt</pre>"
      ],
      "text/plain": [
       "Finished parsing file /mnt/c/Users/Karl-Jonathan/Desktop/mudelid/negatives/motionData 2021-04-08 06-53-32.txt"
      ]
     },
     "metadata": {},
     "output_type": "display_data"
    },
    {
     "data": {
      "text/html": [
       "<pre>Parsing completed. Parsed 781 lines in 0.035372 secs.</pre>"
      ],
      "text/plain": [
       "Parsing completed. Parsed 781 lines in 0.035372 secs."
      ]
     },
     "metadata": {},
     "output_type": "display_data"
    },
    {
     "data": {
      "text/html": [
       "<pre>Finished parsing file /mnt/c/Users/Karl-Jonathan/Desktop/mudelid/negatives/motionData 2021-04-08 06-53-43.txt</pre>"
      ],
      "text/plain": [
       "Finished parsing file /mnt/c/Users/Karl-Jonathan/Desktop/mudelid/negatives/motionData 2021-04-08 06-53-43.txt"
      ]
     },
     "metadata": {},
     "output_type": "display_data"
    },
    {
     "data": {
      "text/html": [
       "<pre>Parsing completed. Parsed 100 lines in 0.035468 secs.</pre>"
      ],
      "text/plain": [
       "Parsing completed. Parsed 100 lines in 0.035468 secs."
      ]
     },
     "metadata": {},
     "output_type": "display_data"
    },
    {
     "name": "stdout",
     "output_type": "stream",
     "text": [
      "------------------------------------------------------\n",
      "Inferred types from first 100 line(s) of file as \n",
      "column_type_hints=[float,float,float,float,float,float,int]\n",
      "If parsing fails due to incorrect types, you can correct\n",
      "the inferred type list above and pass it to read_csv in\n",
      "the column_type_hints argument\n",
      "------------------------------------------------------\n"
     ]
    },
    {
     "data": {
      "text/html": [
       "<pre>Finished parsing file /mnt/c/Users/Karl-Jonathan/Desktop/mudelid/negatives/motionData 2021-04-08 06-53-43.txt</pre>"
      ],
      "text/plain": [
       "Finished parsing file /mnt/c/Users/Karl-Jonathan/Desktop/mudelid/negatives/motionData 2021-04-08 06-53-43.txt"
      ]
     },
     "metadata": {},
     "output_type": "display_data"
    },
    {
     "data": {
      "text/html": [
       "<pre>Parsing completed. Parsed 874 lines in 0.036024 secs.</pre>"
      ],
      "text/plain": [
       "Parsing completed. Parsed 874 lines in 0.036024 secs."
      ]
     },
     "metadata": {},
     "output_type": "display_data"
    },
    {
     "data": {
      "text/html": [
       "<pre>Finished parsing file /mnt/c/Users/Karl-Jonathan/Desktop/mudelid/negatives/motionData 2021-04-08 07-07-40.txt</pre>"
      ],
      "text/plain": [
       "Finished parsing file /mnt/c/Users/Karl-Jonathan/Desktop/mudelid/negatives/motionData 2021-04-08 07-07-40.txt"
      ]
     },
     "metadata": {},
     "output_type": "display_data"
    },
    {
     "data": {
      "text/html": [
       "<pre>Parsing completed. Parsed 100 lines in 0.035507 secs.</pre>"
      ],
      "text/plain": [
       "Parsing completed. Parsed 100 lines in 0.035507 secs."
      ]
     },
     "metadata": {},
     "output_type": "display_data"
    },
    {
     "name": "stdout",
     "output_type": "stream",
     "text": [
      "------------------------------------------------------\n",
      "Inferred types from first 100 line(s) of file as \n",
      "column_type_hints=[float,float,float,float,float,float,int]\n",
      "If parsing fails due to incorrect types, you can correct\n",
      "the inferred type list above and pass it to read_csv in\n",
      "the column_type_hints argument\n",
      "------------------------------------------------------\n"
     ]
    },
    {
     "data": {
      "text/html": [
       "<pre>Finished parsing file /mnt/c/Users/Karl-Jonathan/Desktop/mudelid/negatives/motionData 2021-04-08 07-07-40.txt</pre>"
      ],
      "text/plain": [
       "Finished parsing file /mnt/c/Users/Karl-Jonathan/Desktop/mudelid/negatives/motionData 2021-04-08 07-07-40.txt"
      ]
     },
     "metadata": {},
     "output_type": "display_data"
    },
    {
     "data": {
      "text/html": [
       "<pre>Parsing completed. Parsed 596 lines in 0.035434 secs.</pre>"
      ],
      "text/plain": [
       "Parsing completed. Parsed 596 lines in 0.035434 secs."
      ]
     },
     "metadata": {},
     "output_type": "display_data"
    },
    {
     "data": {
      "text/html": [
       "<pre>Finished parsing file /mnt/c/Users/Karl-Jonathan/Desktop/mudelid/negatives/motionData 2021-04-08 07-07-52.txt</pre>"
      ],
      "text/plain": [
       "Finished parsing file /mnt/c/Users/Karl-Jonathan/Desktop/mudelid/negatives/motionData 2021-04-08 07-07-52.txt"
      ]
     },
     "metadata": {},
     "output_type": "display_data"
    },
    {
     "data": {
      "text/html": [
       "<pre>Parsing completed. Parsed 100 lines in 0.036095 secs.</pre>"
      ],
      "text/plain": [
       "Parsing completed. Parsed 100 lines in 0.036095 secs."
      ]
     },
     "metadata": {},
     "output_type": "display_data"
    },
    {
     "name": "stdout",
     "output_type": "stream",
     "text": [
      "------------------------------------------------------\n",
      "Inferred types from first 100 line(s) of file as \n",
      "column_type_hints=[float,float,float,float,float,float,int]\n",
      "If parsing fails due to incorrect types, you can correct\n",
      "the inferred type list above and pass it to read_csv in\n",
      "the column_type_hints argument\n",
      "------------------------------------------------------\n"
     ]
    },
    {
     "data": {
      "text/html": [
       "<pre>Finished parsing file /mnt/c/Users/Karl-Jonathan/Desktop/mudelid/negatives/motionData 2021-04-08 07-07-52.txt</pre>"
      ],
      "text/plain": [
       "Finished parsing file /mnt/c/Users/Karl-Jonathan/Desktop/mudelid/negatives/motionData 2021-04-08 07-07-52.txt"
      ]
     },
     "metadata": {},
     "output_type": "display_data"
    },
    {
     "data": {
      "text/html": [
       "<pre>Parsing completed. Parsed 1047 lines in 0.035772 secs.</pre>"
      ],
      "text/plain": [
       "Parsing completed. Parsed 1047 lines in 0.035772 secs."
      ]
     },
     "metadata": {},
     "output_type": "display_data"
    },
    {
     "data": {
      "text/html": [
       "<pre>Finished parsing file /mnt/c/Users/Karl-Jonathan/Desktop/mudelid/negatives/motionData 2021-04-08 07-08-07.txt</pre>"
      ],
      "text/plain": [
       "Finished parsing file /mnt/c/Users/Karl-Jonathan/Desktop/mudelid/negatives/motionData 2021-04-08 07-08-07.txt"
      ]
     },
     "metadata": {},
     "output_type": "display_data"
    },
    {
     "data": {
      "text/html": [
       "<pre>Parsing completed. Parsed 100 lines in 0.035355 secs.</pre>"
      ],
      "text/plain": [
       "Parsing completed. Parsed 100 lines in 0.035355 secs."
      ]
     },
     "metadata": {},
     "output_type": "display_data"
    },
    {
     "name": "stdout",
     "output_type": "stream",
     "text": [
      "------------------------------------------------------\n",
      "Inferred types from first 100 line(s) of file as \n",
      "column_type_hints=[float,float,float,float,float,float,int]\n",
      "If parsing fails due to incorrect types, you can correct\n",
      "the inferred type list above and pass it to read_csv in\n",
      "the column_type_hints argument\n",
      "------------------------------------------------------\n"
     ]
    },
    {
     "data": {
      "text/html": [
       "<pre>Finished parsing file /mnt/c/Users/Karl-Jonathan/Desktop/mudelid/negatives/motionData 2021-04-08 07-08-07.txt</pre>"
      ],
      "text/plain": [
       "Finished parsing file /mnt/c/Users/Karl-Jonathan/Desktop/mudelid/negatives/motionData 2021-04-08 07-08-07.txt"
      ]
     },
     "metadata": {},
     "output_type": "display_data"
    },
    {
     "data": {
      "text/html": [
       "<pre>Parsing completed. Parsed 1275 lines in 0.035908 secs.</pre>"
      ],
      "text/plain": [
       "Parsing completed. Parsed 1275 lines in 0.035908 secs."
      ]
     },
     "metadata": {},
     "output_type": "display_data"
    },
    {
     "data": {
      "text/html": [
       "<pre>Finished parsing file /mnt/c/Users/Karl-Jonathan/Desktop/mudelid/negatives/motionData 2021-04-08 07-08-41.txt</pre>"
      ],
      "text/plain": [
       "Finished parsing file /mnt/c/Users/Karl-Jonathan/Desktop/mudelid/negatives/motionData 2021-04-08 07-08-41.txt"
      ]
     },
     "metadata": {},
     "output_type": "display_data"
    },
    {
     "data": {
      "text/html": [
       "<pre>Parsing completed. Parsed 100 lines in 0.035365 secs.</pre>"
      ],
      "text/plain": [
       "Parsing completed. Parsed 100 lines in 0.035365 secs."
      ]
     },
     "metadata": {},
     "output_type": "display_data"
    },
    {
     "name": "stdout",
     "output_type": "stream",
     "text": [
      "------------------------------------------------------\n",
      "Inferred types from first 100 line(s) of file as \n",
      "column_type_hints=[float,float,float,float,float,float,int]\n",
      "If parsing fails due to incorrect types, you can correct\n",
      "the inferred type list above and pass it to read_csv in\n",
      "the column_type_hints argument\n",
      "------------------------------------------------------\n"
     ]
    },
    {
     "data": {
      "text/html": [
       "<pre>Finished parsing file /mnt/c/Users/Karl-Jonathan/Desktop/mudelid/negatives/motionData 2021-04-08 07-08-41.txt</pre>"
      ],
      "text/plain": [
       "Finished parsing file /mnt/c/Users/Karl-Jonathan/Desktop/mudelid/negatives/motionData 2021-04-08 07-08-41.txt"
      ]
     },
     "metadata": {},
     "output_type": "display_data"
    },
    {
     "data": {
      "text/html": [
       "<pre>Parsing completed. Parsed 1040 lines in 0.035787 secs.</pre>"
      ],
      "text/plain": [
       "Parsing completed. Parsed 1040 lines in 0.035787 secs."
      ]
     },
     "metadata": {},
     "output_type": "display_data"
    },
    {
     "data": {
      "text/html": [
       "<pre>Finished parsing file /mnt/c/Users/Karl-Jonathan/Desktop/mudelid/negatives/motionData 2021-04-08 07-08-52.txt</pre>"
      ],
      "text/plain": [
       "Finished parsing file /mnt/c/Users/Karl-Jonathan/Desktop/mudelid/negatives/motionData 2021-04-08 07-08-52.txt"
      ]
     },
     "metadata": {},
     "output_type": "display_data"
    },
    {
     "data": {
      "text/html": [
       "<pre>Parsing completed. Parsed 100 lines in 0.035308 secs.</pre>"
      ],
      "text/plain": [
       "Parsing completed. Parsed 100 lines in 0.035308 secs."
      ]
     },
     "metadata": {},
     "output_type": "display_data"
    },
    {
     "name": "stdout",
     "output_type": "stream",
     "text": [
      "------------------------------------------------------\n",
      "Inferred types from first 100 line(s) of file as \n",
      "column_type_hints=[float,float,float,float,float,float,int]\n",
      "If parsing fails due to incorrect types, you can correct\n",
      "the inferred type list above and pass it to read_csv in\n",
      "the column_type_hints argument\n",
      "------------------------------------------------------\n"
     ]
    },
    {
     "data": {
      "text/html": [
       "<pre>Finished parsing file /mnt/c/Users/Karl-Jonathan/Desktop/mudelid/negatives/motionData 2021-04-08 07-08-52.txt</pre>"
      ],
      "text/plain": [
       "Finished parsing file /mnt/c/Users/Karl-Jonathan/Desktop/mudelid/negatives/motionData 2021-04-08 07-08-52.txt"
      ]
     },
     "metadata": {},
     "output_type": "display_data"
    },
    {
     "data": {
      "text/html": [
       "<pre>Parsing completed. Parsed 656 lines in 0.035698 secs.</pre>"
      ],
      "text/plain": [
       "Parsing completed. Parsed 656 lines in 0.035698 secs."
      ]
     },
     "metadata": {},
     "output_type": "display_data"
    },
    {
     "data": {
      "text/html": [
       "<pre>Finished parsing file /mnt/c/Users/Karl-Jonathan/Desktop/mudelid/negatives/motionData 2021-04-08 07-09-01.txt</pre>"
      ],
      "text/plain": [
       "Finished parsing file /mnt/c/Users/Karl-Jonathan/Desktop/mudelid/negatives/motionData 2021-04-08 07-09-01.txt"
      ]
     },
     "metadata": {},
     "output_type": "display_data"
    },
    {
     "data": {
      "text/html": [
       "<pre>Parsing completed. Parsed 100 lines in 0.035487 secs.</pre>"
      ],
      "text/plain": [
       "Parsing completed. Parsed 100 lines in 0.035487 secs."
      ]
     },
     "metadata": {},
     "output_type": "display_data"
    },
    {
     "name": "stdout",
     "output_type": "stream",
     "text": [
      "------------------------------------------------------\n",
      "Inferred types from first 100 line(s) of file as \n",
      "column_type_hints=[float,float,float,float,float,float,int]\n",
      "If parsing fails due to incorrect types, you can correct\n",
      "the inferred type list above and pass it to read_csv in\n",
      "the column_type_hints argument\n",
      "------------------------------------------------------\n"
     ]
    },
    {
     "data": {
      "text/html": [
       "<pre>Finished parsing file /mnt/c/Users/Karl-Jonathan/Desktop/mudelid/negatives/motionData 2021-04-08 07-09-01.txt</pre>"
      ],
      "text/plain": [
       "Finished parsing file /mnt/c/Users/Karl-Jonathan/Desktop/mudelid/negatives/motionData 2021-04-08 07-09-01.txt"
      ]
     },
     "metadata": {},
     "output_type": "display_data"
    },
    {
     "data": {
      "text/html": [
       "<pre>Parsing completed. Parsed 756 lines in 0.035763 secs.</pre>"
      ],
      "text/plain": [
       "Parsing completed. Parsed 756 lines in 0.035763 secs."
      ]
     },
     "metadata": {},
     "output_type": "display_data"
    },
    {
     "data": {
      "text/html": [
       "<pre>Finished parsing file /mnt/c/Users/Karl-Jonathan/Desktop/mudelid/negatives/motionData 2021-04-08 07-09-14.txt</pre>"
      ],
      "text/plain": [
       "Finished parsing file /mnt/c/Users/Karl-Jonathan/Desktop/mudelid/negatives/motionData 2021-04-08 07-09-14.txt"
      ]
     },
     "metadata": {},
     "output_type": "display_data"
    },
    {
     "data": {
      "text/html": [
       "<pre>Parsing completed. Parsed 100 lines in 0.035603 secs.</pre>"
      ],
      "text/plain": [
       "Parsing completed. Parsed 100 lines in 0.035603 secs."
      ]
     },
     "metadata": {},
     "output_type": "display_data"
    },
    {
     "name": "stdout",
     "output_type": "stream",
     "text": [
      "------------------------------------------------------\n",
      "Inferred types from first 100 line(s) of file as \n",
      "column_type_hints=[float,float,float,float,float,float,int]\n",
      "If parsing fails due to incorrect types, you can correct\n",
      "the inferred type list above and pass it to read_csv in\n",
      "the column_type_hints argument\n",
      "------------------------------------------------------\n"
     ]
    },
    {
     "data": {
      "text/html": [
       "<pre>Finished parsing file /mnt/c/Users/Karl-Jonathan/Desktop/mudelid/negatives/motionData 2021-04-08 07-09-14.txt</pre>"
      ],
      "text/plain": [
       "Finished parsing file /mnt/c/Users/Karl-Jonathan/Desktop/mudelid/negatives/motionData 2021-04-08 07-09-14.txt"
      ]
     },
     "metadata": {},
     "output_type": "display_data"
    },
    {
     "data": {
      "text/html": [
       "<pre>Parsing completed. Parsed 758 lines in 0.031643 secs.</pre>"
      ],
      "text/plain": [
       "Parsing completed. Parsed 758 lines in 0.031643 secs."
      ]
     },
     "metadata": {},
     "output_type": "display_data"
    },
    {
     "data": {
      "text/html": [
       "<pre>Finished parsing file /mnt/c/Users/Karl-Jonathan/Desktop/mudelid/negatives/motionData 2021-04-08 07-09-25.txt</pre>"
      ],
      "text/plain": [
       "Finished parsing file /mnt/c/Users/Karl-Jonathan/Desktop/mudelid/negatives/motionData 2021-04-08 07-09-25.txt"
      ]
     },
     "metadata": {},
     "output_type": "display_data"
    },
    {
     "data": {
      "text/html": [
       "<pre>Parsing completed. Parsed 100 lines in 0.031149 secs.</pre>"
      ],
      "text/plain": [
       "Parsing completed. Parsed 100 lines in 0.031149 secs."
      ]
     },
     "metadata": {},
     "output_type": "display_data"
    },
    {
     "name": "stdout",
     "output_type": "stream",
     "text": [
      "------------------------------------------------------\n",
      "Inferred types from first 100 line(s) of file as \n",
      "column_type_hints=[float,float,float,float,float,float,int]\n",
      "If parsing fails due to incorrect types, you can correct\n",
      "the inferred type list above and pass it to read_csv in\n",
      "the column_type_hints argument\n",
      "------------------------------------------------------\n"
     ]
    },
    {
     "data": {
      "text/html": [
       "<pre>Finished parsing file /mnt/c/Users/Karl-Jonathan/Desktop/mudelid/negatives/motionData 2021-04-08 07-09-25.txt</pre>"
      ],
      "text/plain": [
       "Finished parsing file /mnt/c/Users/Karl-Jonathan/Desktop/mudelid/negatives/motionData 2021-04-08 07-09-25.txt"
      ]
     },
     "metadata": {},
     "output_type": "display_data"
    },
    {
     "data": {
      "text/html": [
       "<pre>Parsing completed. Parsed 848 lines in 0.030786 secs.</pre>"
      ],
      "text/plain": [
       "Parsing completed. Parsed 848 lines in 0.030786 secs."
      ]
     },
     "metadata": {},
     "output_type": "display_data"
    },
    {
     "data": {
      "text/html": [
       "<pre>Finished parsing file /mnt/c/Users/Karl-Jonathan/Desktop/mudelid/negatives/motionData 2021-04-08 07-09-35.txt</pre>"
      ],
      "text/plain": [
       "Finished parsing file /mnt/c/Users/Karl-Jonathan/Desktop/mudelid/negatives/motionData 2021-04-08 07-09-35.txt"
      ]
     },
     "metadata": {},
     "output_type": "display_data"
    },
    {
     "data": {
      "text/html": [
       "<pre>Parsing completed. Parsed 100 lines in 0.032345 secs.</pre>"
      ],
      "text/plain": [
       "Parsing completed. Parsed 100 lines in 0.032345 secs."
      ]
     },
     "metadata": {},
     "output_type": "display_data"
    },
    {
     "name": "stdout",
     "output_type": "stream",
     "text": [
      "------------------------------------------------------\n",
      "Inferred types from first 100 line(s) of file as \n",
      "column_type_hints=[float,float,float,float,float,float,int]\n",
      "If parsing fails due to incorrect types, you can correct\n",
      "the inferred type list above and pass it to read_csv in\n",
      "the column_type_hints argument\n",
      "------------------------------------------------------\n"
     ]
    },
    {
     "data": {
      "text/html": [
       "<pre>Finished parsing file /mnt/c/Users/Karl-Jonathan/Desktop/mudelid/negatives/motionData 2021-04-08 07-09-35.txt</pre>"
      ],
      "text/plain": [
       "Finished parsing file /mnt/c/Users/Karl-Jonathan/Desktop/mudelid/negatives/motionData 2021-04-08 07-09-35.txt"
      ]
     },
     "metadata": {},
     "output_type": "display_data"
    },
    {
     "data": {
      "text/html": [
       "<pre>Parsing completed. Parsed 807 lines in 0.034661 secs.</pre>"
      ],
      "text/plain": [
       "Parsing completed. Parsed 807 lines in 0.034661 secs."
      ]
     },
     "metadata": {},
     "output_type": "display_data"
    },
    {
     "data": {
      "text/html": [
       "<pre>Finished parsing file /mnt/c/Users/Karl-Jonathan/Desktop/mudelid/negatives/motionData 2021-04-08 07-09-46.txt</pre>"
      ],
      "text/plain": [
       "Finished parsing file /mnt/c/Users/Karl-Jonathan/Desktop/mudelid/negatives/motionData 2021-04-08 07-09-46.txt"
      ]
     },
     "metadata": {},
     "output_type": "display_data"
    },
    {
     "data": {
      "text/html": [
       "<pre>Parsing completed. Parsed 100 lines in 0.035192 secs.</pre>"
      ],
      "text/plain": [
       "Parsing completed. Parsed 100 lines in 0.035192 secs."
      ]
     },
     "metadata": {},
     "output_type": "display_data"
    },
    {
     "name": "stdout",
     "output_type": "stream",
     "text": [
      "------------------------------------------------------\n",
      "Inferred types from first 100 line(s) of file as \n",
      "column_type_hints=[float,float,float,float,float,float,int]\n",
      "If parsing fails due to incorrect types, you can correct\n",
      "the inferred type list above and pass it to read_csv in\n",
      "the column_type_hints argument\n",
      "------------------------------------------------------\n"
     ]
    },
    {
     "data": {
      "text/html": [
       "<pre>Finished parsing file /mnt/c/Users/Karl-Jonathan/Desktop/mudelid/negatives/motionData 2021-04-08 07-09-46.txt</pre>"
      ],
      "text/plain": [
       "Finished parsing file /mnt/c/Users/Karl-Jonathan/Desktop/mudelid/negatives/motionData 2021-04-08 07-09-46.txt"
      ]
     },
     "metadata": {},
     "output_type": "display_data"
    },
    {
     "data": {
      "text/html": [
       "<pre>Parsing completed. Parsed 825 lines in 0.035795 secs.</pre>"
      ],
      "text/plain": [
       "Parsing completed. Parsed 825 lines in 0.035795 secs."
      ]
     },
     "metadata": {},
     "output_type": "display_data"
    },
    {
     "data": {
      "text/html": [
       "<pre>Finished parsing file /mnt/c/Users/Karl-Jonathan/Desktop/mudelid/negatives/motionData 2021-04-08 07-09-57.txt</pre>"
      ],
      "text/plain": [
       "Finished parsing file /mnt/c/Users/Karl-Jonathan/Desktop/mudelid/negatives/motionData 2021-04-08 07-09-57.txt"
      ]
     },
     "metadata": {},
     "output_type": "display_data"
    },
    {
     "data": {
      "text/html": [
       "<pre>Parsing completed. Parsed 100 lines in 0.035582 secs.</pre>"
      ],
      "text/plain": [
       "Parsing completed. Parsed 100 lines in 0.035582 secs."
      ]
     },
     "metadata": {},
     "output_type": "display_data"
    },
    {
     "name": "stdout",
     "output_type": "stream",
     "text": [
      "------------------------------------------------------\n",
      "Inferred types from first 100 line(s) of file as \n",
      "column_type_hints=[float,float,float,float,float,float,int]\n",
      "If parsing fails due to incorrect types, you can correct\n",
      "the inferred type list above and pass it to read_csv in\n",
      "the column_type_hints argument\n",
      "------------------------------------------------------\n"
     ]
    },
    {
     "data": {
      "text/html": [
       "<pre>Finished parsing file /mnt/c/Users/Karl-Jonathan/Desktop/mudelid/negatives/motionData 2021-04-08 07-09-57.txt</pre>"
      ],
      "text/plain": [
       "Finished parsing file /mnt/c/Users/Karl-Jonathan/Desktop/mudelid/negatives/motionData 2021-04-08 07-09-57.txt"
      ]
     },
     "metadata": {},
     "output_type": "display_data"
    },
    {
     "data": {
      "text/html": [
       "<pre>Parsing completed. Parsed 853 lines in 0.035586 secs.</pre>"
      ],
      "text/plain": [
       "Parsing completed. Parsed 853 lines in 0.035586 secs."
      ]
     },
     "metadata": {},
     "output_type": "display_data"
    },
    {
     "data": {
      "text/html": [
       "<pre>Finished parsing file /mnt/c/Users/Karl-Jonathan/Desktop/mudelid/negatives/motionData 2021-04-08 07-10-10.txt</pre>"
      ],
      "text/plain": [
       "Finished parsing file /mnt/c/Users/Karl-Jonathan/Desktop/mudelid/negatives/motionData 2021-04-08 07-10-10.txt"
      ]
     },
     "metadata": {},
     "output_type": "display_data"
    },
    {
     "data": {
      "text/html": [
       "<pre>Parsing completed. Parsed 100 lines in 0.035661 secs.</pre>"
      ],
      "text/plain": [
       "Parsing completed. Parsed 100 lines in 0.035661 secs."
      ]
     },
     "metadata": {},
     "output_type": "display_data"
    },
    {
     "name": "stdout",
     "output_type": "stream",
     "text": [
      "------------------------------------------------------\n",
      "Inferred types from first 100 line(s) of file as \n",
      "column_type_hints=[float,float,float,float,float,float,int]\n",
      "If parsing fails due to incorrect types, you can correct\n",
      "the inferred type list above and pass it to read_csv in\n",
      "the column_type_hints argument\n",
      "------------------------------------------------------\n"
     ]
    },
    {
     "data": {
      "text/html": [
       "<pre>Finished parsing file /mnt/c/Users/Karl-Jonathan/Desktop/mudelid/negatives/motionData 2021-04-08 07-10-10.txt</pre>"
      ],
      "text/plain": [
       "Finished parsing file /mnt/c/Users/Karl-Jonathan/Desktop/mudelid/negatives/motionData 2021-04-08 07-10-10.txt"
      ]
     },
     "metadata": {},
     "output_type": "display_data"
    },
    {
     "data": {
      "text/html": [
       "<pre>Parsing completed. Parsed 969 lines in 0.036008 secs.</pre>"
      ],
      "text/plain": [
       "Parsing completed. Parsed 969 lines in 0.036008 secs."
      ]
     },
     "metadata": {},
     "output_type": "display_data"
    },
    {
     "data": {
      "text/html": [
       "<pre>Finished parsing file /mnt/c/Users/Karl-Jonathan/Desktop/mudelid/negatives/motionData 2021-04-08 07-10-29.txt</pre>"
      ],
      "text/plain": [
       "Finished parsing file /mnt/c/Users/Karl-Jonathan/Desktop/mudelid/negatives/motionData 2021-04-08 07-10-29.txt"
      ]
     },
     "metadata": {},
     "output_type": "display_data"
    },
    {
     "data": {
      "text/html": [
       "<pre>Parsing completed. Parsed 100 lines in 0.035531 secs.</pre>"
      ],
      "text/plain": [
       "Parsing completed. Parsed 100 lines in 0.035531 secs."
      ]
     },
     "metadata": {},
     "output_type": "display_data"
    },
    {
     "name": "stdout",
     "output_type": "stream",
     "text": [
      "------------------------------------------------------\n",
      "Inferred types from first 100 line(s) of file as \n",
      "column_type_hints=[float,float,float,float,float,float,int]\n",
      "If parsing fails due to incorrect types, you can correct\n",
      "the inferred type list above and pass it to read_csv in\n",
      "the column_type_hints argument\n",
      "------------------------------------------------------\n"
     ]
    },
    {
     "data": {
      "text/html": [
       "<pre>Finished parsing file /mnt/c/Users/Karl-Jonathan/Desktop/mudelid/negatives/motionData 2021-04-08 07-10-29.txt</pre>"
      ],
      "text/plain": [
       "Finished parsing file /mnt/c/Users/Karl-Jonathan/Desktop/mudelid/negatives/motionData 2021-04-08 07-10-29.txt"
      ]
     },
     "metadata": {},
     "output_type": "display_data"
    },
    {
     "data": {
      "text/html": [
       "<pre>Parsing completed. Parsed 1141 lines in 0.035523 secs.</pre>"
      ],
      "text/plain": [
       "Parsing completed. Parsed 1141 lines in 0.035523 secs."
      ]
     },
     "metadata": {},
     "output_type": "display_data"
    },
    {
     "data": {
      "text/html": [
       "<pre>Finished parsing file /mnt/c/Users/Karl-Jonathan/Desktop/mudelid/negatives/motionData 2021-04-08 07-10-58.txt</pre>"
      ],
      "text/plain": [
       "Finished parsing file /mnt/c/Users/Karl-Jonathan/Desktop/mudelid/negatives/motionData 2021-04-08 07-10-58.txt"
      ]
     },
     "metadata": {},
     "output_type": "display_data"
    },
    {
     "data": {
      "text/html": [
       "<pre>Parsing completed. Parsed 100 lines in 0.035466 secs.</pre>"
      ],
      "text/plain": [
       "Parsing completed. Parsed 100 lines in 0.035466 secs."
      ]
     },
     "metadata": {},
     "output_type": "display_data"
    },
    {
     "name": "stdout",
     "output_type": "stream",
     "text": [
      "------------------------------------------------------\n",
      "Inferred types from first 100 line(s) of file as \n",
      "column_type_hints=[float,float,float,float,float,float,int]\n",
      "If parsing fails due to incorrect types, you can correct\n",
      "the inferred type list above and pass it to read_csv in\n",
      "the column_type_hints argument\n",
      "------------------------------------------------------\n"
     ]
    },
    {
     "data": {
      "text/html": [
       "<pre>Finished parsing file /mnt/c/Users/Karl-Jonathan/Desktop/mudelid/negatives/motionData 2021-04-08 07-10-58.txt</pre>"
      ],
      "text/plain": [
       "Finished parsing file /mnt/c/Users/Karl-Jonathan/Desktop/mudelid/negatives/motionData 2021-04-08 07-10-58.txt"
      ]
     },
     "metadata": {},
     "output_type": "display_data"
    },
    {
     "data": {
      "text/html": [
       "<pre>Parsing completed. Parsed 951 lines in 0.035668 secs.</pre>"
      ],
      "text/plain": [
       "Parsing completed. Parsed 951 lines in 0.035668 secs."
      ]
     },
     "metadata": {},
     "output_type": "display_data"
    },
    {
     "data": {
      "text/html": [
       "<pre>Finished parsing file /mnt/c/Users/Karl-Jonathan/Desktop/mudelid/negatives/motionData 2021-04-08 07-11-12.txt</pre>"
      ],
      "text/plain": [
       "Finished parsing file /mnt/c/Users/Karl-Jonathan/Desktop/mudelid/negatives/motionData 2021-04-08 07-11-12.txt"
      ]
     },
     "metadata": {},
     "output_type": "display_data"
    },
    {
     "data": {
      "text/html": [
       "<pre>Parsing completed. Parsed 100 lines in 0.035357 secs.</pre>"
      ],
      "text/plain": [
       "Parsing completed. Parsed 100 lines in 0.035357 secs."
      ]
     },
     "metadata": {},
     "output_type": "display_data"
    },
    {
     "name": "stdout",
     "output_type": "stream",
     "text": [
      "------------------------------------------------------\n",
      "Inferred types from first 100 line(s) of file as \n",
      "column_type_hints=[float,float,float,float,float,float,int]\n",
      "If parsing fails due to incorrect types, you can correct\n",
      "the inferred type list above and pass it to read_csv in\n",
      "the column_type_hints argument\n",
      "------------------------------------------------------\n"
     ]
    },
    {
     "data": {
      "text/html": [
       "<pre>Finished parsing file /mnt/c/Users/Karl-Jonathan/Desktop/mudelid/negatives/motionData 2021-04-08 07-11-12.txt</pre>"
      ],
      "text/plain": [
       "Finished parsing file /mnt/c/Users/Karl-Jonathan/Desktop/mudelid/negatives/motionData 2021-04-08 07-11-12.txt"
      ]
     },
     "metadata": {},
     "output_type": "display_data"
    },
    {
     "data": {
      "text/html": [
       "<pre>Parsing completed. Parsed 1241 lines in 0.035971 secs.</pre>"
      ],
      "text/plain": [
       "Parsing completed. Parsed 1241 lines in 0.035971 secs."
      ]
     },
     "metadata": {},
     "output_type": "display_data"
    },
    {
     "data": {
      "text/html": [
       "<pre>Finished parsing file /mnt/c/Users/Karl-Jonathan/Desktop/mudelid/negatives/motionData 2021-04-08 07-11-50.txt</pre>"
      ],
      "text/plain": [
       "Finished parsing file /mnt/c/Users/Karl-Jonathan/Desktop/mudelid/negatives/motionData 2021-04-08 07-11-50.txt"
      ]
     },
     "metadata": {},
     "output_type": "display_data"
    },
    {
     "data": {
      "text/html": [
       "<pre>Parsing completed. Parsed 100 lines in 0.035654 secs.</pre>"
      ],
      "text/plain": [
       "Parsing completed. Parsed 100 lines in 0.035654 secs."
      ]
     },
     "metadata": {},
     "output_type": "display_data"
    },
    {
     "name": "stdout",
     "output_type": "stream",
     "text": [
      "------------------------------------------------------\n",
      "Inferred types from first 100 line(s) of file as \n",
      "column_type_hints=[float,float,float,float,float,float,int]\n",
      "If parsing fails due to incorrect types, you can correct\n",
      "the inferred type list above and pass it to read_csv in\n",
      "the column_type_hints argument\n",
      "------------------------------------------------------\n"
     ]
    },
    {
     "data": {
      "text/html": [
       "<pre>Finished parsing file /mnt/c/Users/Karl-Jonathan/Desktop/mudelid/negatives/motionData 2021-04-08 07-11-50.txt</pre>"
      ],
      "text/plain": [
       "Finished parsing file /mnt/c/Users/Karl-Jonathan/Desktop/mudelid/negatives/motionData 2021-04-08 07-11-50.txt"
      ]
     },
     "metadata": {},
     "output_type": "display_data"
    },
    {
     "data": {
      "text/html": [
       "<pre>Parsing completed. Parsed 1080 lines in 0.035759 secs.</pre>"
      ],
      "text/plain": [
       "Parsing completed. Parsed 1080 lines in 0.035759 secs."
      ]
     },
     "metadata": {},
     "output_type": "display_data"
    },
    {
     "data": {
      "text/html": [
       "<pre>Finished parsing file /mnt/c/Users/Karl-Jonathan/Desktop/mudelid/negatives/motionData 2021-04-08 07-12-01.txt</pre>"
      ],
      "text/plain": [
       "Finished parsing file /mnt/c/Users/Karl-Jonathan/Desktop/mudelid/negatives/motionData 2021-04-08 07-12-01.txt"
      ]
     },
     "metadata": {},
     "output_type": "display_data"
    },
    {
     "data": {
      "text/html": [
       "<pre>Parsing completed. Parsed 100 lines in 0.035444 secs.</pre>"
      ],
      "text/plain": [
       "Parsing completed. Parsed 100 lines in 0.035444 secs."
      ]
     },
     "metadata": {},
     "output_type": "display_data"
    },
    {
     "name": "stdout",
     "output_type": "stream",
     "text": [
      "------------------------------------------------------\n",
      "Inferred types from first 100 line(s) of file as \n",
      "column_type_hints=[float,float,float,float,float,float,int]\n",
      "If parsing fails due to incorrect types, you can correct\n",
      "the inferred type list above and pass it to read_csv in\n",
      "the column_type_hints argument\n",
      "------------------------------------------------------\n"
     ]
    },
    {
     "data": {
      "text/html": [
       "<pre>Finished parsing file /mnt/c/Users/Karl-Jonathan/Desktop/mudelid/negatives/motionData 2021-04-08 07-12-01.txt</pre>"
      ],
      "text/plain": [
       "Finished parsing file /mnt/c/Users/Karl-Jonathan/Desktop/mudelid/negatives/motionData 2021-04-08 07-12-01.txt"
      ]
     },
     "metadata": {},
     "output_type": "display_data"
    },
    {
     "data": {
      "text/html": [
       "<pre>Parsing completed. Parsed 990 lines in 0.035852 secs.</pre>"
      ],
      "text/plain": [
       "Parsing completed. Parsed 990 lines in 0.035852 secs."
      ]
     },
     "metadata": {},
     "output_type": "display_data"
    },
    {
     "data": {
      "text/html": [
       "<pre>Finished parsing file /mnt/c/Users/Karl-Jonathan/Desktop/mudelid/negatives/motionData 2021-04-08 07-12-12.txt</pre>"
      ],
      "text/plain": [
       "Finished parsing file /mnt/c/Users/Karl-Jonathan/Desktop/mudelid/negatives/motionData 2021-04-08 07-12-12.txt"
      ]
     },
     "metadata": {},
     "output_type": "display_data"
    },
    {
     "data": {
      "text/html": [
       "<pre>Parsing completed. Parsed 100 lines in 0.035906 secs.</pre>"
      ],
      "text/plain": [
       "Parsing completed. Parsed 100 lines in 0.035906 secs."
      ]
     },
     "metadata": {},
     "output_type": "display_data"
    },
    {
     "name": "stdout",
     "output_type": "stream",
     "text": [
      "------------------------------------------------------\n",
      "Inferred types from first 100 line(s) of file as \n",
      "column_type_hints=[float,float,float,float,float,float,int]\n",
      "If parsing fails due to incorrect types, you can correct\n",
      "the inferred type list above and pass it to read_csv in\n",
      "the column_type_hints argument\n",
      "------------------------------------------------------\n"
     ]
    },
    {
     "data": {
      "text/html": [
       "<pre>Finished parsing file /mnt/c/Users/Karl-Jonathan/Desktop/mudelid/negatives/motionData 2021-04-08 07-12-12.txt</pre>"
      ],
      "text/plain": [
       "Finished parsing file /mnt/c/Users/Karl-Jonathan/Desktop/mudelid/negatives/motionData 2021-04-08 07-12-12.txt"
      ]
     },
     "metadata": {},
     "output_type": "display_data"
    },
    {
     "data": {
      "text/html": [
       "<pre>Parsing completed. Parsed 952 lines in 0.033442 secs.</pre>"
      ],
      "text/plain": [
       "Parsing completed. Parsed 952 lines in 0.033442 secs."
      ]
     },
     "metadata": {},
     "output_type": "display_data"
    },
    {
     "data": {
      "text/html": [
       "<pre>Finished parsing file /mnt/c/Users/Karl-Jonathan/Desktop/mudelid/negatives/motionData 2021-04-08 07-12-21.txt</pre>"
      ],
      "text/plain": [
       "Finished parsing file /mnt/c/Users/Karl-Jonathan/Desktop/mudelid/negatives/motionData 2021-04-08 07-12-21.txt"
      ]
     },
     "metadata": {},
     "output_type": "display_data"
    },
    {
     "data": {
      "text/html": [
       "<pre>Parsing completed. Parsed 100 lines in 0.031059 secs.</pre>"
      ],
      "text/plain": [
       "Parsing completed. Parsed 100 lines in 0.031059 secs."
      ]
     },
     "metadata": {},
     "output_type": "display_data"
    },
    {
     "name": "stdout",
     "output_type": "stream",
     "text": [
      "------------------------------------------------------\n",
      "Inferred types from first 100 line(s) of file as \n",
      "column_type_hints=[float,float,float,float,float,float,int]\n",
      "If parsing fails due to incorrect types, you can correct\n",
      "the inferred type list above and pass it to read_csv in\n",
      "the column_type_hints argument\n",
      "------------------------------------------------------\n"
     ]
    },
    {
     "data": {
      "text/html": [
       "<pre>Finished parsing file /mnt/c/Users/Karl-Jonathan/Desktop/mudelid/negatives/motionData 2021-04-08 07-12-21.txt</pre>"
      ],
      "text/plain": [
       "Finished parsing file /mnt/c/Users/Karl-Jonathan/Desktop/mudelid/negatives/motionData 2021-04-08 07-12-21.txt"
      ]
     },
     "metadata": {},
     "output_type": "display_data"
    },
    {
     "data": {
      "text/html": [
       "<pre>Parsing completed. Parsed 711 lines in 0.03102 secs.</pre>"
      ],
      "text/plain": [
       "Parsing completed. Parsed 711 lines in 0.03102 secs."
      ]
     },
     "metadata": {},
     "output_type": "display_data"
    },
    {
     "data": {
      "text/html": [
       "<pre>Finished parsing file /mnt/c/Users/Karl-Jonathan/Desktop/mudelid/negatives/motionData 2021-04-08 07-12-29.txt</pre>"
      ],
      "text/plain": [
       "Finished parsing file /mnt/c/Users/Karl-Jonathan/Desktop/mudelid/negatives/motionData 2021-04-08 07-12-29.txt"
      ]
     },
     "metadata": {},
     "output_type": "display_data"
    },
    {
     "data": {
      "text/html": [
       "<pre>Parsing completed. Parsed 100 lines in 0.031614 secs.</pre>"
      ],
      "text/plain": [
       "Parsing completed. Parsed 100 lines in 0.031614 secs."
      ]
     },
     "metadata": {},
     "output_type": "display_data"
    },
    {
     "name": "stdout",
     "output_type": "stream",
     "text": [
      "------------------------------------------------------\n",
      "Inferred types from first 100 line(s) of file as \n",
      "column_type_hints=[float,float,float,float,float,float,int]\n",
      "If parsing fails due to incorrect types, you can correct\n",
      "the inferred type list above and pass it to read_csv in\n",
      "the column_type_hints argument\n",
      "------------------------------------------------------\n"
     ]
    },
    {
     "data": {
      "text/html": [
       "<pre>Finished parsing file /mnt/c/Users/Karl-Jonathan/Desktop/mudelid/negatives/motionData 2021-04-08 07-12-29.txt</pre>"
      ],
      "text/plain": [
       "Finished parsing file /mnt/c/Users/Karl-Jonathan/Desktop/mudelid/negatives/motionData 2021-04-08 07-12-29.txt"
      ]
     },
     "metadata": {},
     "output_type": "display_data"
    },
    {
     "data": {
      "text/html": [
       "<pre>Parsing completed. Parsed 619 lines in 0.034712 secs.</pre>"
      ],
      "text/plain": [
       "Parsing completed. Parsed 619 lines in 0.034712 secs."
      ]
     },
     "metadata": {},
     "output_type": "display_data"
    },
    {
     "data": {
      "text/html": [
       "<pre>Finished parsing file /mnt/c/Users/Karl-Jonathan/Desktop/mudelid/negatives/motionData 2021-04-08 07-12-40.txt</pre>"
      ],
      "text/plain": [
       "Finished parsing file /mnt/c/Users/Karl-Jonathan/Desktop/mudelid/negatives/motionData 2021-04-08 07-12-40.txt"
      ]
     },
     "metadata": {},
     "output_type": "display_data"
    },
    {
     "data": {
      "text/html": [
       "<pre>Parsing completed. Parsed 100 lines in 0.035069 secs.</pre>"
      ],
      "text/plain": [
       "Parsing completed. Parsed 100 lines in 0.035069 secs."
      ]
     },
     "metadata": {},
     "output_type": "display_data"
    },
    {
     "name": "stdout",
     "output_type": "stream",
     "text": [
      "------------------------------------------------------\n",
      "Inferred types from first 100 line(s) of file as \n",
      "column_type_hints=[float,float,float,float,float,float,int]\n",
      "If parsing fails due to incorrect types, you can correct\n",
      "the inferred type list above and pass it to read_csv in\n",
      "the column_type_hints argument\n",
      "------------------------------------------------------\n"
     ]
    },
    {
     "data": {
      "text/html": [
       "<pre>Finished parsing file /mnt/c/Users/Karl-Jonathan/Desktop/mudelid/negatives/motionData 2021-04-08 07-12-40.txt</pre>"
      ],
      "text/plain": [
       "Finished parsing file /mnt/c/Users/Karl-Jonathan/Desktop/mudelid/negatives/motionData 2021-04-08 07-12-40.txt"
      ]
     },
     "metadata": {},
     "output_type": "display_data"
    },
    {
     "data": {
      "text/html": [
       "<pre>Parsing completed. Parsed 804 lines in 0.035924 secs.</pre>"
      ],
      "text/plain": [
       "Parsing completed. Parsed 804 lines in 0.035924 secs."
      ]
     },
     "metadata": {},
     "output_type": "display_data"
    },
    {
     "data": {
      "text/html": [
       "<pre>Finished parsing file /mnt/c/Users/Karl-Jonathan/Desktop/mudelid/negatives/motionData 2021-04-08 07-12-53.txt</pre>"
      ],
      "text/plain": [
       "Finished parsing file /mnt/c/Users/Karl-Jonathan/Desktop/mudelid/negatives/motionData 2021-04-08 07-12-53.txt"
      ]
     },
     "metadata": {},
     "output_type": "display_data"
    },
    {
     "data": {
      "text/html": [
       "<pre>Parsing completed. Parsed 100 lines in 0.035906 secs.</pre>"
      ],
      "text/plain": [
       "Parsing completed. Parsed 100 lines in 0.035906 secs."
      ]
     },
     "metadata": {},
     "output_type": "display_data"
    },
    {
     "name": "stdout",
     "output_type": "stream",
     "text": [
      "------------------------------------------------------\n",
      "Inferred types from first 100 line(s) of file as \n",
      "column_type_hints=[float,float,float,float,float,float,int]\n",
      "If parsing fails due to incorrect types, you can correct\n",
      "the inferred type list above and pass it to read_csv in\n",
      "the column_type_hints argument\n",
      "------------------------------------------------------\n"
     ]
    },
    {
     "data": {
      "text/html": [
       "<pre>Finished parsing file /mnt/c/Users/Karl-Jonathan/Desktop/mudelid/negatives/motionData 2021-04-08 07-12-53.txt</pre>"
      ],
      "text/plain": [
       "Finished parsing file /mnt/c/Users/Karl-Jonathan/Desktop/mudelid/negatives/motionData 2021-04-08 07-12-53.txt"
      ]
     },
     "metadata": {},
     "output_type": "display_data"
    },
    {
     "data": {
      "text/html": [
       "<pre>Parsing completed. Parsed 1248 lines in 0.035728 secs.</pre>"
      ],
      "text/plain": [
       "Parsing completed. Parsed 1248 lines in 0.035728 secs."
      ]
     },
     "metadata": {},
     "output_type": "display_data"
    },
    {
     "data": {
      "text/html": [
       "<pre>Finished parsing file /mnt/c/Users/Karl-Jonathan/Desktop/mudelid/negatives/motionData 2021-04-08 07-13-04.txt</pre>"
      ],
      "text/plain": [
       "Finished parsing file /mnt/c/Users/Karl-Jonathan/Desktop/mudelid/negatives/motionData 2021-04-08 07-13-04.txt"
      ]
     },
     "metadata": {},
     "output_type": "display_data"
    },
    {
     "data": {
      "text/html": [
       "<pre>Parsing completed. Parsed 100 lines in 0.036031 secs.</pre>"
      ],
      "text/plain": [
       "Parsing completed. Parsed 100 lines in 0.036031 secs."
      ]
     },
     "metadata": {},
     "output_type": "display_data"
    },
    {
     "name": "stdout",
     "output_type": "stream",
     "text": [
      "------------------------------------------------------\n",
      "Inferred types from first 100 line(s) of file as \n",
      "column_type_hints=[float,float,float,float,float,float,int]\n",
      "If parsing fails due to incorrect types, you can correct\n",
      "the inferred type list above and pass it to read_csv in\n",
      "the column_type_hints argument\n",
      "------------------------------------------------------\n"
     ]
    },
    {
     "data": {
      "text/html": [
       "<pre>Finished parsing file /mnt/c/Users/Karl-Jonathan/Desktop/mudelid/negatives/motionData 2021-04-08 07-13-04.txt</pre>"
      ],
      "text/plain": [
       "Finished parsing file /mnt/c/Users/Karl-Jonathan/Desktop/mudelid/negatives/motionData 2021-04-08 07-13-04.txt"
      ]
     },
     "metadata": {},
     "output_type": "display_data"
    },
    {
     "data": {
      "text/html": [
       "<pre>Parsing completed. Parsed 906 lines in 0.035753 secs.</pre>"
      ],
      "text/plain": [
       "Parsing completed. Parsed 906 lines in 0.035753 secs."
      ]
     },
     "metadata": {},
     "output_type": "display_data"
    },
    {
     "data": {
      "text/html": [
       "<pre>Finished parsing file /mnt/c/Users/Karl-Jonathan/Desktop/mudelid/negatives/motionData 2021-04-08 07-13-39.txt</pre>"
      ],
      "text/plain": [
       "Finished parsing file /mnt/c/Users/Karl-Jonathan/Desktop/mudelid/negatives/motionData 2021-04-08 07-13-39.txt"
      ]
     },
     "metadata": {},
     "output_type": "display_data"
    },
    {
     "data": {
      "text/html": [
       "<pre>Parsing completed. Parsed 100 lines in 0.035559 secs.</pre>"
      ],
      "text/plain": [
       "Parsing completed. Parsed 100 lines in 0.035559 secs."
      ]
     },
     "metadata": {},
     "output_type": "display_data"
    },
    {
     "name": "stdout",
     "output_type": "stream",
     "text": [
      "------------------------------------------------------\n",
      "Inferred types from first 100 line(s) of file as \n",
      "column_type_hints=[float,float,float,float,float,float,int]\n",
      "If parsing fails due to incorrect types, you can correct\n",
      "the inferred type list above and pass it to read_csv in\n",
      "the column_type_hints argument\n",
      "------------------------------------------------------\n"
     ]
    },
    {
     "data": {
      "text/html": [
       "<pre>Finished parsing file /mnt/c/Users/Karl-Jonathan/Desktop/mudelid/negatives/motionData 2021-04-08 07-13-39.txt</pre>"
      ],
      "text/plain": [
       "Finished parsing file /mnt/c/Users/Karl-Jonathan/Desktop/mudelid/negatives/motionData 2021-04-08 07-13-39.txt"
      ]
     },
     "metadata": {},
     "output_type": "display_data"
    },
    {
     "data": {
      "text/html": [
       "<pre>Parsing completed. Parsed 1056 lines in 0.036227 secs.</pre>"
      ],
      "text/plain": [
       "Parsing completed. Parsed 1056 lines in 0.036227 secs."
      ]
     },
     "metadata": {},
     "output_type": "display_data"
    },
    {
     "data": {
      "text/html": [
       "<pre>Finished parsing file /mnt/c/Users/Karl-Jonathan/Desktop/mudelid/negatives/motionData 2021-04-08 07-13-53.txt</pre>"
      ],
      "text/plain": [
       "Finished parsing file /mnt/c/Users/Karl-Jonathan/Desktop/mudelid/negatives/motionData 2021-04-08 07-13-53.txt"
      ]
     },
     "metadata": {},
     "output_type": "display_data"
    },
    {
     "data": {
      "text/html": [
       "<pre>Parsing completed. Parsed 100 lines in 0.035452 secs.</pre>"
      ],
      "text/plain": [
       "Parsing completed. Parsed 100 lines in 0.035452 secs."
      ]
     },
     "metadata": {},
     "output_type": "display_data"
    },
    {
     "name": "stdout",
     "output_type": "stream",
     "text": [
      "------------------------------------------------------\n",
      "Inferred types from first 100 line(s) of file as \n",
      "column_type_hints=[float,float,float,float,float,float,int]\n",
      "If parsing fails due to incorrect types, you can correct\n",
      "the inferred type list above and pass it to read_csv in\n",
      "the column_type_hints argument\n",
      "------------------------------------------------------\n"
     ]
    },
    {
     "data": {
      "text/html": [
       "<pre>Finished parsing file /mnt/c/Users/Karl-Jonathan/Desktop/mudelid/negatives/motionData 2021-04-08 07-13-53.txt</pre>"
      ],
      "text/plain": [
       "Finished parsing file /mnt/c/Users/Karl-Jonathan/Desktop/mudelid/negatives/motionData 2021-04-08 07-13-53.txt"
      ]
     },
     "metadata": {},
     "output_type": "display_data"
    },
    {
     "data": {
      "text/html": [
       "<pre>Parsing completed. Parsed 1032 lines in 0.035345 secs.</pre>"
      ],
      "text/plain": [
       "Parsing completed. Parsed 1032 lines in 0.035345 secs."
      ]
     },
     "metadata": {},
     "output_type": "display_data"
    },
    {
     "data": {
      "text/html": [
       "<pre>Finished parsing file /mnt/c/Users/Karl-Jonathan/Desktop/mudelid/negatives/motionData 2021-04-08 07-14-07.txt</pre>"
      ],
      "text/plain": [
       "Finished parsing file /mnt/c/Users/Karl-Jonathan/Desktop/mudelid/negatives/motionData 2021-04-08 07-14-07.txt"
      ]
     },
     "metadata": {},
     "output_type": "display_data"
    },
    {
     "data": {
      "text/html": [
       "<pre>Parsing completed. Parsed 100 lines in 0.035726 secs.</pre>"
      ],
      "text/plain": [
       "Parsing completed. Parsed 100 lines in 0.035726 secs."
      ]
     },
     "metadata": {},
     "output_type": "display_data"
    },
    {
     "name": "stdout",
     "output_type": "stream",
     "text": [
      "------------------------------------------------------\n",
      "Inferred types from first 100 line(s) of file as \n",
      "column_type_hints=[float,float,float,float,float,float,int]\n",
      "If parsing fails due to incorrect types, you can correct\n",
      "the inferred type list above and pass it to read_csv in\n",
      "the column_type_hints argument\n",
      "------------------------------------------------------\n"
     ]
    },
    {
     "data": {
      "text/html": [
       "<pre>Finished parsing file /mnt/c/Users/Karl-Jonathan/Desktop/mudelid/negatives/motionData 2021-04-08 07-14-07.txt</pre>"
      ],
      "text/plain": [
       "Finished parsing file /mnt/c/Users/Karl-Jonathan/Desktop/mudelid/negatives/motionData 2021-04-08 07-14-07.txt"
      ]
     },
     "metadata": {},
     "output_type": "display_data"
    },
    {
     "data": {
      "text/html": [
       "<pre>Parsing completed. Parsed 937 lines in 0.035685 secs.</pre>"
      ],
      "text/plain": [
       "Parsing completed. Parsed 937 lines in 0.035685 secs."
      ]
     },
     "metadata": {},
     "output_type": "display_data"
    },
    {
     "data": {
      "text/html": [
       "<pre>Finished parsing file /mnt/c/Users/Karl-Jonathan/Desktop/mudelid/negatives/motionData 2021-04-08 07-14-19.txt</pre>"
      ],
      "text/plain": [
       "Finished parsing file /mnt/c/Users/Karl-Jonathan/Desktop/mudelid/negatives/motionData 2021-04-08 07-14-19.txt"
      ]
     },
     "metadata": {},
     "output_type": "display_data"
    },
    {
     "data": {
      "text/html": [
       "<pre>Parsing completed. Parsed 100 lines in 0.035883 secs.</pre>"
      ],
      "text/plain": [
       "Parsing completed. Parsed 100 lines in 0.035883 secs."
      ]
     },
     "metadata": {},
     "output_type": "display_data"
    },
    {
     "name": "stdout",
     "output_type": "stream",
     "text": [
      "------------------------------------------------------\n",
      "Inferred types from first 100 line(s) of file as \n",
      "column_type_hints=[float,float,float,float,float,float,int]\n",
      "If parsing fails due to incorrect types, you can correct\n",
      "the inferred type list above and pass it to read_csv in\n",
      "the column_type_hints argument\n",
      "------------------------------------------------------\n"
     ]
    },
    {
     "data": {
      "text/html": [
       "<pre>Finished parsing file /mnt/c/Users/Karl-Jonathan/Desktop/mudelid/negatives/motionData 2021-04-08 07-14-19.txt</pre>"
      ],
      "text/plain": [
       "Finished parsing file /mnt/c/Users/Karl-Jonathan/Desktop/mudelid/negatives/motionData 2021-04-08 07-14-19.txt"
      ]
     },
     "metadata": {},
     "output_type": "display_data"
    },
    {
     "data": {
      "text/html": [
       "<pre>Parsing completed. Parsed 605 lines in 0.035587 secs.</pre>"
      ],
      "text/plain": [
       "Parsing completed. Parsed 605 lines in 0.035587 secs."
      ]
     },
     "metadata": {},
     "output_type": "display_data"
    },
    {
     "data": {
      "text/html": [
       "<pre>Finished parsing file /mnt/c/Users/Karl-Jonathan/Desktop/mudelid/negatives/motionData 2021-04-08 07-14-55.txt</pre>"
      ],
      "text/plain": [
       "Finished parsing file /mnt/c/Users/Karl-Jonathan/Desktop/mudelid/negatives/motionData 2021-04-08 07-14-55.txt"
      ]
     },
     "metadata": {},
     "output_type": "display_data"
    },
    {
     "data": {
      "text/html": [
       "<pre>Parsing completed. Parsed 100 lines in 0.035561 secs.</pre>"
      ],
      "text/plain": [
       "Parsing completed. Parsed 100 lines in 0.035561 secs."
      ]
     },
     "metadata": {},
     "output_type": "display_data"
    },
    {
     "name": "stdout",
     "output_type": "stream",
     "text": [
      "------------------------------------------------------\n",
      "Inferred types from first 100 line(s) of file as \n",
      "column_type_hints=[float,float,float,float,float,float,int]\n",
      "If parsing fails due to incorrect types, you can correct\n",
      "the inferred type list above and pass it to read_csv in\n",
      "the column_type_hints argument\n",
      "------------------------------------------------------\n"
     ]
    },
    {
     "data": {
      "text/html": [
       "<pre>Finished parsing file /mnt/c/Users/Karl-Jonathan/Desktop/mudelid/negatives/motionData 2021-04-08 07-14-55.txt</pre>"
      ],
      "text/plain": [
       "Finished parsing file /mnt/c/Users/Karl-Jonathan/Desktop/mudelid/negatives/motionData 2021-04-08 07-14-55.txt"
      ]
     },
     "metadata": {},
     "output_type": "display_data"
    },
    {
     "data": {
      "text/html": [
       "<pre>Parsing completed. Parsed 1137 lines in 0.035817 secs.</pre>"
      ],
      "text/plain": [
       "Parsing completed. Parsed 1137 lines in 0.035817 secs."
      ]
     },
     "metadata": {},
     "output_type": "display_data"
    },
    {
     "data": {
      "text/html": [
       "<pre>Finished parsing file /mnt/c/Users/Karl-Jonathan/Desktop/mudelid/negatives/motionData 2021-04-08 07-15-38.txt</pre>"
      ],
      "text/plain": [
       "Finished parsing file /mnt/c/Users/Karl-Jonathan/Desktop/mudelid/negatives/motionData 2021-04-08 07-15-38.txt"
      ]
     },
     "metadata": {},
     "output_type": "display_data"
    },
    {
     "data": {
      "text/html": [
       "<pre>Parsing completed. Parsed 100 lines in 0.035643 secs.</pre>"
      ],
      "text/plain": [
       "Parsing completed. Parsed 100 lines in 0.035643 secs."
      ]
     },
     "metadata": {},
     "output_type": "display_data"
    },
    {
     "name": "stdout",
     "output_type": "stream",
     "text": [
      "------------------------------------------------------\n",
      "Inferred types from first 100 line(s) of file as \n",
      "column_type_hints=[float,float,float,float,float,float,int]\n",
      "If parsing fails due to incorrect types, you can correct\n",
      "the inferred type list above and pass it to read_csv in\n",
      "the column_type_hints argument\n",
      "------------------------------------------------------\n"
     ]
    },
    {
     "data": {
      "text/html": [
       "<pre>Finished parsing file /mnt/c/Users/Karl-Jonathan/Desktop/mudelid/negatives/motionData 2021-04-08 07-15-38.txt</pre>"
      ],
      "text/plain": [
       "Finished parsing file /mnt/c/Users/Karl-Jonathan/Desktop/mudelid/negatives/motionData 2021-04-08 07-15-38.txt"
      ]
     },
     "metadata": {},
     "output_type": "display_data"
    },
    {
     "data": {
      "text/html": [
       "<pre>Parsing completed. Parsed 1105 lines in 0.03608 secs.</pre>"
      ],
      "text/plain": [
       "Parsing completed. Parsed 1105 lines in 0.03608 secs."
      ]
     },
     "metadata": {},
     "output_type": "display_data"
    },
    {
     "data": {
      "text/html": [
       "<pre>Finished parsing file /mnt/c/Users/Karl-Jonathan/Desktop/mudelid/negatives/motionData 2021-04-08 07-16-19.txt</pre>"
      ],
      "text/plain": [
       "Finished parsing file /mnt/c/Users/Karl-Jonathan/Desktop/mudelid/negatives/motionData 2021-04-08 07-16-19.txt"
      ]
     },
     "metadata": {},
     "output_type": "display_data"
    },
    {
     "data": {
      "text/html": [
       "<pre>Parsing completed. Parsed 100 lines in 0.033114 secs.</pre>"
      ],
      "text/plain": [
       "Parsing completed. Parsed 100 lines in 0.033114 secs."
      ]
     },
     "metadata": {},
     "output_type": "display_data"
    },
    {
     "name": "stdout",
     "output_type": "stream",
     "text": [
      "------------------------------------------------------\n",
      "Inferred types from first 100 line(s) of file as \n",
      "column_type_hints=[float,float,float,float,float,float,int]\n",
      "If parsing fails due to incorrect types, you can correct\n",
      "the inferred type list above and pass it to read_csv in\n",
      "the column_type_hints argument\n",
      "------------------------------------------------------\n"
     ]
    },
    {
     "data": {
      "text/html": [
       "<pre>Finished parsing file /mnt/c/Users/Karl-Jonathan/Desktop/mudelid/negatives/motionData 2021-04-08 07-16-19.txt</pre>"
      ],
      "text/plain": [
       "Finished parsing file /mnt/c/Users/Karl-Jonathan/Desktop/mudelid/negatives/motionData 2021-04-08 07-16-19.txt"
      ]
     },
     "metadata": {},
     "output_type": "display_data"
    },
    {
     "data": {
      "text/html": [
       "<pre>Parsing completed. Parsed 1142 lines in 0.033467 secs.</pre>"
      ],
      "text/plain": [
       "Parsing completed. Parsed 1142 lines in 0.033467 secs."
      ]
     },
     "metadata": {},
     "output_type": "display_data"
    },
    {
     "data": {
      "text/html": [
       "<pre>Finished parsing file /mnt/c/Users/Karl-Jonathan/Desktop/mudelid/negatives/motionData 2021-04-08 07-16-32.txt</pre>"
      ],
      "text/plain": [
       "Finished parsing file /mnt/c/Users/Karl-Jonathan/Desktop/mudelid/negatives/motionData 2021-04-08 07-16-32.txt"
      ]
     },
     "metadata": {},
     "output_type": "display_data"
    },
    {
     "data": {
      "text/html": [
       "<pre>Parsing completed. Parsed 100 lines in 0.033358 secs.</pre>"
      ],
      "text/plain": [
       "Parsing completed. Parsed 100 lines in 0.033358 secs."
      ]
     },
     "metadata": {},
     "output_type": "display_data"
    },
    {
     "name": "stdout",
     "output_type": "stream",
     "text": [
      "------------------------------------------------------\n",
      "Inferred types from first 100 line(s) of file as \n",
      "column_type_hints=[float,float,float,float,float,float,int]\n",
      "If parsing fails due to incorrect types, you can correct\n",
      "the inferred type list above and pass it to read_csv in\n",
      "the column_type_hints argument\n",
      "------------------------------------------------------\n"
     ]
    },
    {
     "data": {
      "text/html": [
       "<pre>Finished parsing file /mnt/c/Users/Karl-Jonathan/Desktop/mudelid/negatives/motionData 2021-04-08 07-16-32.txt</pre>"
      ],
      "text/plain": [
       "Finished parsing file /mnt/c/Users/Karl-Jonathan/Desktop/mudelid/negatives/motionData 2021-04-08 07-16-32.txt"
      ]
     },
     "metadata": {},
     "output_type": "display_data"
    },
    {
     "data": {
      "text/html": [
       "<pre>Parsing completed. Parsed 969 lines in 0.035368 secs.</pre>"
      ],
      "text/plain": [
       "Parsing completed. Parsed 969 lines in 0.035368 secs."
      ]
     },
     "metadata": {},
     "output_type": "display_data"
    },
    {
     "data": {
      "text/html": [
       "<pre>Finished parsing file /mnt/c/Users/Karl-Jonathan/Desktop/mudelid/negatives/motionData 2021-04-08 07-16-44.txt</pre>"
      ],
      "text/plain": [
       "Finished parsing file /mnt/c/Users/Karl-Jonathan/Desktop/mudelid/negatives/motionData 2021-04-08 07-16-44.txt"
      ]
     },
     "metadata": {},
     "output_type": "display_data"
    },
    {
     "data": {
      "text/html": [
       "<pre>Parsing completed. Parsed 100 lines in 0.035327 secs.</pre>"
      ],
      "text/plain": [
       "Parsing completed. Parsed 100 lines in 0.035327 secs."
      ]
     },
     "metadata": {},
     "output_type": "display_data"
    },
    {
     "name": "stdout",
     "output_type": "stream",
     "text": [
      "------------------------------------------------------\n",
      "Inferred types from first 100 line(s) of file as \n",
      "column_type_hints=[float,float,float,float,float,float,int]\n",
      "If parsing fails due to incorrect types, you can correct\n",
      "the inferred type list above and pass it to read_csv in\n",
      "the column_type_hints argument\n",
      "------------------------------------------------------\n"
     ]
    },
    {
     "data": {
      "text/html": [
       "<pre>Finished parsing file /mnt/c/Users/Karl-Jonathan/Desktop/mudelid/negatives/motionData 2021-04-08 07-16-44.txt</pre>"
      ],
      "text/plain": [
       "Finished parsing file /mnt/c/Users/Karl-Jonathan/Desktop/mudelid/negatives/motionData 2021-04-08 07-16-44.txt"
      ]
     },
     "metadata": {},
     "output_type": "display_data"
    },
    {
     "data": {
      "text/html": [
       "<pre>Parsing completed. Parsed 1062 lines in 0.03536 secs.</pre>"
      ],
      "text/plain": [
       "Parsing completed. Parsed 1062 lines in 0.03536 secs."
      ]
     },
     "metadata": {},
     "output_type": "display_data"
    },
    {
     "data": {
      "text/html": [
       "<pre>Finished parsing file /mnt/c/Users/Karl-Jonathan/Desktop/mudelid/negatives/motionData 2021-04-08 07-17-10.txt</pre>"
      ],
      "text/plain": [
       "Finished parsing file /mnt/c/Users/Karl-Jonathan/Desktop/mudelid/negatives/motionData 2021-04-08 07-17-10.txt"
      ]
     },
     "metadata": {},
     "output_type": "display_data"
    },
    {
     "data": {
      "text/html": [
       "<pre>Parsing completed. Parsed 100 lines in 0.035655 secs.</pre>"
      ],
      "text/plain": [
       "Parsing completed. Parsed 100 lines in 0.035655 secs."
      ]
     },
     "metadata": {},
     "output_type": "display_data"
    },
    {
     "name": "stdout",
     "output_type": "stream",
     "text": [
      "------------------------------------------------------\n",
      "Inferred types from first 100 line(s) of file as \n",
      "column_type_hints=[float,float,float,float,float,float,int]\n",
      "If parsing fails due to incorrect types, you can correct\n",
      "the inferred type list above and pass it to read_csv in\n",
      "the column_type_hints argument\n",
      "------------------------------------------------------\n"
     ]
    },
    {
     "data": {
      "text/html": [
       "<pre>Finished parsing file /mnt/c/Users/Karl-Jonathan/Desktop/mudelid/negatives/motionData 2021-04-08 07-17-10.txt</pre>"
      ],
      "text/plain": [
       "Finished parsing file /mnt/c/Users/Karl-Jonathan/Desktop/mudelid/negatives/motionData 2021-04-08 07-17-10.txt"
      ]
     },
     "metadata": {},
     "output_type": "display_data"
    },
    {
     "data": {
      "text/html": [
       "<pre>Parsing completed. Parsed 1115 lines in 0.035972 secs.</pre>"
      ],
      "text/plain": [
       "Parsing completed. Parsed 1115 lines in 0.035972 secs."
      ]
     },
     "metadata": {},
     "output_type": "display_data"
    },
    {
     "data": {
      "text/html": [
       "<pre>Finished parsing file /mnt/c/Users/Karl-Jonathan/Desktop/mudelid/negatives/motionData 2021-04-08 07-17-20.txt</pre>"
      ],
      "text/plain": [
       "Finished parsing file /mnt/c/Users/Karl-Jonathan/Desktop/mudelid/negatives/motionData 2021-04-08 07-17-20.txt"
      ]
     },
     "metadata": {},
     "output_type": "display_data"
    },
    {
     "data": {
      "text/html": [
       "<pre>Parsing completed. Parsed 100 lines in 0.035564 secs.</pre>"
      ],
      "text/plain": [
       "Parsing completed. Parsed 100 lines in 0.035564 secs."
      ]
     },
     "metadata": {},
     "output_type": "display_data"
    },
    {
     "name": "stdout",
     "output_type": "stream",
     "text": [
      "------------------------------------------------------\n",
      "Inferred types from first 100 line(s) of file as \n",
      "column_type_hints=[float,float,float,float,float,float,int]\n",
      "If parsing fails due to incorrect types, you can correct\n",
      "the inferred type list above and pass it to read_csv in\n",
      "the column_type_hints argument\n",
      "------------------------------------------------------\n"
     ]
    },
    {
     "data": {
      "text/html": [
       "<pre>Finished parsing file /mnt/c/Users/Karl-Jonathan/Desktop/mudelid/negatives/motionData 2021-04-08 07-17-20.txt</pre>"
      ],
      "text/plain": [
       "Finished parsing file /mnt/c/Users/Karl-Jonathan/Desktop/mudelid/negatives/motionData 2021-04-08 07-17-20.txt"
      ]
     },
     "metadata": {},
     "output_type": "display_data"
    },
    {
     "data": {
      "text/html": [
       "<pre>Parsing completed. Parsed 850 lines in 0.03555 secs.</pre>"
      ],
      "text/plain": [
       "Parsing completed. Parsed 850 lines in 0.03555 secs."
      ]
     },
     "metadata": {},
     "output_type": "display_data"
    },
    {
     "data": {
      "text/html": [
       "<pre>Finished parsing file /mnt/c/Users/Karl-Jonathan/Desktop/mudelid/negatives/motionData 2021-04-08 07-17-40.txt</pre>"
      ],
      "text/plain": [
       "Finished parsing file /mnt/c/Users/Karl-Jonathan/Desktop/mudelid/negatives/motionData 2021-04-08 07-17-40.txt"
      ]
     },
     "metadata": {},
     "output_type": "display_data"
    },
    {
     "data": {
      "text/html": [
       "<pre>Parsing completed. Parsed 100 lines in 0.035622 secs.</pre>"
      ],
      "text/plain": [
       "Parsing completed. Parsed 100 lines in 0.035622 secs."
      ]
     },
     "metadata": {},
     "output_type": "display_data"
    },
    {
     "name": "stdout",
     "output_type": "stream",
     "text": [
      "------------------------------------------------------\n",
      "Inferred types from first 100 line(s) of file as \n",
      "column_type_hints=[float,float,float,float,float,float,int]\n",
      "If parsing fails due to incorrect types, you can correct\n",
      "the inferred type list above and pass it to read_csv in\n",
      "the column_type_hints argument\n",
      "------------------------------------------------------\n"
     ]
    },
    {
     "data": {
      "text/html": [
       "<pre>Finished parsing file /mnt/c/Users/Karl-Jonathan/Desktop/mudelid/negatives/motionData 2021-04-08 07-17-40.txt</pre>"
      ],
      "text/plain": [
       "Finished parsing file /mnt/c/Users/Karl-Jonathan/Desktop/mudelid/negatives/motionData 2021-04-08 07-17-40.txt"
      ]
     },
     "metadata": {},
     "output_type": "display_data"
    },
    {
     "data": {
      "text/html": [
       "<pre>Parsing completed. Parsed 1089 lines in 0.035831 secs.</pre>"
      ],
      "text/plain": [
       "Parsing completed. Parsed 1089 lines in 0.035831 secs."
      ]
     },
     "metadata": {},
     "output_type": "display_data"
    },
    {
     "data": {
      "text/html": [
       "<pre>Finished parsing file /mnt/c/Users/Karl-Jonathan/Desktop/mudelid/negatives/motionData 2021-04-08 07-18-04.txt</pre>"
      ],
      "text/plain": [
       "Finished parsing file /mnt/c/Users/Karl-Jonathan/Desktop/mudelid/negatives/motionData 2021-04-08 07-18-04.txt"
      ]
     },
     "metadata": {},
     "output_type": "display_data"
    },
    {
     "data": {
      "text/html": [
       "<pre>Parsing completed. Parsed 100 lines in 0.035711 secs.</pre>"
      ],
      "text/plain": [
       "Parsing completed. Parsed 100 lines in 0.035711 secs."
      ]
     },
     "metadata": {},
     "output_type": "display_data"
    },
    {
     "name": "stdout",
     "output_type": "stream",
     "text": [
      "------------------------------------------------------\n",
      "Inferred types from first 100 line(s) of file as \n",
      "column_type_hints=[float,float,float,float,float,float,int]\n",
      "If parsing fails due to incorrect types, you can correct\n",
      "the inferred type list above and pass it to read_csv in\n",
      "the column_type_hints argument\n",
      "------------------------------------------------------\n"
     ]
    },
    {
     "data": {
      "text/html": [
       "<pre>Finished parsing file /mnt/c/Users/Karl-Jonathan/Desktop/mudelid/negatives/motionData 2021-04-08 07-18-04.txt</pre>"
      ],
      "text/plain": [
       "Finished parsing file /mnt/c/Users/Karl-Jonathan/Desktop/mudelid/negatives/motionData 2021-04-08 07-18-04.txt"
      ]
     },
     "metadata": {},
     "output_type": "display_data"
    },
    {
     "data": {
      "text/html": [
       "<pre>Parsing completed. Parsed 774 lines in 0.03593 secs.</pre>"
      ],
      "text/plain": [
       "Parsing completed. Parsed 774 lines in 0.03593 secs."
      ]
     },
     "metadata": {},
     "output_type": "display_data"
    },
    {
     "data": {
      "text/html": [
       "<pre>Finished parsing file /mnt/c/Users/Karl-Jonathan/Desktop/mudelid/negatives/motionData 2021-04-08 07-18-13.txt</pre>"
      ],
      "text/plain": [
       "Finished parsing file /mnt/c/Users/Karl-Jonathan/Desktop/mudelid/negatives/motionData 2021-04-08 07-18-13.txt"
      ]
     },
     "metadata": {},
     "output_type": "display_data"
    },
    {
     "data": {
      "text/html": [
       "<pre>Parsing completed. Parsed 100 lines in 0.036 secs.</pre>"
      ],
      "text/plain": [
       "Parsing completed. Parsed 100 lines in 0.036 secs."
      ]
     },
     "metadata": {},
     "output_type": "display_data"
    },
    {
     "name": "stdout",
     "output_type": "stream",
     "text": [
      "------------------------------------------------------\n",
      "Inferred types from first 100 line(s) of file as \n",
      "column_type_hints=[float,float,float,float,float,float,int]\n",
      "If parsing fails due to incorrect types, you can correct\n",
      "the inferred type list above and pass it to read_csv in\n",
      "the column_type_hints argument\n",
      "------------------------------------------------------\n"
     ]
    },
    {
     "data": {
      "text/html": [
       "<pre>Finished parsing file /mnt/c/Users/Karl-Jonathan/Desktop/mudelid/negatives/motionData 2021-04-08 07-18-13.txt</pre>"
      ],
      "text/plain": [
       "Finished parsing file /mnt/c/Users/Karl-Jonathan/Desktop/mudelid/negatives/motionData 2021-04-08 07-18-13.txt"
      ]
     },
     "metadata": {},
     "output_type": "display_data"
    },
    {
     "data": {
      "text/html": [
       "<pre>Parsing completed. Parsed 744 lines in 0.035818 secs.</pre>"
      ],
      "text/plain": [
       "Parsing completed. Parsed 744 lines in 0.035818 secs."
      ]
     },
     "metadata": {},
     "output_type": "display_data"
    },
    {
     "data": {
      "text/html": [
       "<pre>Finished parsing file /mnt/c/Users/Karl-Jonathan/Desktop/mudelid/negatives/motionData 2021-04-08 07-18-48.txt</pre>"
      ],
      "text/plain": [
       "Finished parsing file /mnt/c/Users/Karl-Jonathan/Desktop/mudelid/negatives/motionData 2021-04-08 07-18-48.txt"
      ]
     },
     "metadata": {},
     "output_type": "display_data"
    },
    {
     "data": {
      "text/html": [
       "<pre>Parsing completed. Parsed 100 lines in 0.035616 secs.</pre>"
      ],
      "text/plain": [
       "Parsing completed. Parsed 100 lines in 0.035616 secs."
      ]
     },
     "metadata": {},
     "output_type": "display_data"
    },
    {
     "name": "stdout",
     "output_type": "stream",
     "text": [
      "------------------------------------------------------\n",
      "Inferred types from first 100 line(s) of file as \n",
      "column_type_hints=[float,float,float,float,float,float,int]\n",
      "If parsing fails due to incorrect types, you can correct\n",
      "the inferred type list above and pass it to read_csv in\n",
      "the column_type_hints argument\n",
      "------------------------------------------------------\n"
     ]
    },
    {
     "data": {
      "text/html": [
       "<pre>Finished parsing file /mnt/c/Users/Karl-Jonathan/Desktop/mudelid/negatives/motionData 2021-04-08 07-18-48.txt</pre>"
      ],
      "text/plain": [
       "Finished parsing file /mnt/c/Users/Karl-Jonathan/Desktop/mudelid/negatives/motionData 2021-04-08 07-18-48.txt"
      ]
     },
     "metadata": {},
     "output_type": "display_data"
    },
    {
     "data": {
      "text/html": [
       "<pre>Parsing completed. Parsed 1128 lines in 0.035726 secs.</pre>"
      ],
      "text/plain": [
       "Parsing completed. Parsed 1128 lines in 0.035726 secs."
      ]
     },
     "metadata": {},
     "output_type": "display_data"
    },
    {
     "data": {
      "text/html": [
       "<pre>Finished parsing file /mnt/c/Users/Karl-Jonathan/Desktop/mudelid/negatives/motionData 2021-04-08 07-19-01.txt</pre>"
      ],
      "text/plain": [
       "Finished parsing file /mnt/c/Users/Karl-Jonathan/Desktop/mudelid/negatives/motionData 2021-04-08 07-19-01.txt"
      ]
     },
     "metadata": {},
     "output_type": "display_data"
    },
    {
     "data": {
      "text/html": [
       "<pre>Parsing completed. Parsed 100 lines in 0.035423 secs.</pre>"
      ],
      "text/plain": [
       "Parsing completed. Parsed 100 lines in 0.035423 secs."
      ]
     },
     "metadata": {},
     "output_type": "display_data"
    },
    {
     "name": "stdout",
     "output_type": "stream",
     "text": [
      "------------------------------------------------------\n",
      "Inferred types from first 100 line(s) of file as \n",
      "column_type_hints=[float,float,float,float,float,float,int]\n",
      "If parsing fails due to incorrect types, you can correct\n",
      "the inferred type list above and pass it to read_csv in\n",
      "the column_type_hints argument\n",
      "------------------------------------------------------\n"
     ]
    },
    {
     "data": {
      "text/html": [
       "<pre>Finished parsing file /mnt/c/Users/Karl-Jonathan/Desktop/mudelid/negatives/motionData 2021-04-08 07-19-01.txt</pre>"
      ],
      "text/plain": [
       "Finished parsing file /mnt/c/Users/Karl-Jonathan/Desktop/mudelid/negatives/motionData 2021-04-08 07-19-01.txt"
      ]
     },
     "metadata": {},
     "output_type": "display_data"
    },
    {
     "data": {
      "text/html": [
       "<pre>Parsing completed. Parsed 1227 lines in 0.035762 secs.</pre>"
      ],
      "text/plain": [
       "Parsing completed. Parsed 1227 lines in 0.035762 secs."
      ]
     },
     "metadata": {},
     "output_type": "display_data"
    },
    {
     "data": {
      "text/html": [
       "<pre>Finished parsing file /mnt/c/Users/Karl-Jonathan/Desktop/mudelid/negatives/motionData 2021-04-08 07-19-10.txt</pre>"
      ],
      "text/plain": [
       "Finished parsing file /mnt/c/Users/Karl-Jonathan/Desktop/mudelid/negatives/motionData 2021-04-08 07-19-10.txt"
      ]
     },
     "metadata": {},
     "output_type": "display_data"
    },
    {
     "data": {
      "text/html": [
       "<pre>Parsing completed. Parsed 100 lines in 0.035984 secs.</pre>"
      ],
      "text/plain": [
       "Parsing completed. Parsed 100 lines in 0.035984 secs."
      ]
     },
     "metadata": {},
     "output_type": "display_data"
    },
    {
     "name": "stdout",
     "output_type": "stream",
     "text": [
      "------------------------------------------------------\n",
      "Inferred types from first 100 line(s) of file as \n",
      "column_type_hints=[float,float,float,float,float,float,int]\n",
      "If parsing fails due to incorrect types, you can correct\n",
      "the inferred type list above and pass it to read_csv in\n",
      "the column_type_hints argument\n",
      "------------------------------------------------------\n"
     ]
    },
    {
     "data": {
      "text/html": [
       "<pre>Finished parsing file /mnt/c/Users/Karl-Jonathan/Desktop/mudelid/negatives/motionData 2021-04-08 07-19-10.txt</pre>"
      ],
      "text/plain": [
       "Finished parsing file /mnt/c/Users/Karl-Jonathan/Desktop/mudelid/negatives/motionData 2021-04-08 07-19-10.txt"
      ]
     },
     "metadata": {},
     "output_type": "display_data"
    },
    {
     "data": {
      "text/html": [
       "<pre>Parsing completed. Parsed 751 lines in 0.036148 secs.</pre>"
      ],
      "text/plain": [
       "Parsing completed. Parsed 751 lines in 0.036148 secs."
      ]
     },
     "metadata": {},
     "output_type": "display_data"
    },
    {
     "data": {
      "text/html": [
       "<pre>Finished parsing file /mnt/c/Users/Karl-Jonathan/Desktop/mudelid/negatives/motionData 2021-04-08 07-20-04.txt</pre>"
      ],
      "text/plain": [
       "Finished parsing file /mnt/c/Users/Karl-Jonathan/Desktop/mudelid/negatives/motionData 2021-04-08 07-20-04.txt"
      ]
     },
     "metadata": {},
     "output_type": "display_data"
    },
    {
     "data": {
      "text/html": [
       "<pre>Parsing completed. Parsed 100 lines in 0.032457 secs.</pre>"
      ],
      "text/plain": [
       "Parsing completed. Parsed 100 lines in 0.032457 secs."
      ]
     },
     "metadata": {},
     "output_type": "display_data"
    },
    {
     "name": "stdout",
     "output_type": "stream",
     "text": [
      "------------------------------------------------------\n",
      "Inferred types from first 100 line(s) of file as \n",
      "column_type_hints=[float,float,float,float,float,float,int]\n",
      "If parsing fails due to incorrect types, you can correct\n",
      "the inferred type list above and pass it to read_csv in\n",
      "the column_type_hints argument\n",
      "------------------------------------------------------\n"
     ]
    },
    {
     "data": {
      "text/html": [
       "<pre>Finished parsing file /mnt/c/Users/Karl-Jonathan/Desktop/mudelid/negatives/motionData 2021-04-08 07-20-04.txt</pre>"
      ],
      "text/plain": [
       "Finished parsing file /mnt/c/Users/Karl-Jonathan/Desktop/mudelid/negatives/motionData 2021-04-08 07-20-04.txt"
      ]
     },
     "metadata": {},
     "output_type": "display_data"
    },
    {
     "data": {
      "text/html": [
       "<pre>Parsing completed. Parsed 1116 lines in 0.03171 secs.</pre>"
      ],
      "text/plain": [
       "Parsing completed. Parsed 1116 lines in 0.03171 secs."
      ]
     },
     "metadata": {},
     "output_type": "display_data"
    },
    {
     "data": {
      "text/html": [
       "<pre>Finished parsing file /mnt/c/Users/Karl-Jonathan/Desktop/mudelid/negatives/motionData 2021-04-08 07-20-14.txt</pre>"
      ],
      "text/plain": [
       "Finished parsing file /mnt/c/Users/Karl-Jonathan/Desktop/mudelid/negatives/motionData 2021-04-08 07-20-14.txt"
      ]
     },
     "metadata": {},
     "output_type": "display_data"
    },
    {
     "data": {
      "text/html": [
       "<pre>Parsing completed. Parsed 100 lines in 0.031179 secs.</pre>"
      ],
      "text/plain": [
       "Parsing completed. Parsed 100 lines in 0.031179 secs."
      ]
     },
     "metadata": {},
     "output_type": "display_data"
    },
    {
     "name": "stdout",
     "output_type": "stream",
     "text": [
      "------------------------------------------------------\n",
      "Inferred types from first 100 line(s) of file as \n",
      "column_type_hints=[float,float,float,float,float,float,int]\n",
      "If parsing fails due to incorrect types, you can correct\n",
      "the inferred type list above and pass it to read_csv in\n",
      "the column_type_hints argument\n",
      "------------------------------------------------------\n"
     ]
    },
    {
     "data": {
      "text/html": [
       "<pre>Finished parsing file /mnt/c/Users/Karl-Jonathan/Desktop/mudelid/negatives/motionData 2021-04-08 07-20-14.txt</pre>"
      ],
      "text/plain": [
       "Finished parsing file /mnt/c/Users/Karl-Jonathan/Desktop/mudelid/negatives/motionData 2021-04-08 07-20-14.txt"
      ]
     },
     "metadata": {},
     "output_type": "display_data"
    },
    {
     "data": {
      "text/html": [
       "<pre>Parsing completed. Parsed 942 lines in 0.032843 secs.</pre>"
      ],
      "text/plain": [
       "Parsing completed. Parsed 942 lines in 0.032843 secs."
      ]
     },
     "metadata": {},
     "output_type": "display_data"
    },
    {
     "data": {
      "text/html": [
       "<pre>Finished parsing file /mnt/c/Users/Karl-Jonathan/Desktop/mudelid/negatives/motionData 2021-04-08 07-20-24.txt</pre>"
      ],
      "text/plain": [
       "Finished parsing file /mnt/c/Users/Karl-Jonathan/Desktop/mudelid/negatives/motionData 2021-04-08 07-20-24.txt"
      ]
     },
     "metadata": {},
     "output_type": "display_data"
    },
    {
     "data": {
      "text/html": [
       "<pre>Parsing completed. Parsed 100 lines in 0.034937 secs.</pre>"
      ],
      "text/plain": [
       "Parsing completed. Parsed 100 lines in 0.034937 secs."
      ]
     },
     "metadata": {},
     "output_type": "display_data"
    },
    {
     "name": "stdout",
     "output_type": "stream",
     "text": [
      "------------------------------------------------------\n",
      "Inferred types from first 100 line(s) of file as \n",
      "column_type_hints=[float,float,float,float,float,float,int]\n",
      "If parsing fails due to incorrect types, you can correct\n",
      "the inferred type list above and pass it to read_csv in\n",
      "the column_type_hints argument\n",
      "------------------------------------------------------\n"
     ]
    },
    {
     "data": {
      "text/html": [
       "<pre>Finished parsing file /mnt/c/Users/Karl-Jonathan/Desktop/mudelid/negatives/motionData 2021-04-08 07-20-24.txt</pre>"
      ],
      "text/plain": [
       "Finished parsing file /mnt/c/Users/Karl-Jonathan/Desktop/mudelid/negatives/motionData 2021-04-08 07-20-24.txt"
      ]
     },
     "metadata": {},
     "output_type": "display_data"
    },
    {
     "data": {
      "text/html": [
       "<pre>Parsing completed. Parsed 817 lines in 0.035804 secs.</pre>"
      ],
      "text/plain": [
       "Parsing completed. Parsed 817 lines in 0.035804 secs."
      ]
     },
     "metadata": {},
     "output_type": "display_data"
    },
    {
     "data": {
      "text/html": [
       "<pre>Finished parsing file /mnt/c/Users/Karl-Jonathan/Desktop/mudelid/negatives/motionData 2021-04-08 07-20-42.txt</pre>"
      ],
      "text/plain": [
       "Finished parsing file /mnt/c/Users/Karl-Jonathan/Desktop/mudelid/negatives/motionData 2021-04-08 07-20-42.txt"
      ]
     },
     "metadata": {},
     "output_type": "display_data"
    },
    {
     "data": {
      "text/html": [
       "<pre>Parsing completed. Parsed 100 lines in 0.035674 secs.</pre>"
      ],
      "text/plain": [
       "Parsing completed. Parsed 100 lines in 0.035674 secs."
      ]
     },
     "metadata": {},
     "output_type": "display_data"
    },
    {
     "name": "stdout",
     "output_type": "stream",
     "text": [
      "------------------------------------------------------\n",
      "Inferred types from first 100 line(s) of file as \n",
      "column_type_hints=[float,float,float,float,float,float,int]\n",
      "If parsing fails due to incorrect types, you can correct\n",
      "the inferred type list above and pass it to read_csv in\n",
      "the column_type_hints argument\n",
      "------------------------------------------------------\n"
     ]
    },
    {
     "data": {
      "text/html": [
       "<pre>Finished parsing file /mnt/c/Users/Karl-Jonathan/Desktop/mudelid/negatives/motionData 2021-04-08 07-20-42.txt</pre>"
      ],
      "text/plain": [
       "Finished parsing file /mnt/c/Users/Karl-Jonathan/Desktop/mudelid/negatives/motionData 2021-04-08 07-20-42.txt"
      ]
     },
     "metadata": {},
     "output_type": "display_data"
    },
    {
     "data": {
      "text/html": [
       "<pre>Parsing completed. Parsed 1201 lines in 0.036027 secs.</pre>"
      ],
      "text/plain": [
       "Parsing completed. Parsed 1201 lines in 0.036027 secs."
      ]
     },
     "metadata": {},
     "output_type": "display_data"
    },
    {
     "data": {
      "text/html": [
       "<pre>Finished parsing file /mnt/c/Users/Karl-Jonathan/Desktop/mudelid/negatives/motionData 2021-04-08 07-21-45.txt</pre>"
      ],
      "text/plain": [
       "Finished parsing file /mnt/c/Users/Karl-Jonathan/Desktop/mudelid/negatives/motionData 2021-04-08 07-21-45.txt"
      ]
     },
     "metadata": {},
     "output_type": "display_data"
    },
    {
     "data": {
      "text/html": [
       "<pre>Parsing completed. Parsed 100 lines in 0.03562 secs.</pre>"
      ],
      "text/plain": [
       "Parsing completed. Parsed 100 lines in 0.03562 secs."
      ]
     },
     "metadata": {},
     "output_type": "display_data"
    },
    {
     "name": "stdout",
     "output_type": "stream",
     "text": [
      "------------------------------------------------------\n",
      "Inferred types from first 100 line(s) of file as \n",
      "column_type_hints=[float,float,float,float,float,float,int]\n",
      "If parsing fails due to incorrect types, you can correct\n",
      "the inferred type list above and pass it to read_csv in\n",
      "the column_type_hints argument\n",
      "------------------------------------------------------\n"
     ]
    },
    {
     "data": {
      "text/html": [
       "<pre>Finished parsing file /mnt/c/Users/Karl-Jonathan/Desktop/mudelid/negatives/motionData 2021-04-08 07-21-45.txt</pre>"
      ],
      "text/plain": [
       "Finished parsing file /mnt/c/Users/Karl-Jonathan/Desktop/mudelid/negatives/motionData 2021-04-08 07-21-45.txt"
      ]
     },
     "metadata": {},
     "output_type": "display_data"
    },
    {
     "data": {
      "text/html": [
       "<pre>Parsing completed. Parsed 664 lines in 0.035391 secs.</pre>"
      ],
      "text/plain": [
       "Parsing completed. Parsed 664 lines in 0.035391 secs."
      ]
     },
     "metadata": {},
     "output_type": "display_data"
    },
    {
     "data": {
      "text/html": [
       "<pre>Finished parsing file /mnt/c/Users/Karl-Jonathan/Desktop/mudelid/negatives/motionData 2021-04-08 07-21-54.txt</pre>"
      ],
      "text/plain": [
       "Finished parsing file /mnt/c/Users/Karl-Jonathan/Desktop/mudelid/negatives/motionData 2021-04-08 07-21-54.txt"
      ]
     },
     "metadata": {},
     "output_type": "display_data"
    },
    {
     "data": {
      "text/html": [
       "<pre>Parsing completed. Parsed 100 lines in 0.035584 secs.</pre>"
      ],
      "text/plain": [
       "Parsing completed. Parsed 100 lines in 0.035584 secs."
      ]
     },
     "metadata": {},
     "output_type": "display_data"
    },
    {
     "name": "stdout",
     "output_type": "stream",
     "text": [
      "------------------------------------------------------\n",
      "Inferred types from first 100 line(s) of file as \n",
      "column_type_hints=[float,float,float,float,float,float,int]\n",
      "If parsing fails due to incorrect types, you can correct\n",
      "the inferred type list above and pass it to read_csv in\n",
      "the column_type_hints argument\n",
      "------------------------------------------------------\n"
     ]
    },
    {
     "data": {
      "text/html": [
       "<pre>Finished parsing file /mnt/c/Users/Karl-Jonathan/Desktop/mudelid/negatives/motionData 2021-04-08 07-21-54.txt</pre>"
      ],
      "text/plain": [
       "Finished parsing file /mnt/c/Users/Karl-Jonathan/Desktop/mudelid/negatives/motionData 2021-04-08 07-21-54.txt"
      ]
     },
     "metadata": {},
     "output_type": "display_data"
    },
    {
     "data": {
      "text/html": [
       "<pre>Parsing completed. Parsed 553 lines in 0.035705 secs.</pre>"
      ],
      "text/plain": [
       "Parsing completed. Parsed 553 lines in 0.035705 secs."
      ]
     },
     "metadata": {},
     "output_type": "display_data"
    },
    {
     "data": {
      "text/html": [
       "<pre>Finished parsing file /mnt/c/Users/Karl-Jonathan/Desktop/mudelid/negatives/motionData 2021-04-08 07-22-02.txt</pre>"
      ],
      "text/plain": [
       "Finished parsing file /mnt/c/Users/Karl-Jonathan/Desktop/mudelid/negatives/motionData 2021-04-08 07-22-02.txt"
      ]
     },
     "metadata": {},
     "output_type": "display_data"
    },
    {
     "data": {
      "text/html": [
       "<pre>Parsing completed. Parsed 100 lines in 0.035555 secs.</pre>"
      ],
      "text/plain": [
       "Parsing completed. Parsed 100 lines in 0.035555 secs."
      ]
     },
     "metadata": {},
     "output_type": "display_data"
    },
    {
     "name": "stdout",
     "output_type": "stream",
     "text": [
      "------------------------------------------------------\n",
      "Inferred types from first 100 line(s) of file as \n",
      "column_type_hints=[float,float,float,float,float,float,int]\n",
      "If parsing fails due to incorrect types, you can correct\n",
      "the inferred type list above and pass it to read_csv in\n",
      "the column_type_hints argument\n",
      "------------------------------------------------------\n"
     ]
    },
    {
     "data": {
      "text/html": [
       "<pre>Finished parsing file /mnt/c/Users/Karl-Jonathan/Desktop/mudelid/negatives/motionData 2021-04-08 07-22-02.txt</pre>"
      ],
      "text/plain": [
       "Finished parsing file /mnt/c/Users/Karl-Jonathan/Desktop/mudelid/negatives/motionData 2021-04-08 07-22-02.txt"
      ]
     },
     "metadata": {},
     "output_type": "display_data"
    },
    {
     "data": {
      "text/html": [
       "<pre>Parsing completed. Parsed 750 lines in 0.035568 secs.</pre>"
      ],
      "text/plain": [
       "Parsing completed. Parsed 750 lines in 0.035568 secs."
      ]
     },
     "metadata": {},
     "output_type": "display_data"
    },
    {
     "data": {
      "text/html": [
       "<pre>Finished parsing file /mnt/c/Users/Karl-Jonathan/Desktop/mudelid/negatives/motionData 2021-04-08 07-22-27.txt</pre>"
      ],
      "text/plain": [
       "Finished parsing file /mnt/c/Users/Karl-Jonathan/Desktop/mudelid/negatives/motionData 2021-04-08 07-22-27.txt"
      ]
     },
     "metadata": {},
     "output_type": "display_data"
    },
    {
     "data": {
      "text/html": [
       "<pre>Parsing completed. Parsed 100 lines in 0.035628 secs.</pre>"
      ],
      "text/plain": [
       "Parsing completed. Parsed 100 lines in 0.035628 secs."
      ]
     },
     "metadata": {},
     "output_type": "display_data"
    },
    {
     "name": "stdout",
     "output_type": "stream",
     "text": [
      "------------------------------------------------------\n",
      "Inferred types from first 100 line(s) of file as \n",
      "column_type_hints=[float,float,float,float,float,float,int]\n",
      "If parsing fails due to incorrect types, you can correct\n",
      "the inferred type list above and pass it to read_csv in\n",
      "the column_type_hints argument\n",
      "------------------------------------------------------\n"
     ]
    },
    {
     "data": {
      "text/html": [
       "<pre>Finished parsing file /mnt/c/Users/Karl-Jonathan/Desktop/mudelid/negatives/motionData 2021-04-08 07-22-27.txt</pre>"
      ],
      "text/plain": [
       "Finished parsing file /mnt/c/Users/Karl-Jonathan/Desktop/mudelid/negatives/motionData 2021-04-08 07-22-27.txt"
      ]
     },
     "metadata": {},
     "output_type": "display_data"
    },
    {
     "data": {
      "text/html": [
       "<pre>Parsing completed. Parsed 698 lines in 0.035788 secs.</pre>"
      ],
      "text/plain": [
       "Parsing completed. Parsed 698 lines in 0.035788 secs."
      ]
     },
     "metadata": {},
     "output_type": "display_data"
    },
    {
     "data": {
      "text/html": [
       "<pre>Finished parsing file /mnt/c/Users/Karl-Jonathan/Desktop/mudelid/negatives/motionData 2021-04-08 07-23-56.txt</pre>"
      ],
      "text/plain": [
       "Finished parsing file /mnt/c/Users/Karl-Jonathan/Desktop/mudelid/negatives/motionData 2021-04-08 07-23-56.txt"
      ]
     },
     "metadata": {},
     "output_type": "display_data"
    },
    {
     "data": {
      "text/html": [
       "<pre>Parsing completed. Parsed 100 lines in 0.035649 secs.</pre>"
      ],
      "text/plain": [
       "Parsing completed. Parsed 100 lines in 0.035649 secs."
      ]
     },
     "metadata": {},
     "output_type": "display_data"
    },
    {
     "name": "stdout",
     "output_type": "stream",
     "text": [
      "------------------------------------------------------\n",
      "Inferred types from first 100 line(s) of file as \n",
      "column_type_hints=[float,float,float,float,float,float,int]\n",
      "If parsing fails due to incorrect types, you can correct\n",
      "the inferred type list above and pass it to read_csv in\n",
      "the column_type_hints argument\n",
      "------------------------------------------------------\n"
     ]
    },
    {
     "data": {
      "text/html": [
       "<pre>Finished parsing file /mnt/c/Users/Karl-Jonathan/Desktop/mudelid/negatives/motionData 2021-04-08 07-23-56.txt</pre>"
      ],
      "text/plain": [
       "Finished parsing file /mnt/c/Users/Karl-Jonathan/Desktop/mudelid/negatives/motionData 2021-04-08 07-23-56.txt"
      ]
     },
     "metadata": {},
     "output_type": "display_data"
    },
    {
     "data": {
      "text/html": [
       "<pre>Parsing completed. Parsed 800 lines in 0.035627 secs.</pre>"
      ],
      "text/plain": [
       "Parsing completed. Parsed 800 lines in 0.035627 secs."
      ]
     },
     "metadata": {},
     "output_type": "display_data"
    },
    {
     "data": {
      "text/html": [
       "<pre>Finished parsing file /mnt/c/Users/Karl-Jonathan/Desktop/mudelid/negatives/motionData 2021-04-08 07-24-04.txt</pre>"
      ],
      "text/plain": [
       "Finished parsing file /mnt/c/Users/Karl-Jonathan/Desktop/mudelid/negatives/motionData 2021-04-08 07-24-04.txt"
      ]
     },
     "metadata": {},
     "output_type": "display_data"
    },
    {
     "data": {
      "text/html": [
       "<pre>Parsing completed. Parsed 100 lines in 0.035364 secs.</pre>"
      ],
      "text/plain": [
       "Parsing completed. Parsed 100 lines in 0.035364 secs."
      ]
     },
     "metadata": {},
     "output_type": "display_data"
    },
    {
     "name": "stdout",
     "output_type": "stream",
     "text": [
      "------------------------------------------------------\n",
      "Inferred types from first 100 line(s) of file as \n",
      "column_type_hints=[float,float,float,float,float,float,int]\n",
      "If parsing fails due to incorrect types, you can correct\n",
      "the inferred type list above and pass it to read_csv in\n",
      "the column_type_hints argument\n",
      "------------------------------------------------------\n"
     ]
    },
    {
     "data": {
      "text/html": [
       "<pre>Finished parsing file /mnt/c/Users/Karl-Jonathan/Desktop/mudelid/negatives/motionData 2021-04-08 07-24-04.txt</pre>"
      ],
      "text/plain": [
       "Finished parsing file /mnt/c/Users/Karl-Jonathan/Desktop/mudelid/negatives/motionData 2021-04-08 07-24-04.txt"
      ]
     },
     "metadata": {},
     "output_type": "display_data"
    },
    {
     "data": {
      "text/html": [
       "<pre>Parsing completed. Parsed 672 lines in 0.035542 secs.</pre>"
      ],
      "text/plain": [
       "Parsing completed. Parsed 672 lines in 0.035542 secs."
      ]
     },
     "metadata": {},
     "output_type": "display_data"
    },
    {
     "data": {
      "text/html": [
       "<pre>Finished parsing file /mnt/c/Users/Karl-Jonathan/Desktop/mudelid/negatives/motionData 2021-04-08 07-24-39.txt</pre>"
      ],
      "text/plain": [
       "Finished parsing file /mnt/c/Users/Karl-Jonathan/Desktop/mudelid/negatives/motionData 2021-04-08 07-24-39.txt"
      ]
     },
     "metadata": {},
     "output_type": "display_data"
    },
    {
     "data": {
      "text/html": [
       "<pre>Parsing completed. Parsed 100 lines in 0.035685 secs.</pre>"
      ],
      "text/plain": [
       "Parsing completed. Parsed 100 lines in 0.035685 secs."
      ]
     },
     "metadata": {},
     "output_type": "display_data"
    },
    {
     "name": "stdout",
     "output_type": "stream",
     "text": [
      "------------------------------------------------------\n",
      "Inferred types from first 100 line(s) of file as \n",
      "column_type_hints=[float,float,float,float,float,float,int]\n",
      "If parsing fails due to incorrect types, you can correct\n",
      "the inferred type list above and pass it to read_csv in\n",
      "the column_type_hints argument\n",
      "------------------------------------------------------\n"
     ]
    },
    {
     "data": {
      "text/html": [
       "<pre>Finished parsing file /mnt/c/Users/Karl-Jonathan/Desktop/mudelid/negatives/motionData 2021-04-08 07-24-39.txt</pre>"
      ],
      "text/plain": [
       "Finished parsing file /mnt/c/Users/Karl-Jonathan/Desktop/mudelid/negatives/motionData 2021-04-08 07-24-39.txt"
      ]
     },
     "metadata": {},
     "output_type": "display_data"
    },
    {
     "data": {
      "text/html": [
       "<pre>Parsing completed. Parsed 719 lines in 0.036354 secs.</pre>"
      ],
      "text/plain": [
       "Parsing completed. Parsed 719 lines in 0.036354 secs."
      ]
     },
     "metadata": {},
     "output_type": "display_data"
    },
    {
     "data": {
      "text/html": [
       "<pre>Finished parsing file /mnt/c/Users/Karl-Jonathan/Desktop/mudelid/negatives/motionData 2021-04-08 07-25-37.txt</pre>"
      ],
      "text/plain": [
       "Finished parsing file /mnt/c/Users/Karl-Jonathan/Desktop/mudelid/negatives/motionData 2021-04-08 07-25-37.txt"
      ]
     },
     "metadata": {},
     "output_type": "display_data"
    },
    {
     "data": {
      "text/html": [
       "<pre>Parsing completed. Parsed 100 lines in 0.031867 secs.</pre>"
      ],
      "text/plain": [
       "Parsing completed. Parsed 100 lines in 0.031867 secs."
      ]
     },
     "metadata": {},
     "output_type": "display_data"
    },
    {
     "name": "stdout",
     "output_type": "stream",
     "text": [
      "------------------------------------------------------\n",
      "Inferred types from first 100 line(s) of file as \n",
      "column_type_hints=[float,float,float,float,float,float,int]\n",
      "If parsing fails due to incorrect types, you can correct\n",
      "the inferred type list above and pass it to read_csv in\n",
      "the column_type_hints argument\n",
      "------------------------------------------------------\n"
     ]
    },
    {
     "data": {
      "text/html": [
       "<pre>Finished parsing file /mnt/c/Users/Karl-Jonathan/Desktop/mudelid/negatives/motionData 2021-04-08 07-25-37.txt</pre>"
      ],
      "text/plain": [
       "Finished parsing file /mnt/c/Users/Karl-Jonathan/Desktop/mudelid/negatives/motionData 2021-04-08 07-25-37.txt"
      ]
     },
     "metadata": {},
     "output_type": "display_data"
    },
    {
     "data": {
      "text/html": [
       "<pre>Parsing completed. Parsed 1097 lines in 0.031269 secs.</pre>"
      ],
      "text/plain": [
       "Parsing completed. Parsed 1097 lines in 0.031269 secs."
      ]
     },
     "metadata": {},
     "output_type": "display_data"
    },
    {
     "data": {
      "text/html": [
       "<pre>Finished parsing file /mnt/c/Users/Karl-Jonathan/Desktop/mudelid/negatives/motionData 2021-04-08 07-25-54.txt</pre>"
      ],
      "text/plain": [
       "Finished parsing file /mnt/c/Users/Karl-Jonathan/Desktop/mudelid/negatives/motionData 2021-04-08 07-25-54.txt"
      ]
     },
     "metadata": {},
     "output_type": "display_data"
    },
    {
     "data": {
      "text/html": [
       "<pre>Parsing completed. Parsed 100 lines in 0.031239 secs.</pre>"
      ],
      "text/plain": [
       "Parsing completed. Parsed 100 lines in 0.031239 secs."
      ]
     },
     "metadata": {},
     "output_type": "display_data"
    },
    {
     "name": "stdout",
     "output_type": "stream",
     "text": [
      "------------------------------------------------------\n",
      "Inferred types from first 100 line(s) of file as \n",
      "column_type_hints=[float,float,float,float,float,float,int]\n",
      "If parsing fails due to incorrect types, you can correct\n",
      "the inferred type list above and pass it to read_csv in\n",
      "the column_type_hints argument\n",
      "------------------------------------------------------\n"
     ]
    },
    {
     "data": {
      "text/html": [
       "<pre>Finished parsing file /mnt/c/Users/Karl-Jonathan/Desktop/mudelid/negatives/motionData 2021-04-08 07-25-54.txt</pre>"
      ],
      "text/plain": [
       "Finished parsing file /mnt/c/Users/Karl-Jonathan/Desktop/mudelid/negatives/motionData 2021-04-08 07-25-54.txt"
      ]
     },
     "metadata": {},
     "output_type": "display_data"
    },
    {
     "data": {
      "text/html": [
       "<pre>Parsing completed. Parsed 593 lines in 0.032619 secs.</pre>"
      ],
      "text/plain": [
       "Parsing completed. Parsed 593 lines in 0.032619 secs."
      ]
     },
     "metadata": {},
     "output_type": "display_data"
    },
    {
     "data": {
      "text/html": [
       "<pre>Finished parsing file /mnt/c/Users/Karl-Jonathan/Desktop/mudelid/negatives/motionData 2021-04-08 07-26-29.txt</pre>"
      ],
      "text/plain": [
       "Finished parsing file /mnt/c/Users/Karl-Jonathan/Desktop/mudelid/negatives/motionData 2021-04-08 07-26-29.txt"
      ]
     },
     "metadata": {},
     "output_type": "display_data"
    },
    {
     "data": {
      "text/html": [
       "<pre>Parsing completed. Parsed 100 lines in 0.035157 secs.</pre>"
      ],
      "text/plain": [
       "Parsing completed. Parsed 100 lines in 0.035157 secs."
      ]
     },
     "metadata": {},
     "output_type": "display_data"
    },
    {
     "name": "stdout",
     "output_type": "stream",
     "text": [
      "------------------------------------------------------\n",
      "Inferred types from first 100 line(s) of file as \n",
      "column_type_hints=[float,float,float,float,float,float,int]\n",
      "If parsing fails due to incorrect types, you can correct\n",
      "the inferred type list above and pass it to read_csv in\n",
      "the column_type_hints argument\n",
      "------------------------------------------------------\n"
     ]
    },
    {
     "data": {
      "text/html": [
       "<pre>Finished parsing file /mnt/c/Users/Karl-Jonathan/Desktop/mudelid/negatives/motionData 2021-04-08 07-26-29.txt</pre>"
      ],
      "text/plain": [
       "Finished parsing file /mnt/c/Users/Karl-Jonathan/Desktop/mudelid/negatives/motionData 2021-04-08 07-26-29.txt"
      ]
     },
     "metadata": {},
     "output_type": "display_data"
    },
    {
     "data": {
      "text/html": [
       "<pre>Parsing completed. Parsed 1034 lines in 0.03538 secs.</pre>"
      ],
      "text/plain": [
       "Parsing completed. Parsed 1034 lines in 0.03538 secs."
      ]
     },
     "metadata": {},
     "output_type": "display_data"
    },
    {
     "data": {
      "text/html": [
       "<pre>Finished parsing file /mnt/c/Users/Karl-Jonathan/Desktop/mudelid/negatives/motionData 2021-04-08 07-27-10.txt</pre>"
      ],
      "text/plain": [
       "Finished parsing file /mnt/c/Users/Karl-Jonathan/Desktop/mudelid/negatives/motionData 2021-04-08 07-27-10.txt"
      ]
     },
     "metadata": {},
     "output_type": "display_data"
    },
    {
     "data": {
      "text/html": [
       "<pre>Parsing completed. Parsed 100 lines in 0.035617 secs.</pre>"
      ],
      "text/plain": [
       "Parsing completed. Parsed 100 lines in 0.035617 secs."
      ]
     },
     "metadata": {},
     "output_type": "display_data"
    },
    {
     "name": "stdout",
     "output_type": "stream",
     "text": [
      "------------------------------------------------------\n",
      "Inferred types from first 100 line(s) of file as \n",
      "column_type_hints=[float,float,float,float,float,float,int]\n",
      "If parsing fails due to incorrect types, you can correct\n",
      "the inferred type list above and pass it to read_csv in\n",
      "the column_type_hints argument\n",
      "------------------------------------------------------\n"
     ]
    },
    {
     "data": {
      "text/html": [
       "<pre>Finished parsing file /mnt/c/Users/Karl-Jonathan/Desktop/mudelid/negatives/motionData 2021-04-08 07-27-10.txt</pre>"
      ],
      "text/plain": [
       "Finished parsing file /mnt/c/Users/Karl-Jonathan/Desktop/mudelid/negatives/motionData 2021-04-08 07-27-10.txt"
      ]
     },
     "metadata": {},
     "output_type": "display_data"
    },
    {
     "data": {
      "text/html": [
       "<pre>Parsing completed. Parsed 925 lines in 0.03559 secs.</pre>"
      ],
      "text/plain": [
       "Parsing completed. Parsed 925 lines in 0.03559 secs."
      ]
     },
     "metadata": {},
     "output_type": "display_data"
    },
    {
     "data": {
      "text/html": [
       "<pre>Finished parsing file /mnt/c/Users/Karl-Jonathan/Desktop/mudelid/negatives/motionData 2021-04-08 07-27-31.txt</pre>"
      ],
      "text/plain": [
       "Finished parsing file /mnt/c/Users/Karl-Jonathan/Desktop/mudelid/negatives/motionData 2021-04-08 07-27-31.txt"
      ]
     },
     "metadata": {},
     "output_type": "display_data"
    },
    {
     "data": {
      "text/html": [
       "<pre>Parsing completed. Parsed 100 lines in 0.035633 secs.</pre>"
      ],
      "text/plain": [
       "Parsing completed. Parsed 100 lines in 0.035633 secs."
      ]
     },
     "metadata": {},
     "output_type": "display_data"
    },
    {
     "name": "stdout",
     "output_type": "stream",
     "text": [
      "------------------------------------------------------\n",
      "Inferred types from first 100 line(s) of file as \n",
      "column_type_hints=[float,float,float,float,float,float,int]\n",
      "If parsing fails due to incorrect types, you can correct\n",
      "the inferred type list above and pass it to read_csv in\n",
      "the column_type_hints argument\n",
      "------------------------------------------------------\n"
     ]
    },
    {
     "data": {
      "text/html": [
       "<pre>Finished parsing file /mnt/c/Users/Karl-Jonathan/Desktop/mudelid/negatives/motionData 2021-04-08 07-27-31.txt</pre>"
      ],
      "text/plain": [
       "Finished parsing file /mnt/c/Users/Karl-Jonathan/Desktop/mudelid/negatives/motionData 2021-04-08 07-27-31.txt"
      ]
     },
     "metadata": {},
     "output_type": "display_data"
    },
    {
     "data": {
      "text/html": [
       "<pre>Parsing completed. Parsed 713 lines in 0.035754 secs.</pre>"
      ],
      "text/plain": [
       "Parsing completed. Parsed 713 lines in 0.035754 secs."
      ]
     },
     "metadata": {},
     "output_type": "display_data"
    },
    {
     "data": {
      "text/html": [
       "<pre>Finished parsing file /mnt/c/Users/Karl-Jonathan/Desktop/mudelid/negatives/motionData 2021-04-08 07-27-46.txt</pre>"
      ],
      "text/plain": [
       "Finished parsing file /mnt/c/Users/Karl-Jonathan/Desktop/mudelid/negatives/motionData 2021-04-08 07-27-46.txt"
      ]
     },
     "metadata": {},
     "output_type": "display_data"
    },
    {
     "data": {
      "text/html": [
       "<pre>Parsing completed. Parsed 100 lines in 0.035271 secs.</pre>"
      ],
      "text/plain": [
       "Parsing completed. Parsed 100 lines in 0.035271 secs."
      ]
     },
     "metadata": {},
     "output_type": "display_data"
    },
    {
     "name": "stdout",
     "output_type": "stream",
     "text": [
      "------------------------------------------------------\n",
      "Inferred types from first 100 line(s) of file as \n",
      "column_type_hints=[float,float,float,float,float,float,int]\n",
      "If parsing fails due to incorrect types, you can correct\n",
      "the inferred type list above and pass it to read_csv in\n",
      "the column_type_hints argument\n",
      "------------------------------------------------------\n"
     ]
    },
    {
     "data": {
      "text/html": [
       "<pre>Finished parsing file /mnt/c/Users/Karl-Jonathan/Desktop/mudelid/negatives/motionData 2021-04-08 07-27-46.txt</pre>"
      ],
      "text/plain": [
       "Finished parsing file /mnt/c/Users/Karl-Jonathan/Desktop/mudelid/negatives/motionData 2021-04-08 07-27-46.txt"
      ]
     },
     "metadata": {},
     "output_type": "display_data"
    },
    {
     "data": {
      "text/html": [
       "<pre>Parsing completed. Parsed 923 lines in 0.035633 secs.</pre>"
      ],
      "text/plain": [
       "Parsing completed. Parsed 923 lines in 0.035633 secs."
      ]
     },
     "metadata": {},
     "output_type": "display_data"
    },
    {
     "data": {
      "text/html": [
       "<pre>Finished parsing file /mnt/c/Users/Karl-Jonathan/Desktop/mudelid/negatives/motionData 2021-04-08 07-30-45.txt</pre>"
      ],
      "text/plain": [
       "Finished parsing file /mnt/c/Users/Karl-Jonathan/Desktop/mudelid/negatives/motionData 2021-04-08 07-30-45.txt"
      ]
     },
     "metadata": {},
     "output_type": "display_data"
    },
    {
     "data": {
      "text/html": [
       "<pre>Parsing completed. Parsed 100 lines in 0.035877 secs.</pre>"
      ],
      "text/plain": [
       "Parsing completed. Parsed 100 lines in 0.035877 secs."
      ]
     },
     "metadata": {},
     "output_type": "display_data"
    },
    {
     "name": "stdout",
     "output_type": "stream",
     "text": [
      "------------------------------------------------------\n",
      "Inferred types from first 100 line(s) of file as \n",
      "column_type_hints=[float,float,float,float,float,float,int]\n",
      "If parsing fails due to incorrect types, you can correct\n",
      "the inferred type list above and pass it to read_csv in\n",
      "the column_type_hints argument\n",
      "------------------------------------------------------\n"
     ]
    },
    {
     "data": {
      "text/html": [
       "<pre>Finished parsing file /mnt/c/Users/Karl-Jonathan/Desktop/mudelid/negatives/motionData 2021-04-08 07-30-45.txt</pre>"
      ],
      "text/plain": [
       "Finished parsing file /mnt/c/Users/Karl-Jonathan/Desktop/mudelid/negatives/motionData 2021-04-08 07-30-45.txt"
      ]
     },
     "metadata": {},
     "output_type": "display_data"
    },
    {
     "data": {
      "text/html": [
       "<pre>Parsing completed. Parsed 1136 lines in 0.035889 secs.</pre>"
      ],
      "text/plain": [
       "Parsing completed. Parsed 1136 lines in 0.035889 secs."
      ]
     },
     "metadata": {},
     "output_type": "display_data"
    },
    {
     "data": {
      "text/html": [
       "<pre>Finished parsing file /mnt/c/Users/Karl-Jonathan/Desktop/mudelid/negatives/motionData 2021-04-08 07-30-55.txt</pre>"
      ],
      "text/plain": [
       "Finished parsing file /mnt/c/Users/Karl-Jonathan/Desktop/mudelid/negatives/motionData 2021-04-08 07-30-55.txt"
      ]
     },
     "metadata": {},
     "output_type": "display_data"
    },
    {
     "data": {
      "text/html": [
       "<pre>Parsing completed. Parsed 100 lines in 0.035324 secs.</pre>"
      ],
      "text/plain": [
       "Parsing completed. Parsed 100 lines in 0.035324 secs."
      ]
     },
     "metadata": {},
     "output_type": "display_data"
    },
    {
     "name": "stdout",
     "output_type": "stream",
     "text": [
      "------------------------------------------------------\n",
      "Inferred types from first 100 line(s) of file as \n",
      "column_type_hints=[float,float,float,float,float,float,int]\n",
      "If parsing fails due to incorrect types, you can correct\n",
      "the inferred type list above and pass it to read_csv in\n",
      "the column_type_hints argument\n",
      "------------------------------------------------------\n"
     ]
    },
    {
     "data": {
      "text/html": [
       "<pre>Finished parsing file /mnt/c/Users/Karl-Jonathan/Desktop/mudelid/negatives/motionData 2021-04-08 07-30-55.txt</pre>"
      ],
      "text/plain": [
       "Finished parsing file /mnt/c/Users/Karl-Jonathan/Desktop/mudelid/negatives/motionData 2021-04-08 07-30-55.txt"
      ]
     },
     "metadata": {},
     "output_type": "display_data"
    },
    {
     "data": {
      "text/html": [
       "<pre>Parsing completed. Parsed 747 lines in 0.035699 secs.</pre>"
      ],
      "text/plain": [
       "Parsing completed. Parsed 747 lines in 0.035699 secs."
      ]
     },
     "metadata": {},
     "output_type": "display_data"
    },
    {
     "data": {
      "text/html": [
       "<pre>Finished parsing file /mnt/c/Users/Karl-Jonathan/Desktop/mudelid/negatives/motionData 2021-04-08 07-31-08.txt</pre>"
      ],
      "text/plain": [
       "Finished parsing file /mnt/c/Users/Karl-Jonathan/Desktop/mudelid/negatives/motionData 2021-04-08 07-31-08.txt"
      ]
     },
     "metadata": {},
     "output_type": "display_data"
    },
    {
     "data": {
      "text/html": [
       "<pre>Parsing completed. Parsed 100 lines in 0.035845 secs.</pre>"
      ],
      "text/plain": [
       "Parsing completed. Parsed 100 lines in 0.035845 secs."
      ]
     },
     "metadata": {},
     "output_type": "display_data"
    },
    {
     "name": "stdout",
     "output_type": "stream",
     "text": [
      "------------------------------------------------------\n",
      "Inferred types from first 100 line(s) of file as \n",
      "column_type_hints=[float,float,float,float,float,float,int]\n",
      "If parsing fails due to incorrect types, you can correct\n",
      "the inferred type list above and pass it to read_csv in\n",
      "the column_type_hints argument\n",
      "------------------------------------------------------\n"
     ]
    },
    {
     "data": {
      "text/html": [
       "<pre>Finished parsing file /mnt/c/Users/Karl-Jonathan/Desktop/mudelid/negatives/motionData 2021-04-08 07-31-08.txt</pre>"
      ],
      "text/plain": [
       "Finished parsing file /mnt/c/Users/Karl-Jonathan/Desktop/mudelid/negatives/motionData 2021-04-08 07-31-08.txt"
      ]
     },
     "metadata": {},
     "output_type": "display_data"
    },
    {
     "data": {
      "text/html": [
       "<pre>Parsing completed. Parsed 614 lines in 0.035734 secs.</pre>"
      ],
      "text/plain": [
       "Parsing completed. Parsed 614 lines in 0.035734 secs."
      ]
     },
     "metadata": {},
     "output_type": "display_data"
    },
    {
     "data": {
      "text/html": [
       "<pre>Finished parsing file /mnt/c/Users/Karl-Jonathan/Desktop/mudelid/negatives/motionData 2021-04-08 07-31-49.txt</pre>"
      ],
      "text/plain": [
       "Finished parsing file /mnt/c/Users/Karl-Jonathan/Desktop/mudelid/negatives/motionData 2021-04-08 07-31-49.txt"
      ]
     },
     "metadata": {},
     "output_type": "display_data"
    },
    {
     "data": {
      "text/html": [
       "<pre>Parsing completed. Parsed 100 lines in 0.035422 secs.</pre>"
      ],
      "text/plain": [
       "Parsing completed. Parsed 100 lines in 0.035422 secs."
      ]
     },
     "metadata": {},
     "output_type": "display_data"
    },
    {
     "name": "stdout",
     "output_type": "stream",
     "text": [
      "------------------------------------------------------\n",
      "Inferred types from first 100 line(s) of file as \n",
      "column_type_hints=[float,float,float,float,float,float,int]\n",
      "If parsing fails due to incorrect types, you can correct\n",
      "the inferred type list above and pass it to read_csv in\n",
      "the column_type_hints argument\n",
      "------------------------------------------------------\n"
     ]
    },
    {
     "data": {
      "text/html": [
       "<pre>Finished parsing file /mnt/c/Users/Karl-Jonathan/Desktop/mudelid/negatives/motionData 2021-04-08 07-31-49.txt</pre>"
      ],
      "text/plain": [
       "Finished parsing file /mnt/c/Users/Karl-Jonathan/Desktop/mudelid/negatives/motionData 2021-04-08 07-31-49.txt"
      ]
     },
     "metadata": {},
     "output_type": "display_data"
    },
    {
     "data": {
      "text/html": [
       "<pre>Parsing completed. Parsed 798 lines in 0.035692 secs.</pre>"
      ],
      "text/plain": [
       "Parsing completed. Parsed 798 lines in 0.035692 secs."
      ]
     },
     "metadata": {},
     "output_type": "display_data"
    },
    {
     "data": {
      "text/html": [
       "<pre>Finished parsing file /mnt/c/Users/Karl-Jonathan/Desktop/mudelid/negatives/motionData 2021-04-08 07-32-30.txt</pre>"
      ],
      "text/plain": [
       "Finished parsing file /mnt/c/Users/Karl-Jonathan/Desktop/mudelid/negatives/motionData 2021-04-08 07-32-30.txt"
      ]
     },
     "metadata": {},
     "output_type": "display_data"
    },
    {
     "data": {
      "text/html": [
       "<pre>Parsing completed. Parsed 100 lines in 0.035735 secs.</pre>"
      ],
      "text/plain": [
       "Parsing completed. Parsed 100 lines in 0.035735 secs."
      ]
     },
     "metadata": {},
     "output_type": "display_data"
    },
    {
     "name": "stdout",
     "output_type": "stream",
     "text": [
      "------------------------------------------------------\n",
      "Inferred types from first 100 line(s) of file as \n",
      "column_type_hints=[float,float,float,float,float,float,int]\n",
      "If parsing fails due to incorrect types, you can correct\n",
      "the inferred type list above and pass it to read_csv in\n",
      "the column_type_hints argument\n",
      "------------------------------------------------------\n"
     ]
    },
    {
     "data": {
      "text/html": [
       "<pre>Finished parsing file /mnt/c/Users/Karl-Jonathan/Desktop/mudelid/negatives/motionData 2021-04-08 07-32-30.txt</pre>"
      ],
      "text/plain": [
       "Finished parsing file /mnt/c/Users/Karl-Jonathan/Desktop/mudelid/negatives/motionData 2021-04-08 07-32-30.txt"
      ]
     },
     "metadata": {},
     "output_type": "display_data"
    },
    {
     "data": {
      "text/html": [
       "<pre>Parsing completed. Parsed 1055 lines in 0.035825 secs.</pre>"
      ],
      "text/plain": [
       "Parsing completed. Parsed 1055 lines in 0.035825 secs."
      ]
     },
     "metadata": {},
     "output_type": "display_data"
    },
    {
     "data": {
      "text/html": [
       "<pre>Finished parsing file /mnt/c/Users/Karl-Jonathan/Desktop/mudelid/negatives/motionData 2021-04-08 07-32-43.txt</pre>"
      ],
      "text/plain": [
       "Finished parsing file /mnt/c/Users/Karl-Jonathan/Desktop/mudelid/negatives/motionData 2021-04-08 07-32-43.txt"
      ]
     },
     "metadata": {},
     "output_type": "display_data"
    },
    {
     "data": {
      "text/html": [
       "<pre>Parsing completed. Parsed 100 lines in 0.033223 secs.</pre>"
      ],
      "text/plain": [
       "Parsing completed. Parsed 100 lines in 0.033223 secs."
      ]
     },
     "metadata": {},
     "output_type": "display_data"
    },
    {
     "name": "stdout",
     "output_type": "stream",
     "text": [
      "------------------------------------------------------\n",
      "Inferred types from first 100 line(s) of file as \n",
      "column_type_hints=[float,float,float,float,float,float,int]\n",
      "If parsing fails due to incorrect types, you can correct\n",
      "the inferred type list above and pass it to read_csv in\n",
      "the column_type_hints argument\n",
      "------------------------------------------------------\n"
     ]
    },
    {
     "data": {
      "text/html": [
       "<pre>Finished parsing file /mnt/c/Users/Karl-Jonathan/Desktop/mudelid/negatives/motionData 2021-04-08 07-32-43.txt</pre>"
      ],
      "text/plain": [
       "Finished parsing file /mnt/c/Users/Karl-Jonathan/Desktop/mudelid/negatives/motionData 2021-04-08 07-32-43.txt"
      ]
     },
     "metadata": {},
     "output_type": "display_data"
    },
    {
     "data": {
      "text/html": [
       "<pre>Parsing completed. Parsed 897 lines in 0.03141 secs.</pre>"
      ],
      "text/plain": [
       "Parsing completed. Parsed 897 lines in 0.03141 secs."
      ]
     },
     "metadata": {},
     "output_type": "display_data"
    },
    {
     "data": {
      "text/html": [
       "<pre>Finished parsing file /mnt/c/Users/Karl-Jonathan/Desktop/mudelid/negatives/motionData 2021-04-08 07-32-56.txt</pre>"
      ],
      "text/plain": [
       "Finished parsing file /mnt/c/Users/Karl-Jonathan/Desktop/mudelid/negatives/motionData 2021-04-08 07-32-56.txt"
      ]
     },
     "metadata": {},
     "output_type": "display_data"
    },
    {
     "data": {
      "text/html": [
       "<pre>Parsing completed. Parsed 100 lines in 0.030901 secs.</pre>"
      ],
      "text/plain": [
       "Parsing completed. Parsed 100 lines in 0.030901 secs."
      ]
     },
     "metadata": {},
     "output_type": "display_data"
    },
    {
     "name": "stdout",
     "output_type": "stream",
     "text": [
      "------------------------------------------------------\n",
      "Inferred types from first 100 line(s) of file as \n",
      "column_type_hints=[float,float,float,float,float,float,int]\n",
      "If parsing fails due to incorrect types, you can correct\n",
      "the inferred type list above and pass it to read_csv in\n",
      "the column_type_hints argument\n",
      "------------------------------------------------------\n"
     ]
    },
    {
     "data": {
      "text/html": [
       "<pre>Finished parsing file /mnt/c/Users/Karl-Jonathan/Desktop/mudelid/negatives/motionData 2021-04-08 07-32-56.txt</pre>"
      ],
      "text/plain": [
       "Finished parsing file /mnt/c/Users/Karl-Jonathan/Desktop/mudelid/negatives/motionData 2021-04-08 07-32-56.txt"
      ]
     },
     "metadata": {},
     "output_type": "display_data"
    },
    {
     "data": {
      "text/html": [
       "<pre>Parsing completed. Parsed 966 lines in 0.03244 secs.</pre>"
      ],
      "text/plain": [
       "Parsing completed. Parsed 966 lines in 0.03244 secs."
      ]
     },
     "metadata": {},
     "output_type": "display_data"
    },
    {
     "data": {
      "text/html": [
       "<pre>Finished parsing file /mnt/c/Users/Karl-Jonathan/Desktop/mudelid/negatives/motionData 2021-04-08 07-36-48.txt</pre>"
      ],
      "text/plain": [
       "Finished parsing file /mnt/c/Users/Karl-Jonathan/Desktop/mudelid/negatives/motionData 2021-04-08 07-36-48.txt"
      ]
     },
     "metadata": {},
     "output_type": "display_data"
    },
    {
     "data": {
      "text/html": [
       "<pre>Parsing completed. Parsed 100 lines in 0.034687 secs.</pre>"
      ],
      "text/plain": [
       "Parsing completed. Parsed 100 lines in 0.034687 secs."
      ]
     },
     "metadata": {},
     "output_type": "display_data"
    },
    {
     "name": "stdout",
     "output_type": "stream",
     "text": [
      "------------------------------------------------------\n",
      "Inferred types from first 100 line(s) of file as \n",
      "column_type_hints=[float,float,float,float,float,float,int]\n",
      "If parsing fails due to incorrect types, you can correct\n",
      "the inferred type list above and pass it to read_csv in\n",
      "the column_type_hints argument\n",
      "------------------------------------------------------\n"
     ]
    },
    {
     "data": {
      "text/html": [
       "<pre>Finished parsing file /mnt/c/Users/Karl-Jonathan/Desktop/mudelid/negatives/motionData 2021-04-08 07-36-48.txt</pre>"
      ],
      "text/plain": [
       "Finished parsing file /mnt/c/Users/Karl-Jonathan/Desktop/mudelid/negatives/motionData 2021-04-08 07-36-48.txt"
      ]
     },
     "metadata": {},
     "output_type": "display_data"
    },
    {
     "data": {
      "text/html": [
       "<pre>Parsing completed. Parsed 871 lines in 0.035663 secs.</pre>"
      ],
      "text/plain": [
       "Parsing completed. Parsed 871 lines in 0.035663 secs."
      ]
     },
     "metadata": {},
     "output_type": "display_data"
    },
    {
     "data": {
      "text/html": [
       "<pre>Finished parsing file /mnt/c/Users/Karl-Jonathan/Desktop/mudelid/negatives/motionData 2021-04-08 07-37-11.txt</pre>"
      ],
      "text/plain": [
       "Finished parsing file /mnt/c/Users/Karl-Jonathan/Desktop/mudelid/negatives/motionData 2021-04-08 07-37-11.txt"
      ]
     },
     "metadata": {},
     "output_type": "display_data"
    },
    {
     "data": {
      "text/html": [
       "<pre>Parsing completed. Parsed 100 lines in 0.03537 secs.</pre>"
      ],
      "text/plain": [
       "Parsing completed. Parsed 100 lines in 0.03537 secs."
      ]
     },
     "metadata": {},
     "output_type": "display_data"
    },
    {
     "name": "stdout",
     "output_type": "stream",
     "text": [
      "------------------------------------------------------\n",
      "Inferred types from first 100 line(s) of file as \n",
      "column_type_hints=[float,float,float,float,float,float,int]\n",
      "If parsing fails due to incorrect types, you can correct\n",
      "the inferred type list above and pass it to read_csv in\n",
      "the column_type_hints argument\n",
      "------------------------------------------------------\n"
     ]
    },
    {
     "data": {
      "text/html": [
       "<pre>Finished parsing file /mnt/c/Users/Karl-Jonathan/Desktop/mudelid/negatives/motionData 2021-04-08 07-37-11.txt</pre>"
      ],
      "text/plain": [
       "Finished parsing file /mnt/c/Users/Karl-Jonathan/Desktop/mudelid/negatives/motionData 2021-04-08 07-37-11.txt"
      ]
     },
     "metadata": {},
     "output_type": "display_data"
    },
    {
     "data": {
      "text/html": [
       "<pre>Parsing completed. Parsed 624 lines in 0.035724 secs.</pre>"
      ],
      "text/plain": [
       "Parsing completed. Parsed 624 lines in 0.035724 secs."
      ]
     },
     "metadata": {},
     "output_type": "display_data"
    },
    {
     "data": {
      "text/html": [
       "<pre>Finished parsing file /mnt/c/Users/Karl-Jonathan/Desktop/mudelid/negatives/motionData 2021-04-08 07-37-21.txt</pre>"
      ],
      "text/plain": [
       "Finished parsing file /mnt/c/Users/Karl-Jonathan/Desktop/mudelid/negatives/motionData 2021-04-08 07-37-21.txt"
      ]
     },
     "metadata": {},
     "output_type": "display_data"
    },
    {
     "data": {
      "text/html": [
       "<pre>Parsing completed. Parsed 100 lines in 0.03544 secs.</pre>"
      ],
      "text/plain": [
       "Parsing completed. Parsed 100 lines in 0.03544 secs."
      ]
     },
     "metadata": {},
     "output_type": "display_data"
    },
    {
     "name": "stdout",
     "output_type": "stream",
     "text": [
      "------------------------------------------------------\n",
      "Inferred types from first 100 line(s) of file as \n",
      "column_type_hints=[float,float,float,float,float,float,int]\n",
      "If parsing fails due to incorrect types, you can correct\n",
      "the inferred type list above and pass it to read_csv in\n",
      "the column_type_hints argument\n",
      "------------------------------------------------------\n"
     ]
    },
    {
     "data": {
      "text/html": [
       "<pre>Finished parsing file /mnt/c/Users/Karl-Jonathan/Desktop/mudelid/negatives/motionData 2021-04-08 07-37-21.txt</pre>"
      ],
      "text/plain": [
       "Finished parsing file /mnt/c/Users/Karl-Jonathan/Desktop/mudelid/negatives/motionData 2021-04-08 07-37-21.txt"
      ]
     },
     "metadata": {},
     "output_type": "display_data"
    },
    {
     "data": {
      "text/html": [
       "<pre>Parsing completed. Parsed 583 lines in 0.035732 secs.</pre>"
      ],
      "text/plain": [
       "Parsing completed. Parsed 583 lines in 0.035732 secs."
      ]
     },
     "metadata": {},
     "output_type": "display_data"
    },
    {
     "data": {
      "text/html": [
       "<pre>Finished parsing file /mnt/c/Users/Karl-Jonathan/Desktop/mudelid/negatives/motionData 2021-04-08 07-37-35.txt</pre>"
      ],
      "text/plain": [
       "Finished parsing file /mnt/c/Users/Karl-Jonathan/Desktop/mudelid/negatives/motionData 2021-04-08 07-37-35.txt"
      ]
     },
     "metadata": {},
     "output_type": "display_data"
    },
    {
     "data": {
      "text/html": [
       "<pre>Parsing completed. Parsed 100 lines in 0.035431 secs.</pre>"
      ],
      "text/plain": [
       "Parsing completed. Parsed 100 lines in 0.035431 secs."
      ]
     },
     "metadata": {},
     "output_type": "display_data"
    },
    {
     "name": "stdout",
     "output_type": "stream",
     "text": [
      "------------------------------------------------------\n",
      "Inferred types from first 100 line(s) of file as \n",
      "column_type_hints=[float,float,float,float,float,float,int]\n",
      "If parsing fails due to incorrect types, you can correct\n",
      "the inferred type list above and pass it to read_csv in\n",
      "the column_type_hints argument\n",
      "------------------------------------------------------\n"
     ]
    },
    {
     "data": {
      "text/html": [
       "<pre>Finished parsing file /mnt/c/Users/Karl-Jonathan/Desktop/mudelid/negatives/motionData 2021-04-08 07-37-35.txt</pre>"
      ],
      "text/plain": [
       "Finished parsing file /mnt/c/Users/Karl-Jonathan/Desktop/mudelid/negatives/motionData 2021-04-08 07-37-35.txt"
      ]
     },
     "metadata": {},
     "output_type": "display_data"
    },
    {
     "data": {
      "text/html": [
       "<pre>Parsing completed. Parsed 533 lines in 0.035409 secs.</pre>"
      ],
      "text/plain": [
       "Parsing completed. Parsed 533 lines in 0.035409 secs."
      ]
     },
     "metadata": {},
     "output_type": "display_data"
    },
    {
     "data": {
      "text/html": [
       "<pre>Finished parsing file /mnt/c/Users/Karl-Jonathan/Desktop/mudelid/negatives/motionData 2021-04-08 07-37-44.txt</pre>"
      ],
      "text/plain": [
       "Finished parsing file /mnt/c/Users/Karl-Jonathan/Desktop/mudelid/negatives/motionData 2021-04-08 07-37-44.txt"
      ]
     },
     "metadata": {},
     "output_type": "display_data"
    },
    {
     "data": {
      "text/html": [
       "<pre>Parsing completed. Parsed 100 lines in 0.035902 secs.</pre>"
      ],
      "text/plain": [
       "Parsing completed. Parsed 100 lines in 0.035902 secs."
      ]
     },
     "metadata": {},
     "output_type": "display_data"
    },
    {
     "name": "stdout",
     "output_type": "stream",
     "text": [
      "------------------------------------------------------\n",
      "Inferred types from first 100 line(s) of file as \n",
      "column_type_hints=[float,float,float,float,float,float,int]\n",
      "If parsing fails due to incorrect types, you can correct\n",
      "the inferred type list above and pass it to read_csv in\n",
      "the column_type_hints argument\n",
      "------------------------------------------------------\n"
     ]
    },
    {
     "data": {
      "text/html": [
       "<pre>Finished parsing file /mnt/c/Users/Karl-Jonathan/Desktop/mudelid/negatives/motionData 2021-04-08 07-37-44.txt</pre>"
      ],
      "text/plain": [
       "Finished parsing file /mnt/c/Users/Karl-Jonathan/Desktop/mudelid/negatives/motionData 2021-04-08 07-37-44.txt"
      ]
     },
     "metadata": {},
     "output_type": "display_data"
    },
    {
     "data": {
      "text/html": [
       "<pre>Parsing completed. Parsed 665 lines in 0.035644 secs.</pre>"
      ],
      "text/plain": [
       "Parsing completed. Parsed 665 lines in 0.035644 secs."
      ]
     },
     "metadata": {},
     "output_type": "display_data"
    },
    {
     "data": {
      "text/html": [
       "<pre>Finished parsing file /mnt/c/Users/Karl-Jonathan/Desktop/mudelid/negatives/motionData 2021-04-08 07-38-45.txt</pre>"
      ],
      "text/plain": [
       "Finished parsing file /mnt/c/Users/Karl-Jonathan/Desktop/mudelid/negatives/motionData 2021-04-08 07-38-45.txt"
      ]
     },
     "metadata": {},
     "output_type": "display_data"
    },
    {
     "data": {
      "text/html": [
       "<pre>Parsing completed. Parsed 100 lines in 0.035418 secs.</pre>"
      ],
      "text/plain": [
       "Parsing completed. Parsed 100 lines in 0.035418 secs."
      ]
     },
     "metadata": {},
     "output_type": "display_data"
    },
    {
     "name": "stdout",
     "output_type": "stream",
     "text": [
      "------------------------------------------------------\n",
      "Inferred types from first 100 line(s) of file as \n",
      "column_type_hints=[float,float,float,float,float,float,int]\n",
      "If parsing fails due to incorrect types, you can correct\n",
      "the inferred type list above and pass it to read_csv in\n",
      "the column_type_hints argument\n",
      "------------------------------------------------------\n"
     ]
    },
    {
     "data": {
      "text/html": [
       "<pre>Finished parsing file /mnt/c/Users/Karl-Jonathan/Desktop/mudelid/negatives/motionData 2021-04-08 07-38-45.txt</pre>"
      ],
      "text/plain": [
       "Finished parsing file /mnt/c/Users/Karl-Jonathan/Desktop/mudelid/negatives/motionData 2021-04-08 07-38-45.txt"
      ]
     },
     "metadata": {},
     "output_type": "display_data"
    },
    {
     "data": {
      "text/html": [
       "<pre>Parsing completed. Parsed 916 lines in 0.0356 secs.</pre>"
      ],
      "text/plain": [
       "Parsing completed. Parsed 916 lines in 0.0356 secs."
      ]
     },
     "metadata": {},
     "output_type": "display_data"
    },
    {
     "data": {
      "text/html": [
       "<pre>Finished parsing file /mnt/c/Users/Karl-Jonathan/Desktop/mudelid/negatives/motionData 2021-04-08 07-39-06.txt</pre>"
      ],
      "text/plain": [
       "Finished parsing file /mnt/c/Users/Karl-Jonathan/Desktop/mudelid/negatives/motionData 2021-04-08 07-39-06.txt"
      ]
     },
     "metadata": {},
     "output_type": "display_data"
    },
    {
     "data": {
      "text/html": [
       "<pre>Parsing completed. Parsed 100 lines in 0.035527 secs.</pre>"
      ],
      "text/plain": [
       "Parsing completed. Parsed 100 lines in 0.035527 secs."
      ]
     },
     "metadata": {},
     "output_type": "display_data"
    },
    {
     "name": "stdout",
     "output_type": "stream",
     "text": [
      "------------------------------------------------------\n",
      "Inferred types from first 100 line(s) of file as \n",
      "column_type_hints=[float,float,float,float,float,float,int]\n",
      "If parsing fails due to incorrect types, you can correct\n",
      "the inferred type list above and pass it to read_csv in\n",
      "the column_type_hints argument\n",
      "------------------------------------------------------\n"
     ]
    },
    {
     "data": {
      "text/html": [
       "<pre>Finished parsing file /mnt/c/Users/Karl-Jonathan/Desktop/mudelid/negatives/motionData 2021-04-08 07-39-06.txt</pre>"
      ],
      "text/plain": [
       "Finished parsing file /mnt/c/Users/Karl-Jonathan/Desktop/mudelid/negatives/motionData 2021-04-08 07-39-06.txt"
      ]
     },
     "metadata": {},
     "output_type": "display_data"
    },
    {
     "data": {
      "text/html": [
       "<pre>Parsing completed. Parsed 1037 lines in 0.03584 secs.</pre>"
      ],
      "text/plain": [
       "Parsing completed. Parsed 1037 lines in 0.03584 secs."
      ]
     },
     "metadata": {},
     "output_type": "display_data"
    },
    {
     "data": {
      "text/html": [
       "<pre>Finished parsing file /mnt/c/Users/Karl-Jonathan/Desktop/mudelid/negatives/motionData 2021-04-08 07-39-31.txt</pre>"
      ],
      "text/plain": [
       "Finished parsing file /mnt/c/Users/Karl-Jonathan/Desktop/mudelid/negatives/motionData 2021-04-08 07-39-31.txt"
      ]
     },
     "metadata": {},
     "output_type": "display_data"
    },
    {
     "data": {
      "text/html": [
       "<pre>Parsing completed. Parsed 100 lines in 0.035924 secs.</pre>"
      ],
      "text/plain": [
       "Parsing completed. Parsed 100 lines in 0.035924 secs."
      ]
     },
     "metadata": {},
     "output_type": "display_data"
    },
    {
     "name": "stdout",
     "output_type": "stream",
     "text": [
      "------------------------------------------------------\n",
      "Inferred types from first 100 line(s) of file as \n",
      "column_type_hints=[float,float,float,float,float,float,int]\n",
      "If parsing fails due to incorrect types, you can correct\n",
      "the inferred type list above and pass it to read_csv in\n",
      "the column_type_hints argument\n",
      "------------------------------------------------------\n"
     ]
    },
    {
     "data": {
      "text/html": [
       "<pre>Finished parsing file /mnt/c/Users/Karl-Jonathan/Desktop/mudelid/negatives/motionData 2021-04-08 07-39-31.txt</pre>"
      ],
      "text/plain": [
       "Finished parsing file /mnt/c/Users/Karl-Jonathan/Desktop/mudelid/negatives/motionData 2021-04-08 07-39-31.txt"
      ]
     },
     "metadata": {},
     "output_type": "display_data"
    },
    {
     "data": {
      "text/html": [
       "<pre>Parsing completed. Parsed 994 lines in 0.035825 secs.</pre>"
      ],
      "text/plain": [
       "Parsing completed. Parsed 994 lines in 0.035825 secs."
      ]
     },
     "metadata": {},
     "output_type": "display_data"
    },
    {
     "data": {
      "text/html": [
       "<pre>Finished parsing file /mnt/c/Users/Karl-Jonathan/Desktop/mudelid/negatives/motionData 2021-04-08 07-39-44.txt</pre>"
      ],
      "text/plain": [
       "Finished parsing file /mnt/c/Users/Karl-Jonathan/Desktop/mudelid/negatives/motionData 2021-04-08 07-39-44.txt"
      ]
     },
     "metadata": {},
     "output_type": "display_data"
    },
    {
     "data": {
      "text/html": [
       "<pre>Parsing completed. Parsed 100 lines in 0.035525 secs.</pre>"
      ],
      "text/plain": [
       "Parsing completed. Parsed 100 lines in 0.035525 secs."
      ]
     },
     "metadata": {},
     "output_type": "display_data"
    },
    {
     "name": "stdout",
     "output_type": "stream",
     "text": [
      "------------------------------------------------------\n",
      "Inferred types from first 100 line(s) of file as \n",
      "column_type_hints=[float,float,float,float,float,float,int]\n",
      "If parsing fails due to incorrect types, you can correct\n",
      "the inferred type list above and pass it to read_csv in\n",
      "the column_type_hints argument\n",
      "------------------------------------------------------\n"
     ]
    },
    {
     "data": {
      "text/html": [
       "<pre>Finished parsing file /mnt/c/Users/Karl-Jonathan/Desktop/mudelid/negatives/motionData 2021-04-08 07-39-44.txt</pre>"
      ],
      "text/plain": [
       "Finished parsing file /mnt/c/Users/Karl-Jonathan/Desktop/mudelid/negatives/motionData 2021-04-08 07-39-44.txt"
      ]
     },
     "metadata": {},
     "output_type": "display_data"
    },
    {
     "data": {
      "text/html": [
       "<pre>Parsing completed. Parsed 1051 lines in 0.036271 secs.</pre>"
      ],
      "text/plain": [
       "Parsing completed. Parsed 1051 lines in 0.036271 secs."
      ]
     },
     "metadata": {},
     "output_type": "display_data"
    },
    {
     "data": {
      "text/html": [
       "<pre>Finished parsing file /mnt/c/Users/Karl-Jonathan/Desktop/mudelid/negatives/motionData 2021-04-08 07-39-58.txt</pre>"
      ],
      "text/plain": [
       "Finished parsing file /mnt/c/Users/Karl-Jonathan/Desktop/mudelid/negatives/motionData 2021-04-08 07-39-58.txt"
      ]
     },
     "metadata": {},
     "output_type": "display_data"
    },
    {
     "data": {
      "text/html": [
       "<pre>Parsing completed. Parsed 100 lines in 0.032329 secs.</pre>"
      ],
      "text/plain": [
       "Parsing completed. Parsed 100 lines in 0.032329 secs."
      ]
     },
     "metadata": {},
     "output_type": "display_data"
    },
    {
     "name": "stdout",
     "output_type": "stream",
     "text": [
      "------------------------------------------------------\n",
      "Inferred types from first 100 line(s) of file as \n",
      "column_type_hints=[float,float,float,float,float,float,int]\n",
      "If parsing fails due to incorrect types, you can correct\n",
      "the inferred type list above and pass it to read_csv in\n",
      "the column_type_hints argument\n",
      "------------------------------------------------------\n"
     ]
    },
    {
     "data": {
      "text/html": [
       "<pre>Finished parsing file /mnt/c/Users/Karl-Jonathan/Desktop/mudelid/negatives/motionData 2021-04-08 07-39-58.txt</pre>"
      ],
      "text/plain": [
       "Finished parsing file /mnt/c/Users/Karl-Jonathan/Desktop/mudelid/negatives/motionData 2021-04-08 07-39-58.txt"
      ]
     },
     "metadata": {},
     "output_type": "display_data"
    },
    {
     "data": {
      "text/html": [
       "<pre>Parsing completed. Parsed 1153 lines in 0.031433 secs.</pre>"
      ],
      "text/plain": [
       "Parsing completed. Parsed 1153 lines in 0.031433 secs."
      ]
     },
     "metadata": {},
     "output_type": "display_data"
    },
    {
     "data": {
      "text/html": [
       "<pre>Finished parsing file /mnt/c/Users/Karl-Jonathan/Desktop/mudelid/negatives/motionData 2021-04-08 07-40-15.txt</pre>"
      ],
      "text/plain": [
       "Finished parsing file /mnt/c/Users/Karl-Jonathan/Desktop/mudelid/negatives/motionData 2021-04-08 07-40-15.txt"
      ]
     },
     "metadata": {},
     "output_type": "display_data"
    },
    {
     "data": {
      "text/html": [
       "<pre>Parsing completed. Parsed 100 lines in 0.030957 secs.</pre>"
      ],
      "text/plain": [
       "Parsing completed. Parsed 100 lines in 0.030957 secs."
      ]
     },
     "metadata": {},
     "output_type": "display_data"
    },
    {
     "name": "stdout",
     "output_type": "stream",
     "text": [
      "------------------------------------------------------\n",
      "Inferred types from first 100 line(s) of file as \n",
      "column_type_hints=[float,float,float,float,float,float,int]\n",
      "If parsing fails due to incorrect types, you can correct\n",
      "the inferred type list above and pass it to read_csv in\n",
      "the column_type_hints argument\n",
      "------------------------------------------------------\n"
     ]
    },
    {
     "data": {
      "text/html": [
       "<pre>Finished parsing file /mnt/c/Users/Karl-Jonathan/Desktop/mudelid/negatives/motionData 2021-04-08 07-40-15.txt</pre>"
      ],
      "text/plain": [
       "Finished parsing file /mnt/c/Users/Karl-Jonathan/Desktop/mudelid/negatives/motionData 2021-04-08 07-40-15.txt"
      ]
     },
     "metadata": {},
     "output_type": "display_data"
    },
    {
     "data": {
      "text/html": [
       "<pre>Parsing completed. Parsed 576 lines in 0.032771 secs.</pre>"
      ],
      "text/plain": [
       "Parsing completed. Parsed 576 lines in 0.032771 secs."
      ]
     },
     "metadata": {},
     "output_type": "display_data"
    },
    {
     "data": {
      "text/html": [
       "<pre>Finished parsing file /mnt/c/Users/Karl-Jonathan/Desktop/mudelid/negatives/motionData 2021-04-08 07-40-27.txt</pre>"
      ],
      "text/plain": [
       "Finished parsing file /mnt/c/Users/Karl-Jonathan/Desktop/mudelid/negatives/motionData 2021-04-08 07-40-27.txt"
      ]
     },
     "metadata": {},
     "output_type": "display_data"
    },
    {
     "data": {
      "text/html": [
       "<pre>Parsing completed. Parsed 100 lines in 0.034702 secs.</pre>"
      ],
      "text/plain": [
       "Parsing completed. Parsed 100 lines in 0.034702 secs."
      ]
     },
     "metadata": {},
     "output_type": "display_data"
    },
    {
     "name": "stdout",
     "output_type": "stream",
     "text": [
      "------------------------------------------------------\n",
      "Inferred types from first 100 line(s) of file as \n",
      "column_type_hints=[float,float,float,float,float,float,int]\n",
      "If parsing fails due to incorrect types, you can correct\n",
      "the inferred type list above and pass it to read_csv in\n",
      "the column_type_hints argument\n",
      "------------------------------------------------------\n"
     ]
    },
    {
     "data": {
      "text/html": [
       "<pre>Finished parsing file /mnt/c/Users/Karl-Jonathan/Desktop/mudelid/negatives/motionData 2021-04-08 07-40-27.txt</pre>"
      ],
      "text/plain": [
       "Finished parsing file /mnt/c/Users/Karl-Jonathan/Desktop/mudelid/negatives/motionData 2021-04-08 07-40-27.txt"
      ]
     },
     "metadata": {},
     "output_type": "display_data"
    },
    {
     "data": {
      "text/html": [
       "<pre>Parsing completed. Parsed 988 lines in 0.03558 secs.</pre>"
      ],
      "text/plain": [
       "Parsing completed. Parsed 988 lines in 0.03558 secs."
      ]
     },
     "metadata": {},
     "output_type": "display_data"
    },
    {
     "data": {
      "text/html": [
       "<pre>Finished parsing file /mnt/c/Users/Karl-Jonathan/Desktop/mudelid/negatives/motionData 2021-04-08 07-40-42.txt</pre>"
      ],
      "text/plain": [
       "Finished parsing file /mnt/c/Users/Karl-Jonathan/Desktop/mudelid/negatives/motionData 2021-04-08 07-40-42.txt"
      ]
     },
     "metadata": {},
     "output_type": "display_data"
    },
    {
     "data": {
      "text/html": [
       "<pre>Parsing completed. Parsed 100 lines in 0.035491 secs.</pre>"
      ],
      "text/plain": [
       "Parsing completed. Parsed 100 lines in 0.035491 secs."
      ]
     },
     "metadata": {},
     "output_type": "display_data"
    },
    {
     "name": "stdout",
     "output_type": "stream",
     "text": [
      "------------------------------------------------------\n",
      "Inferred types from first 100 line(s) of file as \n",
      "column_type_hints=[float,float,float,float,float,float,int]\n",
      "If parsing fails due to incorrect types, you can correct\n",
      "the inferred type list above and pass it to read_csv in\n",
      "the column_type_hints argument\n",
      "------------------------------------------------------\n"
     ]
    },
    {
     "data": {
      "text/html": [
       "<pre>Finished parsing file /mnt/c/Users/Karl-Jonathan/Desktop/mudelid/negatives/motionData 2021-04-08 07-40-42.txt</pre>"
      ],
      "text/plain": [
       "Finished parsing file /mnt/c/Users/Karl-Jonathan/Desktop/mudelid/negatives/motionData 2021-04-08 07-40-42.txt"
      ]
     },
     "metadata": {},
     "output_type": "display_data"
    },
    {
     "data": {
      "text/html": [
       "<pre>Parsing completed. Parsed 1165 lines in 0.035546 secs.</pre>"
      ],
      "text/plain": [
       "Parsing completed. Parsed 1165 lines in 0.035546 secs."
      ]
     },
     "metadata": {},
     "output_type": "display_data"
    },
    {
     "data": {
      "text/html": [
       "<pre>Finished parsing file /mnt/c/Users/Karl-Jonathan/Desktop/mudelid/negatives/motionData 2021-04-08 07-40-50.txt</pre>"
      ],
      "text/plain": [
       "Finished parsing file /mnt/c/Users/Karl-Jonathan/Desktop/mudelid/negatives/motionData 2021-04-08 07-40-50.txt"
      ]
     },
     "metadata": {},
     "output_type": "display_data"
    },
    {
     "data": {
      "text/html": [
       "<pre>Parsing completed. Parsed 100 lines in 0.035346 secs.</pre>"
      ],
      "text/plain": [
       "Parsing completed. Parsed 100 lines in 0.035346 secs."
      ]
     },
     "metadata": {},
     "output_type": "display_data"
    },
    {
     "name": "stdout",
     "output_type": "stream",
     "text": [
      "------------------------------------------------------\n",
      "Inferred types from first 100 line(s) of file as \n",
      "column_type_hints=[float,float,float,float,float,float,int]\n",
      "If parsing fails due to incorrect types, you can correct\n",
      "the inferred type list above and pass it to read_csv in\n",
      "the column_type_hints argument\n",
      "------------------------------------------------------\n"
     ]
    },
    {
     "data": {
      "text/html": [
       "<pre>Finished parsing file /mnt/c/Users/Karl-Jonathan/Desktop/mudelid/negatives/motionData 2021-04-08 07-40-50.txt</pre>"
      ],
      "text/plain": [
       "Finished parsing file /mnt/c/Users/Karl-Jonathan/Desktop/mudelid/negatives/motionData 2021-04-08 07-40-50.txt"
      ]
     },
     "metadata": {},
     "output_type": "display_data"
    },
    {
     "data": {
      "text/html": [
       "<pre>Parsing completed. Parsed 597 lines in 0.035609 secs.</pre>"
      ],
      "text/plain": [
       "Parsing completed. Parsed 597 lines in 0.035609 secs."
      ]
     },
     "metadata": {},
     "output_type": "display_data"
    },
    {
     "data": {
      "text/html": [
       "<pre>Finished parsing file /mnt/c/Users/Karl-Jonathan/Desktop/mudelid/negatives/motionData 2021-04-08 07-43-38.txt</pre>"
      ],
      "text/plain": [
       "Finished parsing file /mnt/c/Users/Karl-Jonathan/Desktop/mudelid/negatives/motionData 2021-04-08 07-43-38.txt"
      ]
     },
     "metadata": {},
     "output_type": "display_data"
    },
    {
     "data": {
      "text/html": [
       "<pre>Parsing completed. Parsed 100 lines in 0.035478 secs.</pre>"
      ],
      "text/plain": [
       "Parsing completed. Parsed 100 lines in 0.035478 secs."
      ]
     },
     "metadata": {},
     "output_type": "display_data"
    },
    {
     "name": "stdout",
     "output_type": "stream",
     "text": [
      "------------------------------------------------------\n",
      "Inferred types from first 100 line(s) of file as \n",
      "column_type_hints=[float,float,float,float,float,float,int]\n",
      "If parsing fails due to incorrect types, you can correct\n",
      "the inferred type list above and pass it to read_csv in\n",
      "the column_type_hints argument\n",
      "------------------------------------------------------\n"
     ]
    },
    {
     "data": {
      "text/html": [
       "<pre>Finished parsing file /mnt/c/Users/Karl-Jonathan/Desktop/mudelid/negatives/motionData 2021-04-08 07-43-38.txt</pre>"
      ],
      "text/plain": [
       "Finished parsing file /mnt/c/Users/Karl-Jonathan/Desktop/mudelid/negatives/motionData 2021-04-08 07-43-38.txt"
      ]
     },
     "metadata": {},
     "output_type": "display_data"
    },
    {
     "data": {
      "text/html": [
       "<pre>Parsing completed. Parsed 1082 lines in 0.035658 secs.</pre>"
      ],
      "text/plain": [
       "Parsing completed. Parsed 1082 lines in 0.035658 secs."
      ]
     },
     "metadata": {},
     "output_type": "display_data"
    },
    {
     "data": {
      "text/html": [
       "<pre>Finished parsing file /mnt/c/Users/Karl-Jonathan/Desktop/mudelid/negatives/motionData 2021-04-08 07-44-07.txt</pre>"
      ],
      "text/plain": [
       "Finished parsing file /mnt/c/Users/Karl-Jonathan/Desktop/mudelid/negatives/motionData 2021-04-08 07-44-07.txt"
      ]
     },
     "metadata": {},
     "output_type": "display_data"
    },
    {
     "data": {
      "text/html": [
       "<pre>Parsing completed. Parsed 100 lines in 0.035825 secs.</pre>"
      ],
      "text/plain": [
       "Parsing completed. Parsed 100 lines in 0.035825 secs."
      ]
     },
     "metadata": {},
     "output_type": "display_data"
    },
    {
     "name": "stdout",
     "output_type": "stream",
     "text": [
      "------------------------------------------------------\n",
      "Inferred types from first 100 line(s) of file as \n",
      "column_type_hints=[float,float,float,float,float,float,int]\n",
      "If parsing fails due to incorrect types, you can correct\n",
      "the inferred type list above and pass it to read_csv in\n",
      "the column_type_hints argument\n",
      "------------------------------------------------------\n"
     ]
    },
    {
     "data": {
      "text/html": [
       "<pre>Finished parsing file /mnt/c/Users/Karl-Jonathan/Desktop/mudelid/negatives/motionData 2021-04-08 07-44-07.txt</pre>"
      ],
      "text/plain": [
       "Finished parsing file /mnt/c/Users/Karl-Jonathan/Desktop/mudelid/negatives/motionData 2021-04-08 07-44-07.txt"
      ]
     },
     "metadata": {},
     "output_type": "display_data"
    },
    {
     "data": {
      "text/html": [
       "<pre>Parsing completed. Parsed 1161 lines in 0.036114 secs.</pre>"
      ],
      "text/plain": [
       "Parsing completed. Parsed 1161 lines in 0.036114 secs."
      ]
     },
     "metadata": {},
     "output_type": "display_data"
    },
    {
     "data": {
      "text/html": [
       "<pre>Finished parsing file /mnt/c/Users/Karl-Jonathan/Desktop/mudelid/negatives/motionData 2021-04-08 07-44-16.txt</pre>"
      ],
      "text/plain": [
       "Finished parsing file /mnt/c/Users/Karl-Jonathan/Desktop/mudelid/negatives/motionData 2021-04-08 07-44-16.txt"
      ]
     },
     "metadata": {},
     "output_type": "display_data"
    },
    {
     "data": {
      "text/html": [
       "<pre>Parsing completed. Parsed 100 lines in 0.035473 secs.</pre>"
      ],
      "text/plain": [
       "Parsing completed. Parsed 100 lines in 0.035473 secs."
      ]
     },
     "metadata": {},
     "output_type": "display_data"
    },
    {
     "name": "stdout",
     "output_type": "stream",
     "text": [
      "------------------------------------------------------\n",
      "Inferred types from first 100 line(s) of file as \n",
      "column_type_hints=[float,float,float,float,float,float,int]\n",
      "If parsing fails due to incorrect types, you can correct\n",
      "the inferred type list above and pass it to read_csv in\n",
      "the column_type_hints argument\n",
      "------------------------------------------------------\n"
     ]
    },
    {
     "data": {
      "text/html": [
       "<pre>Finished parsing file /mnt/c/Users/Karl-Jonathan/Desktop/mudelid/negatives/motionData 2021-04-08 07-44-16.txt</pre>"
      ],
      "text/plain": [
       "Finished parsing file /mnt/c/Users/Karl-Jonathan/Desktop/mudelid/negatives/motionData 2021-04-08 07-44-16.txt"
      ]
     },
     "metadata": {},
     "output_type": "display_data"
    },
    {
     "data": {
      "text/html": [
       "<pre>Parsing completed. Parsed 696 lines in 0.035572 secs.</pre>"
      ],
      "text/plain": [
       "Parsing completed. Parsed 696 lines in 0.035572 secs."
      ]
     },
     "metadata": {},
     "output_type": "display_data"
    },
    {
     "data": {
      "text/html": [
       "<pre>Finished parsing file /mnt/c/Users/Karl-Jonathan/Desktop/mudelid/negatives/motionData 2021-04-08 07-44-27.txt</pre>"
      ],
      "text/plain": [
       "Finished parsing file /mnt/c/Users/Karl-Jonathan/Desktop/mudelid/negatives/motionData 2021-04-08 07-44-27.txt"
      ]
     },
     "metadata": {},
     "output_type": "display_data"
    },
    {
     "data": {
      "text/html": [
       "<pre>Parsing completed. Parsed 100 lines in 0.035602 secs.</pre>"
      ],
      "text/plain": [
       "Parsing completed. Parsed 100 lines in 0.035602 secs."
      ]
     },
     "metadata": {},
     "output_type": "display_data"
    },
    {
     "name": "stdout",
     "output_type": "stream",
     "text": [
      "------------------------------------------------------\n",
      "Inferred types from first 100 line(s) of file as \n",
      "column_type_hints=[float,float,float,float,float,float,int]\n",
      "If parsing fails due to incorrect types, you can correct\n",
      "the inferred type list above and pass it to read_csv in\n",
      "the column_type_hints argument\n",
      "------------------------------------------------------\n"
     ]
    },
    {
     "data": {
      "text/html": [
       "<pre>Finished parsing file /mnt/c/Users/Karl-Jonathan/Desktop/mudelid/negatives/motionData 2021-04-08 07-44-27.txt</pre>"
      ],
      "text/plain": [
       "Finished parsing file /mnt/c/Users/Karl-Jonathan/Desktop/mudelid/negatives/motionData 2021-04-08 07-44-27.txt"
      ]
     },
     "metadata": {},
     "output_type": "display_data"
    },
    {
     "data": {
      "text/html": [
       "<pre>Parsing completed. Parsed 894 lines in 0.035497 secs.</pre>"
      ],
      "text/plain": [
       "Parsing completed. Parsed 894 lines in 0.035497 secs."
      ]
     },
     "metadata": {},
     "output_type": "display_data"
    },
    {
     "data": {
      "text/html": [
       "<pre>Finished parsing file /mnt/c/Users/Karl-Jonathan/Desktop/mudelid/negatives/motionData 2021-04-08 07-44-39.txt</pre>"
      ],
      "text/plain": [
       "Finished parsing file /mnt/c/Users/Karl-Jonathan/Desktop/mudelid/negatives/motionData 2021-04-08 07-44-39.txt"
      ]
     },
     "metadata": {},
     "output_type": "display_data"
    },
    {
     "data": {
      "text/html": [
       "<pre>Parsing completed. Parsed 100 lines in 0.036037 secs.</pre>"
      ],
      "text/plain": [
       "Parsing completed. Parsed 100 lines in 0.036037 secs."
      ]
     },
     "metadata": {},
     "output_type": "display_data"
    },
    {
     "name": "stdout",
     "output_type": "stream",
     "text": [
      "------------------------------------------------------\n",
      "Inferred types from first 100 line(s) of file as \n",
      "column_type_hints=[float,float,float,float,float,float,int]\n",
      "If parsing fails due to incorrect types, you can correct\n",
      "the inferred type list above and pass it to read_csv in\n",
      "the column_type_hints argument\n",
      "------------------------------------------------------\n"
     ]
    },
    {
     "data": {
      "text/html": [
       "<pre>Finished parsing file /mnt/c/Users/Karl-Jonathan/Desktop/mudelid/negatives/motionData 2021-04-08 07-44-39.txt</pre>"
      ],
      "text/plain": [
       "Finished parsing file /mnt/c/Users/Karl-Jonathan/Desktop/mudelid/negatives/motionData 2021-04-08 07-44-39.txt"
      ]
     },
     "metadata": {},
     "output_type": "display_data"
    },
    {
     "data": {
      "text/html": [
       "<pre>Parsing completed. Parsed 865 lines in 0.036068 secs.</pre>"
      ],
      "text/plain": [
       "Parsing completed. Parsed 865 lines in 0.036068 secs."
      ]
     },
     "metadata": {},
     "output_type": "display_data"
    },
    {
     "data": {
      "text/html": [
       "<pre>Finished parsing file /mnt/c/Users/Karl-Jonathan/Desktop/mudelid/negatives/motionData 2021-04-08 07-44-51.txt</pre>"
      ],
      "text/plain": [
       "Finished parsing file /mnt/c/Users/Karl-Jonathan/Desktop/mudelid/negatives/motionData 2021-04-08 07-44-51.txt"
      ]
     },
     "metadata": {},
     "output_type": "display_data"
    },
    {
     "data": {
      "text/html": [
       "<pre>Parsing completed. Parsed 100 lines in 0.035228 secs.</pre>"
      ],
      "text/plain": [
       "Parsing completed. Parsed 100 lines in 0.035228 secs."
      ]
     },
     "metadata": {},
     "output_type": "display_data"
    },
    {
     "name": "stdout",
     "output_type": "stream",
     "text": [
      "------------------------------------------------------\n",
      "Inferred types from first 100 line(s) of file as \n",
      "column_type_hints=[float,float,float,float,float,float,int]\n",
      "If parsing fails due to incorrect types, you can correct\n",
      "the inferred type list above and pass it to read_csv in\n",
      "the column_type_hints argument\n",
      "------------------------------------------------------\n"
     ]
    },
    {
     "data": {
      "text/html": [
       "<pre>Finished parsing file /mnt/c/Users/Karl-Jonathan/Desktop/mudelid/negatives/motionData 2021-04-08 07-44-51.txt</pre>"
      ],
      "text/plain": [
       "Finished parsing file /mnt/c/Users/Karl-Jonathan/Desktop/mudelid/negatives/motionData 2021-04-08 07-44-51.txt"
      ]
     },
     "metadata": {},
     "output_type": "display_data"
    },
    {
     "data": {
      "text/html": [
       "<pre>Parsing completed. Parsed 986 lines in 0.035615 secs.</pre>"
      ],
      "text/plain": [
       "Parsing completed. Parsed 986 lines in 0.035615 secs."
      ]
     },
     "metadata": {},
     "output_type": "display_data"
    },
    {
     "data": {
      "text/html": [
       "<pre>Finished parsing file /mnt/c/Users/Karl-Jonathan/Desktop/mudelid/negatives/motionData 2021-04-08 07-45-18.txt</pre>"
      ],
      "text/plain": [
       "Finished parsing file /mnt/c/Users/Karl-Jonathan/Desktop/mudelid/negatives/motionData 2021-04-08 07-45-18.txt"
      ]
     },
     "metadata": {},
     "output_type": "display_data"
    },
    {
     "data": {
      "text/html": [
       "<pre>Parsing completed. Parsed 100 lines in 0.031912 secs.</pre>"
      ],
      "text/plain": [
       "Parsing completed. Parsed 100 lines in 0.031912 secs."
      ]
     },
     "metadata": {},
     "output_type": "display_data"
    },
    {
     "name": "stdout",
     "output_type": "stream",
     "text": [
      "------------------------------------------------------\n",
      "Inferred types from first 100 line(s) of file as \n",
      "column_type_hints=[float,float,float,float,float,float,int]\n",
      "If parsing fails due to incorrect types, you can correct\n",
      "the inferred type list above and pass it to read_csv in\n",
      "the column_type_hints argument\n",
      "------------------------------------------------------\n"
     ]
    },
    {
     "data": {
      "text/html": [
       "<pre>Finished parsing file /mnt/c/Users/Karl-Jonathan/Desktop/mudelid/negatives/motionData 2021-04-08 07-45-18.txt</pre>"
      ],
      "text/plain": [
       "Finished parsing file /mnt/c/Users/Karl-Jonathan/Desktop/mudelid/negatives/motionData 2021-04-08 07-45-18.txt"
      ]
     },
     "metadata": {},
     "output_type": "display_data"
    },
    {
     "data": {
      "text/html": [
       "<pre>Parsing completed. Parsed 1174 lines in 0.031596 secs.</pre>"
      ],
      "text/plain": [
       "Parsing completed. Parsed 1174 lines in 0.031596 secs."
      ]
     },
     "metadata": {},
     "output_type": "display_data"
    },
    {
     "data": {
      "text/html": [
       "<pre>Finished parsing file /mnt/c/Users/Karl-Jonathan/Desktop/mudelid/negatives/motionData 2021-04-08 07-45-31.txt</pre>"
      ],
      "text/plain": [
       "Finished parsing file /mnt/c/Users/Karl-Jonathan/Desktop/mudelid/negatives/motionData 2021-04-08 07-45-31.txt"
      ]
     },
     "metadata": {},
     "output_type": "display_data"
    },
    {
     "data": {
      "text/html": [
       "<pre>Parsing completed. Parsed 100 lines in 0.030931 secs.</pre>"
      ],
      "text/plain": [
       "Parsing completed. Parsed 100 lines in 0.030931 secs."
      ]
     },
     "metadata": {},
     "output_type": "display_data"
    },
    {
     "name": "stdout",
     "output_type": "stream",
     "text": [
      "------------------------------------------------------\n",
      "Inferred types from first 100 line(s) of file as \n",
      "column_type_hints=[float,float,float,float,float,float,int]\n",
      "If parsing fails due to incorrect types, you can correct\n",
      "the inferred type list above and pass it to read_csv in\n",
      "the column_type_hints argument\n",
      "------------------------------------------------------\n"
     ]
    },
    {
     "data": {
      "text/html": [
       "<pre>Finished parsing file /mnt/c/Users/Karl-Jonathan/Desktop/mudelid/negatives/motionData 2021-04-08 07-45-31.txt</pre>"
      ],
      "text/plain": [
       "Finished parsing file /mnt/c/Users/Karl-Jonathan/Desktop/mudelid/negatives/motionData 2021-04-08 07-45-31.txt"
      ]
     },
     "metadata": {},
     "output_type": "display_data"
    },
    {
     "data": {
      "text/html": [
       "<pre>Parsing completed. Parsed 1126 lines in 0.033401 secs.</pre>"
      ],
      "text/plain": [
       "Parsing completed. Parsed 1126 lines in 0.033401 secs."
      ]
     },
     "metadata": {},
     "output_type": "display_data"
    },
    {
     "data": {
      "text/html": [
       "<pre>Finished parsing file /mnt/c/Users/Karl-Jonathan/Desktop/mudelid/negatives/motionData 2021-04-08 07-45-42.txt</pre>"
      ],
      "text/plain": [
       "Finished parsing file /mnt/c/Users/Karl-Jonathan/Desktop/mudelid/negatives/motionData 2021-04-08 07-45-42.txt"
      ]
     },
     "metadata": {},
     "output_type": "display_data"
    },
    {
     "data": {
      "text/html": [
       "<pre>Parsing completed. Parsed 100 lines in 0.035019 secs.</pre>"
      ],
      "text/plain": [
       "Parsing completed. Parsed 100 lines in 0.035019 secs."
      ]
     },
     "metadata": {},
     "output_type": "display_data"
    },
    {
     "name": "stdout",
     "output_type": "stream",
     "text": [
      "------------------------------------------------------\n",
      "Inferred types from first 100 line(s) of file as \n",
      "column_type_hints=[float,float,float,float,float,float,int]\n",
      "If parsing fails due to incorrect types, you can correct\n",
      "the inferred type list above and pass it to read_csv in\n",
      "the column_type_hints argument\n",
      "------------------------------------------------------\n"
     ]
    },
    {
     "data": {
      "text/html": [
       "<pre>Finished parsing file /mnt/c/Users/Karl-Jonathan/Desktop/mudelid/negatives/motionData 2021-04-08 07-45-42.txt</pre>"
      ],
      "text/plain": [
       "Finished parsing file /mnt/c/Users/Karl-Jonathan/Desktop/mudelid/negatives/motionData 2021-04-08 07-45-42.txt"
      ]
     },
     "metadata": {},
     "output_type": "display_data"
    },
    {
     "data": {
      "text/html": [
       "<pre>Parsing completed. Parsed 883 lines in 0.035868 secs.</pre>"
      ],
      "text/plain": [
       "Parsing completed. Parsed 883 lines in 0.035868 secs."
      ]
     },
     "metadata": {},
     "output_type": "display_data"
    },
    {
     "data": {
      "text/html": [
       "<pre>Finished parsing file /mnt/c/Users/Karl-Jonathan/Desktop/mudelid/negatives/motionData 2021-04-08 07-48-07.txt</pre>"
      ],
      "text/plain": [
       "Finished parsing file /mnt/c/Users/Karl-Jonathan/Desktop/mudelid/negatives/motionData 2021-04-08 07-48-07.txt"
      ]
     },
     "metadata": {},
     "output_type": "display_data"
    },
    {
     "data": {
      "text/html": [
       "<pre>Parsing completed. Parsed 100 lines in 0.035446 secs.</pre>"
      ],
      "text/plain": [
       "Parsing completed. Parsed 100 lines in 0.035446 secs."
      ]
     },
     "metadata": {},
     "output_type": "display_data"
    },
    {
     "name": "stdout",
     "output_type": "stream",
     "text": [
      "------------------------------------------------------\n",
      "Inferred types from first 100 line(s) of file as \n",
      "column_type_hints=[float,float,float,float,float,float,int]\n",
      "If parsing fails due to incorrect types, you can correct\n",
      "the inferred type list above and pass it to read_csv in\n",
      "the column_type_hints argument\n",
      "------------------------------------------------------\n"
     ]
    },
    {
     "data": {
      "text/html": [
       "<pre>Finished parsing file /mnt/c/Users/Karl-Jonathan/Desktop/mudelid/negatives/motionData 2021-04-08 07-48-07.txt</pre>"
      ],
      "text/plain": [
       "Finished parsing file /mnt/c/Users/Karl-Jonathan/Desktop/mudelid/negatives/motionData 2021-04-08 07-48-07.txt"
      ]
     },
     "metadata": {},
     "output_type": "display_data"
    },
    {
     "data": {
      "text/html": [
       "<pre>Parsing completed. Parsed 900 lines in 0.035699 secs.</pre>"
      ],
      "text/plain": [
       "Parsing completed. Parsed 900 lines in 0.035699 secs."
      ]
     },
     "metadata": {},
     "output_type": "display_data"
    },
    {
     "data": {
      "text/html": [
       "<pre>Finished parsing file /mnt/c/Users/Karl-Jonathan/Desktop/mudelid/negatives/motionData 2021-04-08 07-48-22.txt</pre>"
      ],
      "text/plain": [
       "Finished parsing file /mnt/c/Users/Karl-Jonathan/Desktop/mudelid/negatives/motionData 2021-04-08 07-48-22.txt"
      ]
     },
     "metadata": {},
     "output_type": "display_data"
    },
    {
     "data": {
      "text/html": [
       "<pre>Parsing completed. Parsed 100 lines in 0.035462 secs.</pre>"
      ],
      "text/plain": [
       "Parsing completed. Parsed 100 lines in 0.035462 secs."
      ]
     },
     "metadata": {},
     "output_type": "display_data"
    },
    {
     "name": "stdout",
     "output_type": "stream",
     "text": [
      "------------------------------------------------------\n",
      "Inferred types from first 100 line(s) of file as \n",
      "column_type_hints=[float,float,float,float,float,float,int]\n",
      "If parsing fails due to incorrect types, you can correct\n",
      "the inferred type list above and pass it to read_csv in\n",
      "the column_type_hints argument\n",
      "------------------------------------------------------\n"
     ]
    },
    {
     "data": {
      "text/html": [
       "<pre>Finished parsing file /mnt/c/Users/Karl-Jonathan/Desktop/mudelid/negatives/motionData 2021-04-08 07-48-22.txt</pre>"
      ],
      "text/plain": [
       "Finished parsing file /mnt/c/Users/Karl-Jonathan/Desktop/mudelid/negatives/motionData 2021-04-08 07-48-22.txt"
      ]
     },
     "metadata": {},
     "output_type": "display_data"
    },
    {
     "data": {
      "text/html": [
       "<pre>Parsing completed. Parsed 1079 lines in 0.035774 secs.</pre>"
      ],
      "text/plain": [
       "Parsing completed. Parsed 1079 lines in 0.035774 secs."
      ]
     },
     "metadata": {},
     "output_type": "display_data"
    },
    {
     "data": {
      "text/html": [
       "<pre>Finished parsing file /mnt/c/Users/Karl-Jonathan/Desktop/mudelid/negatives/motionData 2021-04-08 07-51-02.txt</pre>"
      ],
      "text/plain": [
       "Finished parsing file /mnt/c/Users/Karl-Jonathan/Desktop/mudelid/negatives/motionData 2021-04-08 07-51-02.txt"
      ]
     },
     "metadata": {},
     "output_type": "display_data"
    },
    {
     "data": {
      "text/html": [
       "<pre>Parsing completed. Parsed 100 lines in 0.035495 secs.</pre>"
      ],
      "text/plain": [
       "Parsing completed. Parsed 100 lines in 0.035495 secs."
      ]
     },
     "metadata": {},
     "output_type": "display_data"
    },
    {
     "name": "stdout",
     "output_type": "stream",
     "text": [
      "------------------------------------------------------\n",
      "Inferred types from first 100 line(s) of file as \n",
      "column_type_hints=[float,float,float,float,float,float,int]\n",
      "If parsing fails due to incorrect types, you can correct\n",
      "the inferred type list above and pass it to read_csv in\n",
      "the column_type_hints argument\n",
      "------------------------------------------------------\n"
     ]
    },
    {
     "data": {
      "text/html": [
       "<pre>Finished parsing file /mnt/c/Users/Karl-Jonathan/Desktop/mudelid/negatives/motionData 2021-04-08 07-51-02.txt</pre>"
      ],
      "text/plain": [
       "Finished parsing file /mnt/c/Users/Karl-Jonathan/Desktop/mudelid/negatives/motionData 2021-04-08 07-51-02.txt"
      ]
     },
     "metadata": {},
     "output_type": "display_data"
    },
    {
     "data": {
      "text/html": [
       "<pre>Parsing completed. Parsed 829 lines in 0.035623 secs.</pre>"
      ],
      "text/plain": [
       "Parsing completed. Parsed 829 lines in 0.035623 secs."
      ]
     },
     "metadata": {},
     "output_type": "display_data"
    },
    {
     "data": {
      "text/html": [
       "<pre>Finished parsing file /mnt/c/Users/Karl-Jonathan/Desktop/mudelid/negatives/motionData 2021-04-08 07-52-47.txt</pre>"
      ],
      "text/plain": [
       "Finished parsing file /mnt/c/Users/Karl-Jonathan/Desktop/mudelid/negatives/motionData 2021-04-08 07-52-47.txt"
      ]
     },
     "metadata": {},
     "output_type": "display_data"
    },
    {
     "data": {
      "text/html": [
       "<pre>Parsing completed. Parsed 100 lines in 0.03563 secs.</pre>"
      ],
      "text/plain": [
       "Parsing completed. Parsed 100 lines in 0.03563 secs."
      ]
     },
     "metadata": {},
     "output_type": "display_data"
    },
    {
     "name": "stdout",
     "output_type": "stream",
     "text": [
      "------------------------------------------------------\n",
      "Inferred types from first 100 line(s) of file as \n",
      "column_type_hints=[float,float,float,float,float,float,int]\n",
      "If parsing fails due to incorrect types, you can correct\n",
      "the inferred type list above and pass it to read_csv in\n",
      "the column_type_hints argument\n",
      "------------------------------------------------------\n"
     ]
    },
    {
     "data": {
      "text/html": [
       "<pre>Finished parsing file /mnt/c/Users/Karl-Jonathan/Desktop/mudelid/negatives/motionData 2021-04-08 07-52-47.txt</pre>"
      ],
      "text/plain": [
       "Finished parsing file /mnt/c/Users/Karl-Jonathan/Desktop/mudelid/negatives/motionData 2021-04-08 07-52-47.txt"
      ]
     },
     "metadata": {},
     "output_type": "display_data"
    },
    {
     "data": {
      "text/html": [
       "<pre>Parsing completed. Parsed 1062 lines in 0.03617 secs.</pre>"
      ],
      "text/plain": [
       "Parsing completed. Parsed 1062 lines in 0.03617 secs."
      ]
     },
     "metadata": {},
     "output_type": "display_data"
    },
    {
     "data": {
      "text/html": [
       "<pre>Finished parsing file /mnt/c/Users/Karl-Jonathan/Desktop/mudelid/negatives/motionData 2021-04-08 07-53-12.txt</pre>"
      ],
      "text/plain": [
       "Finished parsing file /mnt/c/Users/Karl-Jonathan/Desktop/mudelid/negatives/motionData 2021-04-08 07-53-12.txt"
      ]
     },
     "metadata": {},
     "output_type": "display_data"
    },
    {
     "data": {
      "text/html": [
       "<pre>Parsing completed. Parsed 100 lines in 0.035183 secs.</pre>"
      ],
      "text/plain": [
       "Parsing completed. Parsed 100 lines in 0.035183 secs."
      ]
     },
     "metadata": {},
     "output_type": "display_data"
    },
    {
     "name": "stdout",
     "output_type": "stream",
     "text": [
      "------------------------------------------------------\n",
      "Inferred types from first 100 line(s) of file as \n",
      "column_type_hints=[float,float,float,float,float,float,int]\n",
      "If parsing fails due to incorrect types, you can correct\n",
      "the inferred type list above and pass it to read_csv in\n",
      "the column_type_hints argument\n",
      "------------------------------------------------------\n"
     ]
    },
    {
     "data": {
      "text/html": [
       "<pre>Finished parsing file /mnt/c/Users/Karl-Jonathan/Desktop/mudelid/negatives/motionData 2021-04-08 07-53-12.txt</pre>"
      ],
      "text/plain": [
       "Finished parsing file /mnt/c/Users/Karl-Jonathan/Desktop/mudelid/negatives/motionData 2021-04-08 07-53-12.txt"
      ]
     },
     "metadata": {},
     "output_type": "display_data"
    },
    {
     "data": {
      "text/html": [
       "<pre>Parsing completed. Parsed 1216 lines in 0.035735 secs.</pre>"
      ],
      "text/plain": [
       "Parsing completed. Parsed 1216 lines in 0.035735 secs."
      ]
     },
     "metadata": {},
     "output_type": "display_data"
    },
    {
     "data": {
      "text/html": [
       "<pre>Finished parsing file /mnt/c/Users/Karl-Jonathan/Desktop/mudelid/negatives/motionData 2021-04-08 07-53-41.txt</pre>"
      ],
      "text/plain": [
       "Finished parsing file /mnt/c/Users/Karl-Jonathan/Desktop/mudelid/negatives/motionData 2021-04-08 07-53-41.txt"
      ]
     },
     "metadata": {},
     "output_type": "display_data"
    },
    {
     "data": {
      "text/html": [
       "<pre>Parsing completed. Parsed 100 lines in 0.035356 secs.</pre>"
      ],
      "text/plain": [
       "Parsing completed. Parsed 100 lines in 0.035356 secs."
      ]
     },
     "metadata": {},
     "output_type": "display_data"
    },
    {
     "name": "stdout",
     "output_type": "stream",
     "text": [
      "------------------------------------------------------\n",
      "Inferred types from first 100 line(s) of file as \n",
      "column_type_hints=[float,float,float,float,float,float,int]\n",
      "If parsing fails due to incorrect types, you can correct\n",
      "the inferred type list above and pass it to read_csv in\n",
      "the column_type_hints argument\n",
      "------------------------------------------------------\n"
     ]
    },
    {
     "data": {
      "text/html": [
       "<pre>Finished parsing file /mnt/c/Users/Karl-Jonathan/Desktop/mudelid/negatives/motionData 2021-04-08 07-53-41.txt</pre>"
      ],
      "text/plain": [
       "Finished parsing file /mnt/c/Users/Karl-Jonathan/Desktop/mudelid/negatives/motionData 2021-04-08 07-53-41.txt"
      ]
     },
     "metadata": {},
     "output_type": "display_data"
    },
    {
     "data": {
      "text/html": [
       "<pre>Parsing completed. Parsed 1232 lines in 0.035855 secs.</pre>"
      ],
      "text/plain": [
       "Parsing completed. Parsed 1232 lines in 0.035855 secs."
      ]
     },
     "metadata": {},
     "output_type": "display_data"
    }
   ],
   "source": [
    "for file in negatives:\n",
    "    \n",
    "    sf = tc.SFrame.read_csv(file)\n",
    "    sf = sf.rename(new_cols)\n",
    "    sf = sf.remove_column('ts')\n",
    "    sf['act_id'] = 'noise'\n",
    "    sf['exp_id'] = exp_id\n",
    "    \n",
    "    data = data.append(sf)\n",
    "    sfNeg = sfNeg.append(sf)\n",
    "    exp_id += 1"
   ]
  },
  {
   "cell_type": "code",
   "execution_count": 13,
   "id": "b622c77f",
   "metadata": {},
   "outputs": [],
   "source": [
    "for file in bigNegatives:\n",
    "    with open(file) as content:\n",
    "        lines = content.readlines()\n",
    "    \n",
    "    accx = []\n",
    "    accy = []\n",
    "    accz = []\n",
    "    \n",
    "    gyrx = []\n",
    "    gyry = []\n",
    "    gyrz = []\n",
    "    \n",
    "    counter = 0\n",
    "    \n",
    "    for line in lines:\n",
    "        atomic = line.split(', ')\n",
    "        \n",
    "        if atomic[0] == 'accel x':\n",
    "            continue\n",
    "        \n",
    "        accx.append(float(atomic[0]))\n",
    "        accy.append(float(atomic[1]))\n",
    "        accz.append(float(atomic[2]))\n",
    "        \n",
    "        gyrx.append(float(atomic[3]))\n",
    "        gyry.append(float(atomic[4]))\n",
    "        gyrz.append(float(atomic[5]))\n",
    "        \n",
    "        if counter == 800:\n",
    "            saccx = SArray(data=accx, dtype=float)\n",
    "            saccy = SArray(data=accy, dtype=float)\n",
    "            saccz = SArray(data=accz, dtype=float)\n",
    "    \n",
    "            sgyrx = SArray(data=gyrx, dtype=float)\n",
    "            sgyry = SArray(data=gyry, dtype=float)\n",
    "            sgyrz = SArray(data=gyrz, dtype=float)\n",
    "            \n",
    "            sf = tc.SFrame({'accx':saccx,\n",
    "                         'accy':saccy,\n",
    "                         'accz':saccz,\n",
    "                         'gyrx':sgyrx,\n",
    "                         'gyry':sgyry,\n",
    "                         'gyrz':sgyrz})\n",
    "            \n",
    "            sf['act_id'] = 'noise'\n",
    "            sf['exp_id'] = exp_id\n",
    "            \n",
    "            data = data.append(sf)\n",
    "            sfNeg = sfNeg.append(sf)\n",
    "            exp_id += 1\n",
    "            counter = 0\n",
    "            \n",
    "            accx = []\n",
    "            accy = []\n",
    "            accz = []\n",
    "    \n",
    "            gyrx = []\n",
    "            gyry = []\n",
    "            gyrz = []\n",
    "                    \n",
    "        counter += 1 \n",
    "    \n",
    "    \n",
    "if len(accx) != 0:\n",
    "    saccx = SArray(data=accx, dtype=float)\n",
    "    saccy = SArray(data=accy, dtype=float)\n",
    "    saccz = SArray(data=accz, dtype=float)\n",
    "    \n",
    "    sgyrx = SArray(data=gyrx, dtype=float)\n",
    "    sgyry = SArray(data=gyry, dtype=float)\n",
    "    sgyrz = SArray(data=gyrz, dtype=float)\n",
    "            \n",
    "    sf = tc.SFrame({'accx':saccx,\n",
    "                 'accy':saccy,\n",
    "                 'accz':saccz,\n",
    "                 'gyrx':sgyrx,\n",
    "                 'gyry':sgyry,\n",
    "                 'gyrz':sgyrz})\n",
    "\n",
    "    sf['act_id'] = 'noise'\n",
    "    sf['exp_id'] = exp_id\n",
    "            \n",
    "    data = data.append(sf)\n",
    "    sfNeg = sfNeg.append(sf)\n",
    "    exp_id += 1"
   ]
  },
  {
   "cell_type": "code",
   "execution_count": 14,
   "id": "b8d3b9b6",
   "metadata": {},
   "outputs": [
    {
     "data": {
      "text/html": [
       "<div style=\"max-height:1000px;max-width:1500px;overflow:auto;\"><table frame=\"box\" rules=\"cols\">\n",
       "    <tr>\n",
       "        <th style=\"padding-left: 1em; padding-right: 1em; text-align: center\">accx</th>\n",
       "        <th style=\"padding-left: 1em; padding-right: 1em; text-align: center\">accy</th>\n",
       "        <th style=\"padding-left: 1em; padding-right: 1em; text-align: center\">accz</th>\n",
       "        <th style=\"padding-left: 1em; padding-right: 1em; text-align: center\">gyrx</th>\n",
       "        <th style=\"padding-left: 1em; padding-right: 1em; text-align: center\">gyry</th>\n",
       "        <th style=\"padding-left: 1em; padding-right: 1em; text-align: center\">gyrz</th>\n",
       "        <th style=\"padding-left: 1em; padding-right: 1em; text-align: center\">act_id</th>\n",
       "        <th style=\"padding-left: 1em; padding-right: 1em; text-align: center\">exp_id</th>\n",
       "    </tr>\n",
       "    <tr>\n",
       "        <td style=\"padding-left: 1em; padding-right: 1em; text-align: center; vertical-align: top\">0.003977</td>\n",
       "        <td style=\"padding-left: 1em; padding-right: 1em; text-align: center; vertical-align: top\">-0.215489</td>\n",
       "        <td style=\"padding-left: 1em; padding-right: 1em; text-align: center; vertical-align: top\">0.050329</td>\n",
       "        <td style=\"padding-left: 1em; padding-right: 1em; text-align: center; vertical-align: top\">-1.583084</td>\n",
       "        <td style=\"padding-left: 1em; padding-right: 1em; text-align: center; vertical-align: top\">0.775935</td>\n",
       "        <td style=\"padding-left: 1em; padding-right: 1em; text-align: center; vertical-align: top\">1.548656</td>\n",
       "        <td style=\"padding-left: 1em; padding-right: 1em; text-align: center; vertical-align: top\">noise</td>\n",
       "        <td style=\"padding-left: 1em; padding-right: 1em; text-align: center; vertical-align: top\">0</td>\n",
       "    </tr>\n",
       "    <tr>\n",
       "        <td style=\"padding-left: 1em; padding-right: 1em; text-align: center; vertical-align: top\">-8.2e-05</td>\n",
       "        <td style=\"padding-left: 1em; padding-right: 1em; text-align: center; vertical-align: top\">-0.256488</td>\n",
       "        <td style=\"padding-left: 1em; padding-right: 1em; text-align: center; vertical-align: top\">0.03442</td>\n",
       "        <td style=\"padding-left: 1em; padding-right: 1em; text-align: center; vertical-align: top\">-1.684852</td>\n",
       "        <td style=\"padding-left: 1em; padding-right: 1em; text-align: center; vertical-align: top\">0.898713</td>\n",
       "        <td style=\"padding-left: 1em; padding-right: 1em; text-align: center; vertical-align: top\">1.600717</td>\n",
       "        <td style=\"padding-left: 1em; padding-right: 1em; text-align: center; vertical-align: top\">noise</td>\n",
       "        <td style=\"padding-left: 1em; padding-right: 1em; text-align: center; vertical-align: top\">0</td>\n",
       "    </tr>\n",
       "    <tr>\n",
       "        <td style=\"padding-left: 1em; padding-right: 1em; text-align: center; vertical-align: top\">0.001391</td>\n",
       "        <td style=\"padding-left: 1em; padding-right: 1em; text-align: center; vertical-align: top\">-0.259617</td>\n",
       "        <td style=\"padding-left: 1em; padding-right: 1em; text-align: center; vertical-align: top\">0.00519</td>\n",
       "        <td style=\"padding-left: 1em; padding-right: 1em; text-align: center; vertical-align: top\">-1.694027</td>\n",
       "        <td style=\"padding-left: 1em; padding-right: 1em; text-align: center; vertical-align: top\">0.916689</td>\n",
       "        <td style=\"padding-left: 1em; padding-right: 1em; text-align: center; vertical-align: top\">1.675023</td>\n",
       "        <td style=\"padding-left: 1em; padding-right: 1em; text-align: center; vertical-align: top\">noise</td>\n",
       "        <td style=\"padding-left: 1em; padding-right: 1em; text-align: center; vertical-align: top\">0</td>\n",
       "    </tr>\n",
       "    <tr>\n",
       "        <td style=\"padding-left: 1em; padding-right: 1em; text-align: center; vertical-align: top\">0.00575</td>\n",
       "        <td style=\"padding-left: 1em; padding-right: 1em; text-align: center; vertical-align: top\">-0.194053</td>\n",
       "        <td style=\"padding-left: 1em; padding-right: 1em; text-align: center; vertical-align: top\">0.020434</td>\n",
       "        <td style=\"padding-left: 1em; padding-right: 1em; text-align: center; vertical-align: top\">-1.651936</td>\n",
       "        <td style=\"padding-left: 1em; padding-right: 1em; text-align: center; vertical-align: top\">0.961757</td>\n",
       "        <td style=\"padding-left: 1em; padding-right: 1em; text-align: center; vertical-align: top\">1.799307</td>\n",
       "        <td style=\"padding-left: 1em; padding-right: 1em; text-align: center; vertical-align: top\">noise</td>\n",
       "        <td style=\"padding-left: 1em; padding-right: 1em; text-align: center; vertical-align: top\">0</td>\n",
       "    </tr>\n",
       "    <tr>\n",
       "        <td style=\"padding-left: 1em; padding-right: 1em; text-align: center; vertical-align: top\">0.025243</td>\n",
       "        <td style=\"padding-left: 1em; padding-right: 1em; text-align: center; vertical-align: top\">-0.143609</td>\n",
       "        <td style=\"padding-left: 1em; padding-right: 1em; text-align: center; vertical-align: top\">0.068569</td>\n",
       "        <td style=\"padding-left: 1em; padding-right: 1em; text-align: center; vertical-align: top\">-1.539246</td>\n",
       "        <td style=\"padding-left: 1em; padding-right: 1em; text-align: center; vertical-align: top\">0.902704</td>\n",
       "        <td style=\"padding-left: 1em; padding-right: 1em; text-align: center; vertical-align: top\">1.944424</td>\n",
       "        <td style=\"padding-left: 1em; padding-right: 1em; text-align: center; vertical-align: top\">noise</td>\n",
       "        <td style=\"padding-left: 1em; padding-right: 1em; text-align: center; vertical-align: top\">0</td>\n",
       "    </tr>\n",
       "    <tr>\n",
       "        <td style=\"padding-left: 1em; padding-right: 1em; text-align: center; vertical-align: top\">0.025677</td>\n",
       "        <td style=\"padding-left: 1em; padding-right: 1em; text-align: center; vertical-align: top\">-0.121164</td>\n",
       "        <td style=\"padding-left: 1em; padding-right: 1em; text-align: center; vertical-align: top\">0.08961</td>\n",
       "        <td style=\"padding-left: 1em; padding-right: 1em; text-align: center; vertical-align: top\">-1.560508</td>\n",
       "        <td style=\"padding-left: 1em; padding-right: 1em; text-align: center; vertical-align: top\">0.970423</td>\n",
       "        <td style=\"padding-left: 1em; padding-right: 1em; text-align: center; vertical-align: top\">2.021523</td>\n",
       "        <td style=\"padding-left: 1em; padding-right: 1em; text-align: center; vertical-align: top\">noise</td>\n",
       "        <td style=\"padding-left: 1em; padding-right: 1em; text-align: center; vertical-align: top\">0</td>\n",
       "    </tr>\n",
       "    <tr>\n",
       "        <td style=\"padding-left: 1em; padding-right: 1em; text-align: center; vertical-align: top\">-0.019027</td>\n",
       "        <td style=\"padding-left: 1em; padding-right: 1em; text-align: center; vertical-align: top\">-0.130406</td>\n",
       "        <td style=\"padding-left: 1em; padding-right: 1em; text-align: center; vertical-align: top\">0.139956</td>\n",
       "        <td style=\"padding-left: 1em; padding-right: 1em; text-align: center; vertical-align: top\">-1.713281</td>\n",
       "        <td style=\"padding-left: 1em; padding-right: 1em; text-align: center; vertical-align: top\">1.071957</td>\n",
       "        <td style=\"padding-left: 1em; padding-right: 1em; text-align: center; vertical-align: top\">2.092121</td>\n",
       "        <td style=\"padding-left: 1em; padding-right: 1em; text-align: center; vertical-align: top\">noise</td>\n",
       "        <td style=\"padding-left: 1em; padding-right: 1em; text-align: center; vertical-align: top\">0</td>\n",
       "    </tr>\n",
       "    <tr>\n",
       "        <td style=\"padding-left: 1em; padding-right: 1em; text-align: center; vertical-align: top\">-0.017683</td>\n",
       "        <td style=\"padding-left: 1em; padding-right: 1em; text-align: center; vertical-align: top\">-0.142693</td>\n",
       "        <td style=\"padding-left: 1em; padding-right: 1em; text-align: center; vertical-align: top\">0.150531</td>\n",
       "        <td style=\"padding-left: 1em; padding-right: 1em; text-align: center; vertical-align: top\">-1.95659</td>\n",
       "        <td style=\"padding-left: 1em; padding-right: 1em; text-align: center; vertical-align: top\">1.198493</td>\n",
       "        <td style=\"padding-left: 1em; padding-right: 1em; text-align: center; vertical-align: top\">2.141927</td>\n",
       "        <td style=\"padding-left: 1em; padding-right: 1em; text-align: center; vertical-align: top\">noise</td>\n",
       "        <td style=\"padding-left: 1em; padding-right: 1em; text-align: center; vertical-align: top\">0</td>\n",
       "    </tr>\n",
       "    <tr>\n",
       "        <td style=\"padding-left: 1em; padding-right: 1em; text-align: center; vertical-align: top\">-0.011034</td>\n",
       "        <td style=\"padding-left: 1em; padding-right: 1em; text-align: center; vertical-align: top\">-0.174082</td>\n",
       "        <td style=\"padding-left: 1em; padding-right: 1em; text-align: center; vertical-align: top\">0.163264</td>\n",
       "        <td style=\"padding-left: 1em; padding-right: 1em; text-align: center; vertical-align: top\">-2.335586</td>\n",
       "        <td style=\"padding-left: 1em; padding-right: 1em; text-align: center; vertical-align: top\">1.312266</td>\n",
       "        <td style=\"padding-left: 1em; padding-right: 1em; text-align: center; vertical-align: top\">2.189578</td>\n",
       "        <td style=\"padding-left: 1em; padding-right: 1em; text-align: center; vertical-align: top\">noise</td>\n",
       "        <td style=\"padding-left: 1em; padding-right: 1em; text-align: center; vertical-align: top\">0</td>\n",
       "    </tr>\n",
       "    <tr>\n",
       "        <td style=\"padding-left: 1em; padding-right: 1em; text-align: center; vertical-align: top\">-0.024246</td>\n",
       "        <td style=\"padding-left: 1em; padding-right: 1em; text-align: center; vertical-align: top\">-0.161735</td>\n",
       "        <td style=\"padding-left: 1em; padding-right: 1em; text-align: center; vertical-align: top\">0.152034</td>\n",
       "        <td style=\"padding-left: 1em; padding-right: 1em; text-align: center; vertical-align: top\">-2.596396</td>\n",
       "        <td style=\"padding-left: 1em; padding-right: 1em; text-align: center; vertical-align: top\">1.498913</td>\n",
       "        <td style=\"padding-left: 1em; padding-right: 1em; text-align: center; vertical-align: top\">2.275226</td>\n",
       "        <td style=\"padding-left: 1em; padding-right: 1em; text-align: center; vertical-align: top\">noise</td>\n",
       "        <td style=\"padding-left: 1em; padding-right: 1em; text-align: center; vertical-align: top\">0</td>\n",
       "    </tr>\n",
       "</table>\n",
       "[770437 rows x 8 columns]<br/>Note: Only the head of the SFrame is printed.<br/>You can use print_rows(num_rows=m, num_columns=n) to print more rows and columns.\n",
       "</div>"
      ],
      "text/plain": [
       "Columns:\n",
       "\taccx\tfloat\n",
       "\taccy\tfloat\n",
       "\taccz\tfloat\n",
       "\tgyrx\tfloat\n",
       "\tgyry\tfloat\n",
       "\tgyrz\tfloat\n",
       "\tact_id\tstr\n",
       "\texp_id\tint\n",
       "\n",
       "Rows: 770437\n",
       "\n",
       "Data:\n",
       "+-----------+-----------+----------+-----------+----------+----------+--------+\n",
       "|    accx   |    accy   |   accz   |    gyrx   |   gyry   |   gyrz   | act_id |\n",
       "+-----------+-----------+----------+-----------+----------+----------+--------+\n",
       "|  0.003977 | -0.215489 | 0.050329 | -1.583084 | 0.775935 | 1.548656 | noise  |\n",
       "|  -8.2e-05 | -0.256488 | 0.03442  | -1.684852 | 0.898713 | 1.600717 | noise  |\n",
       "|  0.001391 | -0.259617 | 0.00519  | -1.694027 | 0.916689 | 1.675023 | noise  |\n",
       "|  0.00575  | -0.194053 | 0.020434 | -1.651936 | 0.961757 | 1.799307 | noise  |\n",
       "|  0.025243 | -0.143609 | 0.068569 | -1.539246 | 0.902704 | 1.944424 | noise  |\n",
       "|  0.025677 | -0.121164 | 0.08961  | -1.560508 | 0.970423 | 2.021523 | noise  |\n",
       "| -0.019027 | -0.130406 | 0.139956 | -1.713281 | 1.071957 | 2.092121 | noise  |\n",
       "| -0.017683 | -0.142693 | 0.150531 |  -1.95659 | 1.198493 | 2.141927 | noise  |\n",
       "| -0.011034 | -0.174082 | 0.163264 | -2.335586 | 1.312266 | 2.189578 | noise  |\n",
       "| -0.024246 | -0.161735 | 0.152034 | -2.596396 | 1.498913 | 2.275226 | noise  |\n",
       "+-----------+-----------+----------+-----------+----------+----------+--------+\n",
       "+--------+\n",
       "| exp_id |\n",
       "+--------+\n",
       "|   0    |\n",
       "|   0    |\n",
       "|   0    |\n",
       "|   0    |\n",
       "|   0    |\n",
       "|   0    |\n",
       "|   0    |\n",
       "|   0    |\n",
       "|   0    |\n",
       "|   0    |\n",
       "+--------+\n",
       "[770437 rows x 8 columns]\n",
       "Note: Only the head of the SFrame is printed.\n",
       "You can use print_rows(num_rows=m, num_columns=n) to print more rows and columns."
      ]
     },
     "execution_count": 14,
     "metadata": {},
     "output_type": "execute_result"
    }
   ],
   "source": [
    "data"
   ]
  },
  {
   "cell_type": "code",
   "execution_count": 15,
   "id": "893f9da0",
   "metadata": {},
   "outputs": [
    {
     "data": {
      "text/plain": [
       "dtype: int\n",
       "Rows: 893\n",
       "[60, 738, 136, 496, 71, 46, 578, 416, 253, 238, 247, 465, 335, 784, 53, 616, 336, 164, 291, 792, 646, 54, 26, 778, 584, 236, 600, 583, 777, 828, 252, 371, 14, 502, 277, 642, 216, 595, 430, 352, 592, 698, 180, 450, 789, 683, 456, 249, 811, 582, 201, 212, 452, 606, 332, 834, 692, 723, 385, 288, 368, 383, 581, 671, 421, 338, 41, 4, 891, 171, 468, 588, 632, 394, 120, 74, 447, 628, 656, 67, 360, 173, 716, 144, 767, 150, 156, 93, 878, 790, 474, 643, 579, 149, 871, 773, 680, 357, 605, 381, ... ]"
      ]
     },
     "execution_count": 15,
     "metadata": {},
     "output_type": "execute_result"
    }
   ],
   "source": [
    "data['exp_id'].unique()"
   ]
  },
  {
   "cell_type": "code",
   "execution_count": 16,
   "id": "0a0489e5",
   "metadata": {},
   "outputs": [
    {
     "data": {
      "text/plain": [
       "dtype: int\n",
       "Rows: 230\n",
       "[60, 136, 71, 46, 53, 164, 54, 26, 14, 216, 180, 201, 212, 41, 4, 171, 120, 74, 67, 173, 144, 150, 156, 93, 149, 10, 129, 11, 57, 198, 215, 118, 36, 116, 160, 24, 79, 138, 176, 91, 19, 175, 217, 135, 218, 204, 186, 219, 72, 95, 9, 199, 38, 194, 147, 159, 223, 172, 202, 112, 42, 110, 107, 229, 80, 177, 5, 184, 34, 162, 128, 1, 203, 145, 225, 94, 224, 7, 137, 114, 104, 18, 96, 25, 193, 75, 68, 44, 134, 178, 8, 82, 168, 63, 85, 211, 62, 226, 189, 197, ... ]"
      ]
     },
     "execution_count": 16,
     "metadata": {},
     "output_type": "execute_result"
    }
   ],
   "source": [
    "sfPos['exp_id'].unique()"
   ]
  },
  {
   "cell_type": "code",
   "execution_count": 17,
   "id": "e0f53122",
   "metadata": {},
   "outputs": [
    {
     "data": {
      "text/plain": [
       "dtype: int\n",
       "Rows: 663\n",
       "[738, 496, 578, 416, 253, 238, 247, 465, 335, 784, 616, 336, 291, 792, 646, 778, 584, 236, 600, 583, 777, 828, 252, 371, 502, 277, 642, 595, 430, 352, 592, 698, 450, 789, 683, 456, 249, 811, 582, 452, 606, 332, 834, 692, 723, 385, 288, 368, 383, 581, 671, 421, 338, 891, 468, 588, 632, 394, 447, 628, 656, 360, 716, 767, 878, 790, 474, 643, 579, 871, 773, 680, 357, 605, 381, 759, 562, 403, 377, 351, 825, 372, 413, 889, 574, 747, 348, 846, 721, 423, 858, 854, 454, 696, 685, 311, 267, 803, 268, 847, ... ]"
      ]
     },
     "execution_count": 17,
     "metadata": {},
     "output_type": "execute_result"
    }
   ],
   "source": [
    "sfNeg['exp_id'].unique()"
   ]
  },
  {
   "cell_type": "code",
   "execution_count": 18,
   "id": "6cb5880f",
   "metadata": {},
   "outputs": [],
   "source": [
    "train = tc.SFrame()"
   ]
  },
  {
   "cell_type": "code",
   "execution_count": 19,
   "id": "402e66c8",
   "metadata": {},
   "outputs": [
    {
     "data": {
      "text/html": [
       "<div style=\"max-height:1000px;max-width:1500px;overflow:auto;\"><table frame=\"box\" rules=\"cols\">\n",
       "    <tr>\n",
       "    </tr>\n",
       "</table>\n",
       "[0 rows x 0 columns]<br/>\n",
       "</div>"
      ],
      "text/plain": [
       "Columns:\n",
       "\tNone\n",
       "\n",
       "Rows: 0\n",
       "\n",
       "Data:\n",
       "\t[]"
      ]
     },
     "execution_count": 19,
     "metadata": {},
     "output_type": "execute_result"
    }
   ],
   "source": [
    "train"
   ]
  },
  {
   "cell_type": "code",
   "execution_count": 32,
   "id": "5d0e22a3",
   "metadata": {},
   "outputs": [],
   "source": [
    "train, excess = tc.activity_classifier.util.random_split_by_session(sfPos, session_id='exp_id', fraction=0.3)\n",
    "train = train.append(sfNeg)"
   ]
  },
  {
   "cell_type": "code",
   "execution_count": 27,
   "id": "8c87e18c",
   "metadata": {},
   "outputs": [],
   "source": [
    "train, test = tc.activity_classifier.util.random_split_by_session(data, session_id='exp_id', fraction=0.8)"
   ]
  },
  {
   "cell_type": "code",
   "execution_count": 18,
   "id": "43b925d9",
   "metadata": {},
   "outputs": [
    {
     "data": {
      "text/html": [
       "<pre>Pre-processing 729572 samples...</pre>"
      ],
      "text/plain": [
       "Pre-processing 729572 samples..."
      ]
     },
     "metadata": {},
     "output_type": "display_data"
    },
    {
     "data": {
      "text/html": [
       "<pre>Using sequences of size 2000 for model creation.</pre>"
      ],
      "text/plain": [
       "Using sequences of size 2000 for model creation."
      ]
     },
     "metadata": {},
     "output_type": "display_data"
    },
    {
     "data": {
      "text/html": [
       "<pre>Processed a total of 848 sessions.</pre>"
      ],
      "text/plain": [
       "Processed a total of 848 sessions."
      ]
     },
     "metadata": {},
     "output_type": "display_data"
    },
    {
     "data": {
      "text/html": [
       "<pre>Using CPU to create model.</pre>"
      ],
      "text/plain": [
       "Using CPU to create model."
      ]
     },
     "metadata": {},
     "output_type": "display_data"
    },
    {
     "data": {
      "text/html": [
       "<pre>+--------------+----------------+---------------------+--------------+</pre>"
      ],
      "text/plain": [
       "+--------------+----------------+---------------------+--------------+"
      ]
     },
     "metadata": {},
     "output_type": "display_data"
    },
    {
     "data": {
      "text/html": [
       "<pre>| Iteration    | Train Accuracy | Validation Accuracy | Elapsed Time |</pre>"
      ],
      "text/plain": [
       "| Iteration    | Train Accuracy | Validation Accuracy | Elapsed Time |"
      ]
     },
     "metadata": {},
     "output_type": "display_data"
    },
    {
     "data": {
      "text/html": [
       "<pre>+--------------+----------------+---------------------+--------------+</pre>"
      ],
      "text/plain": [
       "+--------------+----------------+---------------------+--------------+"
      ]
     },
     "metadata": {},
     "output_type": "display_data"
    },
    {
     "data": {
      "text/html": [
       "<pre>| 1            | 0.927286       | 0.833672            | 5.95s        |</pre>"
      ],
      "text/plain": [
       "| 1            | 0.927286       | 0.833672            | 5.95s        |"
      ]
     },
     "metadata": {},
     "output_type": "display_data"
    },
    {
     "data": {
      "text/html": [
       "<pre>| 2            | 0.855998       | 0.833672            | 7.01s        |</pre>"
      ],
      "text/plain": [
       "| 2            | 0.855998       | 0.833672            | 7.01s        |"
      ]
     },
     "metadata": {},
     "output_type": "display_data"
    },
    {
     "data": {
      "text/html": [
       "<pre>| 3            | 0.909622       | 0.853248            | 8.08s        |</pre>"
      ],
      "text/plain": [
       "| 3            | 0.909622       | 0.853248            | 8.08s        |"
      ]
     },
     "metadata": {},
     "output_type": "display_data"
    },
    {
     "data": {
      "text/html": [
       "<pre>| 4            | 0.935165       | 0.94428             | 9.15s        |</pre>"
      ],
      "text/plain": [
       "| 4            | 0.935165       | 0.94428             | 9.15s        |"
      ]
     },
     "metadata": {},
     "output_type": "display_data"
    },
    {
     "data": {
      "text/html": [
       "<pre>| 5            | 0.971956       | 0.960333            | 10.21s       |</pre>"
      ],
      "text/plain": [
       "| 5            | 0.971956       | 0.960333            | 10.21s       |"
      ]
     },
     "metadata": {},
     "output_type": "display_data"
    },
    {
     "data": {
      "text/html": [
       "<pre>| 6            | 0.975964       | 0.965667            | 11.26s       |</pre>"
      ],
      "text/plain": [
       "| 6            | 0.975964       | 0.965667            | 11.26s       |"
      ]
     },
     "metadata": {},
     "output_type": "display_data"
    },
    {
     "data": {
      "text/html": [
       "<pre>| 11           | 0.979377       | 0.853493            | 16.50s       |</pre>"
      ],
      "text/plain": [
       "| 11           | 0.979377       | 0.853493            | 16.50s       |"
      ]
     },
     "metadata": {},
     "output_type": "display_data"
    },
    {
     "data": {
      "text/html": [
       "<pre>| 16           | 0.981344       | 0.974722            | 21.76s       |</pre>"
      ],
      "text/plain": [
       "| 16           | 0.981344       | 0.974722            | 21.76s       |"
      ]
     },
     "metadata": {},
     "output_type": "display_data"
    },
    {
     "data": {
      "text/html": [
       "<pre>| 21           | 0.981866       | 0.976043            | 26.99s       |</pre>"
      ],
      "text/plain": [
       "| 21           | 0.981866       | 0.976043            | 26.99s       |"
      ]
     },
     "metadata": {},
     "output_type": "display_data"
    },
    {
     "data": {
      "text/html": [
       "<pre>| 26           | 0.983081       | 0.968408            | 32.30s       |</pre>"
      ],
      "text/plain": [
       "| 26           | 0.983081       | 0.968408            | 32.30s       |"
      ]
     },
     "metadata": {},
     "output_type": "display_data"
    },
    {
     "data": {
      "text/html": [
       "<pre>| 31           | 0.982118       | 0.972862            | 37.53s       |</pre>"
      ],
      "text/plain": [
       "| 31           | 0.982118       | 0.972862            | 37.53s       |"
      ]
     },
     "metadata": {},
     "output_type": "display_data"
    },
    {
     "data": {
      "text/html": [
       "<pre>| 36           | 0.981625       | 0.972568            | 42.78s       |</pre>"
      ],
      "text/plain": [
       "| 36           | 0.981625       | 0.972568            | 42.78s       |"
      ]
     },
     "metadata": {},
     "output_type": "display_data"
    },
    {
     "data": {
      "text/html": [
       "<pre>| 40           | 0.97018        | 0.972617            | 46.97s       |</pre>"
      ],
      "text/plain": [
       "| 40           | 0.97018        | 0.972617            | 46.97s       |"
      ]
     },
     "metadata": {},
     "output_type": "display_data"
    },
    {
     "data": {
      "text/html": [
       "<pre>+--------------+----------------+---------------------+--------------+</pre>"
      ],
      "text/plain": [
       "+--------------+----------------+---------------------+--------------+"
      ]
     },
     "metadata": {},
     "output_type": "display_data"
    },
    {
     "data": {
      "text/html": [
       "<pre>Training complete</pre>"
      ],
      "text/plain": [
       "Training complete"
      ]
     },
     "metadata": {},
     "output_type": "display_data"
    },
    {
     "data": {
      "text/html": [
       "<pre>Total Time Spent: 50.7482</pre>"
      ],
      "text/plain": [
       "Total Time Spent: 50.7482"
      ]
     },
     "metadata": {},
     "output_type": "display_data"
    }
   ],
   "source": [
    "model_100 = tc.activity_classifier.create(data, session_id='exp_id', target='act_id', prediction_window=100, max_iterations=40)"
   ]
  },
  {
   "cell_type": "code",
   "execution_count": null,
   "id": "64b6a8f2",
   "metadata": {},
   "outputs": [],
   "source": []
  },
  {
   "cell_type": "code",
   "execution_count": 18,
   "id": "fa16dc02",
   "metadata": {},
   "outputs": [
    {
     "data": {
      "text/plain": [
       "{'accuracy': 0.9360283171788679,\n",
       " 'auc': 0.9586843294380597,\n",
       " 'confusion_matrix': Columns:\n",
       " \tclass\tstr\n",
       " \tpredicted_class\tstr\n",
       " \tcount\tint\n",
       " \n",
       " Rows: 4\n",
       " \n",
       " Data:\n",
       " +-------+-----------------+--------+\n",
       " | class | predicted_class | count  |\n",
       " +-------+-----------------+--------+\n",
       " | noise |      noise      | 119779 |\n",
       " | noise |       shot      |  7813  |\n",
       " |  shot |      noise      |  1856  |\n",
       " |  shot |       shot      | 21697  |\n",
       " +-------+-----------------+--------+\n",
       " [4 rows x 3 columns],\n",
       " 'f1_score': 0.8177826357348812,\n",
       " 'log_loss': 0.2696181745725528,\n",
       " 'precision': 0.7352422907488987,\n",
       " 'recall': 0.9211989980045004,\n",
       " 'roc_curve': Columns:\n",
       " \tthreshold\tfloat\n",
       " \tfpr\tfloat\n",
       " \ttpr\tfloat\n",
       " \tp\tint\n",
       " \tn\tint\n",
       " \n",
       " Rows: 1001\n",
       " \n",
       " Data:\n",
       " +-----------+---------------------+--------------------+-------+--------+\n",
       " | threshold |         fpr         |        tpr         |   p   |   n    |\n",
       " +-----------+---------------------+--------------------+-------+--------+\n",
       " |    0.0    |         1.0         |        1.0         | 23553 | 127592 |\n",
       " |   0.001   |  0.3747413630948649 | 0.9619581369676898 | 23553 | 127592 |\n",
       " |   0.002   | 0.29465013480468993 | 0.9619581369676898 | 23553 | 127592 |\n",
       " |   0.003   |  0.257179133487993  | 0.9611514456757101 | 23553 | 127592 |\n",
       " |   0.004   |  0.238800238259452  | 0.9611514456757101 | 23553 | 127592 |\n",
       " |   0.005   |  0.2243087340899116 | 0.9589861164182907 | 23553 | 127592 |\n",
       " |   0.006   |  0.208320270863377  | 0.9564811276695113 | 23553 | 127592 |\n",
       " |   0.007   |  0.1993306790394382 | 0.953891224047892  | 23553 | 127592 |\n",
       " |   0.008   | 0.19776318264467993 | 0.953891224047892  | 23553 | 127592 |\n",
       " |   0.009   |  0.1913442849081447 | 0.953509107120112  | 23553 | 127592 |\n",
       " +-----------+---------------------+--------------------+-------+--------+\n",
       " [1001 rows x 5 columns]\n",
       " Note: Only the head of the SFrame is printed.\n",
       " You can use print_rows(num_rows=m, num_columns=n) to print more rows and columns.}"
      ]
     },
     "execution_count": 18,
     "metadata": {},
     "output_type": "execute_result"
    }
   ],
   "source": [
    "model_100.evaluate(test)"
   ]
  },
  {
   "cell_type": "code",
   "execution_count": 19,
   "id": "6644130f",
   "metadata": {},
   "outputs": [],
   "source": [
    "examples = [os.path.join('/mnt/c/Users/Karl-Jonathan/Desktop/mudelid/shotExamples/',x) for x in os.listdir('/mnt/c/Users/Karl-Jonathan/Desktop/mudelid/shotExamples/')]"
   ]
  },
  {
   "cell_type": "code",
   "execution_count": 20,
   "id": "d585f939",
   "metadata": {},
   "outputs": [],
   "source": [
    "testing = tc.SFrame()"
   ]
  },
  {
   "cell_type": "code",
   "execution_count": 21,
   "id": "38249f65",
   "metadata": {},
   "outputs": [
    {
     "data": {
      "text/html": [
       "<pre>Finished parsing file /mnt/c/Users/Karl-Jonathan/Desktop/mudelid/shotExamples/motionData 2021-04-08 06-04-43.txt</pre>"
      ],
      "text/plain": [
       "Finished parsing file /mnt/c/Users/Karl-Jonathan/Desktop/mudelid/shotExamples/motionData 2021-04-08 06-04-43.txt"
      ]
     },
     "metadata": {},
     "output_type": "display_data"
    },
    {
     "data": {
      "text/html": [
       "<pre>Parsing completed. Parsed 100 lines in 0.031086 secs.</pre>"
      ],
      "text/plain": [
       "Parsing completed. Parsed 100 lines in 0.031086 secs."
      ]
     },
     "metadata": {},
     "output_type": "display_data"
    },
    {
     "name": "stdout",
     "output_type": "stream",
     "text": [
      "------------------------------------------------------\n",
      "Inferred types from first 100 line(s) of file as \n",
      "column_type_hints=[float,float,float,float,float,float,int,str]\n",
      "If parsing fails due to incorrect types, you can correct\n",
      "the inferred type list above and pass it to read_csv in\n",
      "the column_type_hints argument\n",
      "------------------------------------------------------\n"
     ]
    },
    {
     "data": {
      "text/html": [
       "<pre>Finished parsing file /mnt/c/Users/Karl-Jonathan/Desktop/mudelid/shotExamples/motionData 2021-04-08 06-04-43.txt</pre>"
      ],
      "text/plain": [
       "Finished parsing file /mnt/c/Users/Karl-Jonathan/Desktop/mudelid/shotExamples/motionData 2021-04-08 06-04-43.txt"
      ]
     },
     "metadata": {},
     "output_type": "display_data"
    },
    {
     "data": {
      "text/html": [
       "<pre>Parsing completed. Parsed 708 lines in 0.032689 secs.</pre>"
      ],
      "text/plain": [
       "Parsing completed. Parsed 708 lines in 0.032689 secs."
      ]
     },
     "metadata": {},
     "output_type": "display_data"
    },
    {
     "data": {
      "text/html": [
       "<pre>Finished parsing file /mnt/c/Users/Karl-Jonathan/Desktop/mudelid/shotExamples/motionData 2021-04-12 11-48-02.txt</pre>"
      ],
      "text/plain": [
       "Finished parsing file /mnt/c/Users/Karl-Jonathan/Desktop/mudelid/shotExamples/motionData 2021-04-12 11-48-02.txt"
      ]
     },
     "metadata": {},
     "output_type": "display_data"
    },
    {
     "data": {
      "text/html": [
       "<pre>Parsing completed. Parsed 100 lines in 0.035411 secs.</pre>"
      ],
      "text/plain": [
       "Parsing completed. Parsed 100 lines in 0.035411 secs."
      ]
     },
     "metadata": {},
     "output_type": "display_data"
    },
    {
     "name": "stdout",
     "output_type": "stream",
     "text": [
      "------------------------------------------------------\n",
      "Inferred types from first 100 line(s) of file as \n",
      "column_type_hints=[float,float,float,float,float,float,int,str]\n",
      "If parsing fails due to incorrect types, you can correct\n",
      "the inferred type list above and pass it to read_csv in\n",
      "the column_type_hints argument\n",
      "------------------------------------------------------\n"
     ]
    },
    {
     "data": {
      "text/html": [
       "<pre>Finished parsing file /mnt/c/Users/Karl-Jonathan/Desktop/mudelid/shotExamples/motionData 2021-04-12 11-48-02.txt</pre>"
      ],
      "text/plain": [
       "Finished parsing file /mnt/c/Users/Karl-Jonathan/Desktop/mudelid/shotExamples/motionData 2021-04-12 11-48-02.txt"
      ]
     },
     "metadata": {},
     "output_type": "display_data"
    },
    {
     "data": {
      "text/html": [
       "<pre>Parsing completed. Parsed 655 lines in 0.035234 secs.</pre>"
      ],
      "text/plain": [
       "Parsing completed. Parsed 655 lines in 0.035234 secs."
      ]
     },
     "metadata": {},
     "output_type": "display_data"
    },
    {
     "data": {
      "text/html": [
       "<pre>Finished parsing file /mnt/c/Users/Karl-Jonathan/Desktop/mudelid/shotExamples/motionData 2021-04-12 11-50-46.txt</pre>"
      ],
      "text/plain": [
       "Finished parsing file /mnt/c/Users/Karl-Jonathan/Desktop/mudelid/shotExamples/motionData 2021-04-12 11-50-46.txt"
      ]
     },
     "metadata": {},
     "output_type": "display_data"
    },
    {
     "data": {
      "text/html": [
       "<pre>Parsing completed. Parsed 100 lines in 0.035358 secs.</pre>"
      ],
      "text/plain": [
       "Parsing completed. Parsed 100 lines in 0.035358 secs."
      ]
     },
     "metadata": {},
     "output_type": "display_data"
    },
    {
     "name": "stdout",
     "output_type": "stream",
     "text": [
      "------------------------------------------------------\n",
      "Inferred types from first 100 line(s) of file as \n",
      "column_type_hints=[float,float,float,float,float,float,int,str]\n",
      "If parsing fails due to incorrect types, you can correct\n",
      "the inferred type list above and pass it to read_csv in\n",
      "the column_type_hints argument\n",
      "------------------------------------------------------\n"
     ]
    },
    {
     "data": {
      "text/html": [
       "<pre>Finished parsing file /mnt/c/Users/Karl-Jonathan/Desktop/mudelid/shotExamples/motionData 2021-04-12 11-50-46.txt</pre>"
      ],
      "text/plain": [
       "Finished parsing file /mnt/c/Users/Karl-Jonathan/Desktop/mudelid/shotExamples/motionData 2021-04-12 11-50-46.txt"
      ]
     },
     "metadata": {},
     "output_type": "display_data"
    },
    {
     "data": {
      "text/html": [
       "<pre>Parsing completed. Parsed 730 lines in 0.035435 secs.</pre>"
      ],
      "text/plain": [
       "Parsing completed. Parsed 730 lines in 0.035435 secs."
      ]
     },
     "metadata": {},
     "output_type": "display_data"
    },
    {
     "data": {
      "text/html": [
       "<pre>Finished parsing file /mnt/c/Users/Karl-Jonathan/Desktop/mudelid/shotExamples/motionData 2021-04-12 11-54-42.txt</pre>"
      ],
      "text/plain": [
       "Finished parsing file /mnt/c/Users/Karl-Jonathan/Desktop/mudelid/shotExamples/motionData 2021-04-12 11-54-42.txt"
      ]
     },
     "metadata": {},
     "output_type": "display_data"
    },
    {
     "data": {
      "text/html": [
       "<pre>Parsing completed. Parsed 100 lines in 0.035567 secs.</pre>"
      ],
      "text/plain": [
       "Parsing completed. Parsed 100 lines in 0.035567 secs."
      ]
     },
     "metadata": {},
     "output_type": "display_data"
    },
    {
     "name": "stdout",
     "output_type": "stream",
     "text": [
      "------------------------------------------------------\n",
      "Inferred types from first 100 line(s) of file as \n",
      "column_type_hints=[float,float,float,float,float,float,int,str]\n",
      "If parsing fails due to incorrect types, you can correct\n",
      "the inferred type list above and pass it to read_csv in\n",
      "the column_type_hints argument\n",
      "------------------------------------------------------\n"
     ]
    },
    {
     "data": {
      "text/html": [
       "<pre>Finished parsing file /mnt/c/Users/Karl-Jonathan/Desktop/mudelid/shotExamples/motionData 2021-04-12 11-54-42.txt</pre>"
      ],
      "text/plain": [
       "Finished parsing file /mnt/c/Users/Karl-Jonathan/Desktop/mudelid/shotExamples/motionData 2021-04-12 11-54-42.txt"
      ]
     },
     "metadata": {},
     "output_type": "display_data"
    },
    {
     "data": {
      "text/html": [
       "<pre>Parsing completed. Parsed 688 lines in 0.03555 secs.</pre>"
      ],
      "text/plain": [
       "Parsing completed. Parsed 688 lines in 0.03555 secs."
      ]
     },
     "metadata": {},
     "output_type": "display_data"
    },
    {
     "data": {
      "text/html": [
       "<pre>Finished parsing file /mnt/c/Users/Karl-Jonathan/Desktop/mudelid/shotExamples/motionData 2021-04-12 11-56-12.txt</pre>"
      ],
      "text/plain": [
       "Finished parsing file /mnt/c/Users/Karl-Jonathan/Desktop/mudelid/shotExamples/motionData 2021-04-12 11-56-12.txt"
      ]
     },
     "metadata": {},
     "output_type": "display_data"
    },
    {
     "data": {
      "text/html": [
       "<pre>Parsing completed. Parsed 100 lines in 0.0356 secs.</pre>"
      ],
      "text/plain": [
       "Parsing completed. Parsed 100 lines in 0.0356 secs."
      ]
     },
     "metadata": {},
     "output_type": "display_data"
    },
    {
     "name": "stdout",
     "output_type": "stream",
     "text": [
      "------------------------------------------------------\n",
      "Inferred types from first 100 line(s) of file as \n",
      "column_type_hints=[float,float,float,float,float,float,int,str]\n",
      "If parsing fails due to incorrect types, you can correct\n",
      "the inferred type list above and pass it to read_csv in\n",
      "the column_type_hints argument\n",
      "------------------------------------------------------\n"
     ]
    },
    {
     "data": {
      "text/html": [
       "<pre>Finished parsing file /mnt/c/Users/Karl-Jonathan/Desktop/mudelid/shotExamples/motionData 2021-04-12 11-56-12.txt</pre>"
      ],
      "text/plain": [
       "Finished parsing file /mnt/c/Users/Karl-Jonathan/Desktop/mudelid/shotExamples/motionData 2021-04-12 11-56-12.txt"
      ]
     },
     "metadata": {},
     "output_type": "display_data"
    },
    {
     "data": {
      "text/html": [
       "<pre>Parsing completed. Parsed 682 lines in 0.035867 secs.</pre>"
      ],
      "text/plain": [
       "Parsing completed. Parsed 682 lines in 0.035867 secs."
      ]
     },
     "metadata": {},
     "output_type": "display_data"
    },
    {
     "data": {
      "text/html": [
       "<pre>Finished parsing file /mnt/c/Users/Karl-Jonathan/Desktop/mudelid/shotExamples/motionData 2021-04-18 05-36-45.txt</pre>"
      ],
      "text/plain": [
       "Finished parsing file /mnt/c/Users/Karl-Jonathan/Desktop/mudelid/shotExamples/motionData 2021-04-18 05-36-45.txt"
      ]
     },
     "metadata": {},
     "output_type": "display_data"
    },
    {
     "data": {
      "text/html": [
       "<pre>Parsing completed. Parsed 100 lines in 0.035181 secs.</pre>"
      ],
      "text/plain": [
       "Parsing completed. Parsed 100 lines in 0.035181 secs."
      ]
     },
     "metadata": {},
     "output_type": "display_data"
    },
    {
     "name": "stdout",
     "output_type": "stream",
     "text": [
      "------------------------------------------------------\n",
      "Inferred types from first 100 line(s) of file as \n",
      "column_type_hints=[float,float,float,float,float,float,int,str]\n",
      "If parsing fails due to incorrect types, you can correct\n",
      "the inferred type list above and pass it to read_csv in\n",
      "the column_type_hints argument\n",
      "------------------------------------------------------\n"
     ]
    },
    {
     "data": {
      "text/html": [
       "<pre>Finished parsing file /mnt/c/Users/Karl-Jonathan/Desktop/mudelid/shotExamples/motionData 2021-04-18 05-36-45.txt</pre>"
      ],
      "text/plain": [
       "Finished parsing file /mnt/c/Users/Karl-Jonathan/Desktop/mudelid/shotExamples/motionData 2021-04-18 05-36-45.txt"
      ]
     },
     "metadata": {},
     "output_type": "display_data"
    },
    {
     "data": {
      "text/html": [
       "<pre>Parsing completed. Parsed 708 lines in 0.035725 secs.</pre>"
      ],
      "text/plain": [
       "Parsing completed. Parsed 708 lines in 0.035725 secs."
      ]
     },
     "metadata": {},
     "output_type": "display_data"
    },
    {
     "data": {
      "text/html": [
       "<pre>Finished parsing file /mnt/c/Users/Karl-Jonathan/Desktop/mudelid/shotExamples/motionData 2021-04-18 05-45-19.txt</pre>"
      ],
      "text/plain": [
       "Finished parsing file /mnt/c/Users/Karl-Jonathan/Desktop/mudelid/shotExamples/motionData 2021-04-18 05-45-19.txt"
      ]
     },
     "metadata": {},
     "output_type": "display_data"
    },
    {
     "data": {
      "text/html": [
       "<pre>Parsing completed. Parsed 100 lines in 0.035542 secs.</pre>"
      ],
      "text/plain": [
       "Parsing completed. Parsed 100 lines in 0.035542 secs."
      ]
     },
     "metadata": {},
     "output_type": "display_data"
    },
    {
     "name": "stdout",
     "output_type": "stream",
     "text": [
      "------------------------------------------------------\n",
      "Inferred types from first 100 line(s) of file as \n",
      "column_type_hints=[float,float,float,float,float,float,int,str]\n",
      "If parsing fails due to incorrect types, you can correct\n",
      "the inferred type list above and pass it to read_csv in\n",
      "the column_type_hints argument\n",
      "------------------------------------------------------\n"
     ]
    },
    {
     "data": {
      "text/html": [
       "<pre>Finished parsing file /mnt/c/Users/Karl-Jonathan/Desktop/mudelid/shotExamples/motionData 2021-04-18 05-45-19.txt</pre>"
      ],
      "text/plain": [
       "Finished parsing file /mnt/c/Users/Karl-Jonathan/Desktop/mudelid/shotExamples/motionData 2021-04-18 05-45-19.txt"
      ]
     },
     "metadata": {},
     "output_type": "display_data"
    },
    {
     "data": {
      "text/html": [
       "<pre>Parsing completed. Parsed 697 lines in 0.035685 secs.</pre>"
      ],
      "text/plain": [
       "Parsing completed. Parsed 697 lines in 0.035685 secs."
      ]
     },
     "metadata": {},
     "output_type": "display_data"
    },
    {
     "data": {
      "text/html": [
       "<pre>Finished parsing file /mnt/c/Users/Karl-Jonathan/Desktop/mudelid/shotExamples/motionData 2021-04-18 05-45-53.txt</pre>"
      ],
      "text/plain": [
       "Finished parsing file /mnt/c/Users/Karl-Jonathan/Desktop/mudelid/shotExamples/motionData 2021-04-18 05-45-53.txt"
      ]
     },
     "metadata": {},
     "output_type": "display_data"
    },
    {
     "data": {
      "text/html": [
       "<pre>Parsing completed. Parsed 100 lines in 0.035538 secs.</pre>"
      ],
      "text/plain": [
       "Parsing completed. Parsed 100 lines in 0.035538 secs."
      ]
     },
     "metadata": {},
     "output_type": "display_data"
    },
    {
     "name": "stdout",
     "output_type": "stream",
     "text": [
      "------------------------------------------------------\n",
      "Inferred types from first 100 line(s) of file as \n",
      "column_type_hints=[float,float,float,float,float,float,int,str]\n",
      "If parsing fails due to incorrect types, you can correct\n",
      "the inferred type list above and pass it to read_csv in\n",
      "the column_type_hints argument\n",
      "------------------------------------------------------\n"
     ]
    },
    {
     "data": {
      "text/html": [
       "<pre>Finished parsing file /mnt/c/Users/Karl-Jonathan/Desktop/mudelid/shotExamples/motionData 2021-04-18 05-45-53.txt</pre>"
      ],
      "text/plain": [
       "Finished parsing file /mnt/c/Users/Karl-Jonathan/Desktop/mudelid/shotExamples/motionData 2021-04-18 05-45-53.txt"
      ]
     },
     "metadata": {},
     "output_type": "display_data"
    },
    {
     "data": {
      "text/html": [
       "<pre>Parsing completed. Parsed 908 lines in 0.035793 secs.</pre>"
      ],
      "text/plain": [
       "Parsing completed. Parsed 908 lines in 0.035793 secs."
      ]
     },
     "metadata": {},
     "output_type": "display_data"
    },
    {
     "data": {
      "text/html": [
       "<pre>Finished parsing file /mnt/c/Users/Karl-Jonathan/Desktop/mudelid/shotExamples/motionData 2021-04-18 05-46-13.txt</pre>"
      ],
      "text/plain": [
       "Finished parsing file /mnt/c/Users/Karl-Jonathan/Desktop/mudelid/shotExamples/motionData 2021-04-18 05-46-13.txt"
      ]
     },
     "metadata": {},
     "output_type": "display_data"
    },
    {
     "data": {
      "text/html": [
       "<pre>Parsing completed. Parsed 100 lines in 0.036453 secs.</pre>"
      ],
      "text/plain": [
       "Parsing completed. Parsed 100 lines in 0.036453 secs."
      ]
     },
     "metadata": {},
     "output_type": "display_data"
    },
    {
     "name": "stdout",
     "output_type": "stream",
     "text": [
      "------------------------------------------------------\n",
      "Inferred types from first 100 line(s) of file as \n",
      "column_type_hints=[float,float,float,float,float,float,int,str]\n",
      "If parsing fails due to incorrect types, you can correct\n",
      "the inferred type list above and pass it to read_csv in\n",
      "the column_type_hints argument\n",
      "------------------------------------------------------\n"
     ]
    },
    {
     "data": {
      "text/html": [
       "<pre>Finished parsing file /mnt/c/Users/Karl-Jonathan/Desktop/mudelid/shotExamples/motionData 2021-04-18 05-46-13.txt</pre>"
      ],
      "text/plain": [
       "Finished parsing file /mnt/c/Users/Karl-Jonathan/Desktop/mudelid/shotExamples/motionData 2021-04-18 05-46-13.txt"
      ]
     },
     "metadata": {},
     "output_type": "display_data"
    },
    {
     "data": {
      "text/html": [
       "<pre>Parsing completed. Parsed 1128 lines in 0.034452 secs.</pre>"
      ],
      "text/plain": [
       "Parsing completed. Parsed 1128 lines in 0.034452 secs."
      ]
     },
     "metadata": {},
     "output_type": "display_data"
    },
    {
     "data": {
      "text/html": [
       "<pre>Finished parsing file /mnt/c/Users/Karl-Jonathan/Desktop/mudelid/shotExamples/motionData 2021-04-18 05-46-29.txt</pre>"
      ],
      "text/plain": [
       "Finished parsing file /mnt/c/Users/Karl-Jonathan/Desktop/mudelid/shotExamples/motionData 2021-04-18 05-46-29.txt"
      ]
     },
     "metadata": {},
     "output_type": "display_data"
    },
    {
     "data": {
      "text/html": [
       "<pre>Parsing completed. Parsed 100 lines in 0.035499 secs.</pre>"
      ],
      "text/plain": [
       "Parsing completed. Parsed 100 lines in 0.035499 secs."
      ]
     },
     "metadata": {},
     "output_type": "display_data"
    },
    {
     "name": "stdout",
     "output_type": "stream",
     "text": [
      "------------------------------------------------------\n",
      "Inferred types from first 100 line(s) of file as \n",
      "column_type_hints=[float,float,float,float,float,float,int,str]\n",
      "If parsing fails due to incorrect types, you can correct\n",
      "the inferred type list above and pass it to read_csv in\n",
      "the column_type_hints argument\n",
      "------------------------------------------------------\n"
     ]
    },
    {
     "data": {
      "text/html": [
       "<pre>Finished parsing file /mnt/c/Users/Karl-Jonathan/Desktop/mudelid/shotExamples/motionData 2021-04-18 05-46-29.txt</pre>"
      ],
      "text/plain": [
       "Finished parsing file /mnt/c/Users/Karl-Jonathan/Desktop/mudelid/shotExamples/motionData 2021-04-18 05-46-29.txt"
      ]
     },
     "metadata": {},
     "output_type": "display_data"
    },
    {
     "data": {
      "text/html": [
       "<pre>Parsing completed. Parsed 912 lines in 0.035569 secs.</pre>"
      ],
      "text/plain": [
       "Parsing completed. Parsed 912 lines in 0.035569 secs."
      ]
     },
     "metadata": {},
     "output_type": "display_data"
    },
    {
     "data": {
      "text/html": [
       "<pre>Finished parsing file /mnt/c/Users/Karl-Jonathan/Desktop/mudelid/shotExamples/motionData 2021-04-18 05-46-44.txt</pre>"
      ],
      "text/plain": [
       "Finished parsing file /mnt/c/Users/Karl-Jonathan/Desktop/mudelid/shotExamples/motionData 2021-04-18 05-46-44.txt"
      ]
     },
     "metadata": {},
     "output_type": "display_data"
    },
    {
     "data": {
      "text/html": [
       "<pre>Parsing completed. Parsed 100 lines in 0.03585 secs.</pre>"
      ],
      "text/plain": [
       "Parsing completed. Parsed 100 lines in 0.03585 secs."
      ]
     },
     "metadata": {},
     "output_type": "display_data"
    },
    {
     "name": "stdout",
     "output_type": "stream",
     "text": [
      "------------------------------------------------------\n",
      "Inferred types from first 100 line(s) of file as \n",
      "column_type_hints=[float,float,float,float,float,float,int,str]\n",
      "If parsing fails due to incorrect types, you can correct\n",
      "the inferred type list above and pass it to read_csv in\n",
      "the column_type_hints argument\n",
      "------------------------------------------------------\n"
     ]
    },
    {
     "data": {
      "text/html": [
       "<pre>Finished parsing file /mnt/c/Users/Karl-Jonathan/Desktop/mudelid/shotExamples/motionData 2021-04-18 05-46-44.txt</pre>"
      ],
      "text/plain": [
       "Finished parsing file /mnt/c/Users/Karl-Jonathan/Desktop/mudelid/shotExamples/motionData 2021-04-18 05-46-44.txt"
      ]
     },
     "metadata": {},
     "output_type": "display_data"
    },
    {
     "data": {
      "text/html": [
       "<pre>Parsing completed. Parsed 953 lines in 0.035418 secs.</pre>"
      ],
      "text/plain": [
       "Parsing completed. Parsed 953 lines in 0.035418 secs."
      ]
     },
     "metadata": {},
     "output_type": "display_data"
    },
    {
     "data": {
      "text/html": [
       "<pre>Finished parsing file /mnt/c/Users/Karl-Jonathan/Desktop/mudelid/shotExamples/motionData 2021-04-18 05-47-04.txt</pre>"
      ],
      "text/plain": [
       "Finished parsing file /mnt/c/Users/Karl-Jonathan/Desktop/mudelid/shotExamples/motionData 2021-04-18 05-47-04.txt"
      ]
     },
     "metadata": {},
     "output_type": "display_data"
    },
    {
     "data": {
      "text/html": [
       "<pre>Parsing completed. Parsed 100 lines in 0.035523 secs.</pre>"
      ],
      "text/plain": [
       "Parsing completed. Parsed 100 lines in 0.035523 secs."
      ]
     },
     "metadata": {},
     "output_type": "display_data"
    },
    {
     "name": "stdout",
     "output_type": "stream",
     "text": [
      "------------------------------------------------------\n",
      "Inferred types from first 100 line(s) of file as \n",
      "column_type_hints=[float,float,float,float,float,float,int,str]\n",
      "If parsing fails due to incorrect types, you can correct\n",
      "the inferred type list above and pass it to read_csv in\n",
      "the column_type_hints argument\n",
      "------------------------------------------------------\n"
     ]
    },
    {
     "data": {
      "text/html": [
       "<pre>Finished parsing file /mnt/c/Users/Karl-Jonathan/Desktop/mudelid/shotExamples/motionData 2021-04-18 05-47-04.txt</pre>"
      ],
      "text/plain": [
       "Finished parsing file /mnt/c/Users/Karl-Jonathan/Desktop/mudelid/shotExamples/motionData 2021-04-18 05-47-04.txt"
      ]
     },
     "metadata": {},
     "output_type": "display_data"
    },
    {
     "data": {
      "text/html": [
       "<pre>Parsing completed. Parsed 765 lines in 0.035504 secs.</pre>"
      ],
      "text/plain": [
       "Parsing completed. Parsed 765 lines in 0.035504 secs."
      ]
     },
     "metadata": {},
     "output_type": "display_data"
    },
    {
     "data": {
      "text/html": [
       "<pre>Finished parsing file /mnt/c/Users/Karl-Jonathan/Desktop/mudelid/shotExamples/motionData 2021-04-18 05-47-17.txt</pre>"
      ],
      "text/plain": [
       "Finished parsing file /mnt/c/Users/Karl-Jonathan/Desktop/mudelid/shotExamples/motionData 2021-04-18 05-47-17.txt"
      ]
     },
     "metadata": {},
     "output_type": "display_data"
    },
    {
     "data": {
      "text/html": [
       "<pre>Parsing completed. Parsed 100 lines in 0.035794 secs.</pre>"
      ],
      "text/plain": [
       "Parsing completed. Parsed 100 lines in 0.035794 secs."
      ]
     },
     "metadata": {},
     "output_type": "display_data"
    },
    {
     "name": "stdout",
     "output_type": "stream",
     "text": [
      "------------------------------------------------------\n",
      "Inferred types from first 100 line(s) of file as \n",
      "column_type_hints=[float,float,float,float,float,float,int,str]\n",
      "If parsing fails due to incorrect types, you can correct\n",
      "the inferred type list above and pass it to read_csv in\n",
      "the column_type_hints argument\n",
      "------------------------------------------------------\n"
     ]
    },
    {
     "data": {
      "text/html": [
       "<pre>Finished parsing file /mnt/c/Users/Karl-Jonathan/Desktop/mudelid/shotExamples/motionData 2021-04-18 05-47-17.txt</pre>"
      ],
      "text/plain": [
       "Finished parsing file /mnt/c/Users/Karl-Jonathan/Desktop/mudelid/shotExamples/motionData 2021-04-18 05-47-17.txt"
      ]
     },
     "metadata": {},
     "output_type": "display_data"
    },
    {
     "data": {
      "text/html": [
       "<pre>Parsing completed. Parsed 753 lines in 0.035859 secs.</pre>"
      ],
      "text/plain": [
       "Parsing completed. Parsed 753 lines in 0.035859 secs."
      ]
     },
     "metadata": {},
     "output_type": "display_data"
    },
    {
     "data": {
      "text/html": [
       "<pre>Finished parsing file /mnt/c/Users/Karl-Jonathan/Desktop/mudelid/shotExamples/motionData 2021-04-19 08-38-05.txt</pre>"
      ],
      "text/plain": [
       "Finished parsing file /mnt/c/Users/Karl-Jonathan/Desktop/mudelid/shotExamples/motionData 2021-04-19 08-38-05.txt"
      ]
     },
     "metadata": {},
     "output_type": "display_data"
    },
    {
     "data": {
      "text/html": [
       "<pre>Parsing completed. Parsed 100 lines in 0.035784 secs.</pre>"
      ],
      "text/plain": [
       "Parsing completed. Parsed 100 lines in 0.035784 secs."
      ]
     },
     "metadata": {},
     "output_type": "display_data"
    },
    {
     "name": "stdout",
     "output_type": "stream",
     "text": [
      "------------------------------------------------------\n",
      "Inferred types from first 100 line(s) of file as \n",
      "column_type_hints=[float,float,float,float,float,float,int]\n",
      "If parsing fails due to incorrect types, you can correct\n",
      "the inferred type list above and pass it to read_csv in\n",
      "the column_type_hints argument\n",
      "------------------------------------------------------\n"
     ]
    },
    {
     "data": {
      "text/html": [
       "<pre>Finished parsing file /mnt/c/Users/Karl-Jonathan/Desktop/mudelid/shotExamples/motionData 2021-04-19 08-38-05.txt</pre>"
      ],
      "text/plain": [
       "Finished parsing file /mnt/c/Users/Karl-Jonathan/Desktop/mudelid/shotExamples/motionData 2021-04-19 08-38-05.txt"
      ]
     },
     "metadata": {},
     "output_type": "display_data"
    },
    {
     "data": {
      "text/html": [
       "<pre>Parsing completed. Parsed 830 lines in 0.035819 secs.</pre>"
      ],
      "text/plain": [
       "Parsing completed. Parsed 830 lines in 0.035819 secs."
      ]
     },
     "metadata": {},
     "output_type": "display_data"
    },
    {
     "ename": "ValueError",
     "evalue": "Cannot find column act_id in the SFrame",
     "output_type": "error",
     "traceback": [
      "\u001b[0;31m---------------------------------------------------------------------------\u001b[0m",
      "\u001b[0;31mValueError\u001b[0m                                Traceback (most recent call last)",
      "\u001b[0;32m<ipython-input-21-90be6b5e6b6d>\u001b[0m in \u001b[0;36m<module>\u001b[0;34m\u001b[0m\n\u001b[1;32m     14\u001b[0m \u001b[0;34m\u001b[0m\u001b[0m\n\u001b[1;32m     15\u001b[0m     \u001b[0msf\u001b[0m \u001b[0;34m=\u001b[0m \u001b[0mtc\u001b[0m\u001b[0;34m.\u001b[0m\u001b[0mSFrame\u001b[0m\u001b[0;34m.\u001b[0m\u001b[0mread_csv\u001b[0m\u001b[0;34m(\u001b[0m\u001b[0mfile\u001b[0m\u001b[0;34m)\u001b[0m\u001b[0;34m\u001b[0m\u001b[0;34m\u001b[0m\u001b[0m\n\u001b[0;32m---> 16\u001b[0;31m     \u001b[0msf\u001b[0m \u001b[0;34m=\u001b[0m \u001b[0msf\u001b[0m\u001b[0;34m.\u001b[0m\u001b[0mrename\u001b[0m\u001b[0;34m(\u001b[0m\u001b[0mnew_cols\u001b[0m\u001b[0;34m)\u001b[0m\u001b[0;34m\u001b[0m\u001b[0;34m\u001b[0m\u001b[0m\n\u001b[0m\u001b[1;32m     17\u001b[0m     \u001b[0msf\u001b[0m \u001b[0;34m=\u001b[0m \u001b[0msf\u001b[0m\u001b[0;34m.\u001b[0m\u001b[0mremove_column\u001b[0m\u001b[0;34m(\u001b[0m\u001b[0;34m'ts'\u001b[0m\u001b[0;34m)\u001b[0m\u001b[0;34m\u001b[0m\u001b[0;34m\u001b[0m\u001b[0m\n\u001b[1;32m     18\u001b[0m     \u001b[0msf\u001b[0m\u001b[0;34m[\u001b[0m\u001b[0;34m'exp_id'\u001b[0m\u001b[0;34m]\u001b[0m \u001b[0;34m=\u001b[0m \u001b[0mexp_id\u001b[0m\u001b[0;34m\u001b[0m\u001b[0;34m\u001b[0m\u001b[0m\n",
      "\u001b[0;32m~/testenv/lib/python3.8/site-packages/turicreate/data_structures/sframe.py\u001b[0m in \u001b[0;36mrename\u001b[0;34m(self, names, inplace)\u001b[0m\n\u001b[1;32m   3782\u001b[0m         \u001b[0;32mfor\u001b[0m \u001b[0mk\u001b[0m \u001b[0;32min\u001b[0m \u001b[0mnames\u001b[0m\u001b[0;34m:\u001b[0m\u001b[0;34m\u001b[0m\u001b[0;34m\u001b[0m\u001b[0m\n\u001b[1;32m   3783\u001b[0m             \u001b[0;32mif\u001b[0m \u001b[0;32mnot\u001b[0m \u001b[0mk\u001b[0m \u001b[0;32min\u001b[0m \u001b[0mall_columns\u001b[0m\u001b[0;34m:\u001b[0m\u001b[0;34m\u001b[0m\u001b[0;34m\u001b[0m\u001b[0m\n\u001b[0;32m-> 3784\u001b[0;31m                 \u001b[0;32mraise\u001b[0m \u001b[0mValueError\u001b[0m\u001b[0;34m(\u001b[0m\u001b[0;34m\"Cannot find column %s in the SFrame\"\u001b[0m \u001b[0;34m%\u001b[0m \u001b[0mk\u001b[0m\u001b[0;34m)\u001b[0m\u001b[0;34m\u001b[0m\u001b[0;34m\u001b[0m\u001b[0m\n\u001b[0m\u001b[1;32m   3785\u001b[0m \u001b[0;34m\u001b[0m\u001b[0m\n\u001b[1;32m   3786\u001b[0m         \u001b[0;32mif\u001b[0m \u001b[0minplace\u001b[0m\u001b[0;34m:\u001b[0m\u001b[0;34m\u001b[0m\u001b[0;34m\u001b[0m\u001b[0m\n",
      "\u001b[0;31mValueError\u001b[0m: Cannot find column act_id in the SFrame"
     ]
    }
   ],
   "source": [
    "new_cols = {\n",
    " 'accel x': 'accx',\n",
    " 'accel y': 'accy',\n",
    " 'accel z': 'accz',\n",
    " 'gyro x': 'gyrx',\n",
    " 'gyro y': 'gyry',\n",
    " 'gyro z': 'gyrz',\n",
    " 'timestamp(ticks since 1970)': 'ts',\n",
    " 'act_id': 'act_id' }\n",
    "\n",
    "exp_id = 0\n",
    "\n",
    "for file in examples:\n",
    "    \n",
    "    sf = tc.SFrame.read_csv(file)\n",
    "    sf = sf.rename(new_cols)\n",
    "    sf = sf.remove_column('ts')\n",
    "    sf['exp_id'] = exp_id\n",
    "    \n",
    "    testing = testing.append(sf)\n",
    "    exp_id += 1"
   ]
  },
  {
   "cell_type": "code",
   "execution_count": 22,
   "id": "4b8f1020",
   "metadata": {},
   "outputs": [
    {
     "data": {
      "text/plain": [
       "{'accuracy': 0.8826674443472343,\n",
       " 'auc': 0.9340663720945636,\n",
       " 'confusion_matrix': Columns:\n",
       " \tclass\tstr\n",
       " \tpredicted_class\tstr\n",
       " \tcount\tint\n",
       " \n",
       " Rows: 4\n",
       " \n",
       " Data:\n",
       " +-------+-----------------+-------+\n",
       " | class | predicted_class | count |\n",
       " +-------+-----------------+-------+\n",
       " | noise |      noise      |  4187 |\n",
       " | noise |       shot      |  407  |\n",
       " |  shot |      noise      |  800  |\n",
       " |  shot |       shot      |  4893 |\n",
       " +-------+-----------------+-------+\n",
       " [4 rows x 3 columns],\n",
       " 'f1_score': 0.8902028563631402,\n",
       " 'log_loss': 0.5637817664382551,\n",
       " 'precision': 0.9232075471698113,\n",
       " 'recall': 0.8594765501493061,\n",
       " 'roc_curve': Columns:\n",
       " \tthreshold\tfloat\n",
       " \tfpr\tfloat\n",
       " \ttpr\tfloat\n",
       " \tp\tint\n",
       " \tn\tint\n",
       " \n",
       " Rows: 1001\n",
       " \n",
       " Data:\n",
       " +-----------+---------------------+--------------------+------+------+\n",
       " | threshold |         fpr         |        tpr         |  p   |  n   |\n",
       " +-----------+---------------------+--------------------+------+------+\n",
       " |    0.0    |         1.0         |        1.0         | 5693 | 4594 |\n",
       " |   0.001   | 0.20483239007400958 | 0.9413314596873353 | 5693 | 4594 |\n",
       " |   0.002   | 0.20483239007400958 | 0.9413314596873353 | 5693 | 4594 |\n",
       " |   0.003   | 0.20483239007400958 | 0.9413314596873353 | 5693 | 4594 |\n",
       " |   0.004   | 0.17239878101872008 | 0.9323730897593536 | 5693 | 4594 |\n",
       " |   0.005   | 0.17239878101872008 | 0.9323730897593536 | 5693 | 4594 |\n",
       " |   0.006   | 0.17239878101872008 | 0.9323730897593536 | 5693 | 4594 |\n",
       " |   0.007   | 0.17239878101872008 | 0.9323730897593536 | 5693 | 4594 |\n",
       " |   0.008   | 0.17239878101872008 | 0.9323730897593536 | 5693 | 4594 |\n",
       " |   0.009   | 0.17239878101872008 | 0.9323730897593536 | 5693 | 4594 |\n",
       " +-----------+---------------------+--------------------+------+------+\n",
       " [1001 rows x 5 columns]\n",
       " Note: Only the head of the SFrame is printed.\n",
       " You can use print_rows(num_rows=m, num_columns=n) to print more rows and columns.}"
      ]
     },
     "execution_count": 22,
     "metadata": {},
     "output_type": "execute_result"
    }
   ],
   "source": [
    "model_100.evaluate(testing)"
   ]
  },
  {
   "cell_type": "code",
   "execution_count": null,
   "id": "3e7aa8cc",
   "metadata": {},
   "outputs": [],
   "source": []
  }
 ],
 "metadata": {
  "kernelspec": {
   "display_name": "Python 3",
   "language": "python",
   "name": "python3"
  },
  "language_info": {
   "codemirror_mode": {
    "name": "ipython",
    "version": 3
   },
   "file_extension": ".py",
   "mimetype": "text/x-python",
   "name": "python",
   "nbconvert_exporter": "python",
   "pygments_lexer": "ipython3",
   "version": "3.8.5"
  }
 },
 "nbformat": 4,
 "nbformat_minor": 5
}
